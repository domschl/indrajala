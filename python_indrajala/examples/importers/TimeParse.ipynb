{
 "cells": [
  {
   "cell_type": "code",
   "execution_count": 1,
   "id": "d3b6fd21-e930-40f1-8b0b-660465e66719",
   "metadata": {},
   "outputs": [],
   "source": [
    "import time\n",
    "import datetime\n",
    "import re"
   ]
  },
  {
   "cell_type": "code",
   "execution_count": 14,
   "id": "03eb3717-2592-4897-b06a-4f3d529cade6",
   "metadata": {},
   "outputs": [],
   "source": [
    "interval_spec=r\"[-+]?(?:\\d*\\.\\d+|\\d+) to [-+]?(?:\\d*\\.\\d+|\\d+) million years ago\"\n",
    "extract=r\"[-+]?(?:\\d*\\.\\d+|\\d+)\"\n",
    "ins=re.compile(interval_spec)"
   ]
  },
  {
   "cell_type": "code",
   "execution_count": 22,
   "id": "02ad05e6-4a1c-445f-a169-27d229de5ec7",
   "metadata": {},
   "outputs": [],
   "source": [
    "samples=['66 to 0 million years ago', '251.9 to 66 million years ago', 'some time ago']"
   ]
  },
  {
   "cell_type": "code",
   "execution_count": 23,
   "id": "e5103ebf-dd33-43fb-88b1-c308181a5706",
   "metadata": {},
   "outputs": [
    {
     "name": "stdout",
     "output_type": "stream",
     "text": [
      "<re.Match object; span=(0, 29), match='251.9 to 66 million years ago'>\n"
     ]
    }
   ],
   "source": [
    "print(re.match(ins,samples[1]))"
   ]
  },
  {
   "cell_type": "code",
   "execution_count": 25,
   "id": "e4daaea0-2737-40c7-8aec-4e06639d4447",
   "metadata": {},
   "outputs": [
    {
     "name": "stdout",
     "output_type": "stream",
     "text": [
      "[66,0] MaBP\n",
      "[251.9,66] MaBP\n",
      "no: some time ago\n"
     ]
    }
   ],
   "source": [
    "for s in samples:\n",
    "    if re.match(ins,s):\n",
    "        bds=re.findall(r\"[-+]?(?:\\d*\\.\\d+|\\d+)\",s)\n",
    "        if len(bds)==2:\n",
    "            print(f\"[{bds[0]},{bds[1]}] MaBP\")\n",
    "        else:\n",
    "            print(f\"internal error: {s}\")\n",
    "    else:\n",
    "        print(f\"no: {s}\")"
   ]
  },
  {
   "cell_type": "code",
   "execution_count": null,
   "id": "3386f395-ca68-4ab6-ad79-8e77eca690df",
   "metadata": {},
   "outputs": [],
   "source": []
  }
 ],
 "metadata": {
  "kernelspec": {
   "display_name": "Python 3 (ipykernel)",
   "language": "python",
   "name": "python3"
  },
  "language_info": {
   "codemirror_mode": {
    "name": "ipython",
    "version": 3
   },
   "file_extension": ".py",
   "mimetype": "text/x-python",
   "name": "python",
   "nbconvert_exporter": "python",
   "pygments_lexer": "ipython3",
   "version": "3.10.5"
  }
 },
 "nbformat": 4,
 "nbformat_minor": 5
}
