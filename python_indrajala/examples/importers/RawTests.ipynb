{
 "cells": [
  {
   "cell_type": "code",
   "execution_count": 1,
   "id": "f2bdfbf3-e08c-4c18-8e08-bdda7e8c03c2",
   "metadata": {},
   "outputs": [],
   "source": [
    "import logging\n",
    "import pandas as pd\n",
    "import numpy as np"
   ]
  },
  {
   "cell_type": "code",
   "execution_count": 2,
   "id": "1536e2d5-3f7c-4cd5-bce1-98bd685bab9e",
   "metadata": {},
   "outputs": [],
   "source": [
    "%load_ext autoreload\n",
    "%autoreload 2\n",
    "from IPython.display import display, HTML"
   ]
  },
  {
   "cell_type": "code",
   "execution_count": 3,
   "id": "9b8d5e7f-9794-4e2e-b12b-0db2fbfdbbfe",
   "metadata": {},
   "outputs": [],
   "source": [
    "logging.basicConfig(format='%(asctime)s %(levelname)s %(name)s %(message)s', level=logging.INFO)"
   ]
  },
  {
   "cell_type": "code",
   "execution_count": 22,
   "id": "1397bd8e-64d2-4ea1-b036-e6240c29b69d",
   "metadata": {},
   "outputs": [],
   "source": [
    "import downloader"
   ]
  },
  {
   "cell_type": "code",
   "execution_count": 23,
   "id": "2410cbec-a887-4dbb-9f16-2f556a3495bc",
   "metadata": {},
   "outputs": [],
   "source": [
    "import download_datasets"
   ]
  },
  {
   "cell_type": "code",
   "execution_count": 24,
   "id": "8b8a146f-53ce-4f32-a2a6-f36932118e51",
   "metadata": {},
   "outputs": [
    {
     "name": "stderr",
     "output_type": "stream",
     "text": [
      "2022-07-23 18:20:48,104 INFO root processing: data_sources/MaunaLoaCO2MonthlyMean.toml\n",
      "2022-07-23 18:20:51,328 INFO Downloader Download from https://gml.noaa.gov/webdata/ccgg/trends/co2/co2_mm_mlo.csv: OK.\n",
      "2022-07-23 18:20:51,343 INFO root processing: data_sources/EuropeanMeanTemperatureSinceRomanTime_EuroMed2k.toml\n",
      "2022-07-23 18:20:52,839 INFO Downloader Download from https://www.ncei.noaa.gov/pub/data/paleo/pages2k/EuroMed2k/eujja_2krecon_nested_cps.txt: OK.\n",
      "2022-07-23 18:20:52,860 INFO root processing: data_sources/MaunaLoaCO2WeeklyMeanHistorical.toml\n",
      "2022-07-23 18:20:54,278 INFO Downloader Download from https://gml.noaa.gov/webdata/ccgg/trends/co2/co2_weekly_mlo.csv: OK.\n",
      "2022-07-23 18:20:54,309 INFO root processing: data_sources/WikipediaGeologicTimeScales.toml\n",
      "2022-07-23 18:20:54,841 INFO Downloader Download from https://en.wikipedia.org/wiki/Geologic_time_scale: OK.\n",
      "2022-07-23 18:20:54,966 INFO root processing: data_sources/DWDGermanJuneMeanTemperature.toml\n",
      "2022-07-23 18:20:55,147 INFO Downloader Download from https://opendata.dwd.de/climate_environment/CDC/regional_averages_DE/monthly/air_temperature_mean/regional_averages_tm_06.txt: OK.\n",
      "2022-07-23 18:20:55,155 INFO root processing: data_sources/11000yearsunspotnumber.toml\n",
      "2022-07-23 18:20:56,060 INFO Downloader Download from https://www.ncei.noaa.gov/pub/data/paleo/climate_forcing/solar_variability/solanki2004-ssn.txt: OK.\n",
      "2022-07-23 18:20:56,070 INFO root processing: data_sources/DWDGermanAugustMeanTemperature.toml\n",
      "2022-07-23 18:20:56,383 INFO Downloader Download from https://opendata.dwd.de/climate_environment/CDC/regional_averages_DE/monthly/air_temperature_mean/regional_averages_tm_08.txt: OK.\n",
      "2022-07-23 18:20:56,394 INFO root processing: data_sources/DWDGermanJulyMeanTemperature.toml\n",
      "2022-07-23 18:20:56,523 INFO Downloader Download from https://opendata.dwd.de/climate_environment/CDC/regional_averages_DE/monthly/air_temperature_mean/regional_averages_tm_07.txt: OK.\n",
      "2022-07-23 18:20:56,534 INFO root processing: data_sources/SunspotsMonthlyMean.toml\n",
      "2022-07-23 18:20:57,084 INFO Downloader Download from https://www.sidc.be/silso/DATA/SN_m_tot_V2.0.txt: OK.\n",
      "2022-07-23 18:20:57,115 INFO root processing: data_sources/DomeC_CO2.toml\n",
      "2022-07-23 18:20:57,120 INFO Downloader Downloading with user_agent set to: Mozilla/5.0 (Macintosh; Intel Mac OS X 12.5; rv:102.0) Gecko/20100101 Firefox/102.0\n",
      "2022-07-23 18:20:57,237 INFO Downloader Re-download ok!\n",
      "2022-07-23 18:20:57,238 INFO Downloader Download from https://agupubs.onlinelibrary.wiley.com/action/downloadSupplement?doi=10.1002%2F2014GL061957&file=grl52461-sup-0003-supplementary.xls: OK.\n"
     ]
    },
    {
     "ename": "ValueError",
     "evalue": "Excel file format cannot be determined, you must specify an engine manually.",
     "output_type": "error",
     "traceback": [
      "\u001b[0;31m---------------------------------------------------------------------------\u001b[0m",
      "\u001b[0;31mValueError\u001b[0m                                Traceback (most recent call last)",
      "Input \u001b[0;32mIn [24]\u001b[0m, in \u001b[0;36m<cell line: 1>\u001b[0;34m()\u001b[0m\n\u001b[0;32m----> 1\u001b[0m dfs\u001b[38;5;241m=\u001b[39m\u001b[43mdownload_datasets\u001b[49m\u001b[38;5;241;43m.\u001b[39;49m\u001b[43mget_datasets\u001b[49m\u001b[43m(\u001b[49m\u001b[43m)\u001b[49m\n",
      "File \u001b[0;32m~/gith/domschl/indrajala/python_indrajala/examples/importers/download_datasets.py:45\u001b[0m, in \u001b[0;36mget_datasets\u001b[0;34m(log)\u001b[0m\n\u001b[1;32m     43\u001b[0m \u001b[38;5;28;01melse\u001b[39;00m:\n\u001b[1;32m     44\u001b[0m     ua\u001b[38;5;241m=\u001b[39m\u001b[38;5;28;01mNone\u001b[39;00m\n\u001b[0;32m---> 45\u001b[0m data_dicts\u001b[38;5;241m=\u001b[39m\u001b[43mdl\u001b[49m\u001b[38;5;241;43m.\u001b[39;49m\u001b[43mget\u001b[49m\u001b[43m(\u001b[49m\u001b[43mdata_desc\u001b[49m\u001b[43m[\u001b[49m\u001b[38;5;124;43m'\u001b[39;49m\u001b[38;5;124;43mcitation\u001b[39;49m\u001b[38;5;124;43m'\u001b[39;49m\u001b[43m]\u001b[49m\u001b[43m[\u001b[49m\u001b[38;5;124;43m'\u001b[39;49m\u001b[38;5;124;43mdata_source\u001b[39;49m\u001b[38;5;124;43m'\u001b[39;49m\u001b[43m]\u001b[49m\u001b[43m,\u001b[49m\u001b[43mtransforms\u001b[49m\u001b[38;5;241;43m=\u001b[39;49m\u001b[43mdata_desc\u001b[49m\u001b[43m[\u001b[49m\u001b[38;5;124;43m'\u001b[39;49m\u001b[38;5;124;43mdatasets\u001b[39;49m\u001b[38;5;124;43m'\u001b[39;49m\u001b[43m]\u001b[49m\u001b[43m,\u001b[49m\u001b[43muser_agent\u001b[49m\u001b[38;5;241;43m=\u001b[39;49m\u001b[43mua\u001b[49m\u001b[43m)\u001b[49m\n\u001b[1;32m     46\u001b[0m \u001b[38;5;28;01mif\u001b[39;00m data_dicts \u001b[38;5;129;01mis\u001b[39;00m \u001b[38;5;28;01mNone\u001b[39;00m:\n\u001b[1;32m     47\u001b[0m     log\u001b[38;5;241m.\u001b[39merror(\u001b[38;5;124mf\u001b[39m\u001b[38;5;124m\"\u001b[39m\u001b[38;5;124mFailed to retrieve dataset(s) from \u001b[39m\u001b[38;5;132;01m{\u001b[39;00mdata_desc[\u001b[38;5;124m'\u001b[39m\u001b[38;5;124mcitation\u001b[39m\u001b[38;5;124m'\u001b[39m][\u001b[38;5;124m'\u001b[39m\u001b[38;5;124mdata_source\u001b[39m\u001b[38;5;124m'\u001b[39m]\u001b[38;5;132;01m}\u001b[39;00m\u001b[38;5;124m\"\u001b[39m)\n",
      "File \u001b[0;32m~/gith/domschl/indrajala/python_indrajala/examples/importers/downloader.py:189\u001b[0m, in \u001b[0;36mDownloader.get\u001b[0;34m(self, url, cache, transforms, user_agent)\u001b[0m\n\u001b[1;32m    187\u001b[0m     \u001b[38;5;28;01mexcept\u001b[39;00m \u001b[38;5;167;01mException\u001b[39;00m \u001b[38;5;28;01mas\u001b[39;00m e:\n\u001b[1;32m    188\u001b[0m         \u001b[38;5;28mself\u001b[39m\u001b[38;5;241m.\u001b[39mlog\u001b[38;5;241m.\u001b[39mwarning(\u001b[38;5;124mf\u001b[39m\u001b[38;5;124m\"\u001b[39m\u001b[38;5;124mFailed to save to cache at \u001b[39m\u001b[38;5;132;01m{\u001b[39;00mcache_path\u001b[38;5;132;01m}\u001b[39;00m\u001b[38;5;124m for \u001b[39m\u001b[38;5;132;01m{\u001b[39;00murl\u001b[38;5;132;01m}\u001b[39;00m\u001b[38;5;124m: \u001b[39m\u001b[38;5;132;01m{\u001b[39;00me\u001b[38;5;132;01m}\u001b[39;00m\u001b[38;5;124m\"\u001b[39m)\n\u001b[0;32m--> 189\u001b[0m data\u001b[38;5;241m=\u001b[39m\u001b[38;5;28;43mself\u001b[39;49m\u001b[38;5;241;43m.\u001b[39;49m\u001b[43mtransform\u001b[49m\u001b[43m(\u001b[49m\u001b[43mdata\u001b[49m\u001b[43m,\u001b[49m\u001b[43mtransforms\u001b[49m\u001b[43m)\u001b[49m\n\u001b[1;32m    190\u001b[0m \u001b[38;5;28;01mreturn\u001b[39;00m data\n",
      "File \u001b[0;32m~/gith/domschl/indrajala/python_indrajala/examples/importers/downloader.py:108\u001b[0m, in \u001b[0;36mDownloader.transform\u001b[0;34m(self, data, transforms)\u001b[0m\n\u001b[1;32m    106\u001b[0m     \u001b[38;5;28;01mreturn\u001b[39;00m data\n\u001b[1;32m    107\u001b[0m \u001b[38;5;28;01mfor\u001b[39;00m dataset_name \u001b[38;5;129;01min\u001b[39;00m transforms:\n\u001b[0;32m--> 108\u001b[0m     dataset\u001b[38;5;241m=\u001b[39m\u001b[38;5;28;43mself\u001b[39;49m\u001b[38;5;241;43m.\u001b[39;49m\u001b[43msingle_transform\u001b[49m\u001b[43m(\u001b[49m\u001b[43mdata\u001b[49m\u001b[43m,\u001b[49m\u001b[43mtransforms\u001b[49m\u001b[43m[\u001b[49m\u001b[43mdataset_name\u001b[49m\u001b[43m]\u001b[49m\u001b[43m)\u001b[49m\n\u001b[1;32m    109\u001b[0m     \u001b[38;5;28;01mif\u001b[39;00m dataset \u001b[38;5;129;01mis\u001b[39;00m \u001b[38;5;129;01mnot\u001b[39;00m \u001b[38;5;28;01mNone\u001b[39;00m:\n\u001b[1;32m    110\u001b[0m         data_dict[dataset_name]\u001b[38;5;241m=\u001b[39mdataset\n",
      "File \u001b[0;32m~/gith/domschl/indrajala/python_indrajala/examples/importers/downloader.py:91\u001b[0m, in \u001b[0;36mDownloader.single_transform\u001b[0;34m(self, data, transform)\u001b[0m\n\u001b[1;32m     89\u001b[0m tf\u001b[38;5;241m=\u001b[39m\u001b[38;5;28mgetattr\u001b[39m(\u001b[38;5;28mself\u001b[39m, t[\u001b[38;5;241m0\u001b[39m])\n\u001b[1;32m     90\u001b[0m \u001b[38;5;28;01mif\u001b[39;00m tf \u001b[38;5;129;01mis\u001b[39;00m \u001b[38;5;129;01mnot\u001b[39;00m \u001b[38;5;28;01mNone\u001b[39;00m:\n\u001b[0;32m---> 91\u001b[0m     data\u001b[38;5;241m=\u001b[39m\u001b[43mtf\u001b[49m\u001b[43m(\u001b[49m\u001b[43mdata\u001b[49m\u001b[43m,\u001b[49m\u001b[38;5;241;43m*\u001b[39;49m\u001b[43mt\u001b[49m\u001b[43m[\u001b[49m\u001b[38;5;241;43m1\u001b[39;49m\u001b[43m:\u001b[49m\u001b[43m]\u001b[49m\u001b[43m)\u001b[49m\n\u001b[1;32m     92\u001b[0m \u001b[38;5;28;01melse\u001b[39;00m:\n\u001b[1;32m     93\u001b[0m     \u001b[38;5;28mself\u001b[39m\u001b[38;5;241m.\u001b[39mlog\u001b[38;5;241m.\u001b[39merror(\u001b[38;5;124m\"\u001b[39m\u001b[38;5;124mTransform \u001b[39m\u001b[38;5;132;01m{t[0]}\u001b[39;00m\u001b[38;5;124m isn\u001b[39m\u001b[38;5;124m'\u001b[39m\u001b[38;5;124mt available!\u001b[39m\u001b[38;5;124m\"\u001b[39m)\n",
      "File \u001b[0;32m~/gith/domschl/indrajala/python_indrajala/examples/importers/downloader.py:84\u001b[0m, in \u001b[0;36mDownloader.pandas_excel_worksheet_subset\u001b[0;34m(self, data, worksheet_name, include_rows, include_columns)\u001b[0m\n\u001b[1;32m     83\u001b[0m \u001b[38;5;28;01mdef\u001b[39;00m \u001b[38;5;21mpandas_excel_worksheet_subset\u001b[39m(\u001b[38;5;28mself\u001b[39m, data, worksheet_name, include_rows, include_columns):\n\u001b[0;32m---> 84\u001b[0m     \u001b[38;5;28;01mreturn\u001b[39;00m \u001b[43mpd\u001b[49m\u001b[38;5;241;43m.\u001b[39;49m\u001b[43mread_excel\u001b[49m\u001b[43m(\u001b[49m\u001b[43mdata\u001b[49m\u001b[43m,\u001b[49m\u001b[43m \u001b[49m\u001b[43msheet_name\u001b[49m\u001b[38;5;241;43m=\u001b[39;49m\u001b[43mworksheet_name\u001b[49m\u001b[43m,\u001b[49m\u001b[43m \u001b[49m\u001b[43mskiprows\u001b[49m\u001b[38;5;241;43m=\u001b[39;49m\u001b[38;5;28;43;01mlambda\u001b[39;49;00m\u001b[43m \u001b[49m\u001b[43mx\u001b[49m\u001b[43m:\u001b[49m\u001b[43m \u001b[49m\u001b[43mx\u001b[49m\u001b[38;5;241;43m+\u001b[39;49m\u001b[38;5;241;43m1\u001b[39;49m\u001b[43m \u001b[49m\u001b[38;5;129;43;01mnot\u001b[39;49;00m\u001b[43m \u001b[49m\u001b[38;5;129;43;01min\u001b[39;49;00m\u001b[43m \u001b[49m\u001b[38;5;28;43mrange\u001b[39;49m\u001b[43m(\u001b[49m\u001b[43minclude_rows\u001b[49m\u001b[43m[\u001b[49m\u001b[38;5;241;43m0\u001b[39;49m\u001b[43m]\u001b[49m\u001b[43m,\u001b[49m\u001b[43m \u001b[49m\u001b[43minclude_rows\u001b[49m\u001b[43m[\u001b[49m\u001b[38;5;241;43m1\u001b[39;49m\u001b[43m]\u001b[49m\u001b[38;5;241;43m+\u001b[39;49m\u001b[38;5;241;43m1\u001b[39;49m\u001b[43m)\u001b[49m\u001b[43m,\u001b[49m\u001b[43m \u001b[49m\u001b[43musecols\u001b[49m\u001b[38;5;241;43m=\u001b[39;49m\u001b[43minclude_columns\u001b[49m\u001b[43m)\u001b[49m\n",
      "File \u001b[0;32m~/miniforge3/lib/python3.10/site-packages/pandas/util/_decorators.py:311\u001b[0m, in \u001b[0;36mdeprecate_nonkeyword_arguments.<locals>.decorate.<locals>.wrapper\u001b[0;34m(*args, **kwargs)\u001b[0m\n\u001b[1;32m    305\u001b[0m \u001b[38;5;28;01mif\u001b[39;00m \u001b[38;5;28mlen\u001b[39m(args) \u001b[38;5;241m>\u001b[39m num_allow_args:\n\u001b[1;32m    306\u001b[0m     warnings\u001b[38;5;241m.\u001b[39mwarn(\n\u001b[1;32m    307\u001b[0m         msg\u001b[38;5;241m.\u001b[39mformat(arguments\u001b[38;5;241m=\u001b[39marguments),\n\u001b[1;32m    308\u001b[0m         \u001b[38;5;167;01mFutureWarning\u001b[39;00m,\n\u001b[1;32m    309\u001b[0m         stacklevel\u001b[38;5;241m=\u001b[39mstacklevel,\n\u001b[1;32m    310\u001b[0m     )\n\u001b[0;32m--> 311\u001b[0m \u001b[38;5;28;01mreturn\u001b[39;00m \u001b[43mfunc\u001b[49m\u001b[43m(\u001b[49m\u001b[38;5;241;43m*\u001b[39;49m\u001b[43margs\u001b[49m\u001b[43m,\u001b[49m\u001b[43m \u001b[49m\u001b[38;5;241;43m*\u001b[39;49m\u001b[38;5;241;43m*\u001b[39;49m\u001b[43mkwargs\u001b[49m\u001b[43m)\u001b[49m\n",
      "File \u001b[0;32m~/miniforge3/lib/python3.10/site-packages/pandas/io/excel/_base.py:457\u001b[0m, in \u001b[0;36mread_excel\u001b[0;34m(io, sheet_name, header, names, index_col, usecols, squeeze, dtype, engine, converters, true_values, false_values, skiprows, nrows, na_values, keep_default_na, na_filter, verbose, parse_dates, date_parser, thousands, decimal, comment, skipfooter, convert_float, mangle_dupe_cols, storage_options)\u001b[0m\n\u001b[1;32m    455\u001b[0m \u001b[38;5;28;01mif\u001b[39;00m \u001b[38;5;129;01mnot\u001b[39;00m \u001b[38;5;28misinstance\u001b[39m(io, ExcelFile):\n\u001b[1;32m    456\u001b[0m     should_close \u001b[38;5;241m=\u001b[39m \u001b[38;5;28;01mTrue\u001b[39;00m\n\u001b[0;32m--> 457\u001b[0m     io \u001b[38;5;241m=\u001b[39m \u001b[43mExcelFile\u001b[49m\u001b[43m(\u001b[49m\u001b[43mio\u001b[49m\u001b[43m,\u001b[49m\u001b[43m \u001b[49m\u001b[43mstorage_options\u001b[49m\u001b[38;5;241;43m=\u001b[39;49m\u001b[43mstorage_options\u001b[49m\u001b[43m,\u001b[49m\u001b[43m \u001b[49m\u001b[43mengine\u001b[49m\u001b[38;5;241;43m=\u001b[39;49m\u001b[43mengine\u001b[49m\u001b[43m)\u001b[49m\n\u001b[1;32m    458\u001b[0m \u001b[38;5;28;01melif\u001b[39;00m engine \u001b[38;5;129;01mand\u001b[39;00m engine \u001b[38;5;241m!=\u001b[39m io\u001b[38;5;241m.\u001b[39mengine:\n\u001b[1;32m    459\u001b[0m     \u001b[38;5;28;01mraise\u001b[39;00m \u001b[38;5;167;01mValueError\u001b[39;00m(\n\u001b[1;32m    460\u001b[0m         \u001b[38;5;124m\"\u001b[39m\u001b[38;5;124mEngine should not be specified when passing \u001b[39m\u001b[38;5;124m\"\u001b[39m\n\u001b[1;32m    461\u001b[0m         \u001b[38;5;124m\"\u001b[39m\u001b[38;5;124man ExcelFile - ExcelFile already has the engine set\u001b[39m\u001b[38;5;124m\"\u001b[39m\n\u001b[1;32m    462\u001b[0m     )\n",
      "File \u001b[0;32m~/miniforge3/lib/python3.10/site-packages/pandas/io/excel/_base.py:1380\u001b[0m, in \u001b[0;36mExcelFile.__init__\u001b[0;34m(self, path_or_buffer, engine, storage_options)\u001b[0m\n\u001b[1;32m   1376\u001b[0m     ext \u001b[38;5;241m=\u001b[39m inspect_excel_format(\n\u001b[1;32m   1377\u001b[0m         content_or_path\u001b[38;5;241m=\u001b[39mpath_or_buffer, storage_options\u001b[38;5;241m=\u001b[39mstorage_options\n\u001b[1;32m   1378\u001b[0m     )\n\u001b[1;32m   1379\u001b[0m     \u001b[38;5;28;01mif\u001b[39;00m ext \u001b[38;5;129;01mis\u001b[39;00m \u001b[38;5;28;01mNone\u001b[39;00m:\n\u001b[0;32m-> 1380\u001b[0m         \u001b[38;5;28;01mraise\u001b[39;00m \u001b[38;5;167;01mValueError\u001b[39;00m(\n\u001b[1;32m   1381\u001b[0m             \u001b[38;5;124m\"\u001b[39m\u001b[38;5;124mExcel file format cannot be determined, you must specify \u001b[39m\u001b[38;5;124m\"\u001b[39m\n\u001b[1;32m   1382\u001b[0m             \u001b[38;5;124m\"\u001b[39m\u001b[38;5;124man engine manually.\u001b[39m\u001b[38;5;124m\"\u001b[39m\n\u001b[1;32m   1383\u001b[0m         )\n\u001b[1;32m   1385\u001b[0m engine \u001b[38;5;241m=\u001b[39m config\u001b[38;5;241m.\u001b[39mget_option(\u001b[38;5;124mf\u001b[39m\u001b[38;5;124m\"\u001b[39m\u001b[38;5;124mio.excel.\u001b[39m\u001b[38;5;132;01m{\u001b[39;00mext\u001b[38;5;132;01m}\u001b[39;00m\u001b[38;5;124m.reader\u001b[39m\u001b[38;5;124m\"\u001b[39m, silent\u001b[38;5;241m=\u001b[39m\u001b[38;5;28;01mTrue\u001b[39;00m)\n\u001b[1;32m   1386\u001b[0m \u001b[38;5;28;01mif\u001b[39;00m engine \u001b[38;5;241m==\u001b[39m \u001b[38;5;124m\"\u001b[39m\u001b[38;5;124mauto\u001b[39m\u001b[38;5;124m\"\u001b[39m:\n",
      "\u001b[0;31mValueError\u001b[0m: Excel file format cannot be determined, you must specify an engine manually."
     ]
    }
   ],
   "source": [
    "dfs=download_datasets.get_datasets()"
   ]
  },
  {
   "cell_type": "code",
   "execution_count": 54,
   "id": "c248bb65-8f1e-4044-8d6e-d5cbde9bbab7",
   "metadata": {},
   "outputs": [
    {
     "data": {
      "text/plain": [
       "dict_keys(['MaunaLoaMonthlyCO2', 'euromed2k', 'MaunaLoaWeeklyHistoricalCO2', 'geologictimescale', 'germany_june_meantemp', 'sunspots11000yrs', 'germany_august_meantemp', 'germany_july_meantemp', 'sunspotsmonthlymean1749', 'gisp2icecoretemp', 'gisp2icecoreaccum', 'CenozoicCO2', 'CenozoicCO2Filtered'])"
      ]
     },
     "execution_count": 54,
     "metadata": {},
     "output_type": "execute_result"
    }
   ],
   "source": [
    "dfs.keys()"
   ]
  },
  {
   "cell_type": "code",
   "execution_count": null,
   "id": "f1da5ae5-d097-44af-ac96-5e658c11f475",
   "metadata": {},
   "outputs": [],
   "source": [
    "for dataset_name in dfs.keys():\n",
    "    print()\n",
    "    print(\"---------------------------------------------------------------------------------\")\n",
    "    print(f\"Dataset {dataset_name} {dfs[dataset_name]['metadata']['tags']}\")\n",
    "    print()\n",
    "    for entry in dfs[dataset_name]['metadata']:\n",
    "        if entry in ['title', 'tags']:\n",
    "            continue\n",
    "        display(HTML(f\"{entry}: {dfs[dataset_name]['metadata'][entry]}\"))\n",
    "    display(dfs[dataset_name]['data'])"
   ]
  },
  {
   "cell_type": "code",
   "execution_count": null,
   "id": "5fc4bec9-f38d-45d3-8cfb-c4b0268a5db1",
   "metadata": {},
   "outputs": [],
   "source": [
    "em2k=dfs['euromed2k']['data'].to_numpy()\n",
    "gjmt6=dfs['germany_june_meantemp']['data'].to_numpy()\n",
    "gjmt7=dfs['germany_july_meantemp']['data'].to_numpy()\n",
    "gjmt8=dfs['germany_august_meantemp']['data'].to_numpy()\n",
    "sunsp=dfs['sunspots11000yrs']['data'].to_numpy()\n",
    "sunsp1749=dfs['sunspotsmonthlymean1749']['data'].to_numpy()"
   ]
  },
  {
   "cell_type": "code",
   "execution_count": null,
   "id": "fa8c7a92-3a0e-457a-9270-5707fcba3d95",
   "metadata": {},
   "outputs": [],
   "source": [
    "sunsp[:,0]=1950-sunsp[:,0]"
   ]
  },
  {
   "cell_type": "code",
   "execution_count": null,
   "id": "f1d07e30-3faf-44f2-af97-4882865ced25",
   "metadata": {},
   "outputs": [],
   "source": [
    "gjmt=(gjmt6[:-1,:]+gjmt7+gjmt8)/3.0"
   ]
  },
  {
   "cell_type": "code",
   "execution_count": null,
   "id": "87570714-a46b-4a7a-bfb0-32df3b8b1c79",
   "metadata": {},
   "outputs": [],
   "source": [
    "np.mean(gjmt[:,2])"
   ]
  },
  {
   "cell_type": "code",
   "execution_count": null,
   "id": "e31a53e5-85da-423d-b33e-c9d5ea129852",
   "metadata": {},
   "outputs": [],
   "source": [
    "def moving_average(a, n=3) :\n",
    "    ret = np.cumsum(a, dtype=float)\n",
    "    ret[n:] = ret[n:] - ret[:-n]\n",
    "    return ret[n - 1:] / n"
   ]
  },
  {
   "cell_type": "code",
   "execution_count": null,
   "id": "2bb28d24-631e-482b-802b-b06cfa1fcadf",
   "metadata": {},
   "outputs": [],
   "source": [
    "gjmean=np.mean(gjmt[:,2])"
   ]
  },
  {
   "cell_type": "code",
   "execution_count": null,
   "id": "0bbb81bb-2d24-4047-92c3-20a74de40fe0",
   "metadata": {},
   "outputs": [],
   "source": [
    "win=10\n",
    "em2kmat=moving_average(em2k[:,1],2*win+1)\n",
    "gjmtmat=moving_average(gjmt[:,2]-gjmean,2*win+1)"
   ]
  },
  {
   "cell_type": "code",
   "execution_count": null,
   "id": "bbd9d515-4886-4163-8362-1fcc16510045",
   "metadata": {},
   "outputs": [],
   "source": []
  },
  {
   "cell_type": "code",
   "execution_count": null,
   "id": "55f45fd0-9695-4d3b-bc39-4c9eecf91d9f",
   "metadata": {},
   "outputs": [],
   "source": [
    "sunma=moving_average(sunsp[:,1],2*win+1)\n",
    "sunman=moving_average(sunsp1749[:,3],20*win+1)"
   ]
  },
  {
   "cell_type": "code",
   "execution_count": null,
   "id": "105c73a6-9126-4168-ba98-3f00a799808d",
   "metadata": {},
   "outputs": [],
   "source": [
    "sunman"
   ]
  },
  {
   "cell_type": "code",
   "execution_count": null,
   "id": "6b37388c-3068-423e-8f24-3924ccbf2a38",
   "metadata": {},
   "outputs": [],
   "source": [
    "sunman.shape, sunsp1749.shape"
   ]
  },
  {
   "cell_type": "code",
   "execution_count": null,
   "id": "a5121968-0c17-4992-a32c-1def16c1eab9",
   "metadata": {},
   "outputs": [],
   "source": [
    "import matplotlib.pyplot as plt\n",
    "plt.rcParams['figure.figsize'] = [14,8]  # inch! :-/"
   ]
  },
  {
   "cell_type": "code",
   "execution_count": null,
   "id": "ed2109e7-df55-47e8-afee-b70515132808",
   "metadata": {},
   "outputs": [],
   "source": [
    "plt.plot(gjmt[:,0],gjmt[:,2]-gjmean)\n",
    "plt.plot(em2k[:,0],em2k[:,1])\n",
    "plt.plot(sunsp[-200:,0],sunsp[-200:,1]/60-0.4)\n",
    "plt.plot(sunsp1749[10*win:-10*win,2],sunman/200)"
   ]
  },
  {
   "cell_type": "code",
   "execution_count": null,
   "id": "c453a710-93d4-47e5-9dc1-a390a9960976",
   "metadata": {},
   "outputs": [],
   "source": [
    "# plt.plot(dfnp[:,0],dfnp[:,1])\n",
    "plt.plot(gjmt[win:-win,0],gjmtmat)\n",
    "plt.plot(em2k[win:-win,0],em2kmat)\n",
    "plt.plot(sunsp[-200:,0],sunsp[-200:,1]/80-0.5) # sunma[-200:]/50-0.5)\n",
    "plt.plot(sunsp1749[10*win:-10*win,2],sunman/200-0.5)"
   ]
  },
  {
   "cell_type": "code",
   "execution_count": null,
   "id": "5431309b-1066-4ddf-be63-ca17b1ad5817",
   "metadata": {},
   "outputs": [],
   "source": [
    "plt.plot(em2k[-120+win:-win,0],em2kmat[-120+win:-win])\n",
    "plt.plot(gjmt[win:-win,0],gjmtmat)\n",
    "plt.plot(sunsp[-20:,0],sunsp[-20:,1]/80-0.5) # sunma[-20:]/50-0.5)\n",
    "plt.plot(sunsp1749[10*win:-10*win,2],sunman/200-0.5)"
   ]
  },
  {
   "cell_type": "code",
   "execution_count": null,
   "id": "de494b63-7266-48e7-9c12-646d3b486197",
   "metadata": {},
   "outputs": [],
   "source": [
    "a=-1500\n",
    "b=-1400\n",
    "plt.plot(em2k[a:b,0],em2k[a:b,1])\n",
    "plt.plot(gjmt[a:b,0],gjmtmat[a-win:b-win])\n"
   ]
  },
  {
   "cell_type": "code",
   "execution_count": null,
   "id": "7752c815-b02d-48cd-8be8-ff486a0cf090",
   "metadata": {},
   "outputs": [],
   "source": []
  },
  {
   "cell_type": "code",
   "execution_count": null,
   "id": "dc004f7c-f60c-4827-ae02-95b76ce4d1bd",
   "metadata": {},
   "outputs": [],
   "source": []
  }
 ],
 "metadata": {
  "kernelspec": {
   "display_name": "Python 3 (ipykernel)",
   "language": "python",
   "name": "python3"
  },
  "language_info": {
   "codemirror_mode": {
    "name": "ipython",
    "version": 3
   },
   "file_extension": ".py",
   "mimetype": "text/x-python",
   "name": "python",
   "nbconvert_exporter": "python",
   "pygments_lexer": "ipython3",
   "version": "3.10.5"
  }
 },
 "nbformat": 4,
 "nbformat_minor": 5
}
