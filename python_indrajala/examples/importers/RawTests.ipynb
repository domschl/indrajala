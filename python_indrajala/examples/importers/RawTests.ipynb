{
 "cells": [
  {
   "cell_type": "code",
   "execution_count": 45,
   "id": "f2bdfbf3-e08c-4c18-8e08-bdda7e8c03c2",
   "metadata": {},
   "outputs": [],
   "source": [
    "import logging\n",
    "import pandas as pd\n",
    "import numpy as np"
   ]
  },
  {
   "cell_type": "code",
   "execution_count": 46,
   "id": "1536e2d5-3f7c-4cd5-bce1-98bd685bab9e",
   "metadata": {},
   "outputs": [
    {
     "name": "stdout",
     "output_type": "stream",
     "text": [
      "The autoreload extension is already loaded. To reload it, use:\n",
      "  %reload_ext autoreload\n"
     ]
    }
   ],
   "source": [
    "%load_ext autoreload\n",
    "%autoreload 2"
   ]
  },
  {
   "cell_type": "code",
   "execution_count": 47,
   "id": "32fa5271-f591-46da-aa72-0ee35974594d",
   "metadata": {},
   "outputs": [],
   "source": [
    "url='https://en.wikipedia.org/wiki/Geologic_time_scale'"
   ]
  },
  {
   "cell_type": "code",
   "execution_count": 48,
   "id": "6a6ae439-3dd4-4bb5-a5fb-ea59f0e6401e",
   "metadata": {},
   "outputs": [],
   "source": [
    "tables=pd.read_html(url)"
   ]
  },
  {
   "cell_type": "code",
   "execution_count": 49,
   "id": "b5174c1a-2f50-4437-9050-ae2e7fbcb3c1",
   "metadata": {},
   "outputs": [
    {
     "name": "stdout",
     "output_type": "stream",
     "text": [
      "23\n"
     ]
    }
   ],
   "source": [
    "print(len(tables))"
   ]
  },
  {
   "cell_type": "code",
   "execution_count": 50,
   "id": "6905eb0a-84f3-4462-944d-7f5e7fc1d31d",
   "metadata": {
    "tags": []
   },
   "outputs": [
    {
     "data": {
      "text/html": [
       "<div>\n",
       "<style scoped>\n",
       "    .dataframe tbody tr th:only-of-type {\n",
       "        vertical-align: middle;\n",
       "    }\n",
       "\n",
       "    .dataframe tbody tr th {\n",
       "        vertical-align: top;\n",
       "    }\n",
       "\n",
       "    .dataframe thead th {\n",
       "        text-align: right;\n",
       "    }\n",
       "</style>\n",
       "<table border=\"1\" class=\"dataframe\">\n",
       "  <thead>\n",
       "    <tr style=\"text-align: right;\">\n",
       "      <th></th>\n",
       "      <th>Name</th>\n",
       "      <th>Time Span</th>\n",
       "      <th>Etymology of name</th>\n",
       "    </tr>\n",
       "  </thead>\n",
       "  <tbody>\n",
       "    <tr>\n",
       "      <th>0</th>\n",
       "      <td>Quaternary</td>\n",
       "      <td>2.6 to 0 million years ago</td>\n",
       "      <td>First introduced by Jules Desnoyers in 1829 fo...</td>\n",
       "    </tr>\n",
       "    <tr>\n",
       "      <th>1</th>\n",
       "      <td>Neogene</td>\n",
       "      <td>23 to 2.6 million years ago</td>\n",
       "      <td>Derived from the Greek words νέος (néos) meani...</td>\n",
       "    </tr>\n",
       "    <tr>\n",
       "      <th>2</th>\n",
       "      <td>Paleogene</td>\n",
       "      <td>66 to 23 million years ago</td>\n",
       "      <td>Derived from the Greek words παλιός (palaiós) ...</td>\n",
       "    </tr>\n",
       "    <tr>\n",
       "      <th>3</th>\n",
       "      <td>Cretaceous</td>\n",
       "      <td>145 to 66 million years ago</td>\n",
       "      <td>Derived from Terrain Crétacé used in 1822 by J...</td>\n",
       "    </tr>\n",
       "    <tr>\n",
       "      <th>4</th>\n",
       "      <td>Jurassic</td>\n",
       "      <td>201.3 to 145 million years ago</td>\n",
       "      <td>Named after the Jura Mountains. Originally use...</td>\n",
       "    </tr>\n",
       "  </tbody>\n",
       "</table>\n",
       "</div>"
      ],
      "text/plain": [
       "         Name                       Time Span  \\\n",
       "0  Quaternary      2.6 to 0 million years ago   \n",
       "1     Neogene     23 to 2.6 million years ago   \n",
       "2   Paleogene      66 to 23 million years ago   \n",
       "3  Cretaceous     145 to 66 million years ago   \n",
       "4    Jurassic  201.3 to 145 million years ago   \n",
       "\n",
       "                                   Etymology of name  \n",
       "0  First introduced by Jules Desnoyers in 1829 fo...  \n",
       "1  Derived from the Greek words νέος (néos) meani...  \n",
       "2  Derived from the Greek words παλιός (palaiós) ...  \n",
       "3  Derived from Terrain Crétacé used in 1822 by J...  \n",
       "4  Named after the Jura Mountains. Originally use...  "
      ]
     },
     "execution_count": 50,
     "metadata": {},
     "output_type": "execute_result"
    }
   ],
   "source": [
    "tables[3].head()"
   ]
  },
  {
   "cell_type": "code",
   "execution_count": 67,
   "id": "9b8d5e7f-9794-4e2e-b12b-0db2fbfdbbfe",
   "metadata": {},
   "outputs": [],
   "source": [
    "logging.basicConfig(format='%(asctime)s %(levelname)s %(name)s %(message)s', level=logging.INFO)"
   ]
  },
  {
   "cell_type": "code",
   "execution_count": 83,
   "id": "1397bd8e-64d2-4ea1-b036-e6240c29b69d",
   "metadata": {},
   "outputs": [],
   "source": [
    "import downloader"
   ]
  },
  {
   "cell_type": "code",
   "execution_count": 84,
   "id": "2410cbec-a887-4dbb-9f16-2f556a3495bc",
   "metadata": {},
   "outputs": [],
   "source": [
    "import download_datasets"
   ]
  },
  {
   "cell_type": "code",
   "execution_count": 85,
   "id": "8b8a146f-53ce-4f32-a2a6-f36932118e51",
   "metadata": {},
   "outputs": [
    {
     "name": "stdout",
     "output_type": "stream",
     "text": [
      "----------------------------------------------------------------------------------\n",
      "Processing data_sources/EuropeanMeanTemperatureSinceRomanTime_EuroMed2k.toml\n",
      "   Year      Mean  Lower2sigma  Upper2sigma\n",
      "0  -138 -0.037309     -0.85472      0.76376\n",
      "1  -137 -0.029138     -0.92172      0.81199\n",
      "2  -136 -0.066622     -0.91555      0.74954\n",
      "3  -135 -0.435790     -1.27780      0.35291\n",
      "4  -134 -0.503160     -1.32540      0.27134\n",
      "...\n",
      "      Year     Mean  Lower2sigma  Upper2sigma\n",
      "2136  1999  0.78958      0.13234       1.5786\n",
      "2137  2000  0.85275      0.21043       1.6025\n",
      "2138  2001  0.94781      0.27156       1.8178\n",
      "2139  2002  1.38810      0.73063       2.0861\n",
      "2140  2003  2.26200      1.54560       2.9375\n",
      ">>> euromed2k\n",
      "----------------------------------------------------------------------------------\n",
      "Processing data_sources/DWDGermanJulyMeanTemperature.toml\n",
      "   Jahr  Monat  Brandenburg/Berlin  Brandenburg  Baden-Wuerttemberg  Bayern  \\\n",
      "0  1881      7               19.19        19.16               19.08   18.40   \n",
      "1  1882      7               18.41        18.39               15.65   15.77   \n",
      "2  1883      7               18.29        18.27               15.99   15.86   \n",
      "3  1884      7               19.19        19.17               18.26   17.70   \n",
      "4  1885      7               18.50        18.49               17.42   16.94   \n",
      "\n",
      "   Hessen  Mecklenburg-Vorpommern  Niedersachsen  \\\n",
      "0   18.77                   17.92          18.40   \n",
      "1   16.32                   17.91          17.25   \n",
      "2   16.22                   17.69          16.83   \n",
      "3   18.18                   18.08          18.10   \n",
      "4   16.83                   17.67          17.14   \n",
      "\n",
      "   Niedersachsen/Hamburg/Bremen  Nordrhein-Westfalen  Rheinland-Pfalz  \\\n",
      "0                         18.40                19.04            19.01   \n",
      "1                         17.26                16.87            16.10   \n",
      "2                         16.84                16.44            16.16   \n",
      "3                         18.11                18.35            18.63   \n",
      "4                         17.15                17.32            17.22   \n",
      "\n",
      "   Schleswig-Holstein  Saarland  Sachsen  Sachsen-Anhalt  \\\n",
      "0               17.45     19.29    18.25           19.09   \n",
      "1               17.56     16.15    17.02           17.85   \n",
      "2               17.17     16.24    17.08           17.61   \n",
      "3               17.83     18.81    18.32           18.69   \n",
      "4               17.20     17.53    17.27           17.87   \n",
      "\n",
      "   Thueringen/Sachsen-Anhalt  Thueringen  Deutschland  Unnamed: 19  \n",
      "0                      18.62       18.04        18.60          NaN  \n",
      "1                      17.13       16.21        16.76          NaN  \n",
      "2                      16.94       16.10        16.66          NaN  \n",
      "3                      18.15       17.47        18.20          NaN  \n",
      "4                      17.20       16.35        17.30          NaN  \n",
      "...\n",
      "     Jahr  Monat  Brandenburg/Berlin  Brandenburg  Baden-Wuerttemberg  Bayern  \\\n",
      "136  2017      7               18.42        18.41               18.59   18.19   \n",
      "137  2018      7               20.94        20.93               20.11   19.45   \n",
      "138  2019      7               19.39        19.37               19.41   19.04   \n",
      "139  2020      7               18.21        18.20               18.76   18.08   \n",
      "140  2021      7               20.22        20.20               17.55   17.57   \n",
      "\n",
      "     Hessen  Mecklenburg-Vorpommern  Niedersachsen  \\\n",
      "136   18.19                   16.93          17.50   \n",
      "137   20.79                   20.23          20.25   \n",
      "138   18.87                   18.19          18.48   \n",
      "139   17.90                   16.69          16.62   \n",
      "140   17.66                   19.64          18.69   \n",
      "\n",
      "     Niedersachsen/Hamburg/Bremen  Nordrhein-Westfalen  Rheinland-Pfalz  \\\n",
      "136                         17.49                18.19            18.79   \n",
      "137                         20.25                20.91            21.02   \n",
      "138                         18.47                18.86            19.56   \n",
      "139                         16.62                17.20            18.55   \n",
      "140                         18.70                17.96            17.67   \n",
      "\n",
      "     Schleswig-Holstein  Saarland  Sachsen  Sachsen-Anhalt  \\\n",
      "136               16.47     19.15    18.41           18.49   \n",
      "137               19.63     21.39    20.16           21.15   \n",
      "138               17.40     20.16    18.97           19.30   \n",
      "139               15.77     19.04    18.20           18.08   \n",
      "140               18.89     17.76    18.78           19.52   \n",
      "\n",
      "     Thueringen/Sachsen-Anhalt  Thueringen  Deutschland  Unnamed: 19  \n",
      "136                      18.23       17.89        18.06          NaN  \n",
      "137                      20.66       20.03        20.29          NaN  \n",
      "138                      18.93       18.45        18.90          NaN  \n",
      "139                      17.83       17.50        17.69          NaN  \n",
      "140                      18.74       17.71        18.37          NaN  \n",
      ">>> germany_july_meantemp\n",
      "----------------------------------------------------------------------------------\n",
      "Processing data_sources/DWDGermanJuneMeanTemperature.toml\n",
      "   Jahr  Monat  Brandenburg/Berlin  Brandenburg  Baden-Wuerttemberg  Bayern  \\\n",
      "0  1881      6               15.73        15.71               15.30   14.65   \n",
      "1  1882      6               15.05        15.04               14.06   13.59   \n",
      "2  1883      6               17.38        17.36               15.72   15.47   \n",
      "3  1884      6               14.26        14.25               12.72   12.10   \n",
      "4  1885      6               17.87        17.84               17.16   16.65   \n",
      "\n",
      "   Hessen  Mecklenburg-Vorpommern  Niedersachsen  \\\n",
      "0   15.30                   15.08          14.90   \n",
      "1   14.12                   14.92          14.74   \n",
      "2   16.33                   16.32          16.26   \n",
      "3   12.88                   13.82          13.28   \n",
      "4   16.42                   16.16          16.08   \n",
      "\n",
      "   Niedersachsen/Hamburg/Bremen  Nordrhein-Westfalen  Rheinland-Pfalz  \\\n",
      "0                         14.90                15.37            15.56   \n",
      "1                         14.75                14.53            14.33   \n",
      "2                         16.26                16.52            16.40   \n",
      "3                         13.29                13.35            13.35   \n",
      "4                         16.07                16.57            16.90   \n",
      "\n",
      "   Schleswig-Holstein  Saarland  Sachsen  Sachsen-Anhalt  \\\n",
      "0               14.80     15.83    14.52           15.46   \n",
      "1               15.05     14.51    13.77           14.94   \n",
      "2               15.92     16.58    16.52           17.23   \n",
      "3               13.69     13.70    12.91           13.77   \n",
      "4               15.26     17.27    17.10           17.21   \n",
      "\n",
      "   Thueringen/Sachsen-Anhalt  Thueringen  Deutschland  Unnamed: 19  \n",
      "0                      15.07       14.59        15.08          NaN  \n",
      "1                      14.44       13.80        14.34          NaN  \n",
      "2                      16.72       16.07        16.23          NaN  \n",
      "3                      13.21       12.51        13.09          NaN  \n",
      "4                      16.75       16.18        16.67          NaN  \n",
      "...\n",
      "     Jahr  Monat  Brandenburg/Berlin  Brandenburg  Baden-Wuerttemberg  Bayern  \\\n",
      "137  2018      6               18.80        18.79               17.70   17.44   \n",
      "138  2019      6               21.91        21.89               19.04   19.60   \n",
      "139  2020      6               18.48        18.45               15.98   15.79   \n",
      "140  2021      6               20.37        20.35               18.56   18.56   \n",
      "141  2022      6               19.46        19.44               18.77   18.65   \n",
      "\n",
      "     Hessen  Mecklenburg-Vorpommern  Niedersachsen  \\\n",
      "137   17.84                   17.63          17.54   \n",
      "138   19.43                   19.84          19.32   \n",
      "139   16.64                   17.13          17.47   \n",
      "140   19.00                   19.04          18.80   \n",
      "141   18.38                   17.55          17.52   \n",
      "\n",
      "     Niedersachsen/Hamburg/Bremen  Nordrhein-Westfalen  Rheinland-Pfalz  \\\n",
      "137                         17.54                17.51            17.92   \n",
      "138                         19.32                19.49            19.47   \n",
      "139                         17.48                17.33            16.77   \n",
      "140                         18.80                19.03            19.00   \n",
      "141                         17.51                17.77            18.55   \n",
      "\n",
      "     Schleswig-Holstein  Saarland  Sachsen  Sachsen-Anhalt  \\\n",
      "137               16.94     18.16    17.76           18.57   \n",
      "138               17.95     19.66    20.94           21.08   \n",
      "139               16.87     16.81    17.18           18.10   \n",
      "140               17.89     19.34    19.32           19.98   \n",
      "141               16.20     18.89    18.94           19.21   \n",
      "\n",
      "     Thueringen/Sachsen-Anhalt  Thueringen  Deutschland  Unnamed: 19  \n",
      "137                      18.06       17.39        17.73          NaN  \n",
      "138                      20.47       19.66        19.78          NaN  \n",
      "139                      17.32       16.31        16.89          NaN  \n",
      "140                      19.40       18.64        18.98          NaN  \n",
      "141                      18.84       18.35        18.33          NaN  \n",
      ">>> germany_june_meantemp\n",
      "----------------------------------------------------------------------------------\n",
      "Processing data_sources/DWDGermanAugustMeanTemperature.toml\n",
      "   Jahr  Monat  Brandenburg/Berlin  Brandenburg  Baden-Wuerttemberg  Bayern  \\\n",
      "0  1881      8               16.48        16.47               16.70   16.11   \n",
      "1  1882      8               15.89        15.88               14.84   14.03   \n",
      "2  1883      8               16.90        16.89               15.89   15.16   \n",
      "3  1884      8               17.54        17.52               17.27   16.24   \n",
      "4  1885      8               15.18        15.18               15.32   14.56   \n",
      "\n",
      "   Hessen  Mecklenburg-Vorpommern  Niedersachsen  \\\n",
      "0   15.80                   15.37          15.42   \n",
      "1   14.63                   15.73          15.14   \n",
      "2   15.90                   15.98          15.97   \n",
      "3   16.97                   17.05          17.23   \n",
      "4   14.27                   14.36          14.12   \n",
      "\n",
      "   Niedersachsen/Hamburg/Bremen  Nordrhein-Westfalen  Rheinland-Pfalz  \\\n",
      "0                         15.42                15.58            16.14   \n",
      "1                         15.15                15.05            15.05   \n",
      "2                         15.97                16.15            16.13   \n",
      "3                         17.23                17.66            17.57   \n",
      "4                         14.12                14.43            14.73   \n",
      "\n",
      "   Schleswig-Holstein  Saarland  Sachsen  Sachsen-Anhalt  \\\n",
      "0               15.16     16.46    15.83           16.08   \n",
      "1               15.68     15.34    14.36           15.26   \n",
      "2               15.83     16.44    15.87           16.59   \n",
      "3               17.06     17.99    16.53           17.25   \n",
      "4               14.12     15.15    14.51           14.81   \n",
      "\n",
      "   Thueringen/Sachsen-Anhalt  Thueringen  Deutschland  Unnamed: 19  \n",
      "0                      15.70       15.21        15.90          NaN  \n",
      "1                      14.67       13.92        14.89          NaN  \n",
      "2                      16.04       15.36        15.90          NaN  \n",
      "3                      16.71       16.02        17.01          NaN  \n",
      "4                      14.34       13.75        14.56          NaN  \n",
      "...\n",
      "     Jahr  Monat  Brandenburg/Berlin  Brandenburg  Baden-Wuerttemberg  Bayern  \\\n",
      "136  2017      8               18.55        18.53               18.40   18.22   \n",
      "137  2018      8               20.94        20.92               20.00   19.91   \n",
      "138  2019      8               20.43        20.41               18.54   18.42   \n",
      "139  2020      8               21.10        21.08               19.43   18.93   \n",
      "140  2021      8               17.26        17.24               16.24   15.93   \n",
      "\n",
      "     Hessen  Mecklenburg-Vorpommern  Niedersachsen  \\\n",
      "136   17.57                   17.62          17.15   \n",
      "137   19.95                   19.73          19.36   \n",
      "138   18.93                   19.32          19.08   \n",
      "139   20.01                   19.92          20.16   \n",
      "140   16.13                   16.65          16.62   \n",
      "\n",
      "     Niedersachsen/Hamburg/Bremen  Nordrhein-Westfalen  Rheinland-Pfalz  \\\n",
      "136                         17.15                17.44            17.90   \n",
      "137                         19.36                19.57            19.83   \n",
      "138                         19.08                19.03            19.14   \n",
      "139                         20.16                20.38            20.56   \n",
      "140                         16.62                16.42            16.43   \n",
      "\n",
      "     Schleswig-Holstein  Saarland  Sachsen  Sachsen-Anhalt  \\\n",
      "136               16.67     18.15    18.34           18.28   \n",
      "137               18.59     19.84    20.68           20.67   \n",
      "138               18.31     19.43    19.64           20.15   \n",
      "139               19.55     20.94    20.22           20.97   \n",
      "140               16.36     16.72    16.28           17.03   \n",
      "\n",
      "     Thueringen/Sachsen-Anhalt  Thueringen  Deutschland  Unnamed: 19  \n",
      "136                      17.98       17.60        17.87          NaN  \n",
      "137                      20.27       19.75        19.91          NaN  \n",
      "138                      19.57       18.80        19.06          NaN  \n",
      "139                      20.38       19.63        19.95          NaN  \n",
      "140                      16.45       15.69        16.40          NaN  \n",
      ">>> germany_august_meantemp\n",
      "----------------------------------------------------------------------------------\n",
      "Processing data_sources/11000yearsunspotnumber.toml\n",
      "   YearBP    SN  sigma\n",
      "0   11405  37.4   20.7\n",
      "1   11395  57.1   20.1\n",
      "2   11385  89.0   32.1\n",
      "3   11375  92.5   34.5\n",
      "4   11365  75.2   29.9\n",
      "...\n",
      "      YearBP    SN  sigma\n",
      "1131      95  48.7    8.5\n",
      "1132      85  55.0   12.7\n",
      "1133      75  40.0   13.3\n",
      "1134      65  27.0    9.4\n",
      "1135      55  28.7    9.9\n",
      ">>> sunspots11000yrs\n",
      "----------------------------------------------------------------------------------\n",
      "Processing data_sources/GISP2IceCoreTemperatureAlley2004.toml\n",
      "        Age  Temperature  (C)\n",
      "0  0.095141     -31.5913  NaN\n",
      "1  0.107130     -31.6220  NaN\n",
      "2  0.113149     -31.6026  NaN\n",
      "3  0.119205     -31.6002  NaN\n",
      "4  0.119205     -31.5980  NaN\n",
      "...\n",
      "         Age  Temperature  (C)\n",
      "1627  49.746     -40.5505  NaN\n",
      "1628  49.806     -40.2651  NaN\n",
      "1629  49.868     -40.1018  NaN\n",
      "1630  49.922     -39.8165  NaN\n",
      "1631  49.981     -39.9694  NaN\n",
      ">>> gisp2icecoretemp\n",
      "        Age  Accumulation\n",
      "0  0.144043      0.244106\n",
      "1  0.172852      0.246155\n",
      "2  0.201660      0.248822\n",
      "3  0.230469      0.249856\n",
      "4  0.259277      0.249943\n",
      "...\n",
      "          Age  Accumulation\n",
      "1692  48.8882      0.092122\n",
      "1693  48.9170      0.091968\n",
      "1694  48.9458      0.091857\n",
      "1695  48.9746      0.091739\n",
      "1696  49.0034      0.091599\n",
      ">>> gisp2iceaccum\n"
     ]
    }
   ],
   "source": [
    "dfs=download_datasets.get_datasets()"
   ]
  },
  {
   "cell_type": "code",
   "execution_count": 76,
   "id": "c248bb65-8f1e-4044-8d6e-d5cbde9bbab7",
   "metadata": {},
   "outputs": [
    {
     "data": {
      "text/plain": [
       "dict_keys([])"
      ]
     },
     "execution_count": 76,
     "metadata": {},
     "output_type": "execute_result"
    }
   ],
   "source": [
    "dfs.keys()"
   ]
  },
  {
   "cell_type": "code",
   "execution_count": null,
   "id": "f1da5ae5-d097-44af-ac96-5e658c11f475",
   "metadata": {},
   "outputs": [],
   "source": [
    "dfs['sunspots11000yrs']"
   ]
  },
  {
   "cell_type": "code",
   "execution_count": null,
   "id": "5fc4bec9-f38d-45d3-8cfb-c4b0268a5db1",
   "metadata": {},
   "outputs": [],
   "source": [
    "em2k=dfs['euromed2k'].to_numpy()\n",
    "gjmt6=dfs['germany_june_meantemp'].to_numpy()\n",
    "gjmt7=dfs['germany_july_meantemp'].to_numpy()\n",
    "gjmt8=dfs['germany_august_meantemp'].to_numpy()\n",
    "sunsp=dfs['sunspots11000yrs'].to_numpy()"
   ]
  },
  {
   "cell_type": "code",
   "execution_count": null,
   "id": "fa8c7a92-3a0e-457a-9270-5707fcba3d95",
   "metadata": {},
   "outputs": [],
   "source": [
    "sunsp[:,0]=1950-sunsp[:,0]"
   ]
  },
  {
   "cell_type": "code",
   "execution_count": null,
   "id": "ee3193ca-af17-4faa-8119-93f002a70d97",
   "metadata": {},
   "outputs": [],
   "source": [
    "sunsp[:,1]"
   ]
  },
  {
   "cell_type": "code",
   "execution_count": null,
   "id": "f1d07e30-3faf-44f2-af97-4882865ced25",
   "metadata": {},
   "outputs": [],
   "source": [
    "gjmt=(gjmt6[:-1,:]+gjmt7+gjmt8)/3.0"
   ]
  },
  {
   "cell_type": "code",
   "execution_count": null,
   "id": "87570714-a46b-4a7a-bfb0-32df3b8b1c79",
   "metadata": {},
   "outputs": [],
   "source": [
    "np.mean(gjmt[:,2])"
   ]
  },
  {
   "cell_type": "code",
   "execution_count": null,
   "id": "e31a53e5-85da-423d-b33e-c9d5ea129852",
   "metadata": {},
   "outputs": [],
   "source": [
    "def moving_average(a, n=3) :\n",
    "    ret = np.cumsum(a, dtype=float)\n",
    "    ret[n:] = ret[n:] - ret[:-n]\n",
    "    return ret[n - 1:] / n"
   ]
  },
  {
   "cell_type": "code",
   "execution_count": null,
   "id": "2bb28d24-631e-482b-802b-b06cfa1fcadf",
   "metadata": {},
   "outputs": [],
   "source": [
    "gjmean=np.mean(gjmt[:,2])"
   ]
  },
  {
   "cell_type": "code",
   "execution_count": null,
   "id": "0bbb81bb-2d24-4047-92c3-20a74de40fe0",
   "metadata": {},
   "outputs": [],
   "source": [
    "win=100\n",
    "em2kmat=moving_average(em2k[:,1],2*win+1)\n",
    "gjmtmat=moving_average(gjmt[:,2]-gjmean,2*win+1)"
   ]
  },
  {
   "cell_type": "code",
   "execution_count": null,
   "id": "55f45fd0-9695-4d3b-bc39-4c9eecf91d9f",
   "metadata": {},
   "outputs": [],
   "source": [
    "sunma=moving_average(sunsp[:,1],2*win+1)"
   ]
  },
  {
   "cell_type": "code",
   "execution_count": null,
   "id": "a5121968-0c17-4992-a32c-1def16c1eab9",
   "metadata": {},
   "outputs": [],
   "source": [
    "import matplotlib.pyplot as plt\n",
    "plt.rcParams['figure.figsize'] = [14,8]  # inch! :-/"
   ]
  },
  {
   "cell_type": "code",
   "execution_count": null,
   "id": "ed2109e7-df55-47e8-afee-b70515132808",
   "metadata": {},
   "outputs": [],
   "source": [
    "plt.plot(gjmt[:,0],gjmt[:,2]-gjmean)\n",
    "plt.plot(dfnp[:,0],dfnp[:,1])\n",
    "plt.plot(sunsp[-200:,0],sunsp[-200:,1]/60-0.4)"
   ]
  },
  {
   "cell_type": "code",
   "execution_count": null,
   "id": "c453a710-93d4-47e5-9dc1-a390a9960976",
   "metadata": {},
   "outputs": [],
   "source": [
    "# plt.plot(dfnp[:,0],dfnp[:,1])\n",
    "plt.plot(gjmt[win:-win,0],gjmtmat)\n",
    "plt.plot(dfnp[win:-win,0],em2kmat)\n",
    "plt.plot(sunsp[-200:,0],sunma[-200:]/50-0.5)"
   ]
  },
  {
   "cell_type": "code",
   "execution_count": null,
   "id": "5431309b-1066-4ddf-be63-ca17b1ad5817",
   "metadata": {},
   "outputs": [],
   "source": [
    "plt.plot(dfnp[-120+win:-win,0],em2kmat[-120+win:-win])\n",
    "plt.plot(gjmt[win:-win,0],gjmtmat)"
   ]
  },
  {
   "cell_type": "code",
   "execution_count": null,
   "id": "de494b63-7266-48e7-9c12-646d3b486197",
   "metadata": {},
   "outputs": [],
   "source": [
    "a=-1500\n",
    "b=-1400\n",
    "plt.plot(dfnp[a:b,0],dfnp[a:b,1])\n",
    "plt.plot(dfnp[a:b,0],gjmtmat[a-win:b-win])\n"
   ]
  },
  {
   "cell_type": "code",
   "execution_count": null,
   "id": "a8b67052-406a-4cbe-b97c-57e85e5d9e96",
   "metadata": {},
   "outputs": [],
   "source": [
    "dl.get('https://www.google.com/url?sa=t&rct=j&q=&esrc=s&source=web&cd=&ved=2ahUKEwinpuzSjP74AhWCOuwKHeiOCrsQFnoECDIQAQ&url=ftp%3A%2F%2Fftp.ncdc.noaa.gov%2Fpub%2Fdata%2Fpaleo%2Fclimate_forcing%2Fsolar_variability%2Fsolanki2004-ssn.txt&usg=AOvVaw1tTDiUMZ93LQAYE4N8jt6A')"
   ]
  },
  {
   "cell_type": "code",
   "execution_count": null,
   "id": "7752c815-b02d-48cd-8be8-ff486a0cf090",
   "metadata": {},
   "outputs": [],
   "source": []
  }
 ],
 "metadata": {
  "kernelspec": {
   "display_name": "Python 3 (ipykernel)",
   "language": "python",
   "name": "python3"
  },
  "language_info": {
   "codemirror_mode": {
    "name": "ipython",
    "version": 3
   },
   "file_extension": ".py",
   "mimetype": "text/x-python",
   "name": "python",
   "nbconvert_exporter": "python",
   "pygments_lexer": "ipython3",
   "version": "3.10.5"
  }
 },
 "nbformat": 4,
 "nbformat_minor": 5
}
