{
 "cells": [
  {
   "cell_type": "code",
   "execution_count": 34,
   "id": "f2bdfbf3-e08c-4c18-8e08-bdda7e8c03c2",
   "metadata": {},
   "outputs": [],
   "source": [
    "import logging\n",
    "import pandas as pd\n",
    "import numpy as np"
   ]
  },
  {
   "cell_type": "code",
   "execution_count": 9,
   "id": "1536e2d5-3f7c-4cd5-bce1-98bd685bab9e",
   "metadata": {},
   "outputs": [
    {
     "name": "stdout",
     "output_type": "stream",
     "text": [
      "The autoreload extension is already loaded. To reload it, use:\n",
      "  %reload_ext autoreload\n"
     ]
    }
   ],
   "source": [
    "%load_ext autoreload\n",
    "%autoreload 2\n",
    "from IPython.display import display, HTML"
   ]
  },
  {
   "cell_type": "code",
   "execution_count": 3,
   "id": "9b8d5e7f-9794-4e2e-b12b-0db2fbfdbbfe",
   "metadata": {},
   "outputs": [],
   "source": [
    "logging.basicConfig(format='%(asctime)s %(levelname)s %(name)s %(message)s', level=logging.INFO)"
   ]
  },
  {
   "cell_type": "code",
   "execution_count": 4,
   "id": "1397bd8e-64d2-4ea1-b036-e6240c29b69d",
   "metadata": {},
   "outputs": [],
   "source": [
    "import downloader"
   ]
  },
  {
   "cell_type": "code",
   "execution_count": 13,
   "id": "2410cbec-a887-4dbb-9f16-2f556a3495bc",
   "metadata": {},
   "outputs": [],
   "source": [
    "import download_datasets"
   ]
  },
  {
   "cell_type": "code",
   "execution_count": 14,
   "id": "8b8a146f-53ce-4f32-a2a6-f36932118e51",
   "metadata": {},
   "outputs": [
    {
     "name": "stderr",
     "output_type": "stream",
     "text": [
      "2022-07-23 11:50:19,091 INFO root processing: data_sources/EuropeanMeanTemperatureSinceRomanTime_EuroMed2k.toml\n",
      "2022-07-23 11:50:19,102 INFO root processing: data_sources/DWDGermanJulyMeanTemperature.toml\n",
      "2022-07-23 11:50:19,109 INFO root processing: data_sources/DWDGermanJuneMeanTemperature.toml\n",
      "2022-07-23 11:50:19,114 INFO root processing: data_sources/DWDGermanAugustMeanTemperature.toml\n",
      "2022-07-23 11:50:19,120 INFO root processing: data_sources/11000yearsunspotnumber.toml\n",
      "2022-07-23 11:50:19,128 INFO root processing: data_sources/GISP2IceCoreTemperatureAlley2004.toml\n",
      "2022-07-23 11:50:19,140 INFO root processing: data_sources/WikipediaGeologicTimeScales.toml\n",
      "2022-07-23 11:50:19,283 INFO root processing: data_sources/SunspotsMonthlyMean.toml\n",
      "2022-07-23 11:50:19,301 INFO root processing: data_sources/EarlyCenozoicLiverwortBryocarbCO2Data.toml\n",
      "2022-07-23 11:50:19,982 INFO root processing: data_sources/MaunaLoaCO2MonthlyMean.toml\n",
      "2022-07-23 11:50:19,992 INFO root processing: data_sources/MaunaLoaCO2WeeklyMeanHistorical.toml\n"
     ]
    }
   ],
   "source": [
    "dfs=download_datasets.get_datasets()"
   ]
  },
  {
   "cell_type": "code",
   "execution_count": 15,
   "id": "c248bb65-8f1e-4044-8d6e-d5cbde9bbab7",
   "metadata": {},
   "outputs": [
    {
     "data": {
      "text/plain": [
       "dict_keys(['euromed2k', 'germany_july_meantemp', 'germany_june_meantemp', 'germany_august_meantemp', 'sunspots11000yrs', 'gisp2icecoretemp', 'gisp2icecoreaccum', 'geologictimescale', 'sunspotsmonthlymean1749', 'CenozoicCO2', 'CenozoicCO2Filtered', 'MaunaLoaMonthlyCO2', 'MaunaLoaWeeklyHistoricalCO2'])"
      ]
     },
     "execution_count": 15,
     "metadata": {},
     "output_type": "execute_result"
    }
   ],
   "source": [
    "dfs.keys()"
   ]
  },
  {
   "cell_type": "code",
   "execution_count": 40,
   "id": "f1da5ae5-d097-44af-ac96-5e658c11f475",
   "metadata": {},
   "outputs": [
    {
     "name": "stdout",
     "output_type": "stream",
     "text": [
      "\n",
      "---------------------------------------------------------------------------------\n",
      "Dataset euromed2k ['temperature', 'tree_ring', 'europe', 'summer']\n",
      "\n"
     ]
    },
    {
     "data": {
      "text/html": [
       "description: Spatial (5x5 degree grid) reconstructions of European summer (June-August) temperature back to 755 CE based on a Bayesian hierarchical modelling (BHM), plus estimates of the European mean temperature variation since 138 BCE, based on composite-plus-scaling (CPS)."
      ],
      "text/plain": [
       "<IPython.core.display.HTML object>"
      ]
     },
     "metadata": {},
     "output_type": "display_data"
    },
    {
     "data": {
      "text/html": [
       "authors: ['Luterbacher, J.', 'Werner, J.P.', 'Smerdon, J.E.', 'Fernández-Donado, L.', 'González-Rouco, J.F.', 'Barriopedro, D.', 'Ljungqvist, F.C.', 'Büntgen, U.', 'Zorita, E.', 'Wagner, S.', 'Esper, J.', 'McCarroll, D.', 'Toreti, A.', 'Frank, D.C.', 'Jungclaus, J.H.', 'Barriendos, M.', 'Bertolin, C.', 'Bothe, O.', 'Brázdil, R.', 'Camuffo, D.', 'Dobrovolný, P.', 'Gagen, M.H.', 'García-Bustamante, E.', 'Ge, Q.', 'Gómez-Navarro, J.J.', 'Guiot, J.', 'Hao, Z.', 'Hegerl, G.C.', 'Holmgren, K.', 'Klimenko, V.V.', 'Martín-Chivelet, J.', 'Pfister, C.', 'Roberts, N.', 'Schindler, A.', 'Schurer, A.P.', 'Solomina, O.', 'von Gunten, L.', 'Wahl, E.R.', 'Wanner, H.', 'Wetter, O.', 'Xoplaki, E.', 'Yuan, N.', 'Zanchettin, D.', 'Zhang, H.', 'Zerefos, C.']"
      ],
      "text/plain": [
       "<IPython.core.display.HTML object>"
      ]
     },
     "metadata": {},
     "output_type": "display_data"
    },
    {
     "data": {
      "text/html": [
       "publication_date: 2016-01-04"
      ],
      "text/plain": [
       "<IPython.core.display.HTML object>"
      ]
     },
     "metadata": {},
     "output_type": "display_data"
    },
    {
     "data": {
      "text/html": [
       "publisher: Environmental Research Letters, 11, 2, 024001"
      ],
      "text/plain": [
       "<IPython.core.display.HTML object>"
      ]
     },
     "metadata": {},
     "output_type": "display_data"
    },
    {
     "data": {
      "text/html": [
       "id: doi: 10.1088/1748-9326/11/2/024001"
      ],
      "text/plain": [
       "<IPython.core.display.HTML object>"
      ]
     },
     "metadata": {},
     "output_type": "display_data"
    },
    {
     "data": {
      "text/html": [
       "version: "
      ],
      "text/plain": [
       "<IPython.core.display.HTML object>"
      ]
     },
     "metadata": {},
     "output_type": "display_data"
    },
    {
     "data": {
      "text/html": [
       "data_source: https://www.ncei.noaa.gov/pub/data/paleo/pages2k/EuroMed2k/eujja_2krecon_nested_cps.txt"
      ],
      "text/plain": [
       "<IPython.core.display.HTML object>"
      ]
     },
     "metadata": {},
     "output_type": "display_data"
    },
    {
     "data": {
      "text/html": [
       "related_publications: ['https://www.ncei.noaa.gov/access/paleo-search/study/19600']"
      ],
      "text/plain": [
       "<IPython.core.display.HTML object>"
      ]
     },
     "metadata": {},
     "output_type": "display_data"
    },
    {
     "data": {
      "text/html": [
       "<div>\n",
       "<style scoped>\n",
       "    .dataframe tbody tr th:only-of-type {\n",
       "        vertical-align: middle;\n",
       "    }\n",
       "\n",
       "    .dataframe tbody tr th {\n",
       "        vertical-align: top;\n",
       "    }\n",
       "\n",
       "    .dataframe thead th {\n",
       "        text-align: right;\n",
       "    }\n",
       "</style>\n",
       "<table border=\"1\" class=\"dataframe\">\n",
       "  <thead>\n",
       "    <tr style=\"text-align: right;\">\n",
       "      <th></th>\n",
       "      <th>Year</th>\n",
       "      <th>Mean</th>\n",
       "      <th>Lower2sigma</th>\n",
       "      <th>Upper2sigma</th>\n",
       "    </tr>\n",
       "  </thead>\n",
       "  <tbody>\n",
       "    <tr>\n",
       "      <th>0</th>\n",
       "      <td>-138</td>\n",
       "      <td>-0.037309</td>\n",
       "      <td>-0.85472</td>\n",
       "      <td>0.76376</td>\n",
       "    </tr>\n",
       "    <tr>\n",
       "      <th>1</th>\n",
       "      <td>-137</td>\n",
       "      <td>-0.029138</td>\n",
       "      <td>-0.92172</td>\n",
       "      <td>0.81199</td>\n",
       "    </tr>\n",
       "    <tr>\n",
       "      <th>2</th>\n",
       "      <td>-136</td>\n",
       "      <td>-0.066622</td>\n",
       "      <td>-0.91555</td>\n",
       "      <td>0.74954</td>\n",
       "    </tr>\n",
       "    <tr>\n",
       "      <th>3</th>\n",
       "      <td>-135</td>\n",
       "      <td>-0.435790</td>\n",
       "      <td>-1.27780</td>\n",
       "      <td>0.35291</td>\n",
       "    </tr>\n",
       "    <tr>\n",
       "      <th>4</th>\n",
       "      <td>-134</td>\n",
       "      <td>-0.503160</td>\n",
       "      <td>-1.32540</td>\n",
       "      <td>0.27134</td>\n",
       "    </tr>\n",
       "    <tr>\n",
       "      <th>...</th>\n",
       "      <td>...</td>\n",
       "      <td>...</td>\n",
       "      <td>...</td>\n",
       "      <td>...</td>\n",
       "    </tr>\n",
       "    <tr>\n",
       "      <th>2136</th>\n",
       "      <td>1999</td>\n",
       "      <td>0.789580</td>\n",
       "      <td>0.13234</td>\n",
       "      <td>1.57860</td>\n",
       "    </tr>\n",
       "    <tr>\n",
       "      <th>2137</th>\n",
       "      <td>2000</td>\n",
       "      <td>0.852750</td>\n",
       "      <td>0.21043</td>\n",
       "      <td>1.60250</td>\n",
       "    </tr>\n",
       "    <tr>\n",
       "      <th>2138</th>\n",
       "      <td>2001</td>\n",
       "      <td>0.947810</td>\n",
       "      <td>0.27156</td>\n",
       "      <td>1.81780</td>\n",
       "    </tr>\n",
       "    <tr>\n",
       "      <th>2139</th>\n",
       "      <td>2002</td>\n",
       "      <td>1.388100</td>\n",
       "      <td>0.73063</td>\n",
       "      <td>2.08610</td>\n",
       "    </tr>\n",
       "    <tr>\n",
       "      <th>2140</th>\n",
       "      <td>2003</td>\n",
       "      <td>2.262000</td>\n",
       "      <td>1.54560</td>\n",
       "      <td>2.93750</td>\n",
       "    </tr>\n",
       "  </tbody>\n",
       "</table>\n",
       "<p>2141 rows × 4 columns</p>\n",
       "</div>"
      ],
      "text/plain": [
       "      Year      Mean  Lower2sigma  Upper2sigma\n",
       "0     -138 -0.037309     -0.85472      0.76376\n",
       "1     -137 -0.029138     -0.92172      0.81199\n",
       "2     -136 -0.066622     -0.91555      0.74954\n",
       "3     -135 -0.435790     -1.27780      0.35291\n",
       "4     -134 -0.503160     -1.32540      0.27134\n",
       "...    ...       ...          ...          ...\n",
       "2136  1999  0.789580      0.13234      1.57860\n",
       "2137  2000  0.852750      0.21043      1.60250\n",
       "2138  2001  0.947810      0.27156      1.81780\n",
       "2139  2002  1.388100      0.73063      2.08610\n",
       "2140  2003  2.262000      1.54560      2.93750\n",
       "\n",
       "[2141 rows x 4 columns]"
      ]
     },
     "metadata": {},
     "output_type": "display_data"
    },
    {
     "name": "stdout",
     "output_type": "stream",
     "text": [
      "\n",
      "---------------------------------------------------------------------------------\n",
      "Dataset germany_july_meantemp ['temperature', 'germany', 'direct_measurement', 'summer']\n",
      "\n"
     ]
    },
    {
     "data": {
      "text/html": [
       "description: "
      ],
      "text/plain": [
       "<IPython.core.display.HTML object>"
      ]
     },
     "metadata": {},
     "output_type": "display_data"
    },
    {
     "data": {
      "text/html": [
       "authors: ['DWD OpenData']"
      ],
      "text/plain": [
       "<IPython.core.display.HTML object>"
      ]
     },
     "metadata": {},
     "output_type": "display_data"
    },
    {
     "data": {
      "text/html": [
       "publication_date: 2022-07-02"
      ],
      "text/plain": [
       "<IPython.core.display.HTML object>"
      ]
     },
     "metadata": {},
     "output_type": "display_data"
    },
    {
     "data": {
      "text/html": [
       "publisher: DWD OpenData"
      ],
      "text/plain": [
       "<IPython.core.display.HTML object>"
      ]
     },
     "metadata": {},
     "output_type": "display_data"
    },
    {
     "data": {
      "text/html": [
       "id: "
      ],
      "text/plain": [
       "<IPython.core.display.HTML object>"
      ]
     },
     "metadata": {},
     "output_type": "display_data"
    },
    {
     "data": {
      "text/html": [
       "version: "
      ],
      "text/plain": [
       "<IPython.core.display.HTML object>"
      ]
     },
     "metadata": {},
     "output_type": "display_data"
    },
    {
     "data": {
      "text/html": [
       "data_source: https://opendata.dwd.de/climate_environment/CDC/regional_averages_DE/monthly/air_temperature_mean/regional_averages_tm_07.txt"
      ],
      "text/plain": [
       "<IPython.core.display.HTML object>"
      ]
     },
     "metadata": {},
     "output_type": "display_data"
    },
    {
     "data": {
      "text/html": [
       "related_publications: ['https://opendata.dwd.de/climate_environment/CDC/']"
      ],
      "text/plain": [
       "<IPython.core.display.HTML object>"
      ]
     },
     "metadata": {},
     "output_type": "display_data"
    },
    {
     "data": {
      "text/html": [
       "<div>\n",
       "<style scoped>\n",
       "    .dataframe tbody tr th:only-of-type {\n",
       "        vertical-align: middle;\n",
       "    }\n",
       "\n",
       "    .dataframe tbody tr th {\n",
       "        vertical-align: top;\n",
       "    }\n",
       "\n",
       "    .dataframe thead th {\n",
       "        text-align: right;\n",
       "    }\n",
       "</style>\n",
       "<table border=\"1\" class=\"dataframe\">\n",
       "  <thead>\n",
       "    <tr style=\"text-align: right;\">\n",
       "      <th></th>\n",
       "      <th>Jahr</th>\n",
       "      <th>Monat</th>\n",
       "      <th>Brandenburg/Berlin</th>\n",
       "      <th>Brandenburg</th>\n",
       "      <th>Baden-Wuerttemberg</th>\n",
       "      <th>Bayern</th>\n",
       "      <th>Hessen</th>\n",
       "      <th>Mecklenburg-Vorpommern</th>\n",
       "      <th>Niedersachsen</th>\n",
       "      <th>Niedersachsen/Hamburg/Bremen</th>\n",
       "      <th>Nordrhein-Westfalen</th>\n",
       "      <th>Rheinland-Pfalz</th>\n",
       "      <th>Schleswig-Holstein</th>\n",
       "      <th>Saarland</th>\n",
       "      <th>Sachsen</th>\n",
       "      <th>Sachsen-Anhalt</th>\n",
       "      <th>Thueringen/Sachsen-Anhalt</th>\n",
       "      <th>Thueringen</th>\n",
       "      <th>Deutschland</th>\n",
       "      <th>Unnamed: 19</th>\n",
       "    </tr>\n",
       "  </thead>\n",
       "  <tbody>\n",
       "    <tr>\n",
       "      <th>0</th>\n",
       "      <td>1881</td>\n",
       "      <td>7</td>\n",
       "      <td>19.19</td>\n",
       "      <td>19.16</td>\n",
       "      <td>19.08</td>\n",
       "      <td>18.40</td>\n",
       "      <td>18.77</td>\n",
       "      <td>17.92</td>\n",
       "      <td>18.40</td>\n",
       "      <td>18.40</td>\n",
       "      <td>19.04</td>\n",
       "      <td>19.01</td>\n",
       "      <td>17.45</td>\n",
       "      <td>19.29</td>\n",
       "      <td>18.25</td>\n",
       "      <td>19.09</td>\n",
       "      <td>18.62</td>\n",
       "      <td>18.04</td>\n",
       "      <td>18.60</td>\n",
       "      <td>NaN</td>\n",
       "    </tr>\n",
       "    <tr>\n",
       "      <th>1</th>\n",
       "      <td>1882</td>\n",
       "      <td>7</td>\n",
       "      <td>18.41</td>\n",
       "      <td>18.39</td>\n",
       "      <td>15.65</td>\n",
       "      <td>15.77</td>\n",
       "      <td>16.32</td>\n",
       "      <td>17.91</td>\n",
       "      <td>17.25</td>\n",
       "      <td>17.26</td>\n",
       "      <td>16.87</td>\n",
       "      <td>16.10</td>\n",
       "      <td>17.56</td>\n",
       "      <td>16.15</td>\n",
       "      <td>17.02</td>\n",
       "      <td>17.85</td>\n",
       "      <td>17.13</td>\n",
       "      <td>16.21</td>\n",
       "      <td>16.76</td>\n",
       "      <td>NaN</td>\n",
       "    </tr>\n",
       "    <tr>\n",
       "      <th>2</th>\n",
       "      <td>1883</td>\n",
       "      <td>7</td>\n",
       "      <td>18.29</td>\n",
       "      <td>18.27</td>\n",
       "      <td>15.99</td>\n",
       "      <td>15.86</td>\n",
       "      <td>16.22</td>\n",
       "      <td>17.69</td>\n",
       "      <td>16.83</td>\n",
       "      <td>16.84</td>\n",
       "      <td>16.44</td>\n",
       "      <td>16.16</td>\n",
       "      <td>17.17</td>\n",
       "      <td>16.24</td>\n",
       "      <td>17.08</td>\n",
       "      <td>17.61</td>\n",
       "      <td>16.94</td>\n",
       "      <td>16.10</td>\n",
       "      <td>16.66</td>\n",
       "      <td>NaN</td>\n",
       "    </tr>\n",
       "    <tr>\n",
       "      <th>3</th>\n",
       "      <td>1884</td>\n",
       "      <td>7</td>\n",
       "      <td>19.19</td>\n",
       "      <td>19.17</td>\n",
       "      <td>18.26</td>\n",
       "      <td>17.70</td>\n",
       "      <td>18.18</td>\n",
       "      <td>18.08</td>\n",
       "      <td>18.10</td>\n",
       "      <td>18.11</td>\n",
       "      <td>18.35</td>\n",
       "      <td>18.63</td>\n",
       "      <td>17.83</td>\n",
       "      <td>18.81</td>\n",
       "      <td>18.32</td>\n",
       "      <td>18.69</td>\n",
       "      <td>18.15</td>\n",
       "      <td>17.47</td>\n",
       "      <td>18.20</td>\n",
       "      <td>NaN</td>\n",
       "    </tr>\n",
       "    <tr>\n",
       "      <th>4</th>\n",
       "      <td>1885</td>\n",
       "      <td>7</td>\n",
       "      <td>18.50</td>\n",
       "      <td>18.49</td>\n",
       "      <td>17.42</td>\n",
       "      <td>16.94</td>\n",
       "      <td>16.83</td>\n",
       "      <td>17.67</td>\n",
       "      <td>17.14</td>\n",
       "      <td>17.15</td>\n",
       "      <td>17.32</td>\n",
       "      <td>17.22</td>\n",
       "      <td>17.20</td>\n",
       "      <td>17.53</td>\n",
       "      <td>17.27</td>\n",
       "      <td>17.87</td>\n",
       "      <td>17.20</td>\n",
       "      <td>16.35</td>\n",
       "      <td>17.30</td>\n",
       "      <td>NaN</td>\n",
       "    </tr>\n",
       "    <tr>\n",
       "      <th>...</th>\n",
       "      <td>...</td>\n",
       "      <td>...</td>\n",
       "      <td>...</td>\n",
       "      <td>...</td>\n",
       "      <td>...</td>\n",
       "      <td>...</td>\n",
       "      <td>...</td>\n",
       "      <td>...</td>\n",
       "      <td>...</td>\n",
       "      <td>...</td>\n",
       "      <td>...</td>\n",
       "      <td>...</td>\n",
       "      <td>...</td>\n",
       "      <td>...</td>\n",
       "      <td>...</td>\n",
       "      <td>...</td>\n",
       "      <td>...</td>\n",
       "      <td>...</td>\n",
       "      <td>...</td>\n",
       "      <td>...</td>\n",
       "    </tr>\n",
       "    <tr>\n",
       "      <th>136</th>\n",
       "      <td>2017</td>\n",
       "      <td>7</td>\n",
       "      <td>18.42</td>\n",
       "      <td>18.41</td>\n",
       "      <td>18.59</td>\n",
       "      <td>18.19</td>\n",
       "      <td>18.19</td>\n",
       "      <td>16.93</td>\n",
       "      <td>17.50</td>\n",
       "      <td>17.49</td>\n",
       "      <td>18.19</td>\n",
       "      <td>18.79</td>\n",
       "      <td>16.47</td>\n",
       "      <td>19.15</td>\n",
       "      <td>18.41</td>\n",
       "      <td>18.49</td>\n",
       "      <td>18.23</td>\n",
       "      <td>17.89</td>\n",
       "      <td>18.06</td>\n",
       "      <td>NaN</td>\n",
       "    </tr>\n",
       "    <tr>\n",
       "      <th>137</th>\n",
       "      <td>2018</td>\n",
       "      <td>7</td>\n",
       "      <td>20.94</td>\n",
       "      <td>20.93</td>\n",
       "      <td>20.11</td>\n",
       "      <td>19.45</td>\n",
       "      <td>20.79</td>\n",
       "      <td>20.23</td>\n",
       "      <td>20.25</td>\n",
       "      <td>20.25</td>\n",
       "      <td>20.91</td>\n",
       "      <td>21.02</td>\n",
       "      <td>19.63</td>\n",
       "      <td>21.39</td>\n",
       "      <td>20.16</td>\n",
       "      <td>21.15</td>\n",
       "      <td>20.66</td>\n",
       "      <td>20.03</td>\n",
       "      <td>20.29</td>\n",
       "      <td>NaN</td>\n",
       "    </tr>\n",
       "    <tr>\n",
       "      <th>138</th>\n",
       "      <td>2019</td>\n",
       "      <td>7</td>\n",
       "      <td>19.39</td>\n",
       "      <td>19.37</td>\n",
       "      <td>19.41</td>\n",
       "      <td>19.04</td>\n",
       "      <td>18.87</td>\n",
       "      <td>18.19</td>\n",
       "      <td>18.48</td>\n",
       "      <td>18.47</td>\n",
       "      <td>18.86</td>\n",
       "      <td>19.56</td>\n",
       "      <td>17.40</td>\n",
       "      <td>20.16</td>\n",
       "      <td>18.97</td>\n",
       "      <td>19.30</td>\n",
       "      <td>18.93</td>\n",
       "      <td>18.45</td>\n",
       "      <td>18.90</td>\n",
       "      <td>NaN</td>\n",
       "    </tr>\n",
       "    <tr>\n",
       "      <th>139</th>\n",
       "      <td>2020</td>\n",
       "      <td>7</td>\n",
       "      <td>18.21</td>\n",
       "      <td>18.20</td>\n",
       "      <td>18.76</td>\n",
       "      <td>18.08</td>\n",
       "      <td>17.90</td>\n",
       "      <td>16.69</td>\n",
       "      <td>16.62</td>\n",
       "      <td>16.62</td>\n",
       "      <td>17.20</td>\n",
       "      <td>18.55</td>\n",
       "      <td>15.77</td>\n",
       "      <td>19.04</td>\n",
       "      <td>18.20</td>\n",
       "      <td>18.08</td>\n",
       "      <td>17.83</td>\n",
       "      <td>17.50</td>\n",
       "      <td>17.69</td>\n",
       "      <td>NaN</td>\n",
       "    </tr>\n",
       "    <tr>\n",
       "      <th>140</th>\n",
       "      <td>2021</td>\n",
       "      <td>7</td>\n",
       "      <td>20.22</td>\n",
       "      <td>20.20</td>\n",
       "      <td>17.55</td>\n",
       "      <td>17.57</td>\n",
       "      <td>17.66</td>\n",
       "      <td>19.64</td>\n",
       "      <td>18.69</td>\n",
       "      <td>18.70</td>\n",
       "      <td>17.96</td>\n",
       "      <td>17.67</td>\n",
       "      <td>18.89</td>\n",
       "      <td>17.76</td>\n",
       "      <td>18.78</td>\n",
       "      <td>19.52</td>\n",
       "      <td>18.74</td>\n",
       "      <td>17.71</td>\n",
       "      <td>18.37</td>\n",
       "      <td>NaN</td>\n",
       "    </tr>\n",
       "  </tbody>\n",
       "</table>\n",
       "<p>141 rows × 20 columns</p>\n",
       "</div>"
      ],
      "text/plain": [
       "     Jahr  Monat  Brandenburg/Berlin  Brandenburg  Baden-Wuerttemberg  Bayern  \\\n",
       "0    1881      7               19.19        19.16               19.08   18.40   \n",
       "1    1882      7               18.41        18.39               15.65   15.77   \n",
       "2    1883      7               18.29        18.27               15.99   15.86   \n",
       "3    1884      7               19.19        19.17               18.26   17.70   \n",
       "4    1885      7               18.50        18.49               17.42   16.94   \n",
       "..    ...    ...                 ...          ...                 ...     ...   \n",
       "136  2017      7               18.42        18.41               18.59   18.19   \n",
       "137  2018      7               20.94        20.93               20.11   19.45   \n",
       "138  2019      7               19.39        19.37               19.41   19.04   \n",
       "139  2020      7               18.21        18.20               18.76   18.08   \n",
       "140  2021      7               20.22        20.20               17.55   17.57   \n",
       "\n",
       "     Hessen  Mecklenburg-Vorpommern  Niedersachsen  \\\n",
       "0     18.77                   17.92          18.40   \n",
       "1     16.32                   17.91          17.25   \n",
       "2     16.22                   17.69          16.83   \n",
       "3     18.18                   18.08          18.10   \n",
       "4     16.83                   17.67          17.14   \n",
       "..      ...                     ...            ...   \n",
       "136   18.19                   16.93          17.50   \n",
       "137   20.79                   20.23          20.25   \n",
       "138   18.87                   18.19          18.48   \n",
       "139   17.90                   16.69          16.62   \n",
       "140   17.66                   19.64          18.69   \n",
       "\n",
       "     Niedersachsen/Hamburg/Bremen  Nordrhein-Westfalen  Rheinland-Pfalz  \\\n",
       "0                           18.40                19.04            19.01   \n",
       "1                           17.26                16.87            16.10   \n",
       "2                           16.84                16.44            16.16   \n",
       "3                           18.11                18.35            18.63   \n",
       "4                           17.15                17.32            17.22   \n",
       "..                            ...                  ...              ...   \n",
       "136                         17.49                18.19            18.79   \n",
       "137                         20.25                20.91            21.02   \n",
       "138                         18.47                18.86            19.56   \n",
       "139                         16.62                17.20            18.55   \n",
       "140                         18.70                17.96            17.67   \n",
       "\n",
       "     Schleswig-Holstein  Saarland  Sachsen  Sachsen-Anhalt  \\\n",
       "0                 17.45     19.29    18.25           19.09   \n",
       "1                 17.56     16.15    17.02           17.85   \n",
       "2                 17.17     16.24    17.08           17.61   \n",
       "3                 17.83     18.81    18.32           18.69   \n",
       "4                 17.20     17.53    17.27           17.87   \n",
       "..                  ...       ...      ...             ...   \n",
       "136               16.47     19.15    18.41           18.49   \n",
       "137               19.63     21.39    20.16           21.15   \n",
       "138               17.40     20.16    18.97           19.30   \n",
       "139               15.77     19.04    18.20           18.08   \n",
       "140               18.89     17.76    18.78           19.52   \n",
       "\n",
       "     Thueringen/Sachsen-Anhalt  Thueringen  Deutschland  Unnamed: 19  \n",
       "0                        18.62       18.04        18.60          NaN  \n",
       "1                        17.13       16.21        16.76          NaN  \n",
       "2                        16.94       16.10        16.66          NaN  \n",
       "3                        18.15       17.47        18.20          NaN  \n",
       "4                        17.20       16.35        17.30          NaN  \n",
       "..                         ...         ...          ...          ...  \n",
       "136                      18.23       17.89        18.06          NaN  \n",
       "137                      20.66       20.03        20.29          NaN  \n",
       "138                      18.93       18.45        18.90          NaN  \n",
       "139                      17.83       17.50        17.69          NaN  \n",
       "140                      18.74       17.71        18.37          NaN  \n",
       "\n",
       "[141 rows x 20 columns]"
      ]
     },
     "metadata": {},
     "output_type": "display_data"
    },
    {
     "name": "stdout",
     "output_type": "stream",
     "text": [
      "\n",
      "---------------------------------------------------------------------------------\n",
      "Dataset germany_june_meantemp ['temperature', 'germany', 'direct_measurement', 'summer']\n",
      "\n"
     ]
    },
    {
     "data": {
      "text/html": [
       "description: "
      ],
      "text/plain": [
       "<IPython.core.display.HTML object>"
      ]
     },
     "metadata": {},
     "output_type": "display_data"
    },
    {
     "data": {
      "text/html": [
       "authors: ['DWD OpenData']"
      ],
      "text/plain": [
       "<IPython.core.display.HTML object>"
      ]
     },
     "metadata": {},
     "output_type": "display_data"
    },
    {
     "data": {
      "text/html": [
       "publication_date: 2022-07-02"
      ],
      "text/plain": [
       "<IPython.core.display.HTML object>"
      ]
     },
     "metadata": {},
     "output_type": "display_data"
    },
    {
     "data": {
      "text/html": [
       "publisher: DWD OpenData"
      ],
      "text/plain": [
       "<IPython.core.display.HTML object>"
      ]
     },
     "metadata": {},
     "output_type": "display_data"
    },
    {
     "data": {
      "text/html": [
       "id: "
      ],
      "text/plain": [
       "<IPython.core.display.HTML object>"
      ]
     },
     "metadata": {},
     "output_type": "display_data"
    },
    {
     "data": {
      "text/html": [
       "version: "
      ],
      "text/plain": [
       "<IPython.core.display.HTML object>"
      ]
     },
     "metadata": {},
     "output_type": "display_data"
    },
    {
     "data": {
      "text/html": [
       "data_source: https://opendata.dwd.de/climate_environment/CDC/regional_averages_DE/monthly/air_temperature_mean/regional_averages_tm_06.txt"
      ],
      "text/plain": [
       "<IPython.core.display.HTML object>"
      ]
     },
     "metadata": {},
     "output_type": "display_data"
    },
    {
     "data": {
      "text/html": [
       "related_publications: ['https://opendata.dwd.de/climate_environment/CDC/']"
      ],
      "text/plain": [
       "<IPython.core.display.HTML object>"
      ]
     },
     "metadata": {},
     "output_type": "display_data"
    },
    {
     "data": {
      "text/html": [
       "<div>\n",
       "<style scoped>\n",
       "    .dataframe tbody tr th:only-of-type {\n",
       "        vertical-align: middle;\n",
       "    }\n",
       "\n",
       "    .dataframe tbody tr th {\n",
       "        vertical-align: top;\n",
       "    }\n",
       "\n",
       "    .dataframe thead th {\n",
       "        text-align: right;\n",
       "    }\n",
       "</style>\n",
       "<table border=\"1\" class=\"dataframe\">\n",
       "  <thead>\n",
       "    <tr style=\"text-align: right;\">\n",
       "      <th></th>\n",
       "      <th>Jahr</th>\n",
       "      <th>Monat</th>\n",
       "      <th>Brandenburg/Berlin</th>\n",
       "      <th>Brandenburg</th>\n",
       "      <th>Baden-Wuerttemberg</th>\n",
       "      <th>Bayern</th>\n",
       "      <th>Hessen</th>\n",
       "      <th>Mecklenburg-Vorpommern</th>\n",
       "      <th>Niedersachsen</th>\n",
       "      <th>Niedersachsen/Hamburg/Bremen</th>\n",
       "      <th>Nordrhein-Westfalen</th>\n",
       "      <th>Rheinland-Pfalz</th>\n",
       "      <th>Schleswig-Holstein</th>\n",
       "      <th>Saarland</th>\n",
       "      <th>Sachsen</th>\n",
       "      <th>Sachsen-Anhalt</th>\n",
       "      <th>Thueringen/Sachsen-Anhalt</th>\n",
       "      <th>Thueringen</th>\n",
       "      <th>Deutschland</th>\n",
       "      <th>Unnamed: 19</th>\n",
       "    </tr>\n",
       "  </thead>\n",
       "  <tbody>\n",
       "    <tr>\n",
       "      <th>0</th>\n",
       "      <td>1881</td>\n",
       "      <td>6</td>\n",
       "      <td>15.73</td>\n",
       "      <td>15.71</td>\n",
       "      <td>15.30</td>\n",
       "      <td>14.65</td>\n",
       "      <td>15.30</td>\n",
       "      <td>15.08</td>\n",
       "      <td>14.90</td>\n",
       "      <td>14.90</td>\n",
       "      <td>15.37</td>\n",
       "      <td>15.56</td>\n",
       "      <td>14.80</td>\n",
       "      <td>15.83</td>\n",
       "      <td>14.52</td>\n",
       "      <td>15.46</td>\n",
       "      <td>15.07</td>\n",
       "      <td>14.59</td>\n",
       "      <td>15.08</td>\n",
       "      <td>NaN</td>\n",
       "    </tr>\n",
       "    <tr>\n",
       "      <th>1</th>\n",
       "      <td>1882</td>\n",
       "      <td>6</td>\n",
       "      <td>15.05</td>\n",
       "      <td>15.04</td>\n",
       "      <td>14.06</td>\n",
       "      <td>13.59</td>\n",
       "      <td>14.12</td>\n",
       "      <td>14.92</td>\n",
       "      <td>14.74</td>\n",
       "      <td>14.75</td>\n",
       "      <td>14.53</td>\n",
       "      <td>14.33</td>\n",
       "      <td>15.05</td>\n",
       "      <td>14.51</td>\n",
       "      <td>13.77</td>\n",
       "      <td>14.94</td>\n",
       "      <td>14.44</td>\n",
       "      <td>13.80</td>\n",
       "      <td>14.34</td>\n",
       "      <td>NaN</td>\n",
       "    </tr>\n",
       "    <tr>\n",
       "      <th>2</th>\n",
       "      <td>1883</td>\n",
       "      <td>6</td>\n",
       "      <td>17.38</td>\n",
       "      <td>17.36</td>\n",
       "      <td>15.72</td>\n",
       "      <td>15.47</td>\n",
       "      <td>16.33</td>\n",
       "      <td>16.32</td>\n",
       "      <td>16.26</td>\n",
       "      <td>16.26</td>\n",
       "      <td>16.52</td>\n",
       "      <td>16.40</td>\n",
       "      <td>15.92</td>\n",
       "      <td>16.58</td>\n",
       "      <td>16.52</td>\n",
       "      <td>17.23</td>\n",
       "      <td>16.72</td>\n",
       "      <td>16.07</td>\n",
       "      <td>16.23</td>\n",
       "      <td>NaN</td>\n",
       "    </tr>\n",
       "    <tr>\n",
       "      <th>3</th>\n",
       "      <td>1884</td>\n",
       "      <td>6</td>\n",
       "      <td>14.26</td>\n",
       "      <td>14.25</td>\n",
       "      <td>12.72</td>\n",
       "      <td>12.10</td>\n",
       "      <td>12.88</td>\n",
       "      <td>13.82</td>\n",
       "      <td>13.28</td>\n",
       "      <td>13.29</td>\n",
       "      <td>13.35</td>\n",
       "      <td>13.35</td>\n",
       "      <td>13.69</td>\n",
       "      <td>13.70</td>\n",
       "      <td>12.91</td>\n",
       "      <td>13.77</td>\n",
       "      <td>13.21</td>\n",
       "      <td>12.51</td>\n",
       "      <td>13.09</td>\n",
       "      <td>NaN</td>\n",
       "    </tr>\n",
       "    <tr>\n",
       "      <th>4</th>\n",
       "      <td>1885</td>\n",
       "      <td>6</td>\n",
       "      <td>17.87</td>\n",
       "      <td>17.84</td>\n",
       "      <td>17.16</td>\n",
       "      <td>16.65</td>\n",
       "      <td>16.42</td>\n",
       "      <td>16.16</td>\n",
       "      <td>16.08</td>\n",
       "      <td>16.07</td>\n",
       "      <td>16.57</td>\n",
       "      <td>16.90</td>\n",
       "      <td>15.26</td>\n",
       "      <td>17.27</td>\n",
       "      <td>17.10</td>\n",
       "      <td>17.21</td>\n",
       "      <td>16.75</td>\n",
       "      <td>16.18</td>\n",
       "      <td>16.67</td>\n",
       "      <td>NaN</td>\n",
       "    </tr>\n",
       "    <tr>\n",
       "      <th>...</th>\n",
       "      <td>...</td>\n",
       "      <td>...</td>\n",
       "      <td>...</td>\n",
       "      <td>...</td>\n",
       "      <td>...</td>\n",
       "      <td>...</td>\n",
       "      <td>...</td>\n",
       "      <td>...</td>\n",
       "      <td>...</td>\n",
       "      <td>...</td>\n",
       "      <td>...</td>\n",
       "      <td>...</td>\n",
       "      <td>...</td>\n",
       "      <td>...</td>\n",
       "      <td>...</td>\n",
       "      <td>...</td>\n",
       "      <td>...</td>\n",
       "      <td>...</td>\n",
       "      <td>...</td>\n",
       "      <td>...</td>\n",
       "    </tr>\n",
       "    <tr>\n",
       "      <th>137</th>\n",
       "      <td>2018</td>\n",
       "      <td>6</td>\n",
       "      <td>18.80</td>\n",
       "      <td>18.79</td>\n",
       "      <td>17.70</td>\n",
       "      <td>17.44</td>\n",
       "      <td>17.84</td>\n",
       "      <td>17.63</td>\n",
       "      <td>17.54</td>\n",
       "      <td>17.54</td>\n",
       "      <td>17.51</td>\n",
       "      <td>17.92</td>\n",
       "      <td>16.94</td>\n",
       "      <td>18.16</td>\n",
       "      <td>17.76</td>\n",
       "      <td>18.57</td>\n",
       "      <td>18.06</td>\n",
       "      <td>17.39</td>\n",
       "      <td>17.73</td>\n",
       "      <td>NaN</td>\n",
       "    </tr>\n",
       "    <tr>\n",
       "      <th>138</th>\n",
       "      <td>2019</td>\n",
       "      <td>6</td>\n",
       "      <td>21.91</td>\n",
       "      <td>21.89</td>\n",
       "      <td>19.04</td>\n",
       "      <td>19.60</td>\n",
       "      <td>19.43</td>\n",
       "      <td>19.84</td>\n",
       "      <td>19.32</td>\n",
       "      <td>19.32</td>\n",
       "      <td>19.49</td>\n",
       "      <td>19.47</td>\n",
       "      <td>17.95</td>\n",
       "      <td>19.66</td>\n",
       "      <td>20.94</td>\n",
       "      <td>21.08</td>\n",
       "      <td>20.47</td>\n",
       "      <td>19.66</td>\n",
       "      <td>19.78</td>\n",
       "      <td>NaN</td>\n",
       "    </tr>\n",
       "    <tr>\n",
       "      <th>139</th>\n",
       "      <td>2020</td>\n",
       "      <td>6</td>\n",
       "      <td>18.48</td>\n",
       "      <td>18.45</td>\n",
       "      <td>15.98</td>\n",
       "      <td>15.79</td>\n",
       "      <td>16.64</td>\n",
       "      <td>17.13</td>\n",
       "      <td>17.47</td>\n",
       "      <td>17.48</td>\n",
       "      <td>17.33</td>\n",
       "      <td>16.77</td>\n",
       "      <td>16.87</td>\n",
       "      <td>16.81</td>\n",
       "      <td>17.18</td>\n",
       "      <td>18.10</td>\n",
       "      <td>17.32</td>\n",
       "      <td>16.31</td>\n",
       "      <td>16.89</td>\n",
       "      <td>NaN</td>\n",
       "    </tr>\n",
       "    <tr>\n",
       "      <th>140</th>\n",
       "      <td>2021</td>\n",
       "      <td>6</td>\n",
       "      <td>20.37</td>\n",
       "      <td>20.35</td>\n",
       "      <td>18.56</td>\n",
       "      <td>18.56</td>\n",
       "      <td>19.00</td>\n",
       "      <td>19.04</td>\n",
       "      <td>18.80</td>\n",
       "      <td>18.80</td>\n",
       "      <td>19.03</td>\n",
       "      <td>19.00</td>\n",
       "      <td>17.89</td>\n",
       "      <td>19.34</td>\n",
       "      <td>19.32</td>\n",
       "      <td>19.98</td>\n",
       "      <td>19.40</td>\n",
       "      <td>18.64</td>\n",
       "      <td>18.98</td>\n",
       "      <td>NaN</td>\n",
       "    </tr>\n",
       "    <tr>\n",
       "      <th>141</th>\n",
       "      <td>2022</td>\n",
       "      <td>6</td>\n",
       "      <td>19.46</td>\n",
       "      <td>19.44</td>\n",
       "      <td>18.77</td>\n",
       "      <td>18.65</td>\n",
       "      <td>18.38</td>\n",
       "      <td>17.55</td>\n",
       "      <td>17.52</td>\n",
       "      <td>17.51</td>\n",
       "      <td>17.77</td>\n",
       "      <td>18.55</td>\n",
       "      <td>16.20</td>\n",
       "      <td>18.89</td>\n",
       "      <td>18.94</td>\n",
       "      <td>19.21</td>\n",
       "      <td>18.84</td>\n",
       "      <td>18.35</td>\n",
       "      <td>18.33</td>\n",
       "      <td>NaN</td>\n",
       "    </tr>\n",
       "  </tbody>\n",
       "</table>\n",
       "<p>142 rows × 20 columns</p>\n",
       "</div>"
      ],
      "text/plain": [
       "     Jahr  Monat  Brandenburg/Berlin  Brandenburg  Baden-Wuerttemberg  Bayern  \\\n",
       "0    1881      6               15.73        15.71               15.30   14.65   \n",
       "1    1882      6               15.05        15.04               14.06   13.59   \n",
       "2    1883      6               17.38        17.36               15.72   15.47   \n",
       "3    1884      6               14.26        14.25               12.72   12.10   \n",
       "4    1885      6               17.87        17.84               17.16   16.65   \n",
       "..    ...    ...                 ...          ...                 ...     ...   \n",
       "137  2018      6               18.80        18.79               17.70   17.44   \n",
       "138  2019      6               21.91        21.89               19.04   19.60   \n",
       "139  2020      6               18.48        18.45               15.98   15.79   \n",
       "140  2021      6               20.37        20.35               18.56   18.56   \n",
       "141  2022      6               19.46        19.44               18.77   18.65   \n",
       "\n",
       "     Hessen  Mecklenburg-Vorpommern  Niedersachsen  \\\n",
       "0     15.30                   15.08          14.90   \n",
       "1     14.12                   14.92          14.74   \n",
       "2     16.33                   16.32          16.26   \n",
       "3     12.88                   13.82          13.28   \n",
       "4     16.42                   16.16          16.08   \n",
       "..      ...                     ...            ...   \n",
       "137   17.84                   17.63          17.54   \n",
       "138   19.43                   19.84          19.32   \n",
       "139   16.64                   17.13          17.47   \n",
       "140   19.00                   19.04          18.80   \n",
       "141   18.38                   17.55          17.52   \n",
       "\n",
       "     Niedersachsen/Hamburg/Bremen  Nordrhein-Westfalen  Rheinland-Pfalz  \\\n",
       "0                           14.90                15.37            15.56   \n",
       "1                           14.75                14.53            14.33   \n",
       "2                           16.26                16.52            16.40   \n",
       "3                           13.29                13.35            13.35   \n",
       "4                           16.07                16.57            16.90   \n",
       "..                            ...                  ...              ...   \n",
       "137                         17.54                17.51            17.92   \n",
       "138                         19.32                19.49            19.47   \n",
       "139                         17.48                17.33            16.77   \n",
       "140                         18.80                19.03            19.00   \n",
       "141                         17.51                17.77            18.55   \n",
       "\n",
       "     Schleswig-Holstein  Saarland  Sachsen  Sachsen-Anhalt  \\\n",
       "0                 14.80     15.83    14.52           15.46   \n",
       "1                 15.05     14.51    13.77           14.94   \n",
       "2                 15.92     16.58    16.52           17.23   \n",
       "3                 13.69     13.70    12.91           13.77   \n",
       "4                 15.26     17.27    17.10           17.21   \n",
       "..                  ...       ...      ...             ...   \n",
       "137               16.94     18.16    17.76           18.57   \n",
       "138               17.95     19.66    20.94           21.08   \n",
       "139               16.87     16.81    17.18           18.10   \n",
       "140               17.89     19.34    19.32           19.98   \n",
       "141               16.20     18.89    18.94           19.21   \n",
       "\n",
       "     Thueringen/Sachsen-Anhalt  Thueringen  Deutschland  Unnamed: 19  \n",
       "0                        15.07       14.59        15.08          NaN  \n",
       "1                        14.44       13.80        14.34          NaN  \n",
       "2                        16.72       16.07        16.23          NaN  \n",
       "3                        13.21       12.51        13.09          NaN  \n",
       "4                        16.75       16.18        16.67          NaN  \n",
       "..                         ...         ...          ...          ...  \n",
       "137                      18.06       17.39        17.73          NaN  \n",
       "138                      20.47       19.66        19.78          NaN  \n",
       "139                      17.32       16.31        16.89          NaN  \n",
       "140                      19.40       18.64        18.98          NaN  \n",
       "141                      18.84       18.35        18.33          NaN  \n",
       "\n",
       "[142 rows x 20 columns]"
      ]
     },
     "metadata": {},
     "output_type": "display_data"
    },
    {
     "name": "stdout",
     "output_type": "stream",
     "text": [
      "\n",
      "---------------------------------------------------------------------------------\n",
      "Dataset germany_august_meantemp ['temperature', 'germany', 'direct_measurement', 'summer']\n",
      "\n"
     ]
    },
    {
     "data": {
      "text/html": [
       "description: "
      ],
      "text/plain": [
       "<IPython.core.display.HTML object>"
      ]
     },
     "metadata": {},
     "output_type": "display_data"
    },
    {
     "data": {
      "text/html": [
       "authors: ['DWD OpenData']"
      ],
      "text/plain": [
       "<IPython.core.display.HTML object>"
      ]
     },
     "metadata": {},
     "output_type": "display_data"
    },
    {
     "data": {
      "text/html": [
       "publication_date: 2022-07-02"
      ],
      "text/plain": [
       "<IPython.core.display.HTML object>"
      ]
     },
     "metadata": {},
     "output_type": "display_data"
    },
    {
     "data": {
      "text/html": [
       "publisher: DWD OpenData"
      ],
      "text/plain": [
       "<IPython.core.display.HTML object>"
      ]
     },
     "metadata": {},
     "output_type": "display_data"
    },
    {
     "data": {
      "text/html": [
       "id: "
      ],
      "text/plain": [
       "<IPython.core.display.HTML object>"
      ]
     },
     "metadata": {},
     "output_type": "display_data"
    },
    {
     "data": {
      "text/html": [
       "version: "
      ],
      "text/plain": [
       "<IPython.core.display.HTML object>"
      ]
     },
     "metadata": {},
     "output_type": "display_data"
    },
    {
     "data": {
      "text/html": [
       "data_source: https://opendata.dwd.de/climate_environment/CDC/regional_averages_DE/monthly/air_temperature_mean/regional_averages_tm_08.txt"
      ],
      "text/plain": [
       "<IPython.core.display.HTML object>"
      ]
     },
     "metadata": {},
     "output_type": "display_data"
    },
    {
     "data": {
      "text/html": [
       "related_publications: ['https://opendata.dwd.de/climate_environment/CDC/']"
      ],
      "text/plain": [
       "<IPython.core.display.HTML object>"
      ]
     },
     "metadata": {},
     "output_type": "display_data"
    },
    {
     "data": {
      "text/html": [
       "<div>\n",
       "<style scoped>\n",
       "    .dataframe tbody tr th:only-of-type {\n",
       "        vertical-align: middle;\n",
       "    }\n",
       "\n",
       "    .dataframe tbody tr th {\n",
       "        vertical-align: top;\n",
       "    }\n",
       "\n",
       "    .dataframe thead th {\n",
       "        text-align: right;\n",
       "    }\n",
       "</style>\n",
       "<table border=\"1\" class=\"dataframe\">\n",
       "  <thead>\n",
       "    <tr style=\"text-align: right;\">\n",
       "      <th></th>\n",
       "      <th>Jahr</th>\n",
       "      <th>Monat</th>\n",
       "      <th>Brandenburg/Berlin</th>\n",
       "      <th>Brandenburg</th>\n",
       "      <th>Baden-Wuerttemberg</th>\n",
       "      <th>Bayern</th>\n",
       "      <th>Hessen</th>\n",
       "      <th>Mecklenburg-Vorpommern</th>\n",
       "      <th>Niedersachsen</th>\n",
       "      <th>Niedersachsen/Hamburg/Bremen</th>\n",
       "      <th>Nordrhein-Westfalen</th>\n",
       "      <th>Rheinland-Pfalz</th>\n",
       "      <th>Schleswig-Holstein</th>\n",
       "      <th>Saarland</th>\n",
       "      <th>Sachsen</th>\n",
       "      <th>Sachsen-Anhalt</th>\n",
       "      <th>Thueringen/Sachsen-Anhalt</th>\n",
       "      <th>Thueringen</th>\n",
       "      <th>Deutschland</th>\n",
       "      <th>Unnamed: 19</th>\n",
       "    </tr>\n",
       "  </thead>\n",
       "  <tbody>\n",
       "    <tr>\n",
       "      <th>0</th>\n",
       "      <td>1881</td>\n",
       "      <td>8</td>\n",
       "      <td>16.48</td>\n",
       "      <td>16.47</td>\n",
       "      <td>16.70</td>\n",
       "      <td>16.11</td>\n",
       "      <td>15.80</td>\n",
       "      <td>15.37</td>\n",
       "      <td>15.42</td>\n",
       "      <td>15.42</td>\n",
       "      <td>15.58</td>\n",
       "      <td>16.14</td>\n",
       "      <td>15.16</td>\n",
       "      <td>16.46</td>\n",
       "      <td>15.83</td>\n",
       "      <td>16.08</td>\n",
       "      <td>15.70</td>\n",
       "      <td>15.21</td>\n",
       "      <td>15.90</td>\n",
       "      <td>NaN</td>\n",
       "    </tr>\n",
       "    <tr>\n",
       "      <th>1</th>\n",
       "      <td>1882</td>\n",
       "      <td>8</td>\n",
       "      <td>15.89</td>\n",
       "      <td>15.88</td>\n",
       "      <td>14.84</td>\n",
       "      <td>14.03</td>\n",
       "      <td>14.63</td>\n",
       "      <td>15.73</td>\n",
       "      <td>15.14</td>\n",
       "      <td>15.15</td>\n",
       "      <td>15.05</td>\n",
       "      <td>15.05</td>\n",
       "      <td>15.68</td>\n",
       "      <td>15.34</td>\n",
       "      <td>14.36</td>\n",
       "      <td>15.26</td>\n",
       "      <td>14.67</td>\n",
       "      <td>13.92</td>\n",
       "      <td>14.89</td>\n",
       "      <td>NaN</td>\n",
       "    </tr>\n",
       "    <tr>\n",
       "      <th>2</th>\n",
       "      <td>1883</td>\n",
       "      <td>8</td>\n",
       "      <td>16.90</td>\n",
       "      <td>16.89</td>\n",
       "      <td>15.89</td>\n",
       "      <td>15.16</td>\n",
       "      <td>15.90</td>\n",
       "      <td>15.98</td>\n",
       "      <td>15.97</td>\n",
       "      <td>15.97</td>\n",
       "      <td>16.15</td>\n",
       "      <td>16.13</td>\n",
       "      <td>15.83</td>\n",
       "      <td>16.44</td>\n",
       "      <td>15.87</td>\n",
       "      <td>16.59</td>\n",
       "      <td>16.04</td>\n",
       "      <td>15.36</td>\n",
       "      <td>15.90</td>\n",
       "      <td>NaN</td>\n",
       "    </tr>\n",
       "    <tr>\n",
       "      <th>3</th>\n",
       "      <td>1884</td>\n",
       "      <td>8</td>\n",
       "      <td>17.54</td>\n",
       "      <td>17.52</td>\n",
       "      <td>17.27</td>\n",
       "      <td>16.24</td>\n",
       "      <td>16.97</td>\n",
       "      <td>17.05</td>\n",
       "      <td>17.23</td>\n",
       "      <td>17.23</td>\n",
       "      <td>17.66</td>\n",
       "      <td>17.57</td>\n",
       "      <td>17.06</td>\n",
       "      <td>17.99</td>\n",
       "      <td>16.53</td>\n",
       "      <td>17.25</td>\n",
       "      <td>16.71</td>\n",
       "      <td>16.02</td>\n",
       "      <td>17.01</td>\n",
       "      <td>NaN</td>\n",
       "    </tr>\n",
       "    <tr>\n",
       "      <th>4</th>\n",
       "      <td>1885</td>\n",
       "      <td>8</td>\n",
       "      <td>15.18</td>\n",
       "      <td>15.18</td>\n",
       "      <td>15.32</td>\n",
       "      <td>14.56</td>\n",
       "      <td>14.27</td>\n",
       "      <td>14.36</td>\n",
       "      <td>14.12</td>\n",
       "      <td>14.12</td>\n",
       "      <td>14.43</td>\n",
       "      <td>14.73</td>\n",
       "      <td>14.12</td>\n",
       "      <td>15.15</td>\n",
       "      <td>14.51</td>\n",
       "      <td>14.81</td>\n",
       "      <td>14.34</td>\n",
       "      <td>13.75</td>\n",
       "      <td>14.56</td>\n",
       "      <td>NaN</td>\n",
       "    </tr>\n",
       "    <tr>\n",
       "      <th>...</th>\n",
       "      <td>...</td>\n",
       "      <td>...</td>\n",
       "      <td>...</td>\n",
       "      <td>...</td>\n",
       "      <td>...</td>\n",
       "      <td>...</td>\n",
       "      <td>...</td>\n",
       "      <td>...</td>\n",
       "      <td>...</td>\n",
       "      <td>...</td>\n",
       "      <td>...</td>\n",
       "      <td>...</td>\n",
       "      <td>...</td>\n",
       "      <td>...</td>\n",
       "      <td>...</td>\n",
       "      <td>...</td>\n",
       "      <td>...</td>\n",
       "      <td>...</td>\n",
       "      <td>...</td>\n",
       "      <td>...</td>\n",
       "    </tr>\n",
       "    <tr>\n",
       "      <th>136</th>\n",
       "      <td>2017</td>\n",
       "      <td>8</td>\n",
       "      <td>18.55</td>\n",
       "      <td>18.53</td>\n",
       "      <td>18.40</td>\n",
       "      <td>18.22</td>\n",
       "      <td>17.57</td>\n",
       "      <td>17.62</td>\n",
       "      <td>17.15</td>\n",
       "      <td>17.15</td>\n",
       "      <td>17.44</td>\n",
       "      <td>17.90</td>\n",
       "      <td>16.67</td>\n",
       "      <td>18.15</td>\n",
       "      <td>18.34</td>\n",
       "      <td>18.28</td>\n",
       "      <td>17.98</td>\n",
       "      <td>17.60</td>\n",
       "      <td>17.87</td>\n",
       "      <td>NaN</td>\n",
       "    </tr>\n",
       "    <tr>\n",
       "      <th>137</th>\n",
       "      <td>2018</td>\n",
       "      <td>8</td>\n",
       "      <td>20.94</td>\n",
       "      <td>20.92</td>\n",
       "      <td>20.00</td>\n",
       "      <td>19.91</td>\n",
       "      <td>19.95</td>\n",
       "      <td>19.73</td>\n",
       "      <td>19.36</td>\n",
       "      <td>19.36</td>\n",
       "      <td>19.57</td>\n",
       "      <td>19.83</td>\n",
       "      <td>18.59</td>\n",
       "      <td>19.84</td>\n",
       "      <td>20.68</td>\n",
       "      <td>20.67</td>\n",
       "      <td>20.27</td>\n",
       "      <td>19.75</td>\n",
       "      <td>19.91</td>\n",
       "      <td>NaN</td>\n",
       "    </tr>\n",
       "    <tr>\n",
       "      <th>138</th>\n",
       "      <td>2019</td>\n",
       "      <td>8</td>\n",
       "      <td>20.43</td>\n",
       "      <td>20.41</td>\n",
       "      <td>18.54</td>\n",
       "      <td>18.42</td>\n",
       "      <td>18.93</td>\n",
       "      <td>19.32</td>\n",
       "      <td>19.08</td>\n",
       "      <td>19.08</td>\n",
       "      <td>19.03</td>\n",
       "      <td>19.14</td>\n",
       "      <td>18.31</td>\n",
       "      <td>19.43</td>\n",
       "      <td>19.64</td>\n",
       "      <td>20.15</td>\n",
       "      <td>19.57</td>\n",
       "      <td>18.80</td>\n",
       "      <td>19.06</td>\n",
       "      <td>NaN</td>\n",
       "    </tr>\n",
       "    <tr>\n",
       "      <th>139</th>\n",
       "      <td>2020</td>\n",
       "      <td>8</td>\n",
       "      <td>21.10</td>\n",
       "      <td>21.08</td>\n",
       "      <td>19.43</td>\n",
       "      <td>18.93</td>\n",
       "      <td>20.01</td>\n",
       "      <td>19.92</td>\n",
       "      <td>20.16</td>\n",
       "      <td>20.16</td>\n",
       "      <td>20.38</td>\n",
       "      <td>20.56</td>\n",
       "      <td>19.55</td>\n",
       "      <td>20.94</td>\n",
       "      <td>20.22</td>\n",
       "      <td>20.97</td>\n",
       "      <td>20.38</td>\n",
       "      <td>19.63</td>\n",
       "      <td>19.95</td>\n",
       "      <td>NaN</td>\n",
       "    </tr>\n",
       "    <tr>\n",
       "      <th>140</th>\n",
       "      <td>2021</td>\n",
       "      <td>8</td>\n",
       "      <td>17.26</td>\n",
       "      <td>17.24</td>\n",
       "      <td>16.24</td>\n",
       "      <td>15.93</td>\n",
       "      <td>16.13</td>\n",
       "      <td>16.65</td>\n",
       "      <td>16.62</td>\n",
       "      <td>16.62</td>\n",
       "      <td>16.42</td>\n",
       "      <td>16.43</td>\n",
       "      <td>16.36</td>\n",
       "      <td>16.72</td>\n",
       "      <td>16.28</td>\n",
       "      <td>17.03</td>\n",
       "      <td>16.45</td>\n",
       "      <td>15.69</td>\n",
       "      <td>16.40</td>\n",
       "      <td>NaN</td>\n",
       "    </tr>\n",
       "  </tbody>\n",
       "</table>\n",
       "<p>141 rows × 20 columns</p>\n",
       "</div>"
      ],
      "text/plain": [
       "     Jahr  Monat  Brandenburg/Berlin  Brandenburg  Baden-Wuerttemberg  Bayern  \\\n",
       "0    1881      8               16.48        16.47               16.70   16.11   \n",
       "1    1882      8               15.89        15.88               14.84   14.03   \n",
       "2    1883      8               16.90        16.89               15.89   15.16   \n",
       "3    1884      8               17.54        17.52               17.27   16.24   \n",
       "4    1885      8               15.18        15.18               15.32   14.56   \n",
       "..    ...    ...                 ...          ...                 ...     ...   \n",
       "136  2017      8               18.55        18.53               18.40   18.22   \n",
       "137  2018      8               20.94        20.92               20.00   19.91   \n",
       "138  2019      8               20.43        20.41               18.54   18.42   \n",
       "139  2020      8               21.10        21.08               19.43   18.93   \n",
       "140  2021      8               17.26        17.24               16.24   15.93   \n",
       "\n",
       "     Hessen  Mecklenburg-Vorpommern  Niedersachsen  \\\n",
       "0     15.80                   15.37          15.42   \n",
       "1     14.63                   15.73          15.14   \n",
       "2     15.90                   15.98          15.97   \n",
       "3     16.97                   17.05          17.23   \n",
       "4     14.27                   14.36          14.12   \n",
       "..      ...                     ...            ...   \n",
       "136   17.57                   17.62          17.15   \n",
       "137   19.95                   19.73          19.36   \n",
       "138   18.93                   19.32          19.08   \n",
       "139   20.01                   19.92          20.16   \n",
       "140   16.13                   16.65          16.62   \n",
       "\n",
       "     Niedersachsen/Hamburg/Bremen  Nordrhein-Westfalen  Rheinland-Pfalz  \\\n",
       "0                           15.42                15.58            16.14   \n",
       "1                           15.15                15.05            15.05   \n",
       "2                           15.97                16.15            16.13   \n",
       "3                           17.23                17.66            17.57   \n",
       "4                           14.12                14.43            14.73   \n",
       "..                            ...                  ...              ...   \n",
       "136                         17.15                17.44            17.90   \n",
       "137                         19.36                19.57            19.83   \n",
       "138                         19.08                19.03            19.14   \n",
       "139                         20.16                20.38            20.56   \n",
       "140                         16.62                16.42            16.43   \n",
       "\n",
       "     Schleswig-Holstein  Saarland  Sachsen  Sachsen-Anhalt  \\\n",
       "0                 15.16     16.46    15.83           16.08   \n",
       "1                 15.68     15.34    14.36           15.26   \n",
       "2                 15.83     16.44    15.87           16.59   \n",
       "3                 17.06     17.99    16.53           17.25   \n",
       "4                 14.12     15.15    14.51           14.81   \n",
       "..                  ...       ...      ...             ...   \n",
       "136               16.67     18.15    18.34           18.28   \n",
       "137               18.59     19.84    20.68           20.67   \n",
       "138               18.31     19.43    19.64           20.15   \n",
       "139               19.55     20.94    20.22           20.97   \n",
       "140               16.36     16.72    16.28           17.03   \n",
       "\n",
       "     Thueringen/Sachsen-Anhalt  Thueringen  Deutschland  Unnamed: 19  \n",
       "0                        15.70       15.21        15.90          NaN  \n",
       "1                        14.67       13.92        14.89          NaN  \n",
       "2                        16.04       15.36        15.90          NaN  \n",
       "3                        16.71       16.02        17.01          NaN  \n",
       "4                        14.34       13.75        14.56          NaN  \n",
       "..                         ...         ...          ...          ...  \n",
       "136                      17.98       17.60        17.87          NaN  \n",
       "137                      20.27       19.75        19.91          NaN  \n",
       "138                      19.57       18.80        19.06          NaN  \n",
       "139                      20.38       19.63        19.95          NaN  \n",
       "140                      16.45       15.69        16.40          NaN  \n",
       "\n",
       "[141 rows x 20 columns]"
      ]
     },
     "metadata": {},
     "output_type": "display_data"
    },
    {
     "name": "stdout",
     "output_type": "stream",
     "text": [
      "\n",
      "---------------------------------------------------------------------------------\n",
      "Dataset sunspots11000yrs ['sunspots']\n",
      "\n"
     ]
    },
    {
     "data": {
      "text/html": [
       "description: Records of changes in solar irradiance, volcanic aerosols, atmospheric trace gases, and other properties thought to influence climate in the past. Parameter keywords describe what was measured in this data set. Additional summary information can be found in the abstracts of papers listed in the data set citations."
      ],
      "text/plain": [
       "<IPython.core.display.HTML object>"
      ]
     },
     "metadata": {},
     "output_type": "display_data"
    },
    {
     "data": {
      "text/html": [
       "authors: ['Solanki, S.K.', 'Usoskin, I.G.', 'Kromer, B.', 'Schuessler, M.', 'Beer, J.']"
      ],
      "text/plain": [
       "<IPython.core.display.HTML object>"
      ]
     },
     "metadata": {},
     "output_type": "display_data"
    },
    {
     "data": {
      "text/html": [
       "publication_date: 2004-10-28"
      ],
      "text/plain": [
       "<IPython.core.display.HTML object>"
      ]
     },
     "metadata": {},
     "output_type": "display_data"
    },
    {
     "data": {
      "text/html": [
       "last_update: 2005-02"
      ],
      "text/plain": [
       "<IPython.core.display.HTML object>"
      ]
     },
     "metadata": {},
     "output_type": "display_data"
    },
    {
     "data": {
      "text/html": [
       "publisher: Environmental Research Letters, 11, 2, 024001"
      ],
      "text/plain": [
       "<IPython.core.display.HTML object>"
      ]
     },
     "metadata": {},
     "output_type": "display_data"
    },
    {
     "data": {
      "text/html": [
       "id: https://doi.org/10.25921/y6td-ne29"
      ],
      "text/plain": [
       "<IPython.core.display.HTML object>"
      ]
     },
     "metadata": {},
     "output_type": "display_data"
    },
    {
     "data": {
      "text/html": [
       "version: "
      ],
      "text/plain": [
       "<IPython.core.display.HTML object>"
      ]
     },
     "metadata": {},
     "output_type": "display_data"
    },
    {
     "data": {
      "text/html": [
       "data_source: https://www.ncei.noaa.gov/pub/data/paleo/climate_forcing/solar_variability/solanki2004-ssn.txt"
      ],
      "text/plain": [
       "<IPython.core.display.HTML object>"
      ]
     },
     "metadata": {},
     "output_type": "display_data"
    },
    {
     "data": {
      "text/html": [
       "related_publications: ['https://www.ncei.noaa.gov/access/paleo-search/study/5780']"
      ],
      "text/plain": [
       "<IPython.core.display.HTML object>"
      ]
     },
     "metadata": {},
     "output_type": "display_data"
    },
    {
     "data": {
      "text/html": [
       "<div>\n",
       "<style scoped>\n",
       "    .dataframe tbody tr th:only-of-type {\n",
       "        vertical-align: middle;\n",
       "    }\n",
       "\n",
       "    .dataframe tbody tr th {\n",
       "        vertical-align: top;\n",
       "    }\n",
       "\n",
       "    .dataframe thead th {\n",
       "        text-align: right;\n",
       "    }\n",
       "</style>\n",
       "<table border=\"1\" class=\"dataframe\">\n",
       "  <thead>\n",
       "    <tr style=\"text-align: right;\">\n",
       "      <th></th>\n",
       "      <th>YearBP</th>\n",
       "      <th>SN</th>\n",
       "      <th>sigma</th>\n",
       "    </tr>\n",
       "  </thead>\n",
       "  <tbody>\n",
       "    <tr>\n",
       "      <th>0</th>\n",
       "      <td>11405</td>\n",
       "      <td>37.4</td>\n",
       "      <td>20.7</td>\n",
       "    </tr>\n",
       "    <tr>\n",
       "      <th>1</th>\n",
       "      <td>11395</td>\n",
       "      <td>57.1</td>\n",
       "      <td>20.1</td>\n",
       "    </tr>\n",
       "    <tr>\n",
       "      <th>2</th>\n",
       "      <td>11385</td>\n",
       "      <td>89.0</td>\n",
       "      <td>32.1</td>\n",
       "    </tr>\n",
       "    <tr>\n",
       "      <th>3</th>\n",
       "      <td>11375</td>\n",
       "      <td>92.5</td>\n",
       "      <td>34.5</td>\n",
       "    </tr>\n",
       "    <tr>\n",
       "      <th>4</th>\n",
       "      <td>11365</td>\n",
       "      <td>75.2</td>\n",
       "      <td>29.9</td>\n",
       "    </tr>\n",
       "    <tr>\n",
       "      <th>...</th>\n",
       "      <td>...</td>\n",
       "      <td>...</td>\n",
       "      <td>...</td>\n",
       "    </tr>\n",
       "    <tr>\n",
       "      <th>1131</th>\n",
       "      <td>95</td>\n",
       "      <td>48.7</td>\n",
       "      <td>8.5</td>\n",
       "    </tr>\n",
       "    <tr>\n",
       "      <th>1132</th>\n",
       "      <td>85</td>\n",
       "      <td>55.0</td>\n",
       "      <td>12.7</td>\n",
       "    </tr>\n",
       "    <tr>\n",
       "      <th>1133</th>\n",
       "      <td>75</td>\n",
       "      <td>40.0</td>\n",
       "      <td>13.3</td>\n",
       "    </tr>\n",
       "    <tr>\n",
       "      <th>1134</th>\n",
       "      <td>65</td>\n",
       "      <td>27.0</td>\n",
       "      <td>9.4</td>\n",
       "    </tr>\n",
       "    <tr>\n",
       "      <th>1135</th>\n",
       "      <td>55</td>\n",
       "      <td>28.7</td>\n",
       "      <td>9.9</td>\n",
       "    </tr>\n",
       "  </tbody>\n",
       "</table>\n",
       "<p>1136 rows × 3 columns</p>\n",
       "</div>"
      ],
      "text/plain": [
       "      YearBP    SN  sigma\n",
       "0      11405  37.4   20.7\n",
       "1      11395  57.1   20.1\n",
       "2      11385  89.0   32.1\n",
       "3      11375  92.5   34.5\n",
       "4      11365  75.2   29.9\n",
       "...      ...   ...    ...\n",
       "1131      95  48.7    8.5\n",
       "1132      85  55.0   12.7\n",
       "1133      75  40.0   13.3\n",
       "1134      65  27.0    9.4\n",
       "1135      55  28.7    9.9\n",
       "\n",
       "[1136 rows x 3 columns]"
      ]
     },
     "metadata": {},
     "output_type": "display_data"
    },
    {
     "name": "stdout",
     "output_type": "stream",
     "text": [
      "\n",
      "---------------------------------------------------------------------------------\n",
      "Dataset gisp2icecoretemp ['temperature', 'icecore', 'greenland']\n",
      "\n"
     ]
    },
    {
     "data": {
      "text/html": [
       "description: Greenland icecore temperature 49KYrBP - present. Temperature interpretation based on stable isotope analysis, and ice accumulation data, from the GISP2 ice core, central Greenland. Data are smoothed from original measurements published by Cuffey and Clow (1997), as presented in Figure 1 of Alley (2000)."
      ],
      "text/plain": [
       "<IPython.core.display.HTML object>"
      ]
     },
     "metadata": {},
     "output_type": "display_data"
    },
    {
     "data": {
      "text/html": [
       "authors: ['Alley, R.B.']"
      ],
      "text/plain": [
       "<IPython.core.display.HTML object>"
      ]
     },
     "metadata": {},
     "output_type": "display_data"
    },
    {
     "data": {
      "text/html": [
       "publication_date: 2000"
      ],
      "text/plain": [
       "<IPython.core.display.HTML object>"
      ]
     },
     "metadata": {},
     "output_type": "display_data"
    },
    {
     "data": {
      "text/html": [
       "last_update: 2004-03"
      ],
      "text/plain": [
       "<IPython.core.display.HTML object>"
      ]
     },
     "metadata": {},
     "output_type": "display_data"
    },
    {
     "data": {
      "text/html": [
       "publisher: IGBP PAGES/World Data Center for Paleoclimatology"
      ],
      "text/plain": [
       "<IPython.core.display.HTML object>"
      ]
     },
     "metadata": {},
     "output_type": "display_data"
    },
    {
     "data": {
      "text/html": [
       "id: Quaternary Science Reviews 19:213-226."
      ],
      "text/plain": [
       "<IPython.core.display.HTML object>"
      ]
     },
     "metadata": {},
     "output_type": "display_data"
    },
    {
     "data": {
      "text/html": [
       "version: "
      ],
      "text/plain": [
       "<IPython.core.display.HTML object>"
      ]
     },
     "metadata": {},
     "output_type": "display_data"
    },
    {
     "data": {
      "text/html": [
       "data_source: ftp://ftp.ncdc.noaa.gov/pub/data/paleo/icecore/greenland/summit/gisp2/isotopes/gisp2_temp_accum_alley2000.txt"
      ],
      "text/plain": [
       "<IPython.core.display.HTML object>"
      ]
     },
     "metadata": {},
     "output_type": "display_data"
    },
    {
     "data": {
      "text/html": [
       "related_publications: ['https://www.pnas.org/doi/10.1073/pnas.97.4.1331']"
      ],
      "text/plain": [
       "<IPython.core.display.HTML object>"
      ]
     },
     "metadata": {},
     "output_type": "display_data"
    },
    {
     "data": {
      "text/html": [
       "<div>\n",
       "<style scoped>\n",
       "    .dataframe tbody tr th:only-of-type {\n",
       "        vertical-align: middle;\n",
       "    }\n",
       "\n",
       "    .dataframe tbody tr th {\n",
       "        vertical-align: top;\n",
       "    }\n",
       "\n",
       "    .dataframe thead th {\n",
       "        text-align: right;\n",
       "    }\n",
       "</style>\n",
       "<table border=\"1\" class=\"dataframe\">\n",
       "  <thead>\n",
       "    <tr style=\"text-align: right;\">\n",
       "      <th></th>\n",
       "      <th>Age</th>\n",
       "      <th>Temperature</th>\n",
       "      <th>(C)</th>\n",
       "    </tr>\n",
       "  </thead>\n",
       "  <tbody>\n",
       "    <tr>\n",
       "      <th>0</th>\n",
       "      <td>0.095141</td>\n",
       "      <td>-31.5913</td>\n",
       "      <td>NaN</td>\n",
       "    </tr>\n",
       "    <tr>\n",
       "      <th>1</th>\n",
       "      <td>0.107130</td>\n",
       "      <td>-31.6220</td>\n",
       "      <td>NaN</td>\n",
       "    </tr>\n",
       "    <tr>\n",
       "      <th>2</th>\n",
       "      <td>0.113149</td>\n",
       "      <td>-31.6026</td>\n",
       "      <td>NaN</td>\n",
       "    </tr>\n",
       "    <tr>\n",
       "      <th>3</th>\n",
       "      <td>0.119205</td>\n",
       "      <td>-31.6002</td>\n",
       "      <td>NaN</td>\n",
       "    </tr>\n",
       "    <tr>\n",
       "      <th>4</th>\n",
       "      <td>0.119205</td>\n",
       "      <td>-31.5980</td>\n",
       "      <td>NaN</td>\n",
       "    </tr>\n",
       "    <tr>\n",
       "      <th>...</th>\n",
       "      <td>...</td>\n",
       "      <td>...</td>\n",
       "      <td>...</td>\n",
       "    </tr>\n",
       "    <tr>\n",
       "      <th>1627</th>\n",
       "      <td>49.746000</td>\n",
       "      <td>-40.5505</td>\n",
       "      <td>NaN</td>\n",
       "    </tr>\n",
       "    <tr>\n",
       "      <th>1628</th>\n",
       "      <td>49.806000</td>\n",
       "      <td>-40.2651</td>\n",
       "      <td>NaN</td>\n",
       "    </tr>\n",
       "    <tr>\n",
       "      <th>1629</th>\n",
       "      <td>49.868000</td>\n",
       "      <td>-40.1018</td>\n",
       "      <td>NaN</td>\n",
       "    </tr>\n",
       "    <tr>\n",
       "      <th>1630</th>\n",
       "      <td>49.922000</td>\n",
       "      <td>-39.8165</td>\n",
       "      <td>NaN</td>\n",
       "    </tr>\n",
       "    <tr>\n",
       "      <th>1631</th>\n",
       "      <td>49.981000</td>\n",
       "      <td>-39.9694</td>\n",
       "      <td>NaN</td>\n",
       "    </tr>\n",
       "  </tbody>\n",
       "</table>\n",
       "<p>1632 rows × 3 columns</p>\n",
       "</div>"
      ],
      "text/plain": [
       "            Age  Temperature  (C)\n",
       "0      0.095141     -31.5913  NaN\n",
       "1      0.107130     -31.6220  NaN\n",
       "2      0.113149     -31.6026  NaN\n",
       "3      0.119205     -31.6002  NaN\n",
       "4      0.119205     -31.5980  NaN\n",
       "...         ...          ...  ...\n",
       "1627  49.746000     -40.5505  NaN\n",
       "1628  49.806000     -40.2651  NaN\n",
       "1629  49.868000     -40.1018  NaN\n",
       "1630  49.922000     -39.8165  NaN\n",
       "1631  49.981000     -39.9694  NaN\n",
       "\n",
       "[1632 rows x 3 columns]"
      ]
     },
     "metadata": {},
     "output_type": "display_data"
    },
    {
     "name": "stdout",
     "output_type": "stream",
     "text": [
      "\n",
      "---------------------------------------------------------------------------------\n",
      "Dataset gisp2icecoreaccum ['temperature', 'icecore', 'greenland']\n",
      "\n"
     ]
    },
    {
     "data": {
      "text/html": [
       "description: Greenland icecore temperature 49KYrBP - present. Temperature interpretation based on stable isotope analysis, and ice accumulation data, from the GISP2 ice core, central Greenland. Data are smoothed from original measurements published by Cuffey and Clow (1997), as presented in Figure 1 of Alley (2000)."
      ],
      "text/plain": [
       "<IPython.core.display.HTML object>"
      ]
     },
     "metadata": {},
     "output_type": "display_data"
    },
    {
     "data": {
      "text/html": [
       "authors: ['Alley, R.B.']"
      ],
      "text/plain": [
       "<IPython.core.display.HTML object>"
      ]
     },
     "metadata": {},
     "output_type": "display_data"
    },
    {
     "data": {
      "text/html": [
       "publication_date: 2000"
      ],
      "text/plain": [
       "<IPython.core.display.HTML object>"
      ]
     },
     "metadata": {},
     "output_type": "display_data"
    },
    {
     "data": {
      "text/html": [
       "last_update: 2004-03"
      ],
      "text/plain": [
       "<IPython.core.display.HTML object>"
      ]
     },
     "metadata": {},
     "output_type": "display_data"
    },
    {
     "data": {
      "text/html": [
       "publisher: IGBP PAGES/World Data Center for Paleoclimatology"
      ],
      "text/plain": [
       "<IPython.core.display.HTML object>"
      ]
     },
     "metadata": {},
     "output_type": "display_data"
    },
    {
     "data": {
      "text/html": [
       "id: Quaternary Science Reviews 19:213-226."
      ],
      "text/plain": [
       "<IPython.core.display.HTML object>"
      ]
     },
     "metadata": {},
     "output_type": "display_data"
    },
    {
     "data": {
      "text/html": [
       "version: "
      ],
      "text/plain": [
       "<IPython.core.display.HTML object>"
      ]
     },
     "metadata": {},
     "output_type": "display_data"
    },
    {
     "data": {
      "text/html": [
       "data_source: ftp://ftp.ncdc.noaa.gov/pub/data/paleo/icecore/greenland/summit/gisp2/isotopes/gisp2_temp_accum_alley2000.txt"
      ],
      "text/plain": [
       "<IPython.core.display.HTML object>"
      ]
     },
     "metadata": {},
     "output_type": "display_data"
    },
    {
     "data": {
      "text/html": [
       "related_publications: ['https://www.pnas.org/doi/10.1073/pnas.97.4.1331']"
      ],
      "text/plain": [
       "<IPython.core.display.HTML object>"
      ]
     },
     "metadata": {},
     "output_type": "display_data"
    },
    {
     "data": {
      "text/html": [
       "<div>\n",
       "<style scoped>\n",
       "    .dataframe tbody tr th:only-of-type {\n",
       "        vertical-align: middle;\n",
       "    }\n",
       "\n",
       "    .dataframe tbody tr th {\n",
       "        vertical-align: top;\n",
       "    }\n",
       "\n",
       "    .dataframe thead th {\n",
       "        text-align: right;\n",
       "    }\n",
       "</style>\n",
       "<table border=\"1\" class=\"dataframe\">\n",
       "  <thead>\n",
       "    <tr style=\"text-align: right;\">\n",
       "      <th></th>\n",
       "      <th>Age</th>\n",
       "      <th>Accumulation</th>\n",
       "    </tr>\n",
       "  </thead>\n",
       "  <tbody>\n",
       "    <tr>\n",
       "      <th>0</th>\n",
       "      <td>0.144043</td>\n",
       "      <td>0.244106</td>\n",
       "    </tr>\n",
       "    <tr>\n",
       "      <th>1</th>\n",
       "      <td>0.172852</td>\n",
       "      <td>0.246155</td>\n",
       "    </tr>\n",
       "    <tr>\n",
       "      <th>2</th>\n",
       "      <td>0.201660</td>\n",
       "      <td>0.248822</td>\n",
       "    </tr>\n",
       "    <tr>\n",
       "      <th>3</th>\n",
       "      <td>0.230469</td>\n",
       "      <td>0.249856</td>\n",
       "    </tr>\n",
       "    <tr>\n",
       "      <th>4</th>\n",
       "      <td>0.259277</td>\n",
       "      <td>0.249943</td>\n",
       "    </tr>\n",
       "    <tr>\n",
       "      <th>...</th>\n",
       "      <td>...</td>\n",
       "      <td>...</td>\n",
       "    </tr>\n",
       "    <tr>\n",
       "      <th>1692</th>\n",
       "      <td>48.888200</td>\n",
       "      <td>0.092122</td>\n",
       "    </tr>\n",
       "    <tr>\n",
       "      <th>1693</th>\n",
       "      <td>48.917000</td>\n",
       "      <td>0.091968</td>\n",
       "    </tr>\n",
       "    <tr>\n",
       "      <th>1694</th>\n",
       "      <td>48.945800</td>\n",
       "      <td>0.091857</td>\n",
       "    </tr>\n",
       "    <tr>\n",
       "      <th>1695</th>\n",
       "      <td>48.974600</td>\n",
       "      <td>0.091739</td>\n",
       "    </tr>\n",
       "    <tr>\n",
       "      <th>1696</th>\n",
       "      <td>49.003400</td>\n",
       "      <td>0.091599</td>\n",
       "    </tr>\n",
       "  </tbody>\n",
       "</table>\n",
       "<p>1697 rows × 2 columns</p>\n",
       "</div>"
      ],
      "text/plain": [
       "            Age  Accumulation\n",
       "0      0.144043      0.244106\n",
       "1      0.172852      0.246155\n",
       "2      0.201660      0.248822\n",
       "3      0.230469      0.249856\n",
       "4      0.259277      0.249943\n",
       "...         ...           ...\n",
       "1692  48.888200      0.092122\n",
       "1693  48.917000      0.091968\n",
       "1694  48.945800      0.091857\n",
       "1695  48.974600      0.091739\n",
       "1696  49.003400      0.091599\n",
       "\n",
       "[1697 rows x 2 columns]"
      ]
     },
     "metadata": {},
     "output_type": "display_data"
    },
    {
     "name": "stdout",
     "output_type": "stream",
     "text": [
      "\n",
      "---------------------------------------------------------------------------------\n",
      "Dataset geologictimescale ['time_interval_names']\n",
      "\n"
     ]
    },
    {
     "data": {
      "text/html": [
       "description: The geologic time scale, or geological time scale, (GTS) is a representation of time based on the rock record of Earth. It is a system of chronological dating that uses chronostratigraphy (the process of relating strata to time) and geochronology (scientific branch of geology that aims to determine the age of rocks)."
      ],
      "text/plain": [
       "<IPython.core.display.HTML object>"
      ]
     },
     "metadata": {},
     "output_type": "display_data"
    },
    {
     "data": {
      "text/html": [
       "authors: ['Wikipedia']"
      ],
      "text/plain": [
       "<IPython.core.display.HTML object>"
      ]
     },
     "metadata": {},
     "output_type": "display_data"
    },
    {
     "data": {
      "text/html": [
       "publication_date: 2022"
      ],
      "text/plain": [
       "<IPython.core.display.HTML object>"
      ]
     },
     "metadata": {},
     "output_type": "display_data"
    },
    {
     "data": {
      "text/html": [
       "last_update: 2022"
      ],
      "text/plain": [
       "<IPython.core.display.HTML object>"
      ]
     },
     "metadata": {},
     "output_type": "display_data"
    },
    {
     "data": {
      "text/html": [
       "publisher: Wikipedia"
      ],
      "text/plain": [
       "<IPython.core.display.HTML object>"
      ]
     },
     "metadata": {},
     "output_type": "display_data"
    },
    {
     "data": {
      "text/html": [
       "id: "
      ],
      "text/plain": [
       "<IPython.core.display.HTML object>"
      ]
     },
     "metadata": {},
     "output_type": "display_data"
    },
    {
     "data": {
      "text/html": [
       "version: "
      ],
      "text/plain": [
       "<IPython.core.display.HTML object>"
      ]
     },
     "metadata": {},
     "output_type": "display_data"
    },
    {
     "data": {
      "text/html": [
       "data_source: https://en.wikipedia.org/wiki/Geologic_time_scale"
      ],
      "text/plain": [
       "<IPython.core.display.HTML object>"
      ]
     },
     "metadata": {},
     "output_type": "display_data"
    },
    {
     "data": {
      "text/html": [
       "related_publications: ['https://en.wikipedia.org/wiki/Geologic_time_scale']"
      ],
      "text/plain": [
       "<IPython.core.display.HTML object>"
      ]
     },
     "metadata": {},
     "output_type": "display_data"
    },
    {
     "data": {
      "text/html": [
       "<div>\n",
       "<style scoped>\n",
       "    .dataframe tbody tr th:only-of-type {\n",
       "        vertical-align: middle;\n",
       "    }\n",
       "\n",
       "    .dataframe tbody tr th {\n",
       "        vertical-align: top;\n",
       "    }\n",
       "\n",
       "    .dataframe thead th {\n",
       "        text-align: right;\n",
       "    }\n",
       "</style>\n",
       "<table border=\"1\" class=\"dataframe\">\n",
       "  <thead>\n",
       "    <tr style=\"text-align: right;\">\n",
       "      <th></th>\n",
       "      <th>Eonothem/Eon</th>\n",
       "      <th>Erathem/Era</th>\n",
       "      <th>System/Period</th>\n",
       "      <th>Series/Epoch</th>\n",
       "      <th>Stage/Age</th>\n",
       "      <th>Major events</th>\n",
       "      <th>Start, million years ago[note 7]</th>\n",
       "    </tr>\n",
       "  </thead>\n",
       "  <tbody>\n",
       "    <tr>\n",
       "      <th>0</th>\n",
       "      <td>Phanerozoic</td>\n",
       "      <td>Cenozoic[note 4]</td>\n",
       "      <td>Quaternary</td>\n",
       "      <td>Holocene</td>\n",
       "      <td>Meghalayan</td>\n",
       "      <td>4.2-kiloyear event, Austronesian expansion, in...</td>\n",
       "      <td>0.0042 *</td>\n",
       "    </tr>\n",
       "    <tr>\n",
       "      <th>1</th>\n",
       "      <td>Phanerozoic</td>\n",
       "      <td>Cenozoic[note 4]</td>\n",
       "      <td>Quaternary</td>\n",
       "      <td>Holocene</td>\n",
       "      <td>Northgrippian</td>\n",
       "      <td>8.2-kiloyear event, Holocene climatic optimum....</td>\n",
       "      <td>0.0082 *</td>\n",
       "    </tr>\n",
       "    <tr>\n",
       "      <th>2</th>\n",
       "      <td>Phanerozoic</td>\n",
       "      <td>Cenozoic[note 4]</td>\n",
       "      <td>Quaternary</td>\n",
       "      <td>Holocene</td>\n",
       "      <td>Greenlandian</td>\n",
       "      <td>Climate stabilizes. Current interglacial and H...</td>\n",
       "      <td>0.0117 ± 0.000099 *</td>\n",
       "    </tr>\n",
       "    <tr>\n",
       "      <th>3</th>\n",
       "      <td>Phanerozoic</td>\n",
       "      <td>Cenozoic[note 4]</td>\n",
       "      <td>Quaternary</td>\n",
       "      <td>Pleistocene</td>\n",
       "      <td>Upper/Late ('Tarantian')</td>\n",
       "      <td>Eemian interglacial, last glacial period, endi...</td>\n",
       "      <td>0.129</td>\n",
       "    </tr>\n",
       "    <tr>\n",
       "      <th>4</th>\n",
       "      <td>Phanerozoic</td>\n",
       "      <td>Cenozoic[note 4]</td>\n",
       "      <td>Quaternary</td>\n",
       "      <td>Pleistocene</td>\n",
       "      <td>Chibanian</td>\n",
       "      <td>Mid-Pleistocene Transition occurs, high amplit...</td>\n",
       "      <td>0.774 *</td>\n",
       "    </tr>\n",
       "    <tr>\n",
       "      <th>...</th>\n",
       "      <td>...</td>\n",
       "      <td>...</td>\n",
       "      <td>...</td>\n",
       "      <td>...</td>\n",
       "      <td>...</td>\n",
       "      <td>...</td>\n",
       "      <td>...</td>\n",
       "    </tr>\n",
       "    <tr>\n",
       "      <th>112</th>\n",
       "      <td>Archean</td>\n",
       "      <td>Neoarchean</td>\n",
       "      <td>Stabilization of most modern cratons; possible...</td>\n",
       "      <td>Stabilization of most modern cratons; possible...</td>\n",
       "      <td>Stabilization of most modern cratons; possible...</td>\n",
       "      <td>Stabilization of most modern cratons; possible...</td>\n",
       "      <td>2800 [note 11]</td>\n",
       "    </tr>\n",
       "    <tr>\n",
       "      <th>113</th>\n",
       "      <td>Archean</td>\n",
       "      <td>Mesoarchean</td>\n",
       "      <td>First stromatolites (probably colonial phototr...</td>\n",
       "      <td>First stromatolites (probably colonial phototr...</td>\n",
       "      <td>First stromatolites (probably colonial phototr...</td>\n",
       "      <td>First stromatolites (probably colonial phototr...</td>\n",
       "      <td>3200 [note 11]</td>\n",
       "    </tr>\n",
       "    <tr>\n",
       "      <th>114</th>\n",
       "      <td>Archean</td>\n",
       "      <td>Paleoarchean</td>\n",
       "      <td>Prokaryotic archaea (e.g. methanogens) and bac...</td>\n",
       "      <td>Prokaryotic archaea (e.g. methanogens) and bac...</td>\n",
       "      <td>Prokaryotic archaea (e.g. methanogens) and bac...</td>\n",
       "      <td>Prokaryotic archaea (e.g. methanogens) and bac...</td>\n",
       "      <td>3600 [note 11]</td>\n",
       "    </tr>\n",
       "    <tr>\n",
       "      <th>115</th>\n",
       "      <td>Archean</td>\n",
       "      <td>Eoarchean</td>\n",
       "      <td>First uncontroversial living organisms: at fir...</td>\n",
       "      <td>First uncontroversial living organisms: at fir...</td>\n",
       "      <td>First uncontroversial living organisms: at fir...</td>\n",
       "      <td>First uncontroversial living organisms: at fir...</td>\n",
       "      <td>4000 [note 11]</td>\n",
       "    </tr>\n",
       "    <tr>\n",
       "      <th>116</th>\n",
       "      <td>Hadean[note 13]</td>\n",
       "      <td>Formation of protolith of the oldest known roc...</td>\n",
       "      <td>Formation of protolith of the oldest known roc...</td>\n",
       "      <td>Formation of protolith of the oldest known roc...</td>\n",
       "      <td>Formation of protolith of the oldest known roc...</td>\n",
       "      <td>Formation of protolith of the oldest known roc...</td>\n",
       "      <td>~4600 [note 11]</td>\n",
       "    </tr>\n",
       "  </tbody>\n",
       "</table>\n",
       "<p>117 rows × 7 columns</p>\n",
       "</div>"
      ],
      "text/plain": [
       "        Eonothem/Eon                                        Erathem/Era  \\\n",
       "0        Phanerozoic                                   Cenozoic[note 4]   \n",
       "1        Phanerozoic                                   Cenozoic[note 4]   \n",
       "2        Phanerozoic                                   Cenozoic[note 4]   \n",
       "3        Phanerozoic                                   Cenozoic[note 4]   \n",
       "4        Phanerozoic                                   Cenozoic[note 4]   \n",
       "..               ...                                                ...   \n",
       "112          Archean                                         Neoarchean   \n",
       "113          Archean                                        Mesoarchean   \n",
       "114          Archean                                       Paleoarchean   \n",
       "115          Archean                                          Eoarchean   \n",
       "116  Hadean[note 13]  Formation of protolith of the oldest known roc...   \n",
       "\n",
       "                                         System/Period  \\\n",
       "0                                           Quaternary   \n",
       "1                                           Quaternary   \n",
       "2                                           Quaternary   \n",
       "3                                           Quaternary   \n",
       "4                                           Quaternary   \n",
       "..                                                 ...   \n",
       "112  Stabilization of most modern cratons; possible...   \n",
       "113  First stromatolites (probably colonial phototr...   \n",
       "114  Prokaryotic archaea (e.g. methanogens) and bac...   \n",
       "115  First uncontroversial living organisms: at fir...   \n",
       "116  Formation of protolith of the oldest known roc...   \n",
       "\n",
       "                                          Series/Epoch  \\\n",
       "0                                             Holocene   \n",
       "1                                             Holocene   \n",
       "2                                             Holocene   \n",
       "3                                          Pleistocene   \n",
       "4                                          Pleistocene   \n",
       "..                                                 ...   \n",
       "112  Stabilization of most modern cratons; possible...   \n",
       "113  First stromatolites (probably colonial phototr...   \n",
       "114  Prokaryotic archaea (e.g. methanogens) and bac...   \n",
       "115  First uncontroversial living organisms: at fir...   \n",
       "116  Formation of protolith of the oldest known roc...   \n",
       "\n",
       "                                             Stage/Age  \\\n",
       "0                                           Meghalayan   \n",
       "1                                        Northgrippian   \n",
       "2                                         Greenlandian   \n",
       "3                             Upper/Late ('Tarantian')   \n",
       "4                                            Chibanian   \n",
       "..                                                 ...   \n",
       "112  Stabilization of most modern cratons; possible...   \n",
       "113  First stromatolites (probably colonial phototr...   \n",
       "114  Prokaryotic archaea (e.g. methanogens) and bac...   \n",
       "115  First uncontroversial living organisms: at fir...   \n",
       "116  Formation of protolith of the oldest known roc...   \n",
       "\n",
       "                                          Major events  \\\n",
       "0    4.2-kiloyear event, Austronesian expansion, in...   \n",
       "1    8.2-kiloyear event, Holocene climatic optimum....   \n",
       "2    Climate stabilizes. Current interglacial and H...   \n",
       "3    Eemian interglacial, last glacial period, endi...   \n",
       "4    Mid-Pleistocene Transition occurs, high amplit...   \n",
       "..                                                 ...   \n",
       "112  Stabilization of most modern cratons; possible...   \n",
       "113  First stromatolites (probably colonial phototr...   \n",
       "114  Prokaryotic archaea (e.g. methanogens) and bac...   \n",
       "115  First uncontroversial living organisms: at fir...   \n",
       "116  Formation of protolith of the oldest known roc...   \n",
       "\n",
       "    Start, million years ago[note 7]  \n",
       "0                           0.0042 *  \n",
       "1                           0.0082 *  \n",
       "2                0.0117 ± 0.000099 *  \n",
       "3                              0.129  \n",
       "4                            0.774 *  \n",
       "..                               ...  \n",
       "112                   2800 [note 11]  \n",
       "113                   3200 [note 11]  \n",
       "114                   3600 [note 11]  \n",
       "115                   4000 [note 11]  \n",
       "116                  ~4600 [note 11]  \n",
       "\n",
       "[117 rows x 7 columns]"
      ]
     },
     "metadata": {},
     "output_type": "display_data"
    },
    {
     "name": "stdout",
     "output_type": "stream",
     "text": [
      "\n",
      "---------------------------------------------------------------------------------\n",
      "Dataset sunspotsmonthlymean1749 ['sunspots', 'direct_measurement']\n",
      "\n"
     ]
    },
    {
     "data": {
      "text/html": [
       "description: Monthly mean total sunspot number obtained by taking a simple arithmetic mean of the daily total sunspot number over all days of each calendar month. Monthly means are available only since 1749 because the original observations compiled by Rudolph Wolf were too sparse before that year. (Only yearly means are available back to 1700) A value of -1 indicates that no number is available (missing value)."
      ],
      "text/plain": [
       "<IPython.core.display.HTML object>"
      ]
     },
     "metadata": {},
     "output_type": "display_data"
    },
    {
     "data": {
      "text/html": [
       "authors: ['Rudolph Wolf', 'Royal Observatory of Belgium']"
      ],
      "text/plain": [
       "<IPython.core.display.HTML object>"
      ]
     },
     "metadata": {},
     "output_type": "display_data"
    },
    {
     "data": {
      "text/html": [
       "publication_date: 2022-06"
      ],
      "text/plain": [
       "<IPython.core.display.HTML object>"
      ]
     },
     "metadata": {},
     "output_type": "display_data"
    },
    {
     "data": {
      "text/html": [
       "last_update: 2022-06"
      ],
      "text/plain": [
       "<IPython.core.display.HTML object>"
      ]
     },
     "metadata": {},
     "output_type": "display_data"
    },
    {
     "data": {
      "text/html": [
       "publisher: WDC-SILSO, Royal Observatory of Belgium, Brussels"
      ],
      "text/plain": [
       "<IPython.core.display.HTML object>"
      ]
     },
     "metadata": {},
     "output_type": "display_data"
    },
    {
     "data": {
      "text/html": [
       "id: "
      ],
      "text/plain": [
       "<IPython.core.display.HTML object>"
      ]
     },
     "metadata": {},
     "output_type": "display_data"
    },
    {
     "data": {
      "text/html": [
       "version: "
      ],
      "text/plain": [
       "<IPython.core.display.HTML object>"
      ]
     },
     "metadata": {},
     "output_type": "display_data"
    },
    {
     "data": {
      "text/html": [
       "data_source: https://www.sidc.be/silso/DATA/SN_m_tot_V2.0.txt"
      ],
      "text/plain": [
       "<IPython.core.display.HTML object>"
      ]
     },
     "metadata": {},
     "output_type": "display_data"
    },
    {
     "data": {
      "text/html": [
       "related_publications: ['https://www.sidc.be/silso/infosnmtot']"
      ],
      "text/plain": [
       "<IPython.core.display.HTML object>"
      ]
     },
     "metadata": {},
     "output_type": "display_data"
    },
    {
     "data": {
      "text/html": [
       "<div>\n",
       "<style scoped>\n",
       "    .dataframe tbody tr th:only-of-type {\n",
       "        vertical-align: middle;\n",
       "    }\n",
       "\n",
       "    .dataframe tbody tr th {\n",
       "        vertical-align: top;\n",
       "    }\n",
       "\n",
       "    .dataframe thead th {\n",
       "        text-align: right;\n",
       "    }\n",
       "</style>\n",
       "<table border=\"1\" class=\"dataframe\">\n",
       "  <thead>\n",
       "    <tr style=\"text-align: right;\">\n",
       "      <th></th>\n",
       "      <th>Year</th>\n",
       "      <th>Month</th>\n",
       "      <th>FracYear</th>\n",
       "      <th>MonthlyMean</th>\n",
       "      <th>StdDev</th>\n",
       "      <th>ObsCount</th>\n",
       "    </tr>\n",
       "  </thead>\n",
       "  <tbody>\n",
       "    <tr>\n",
       "      <th>0</th>\n",
       "      <td>1749</td>\n",
       "      <td>1</td>\n",
       "      <td>1749.042</td>\n",
       "      <td>96.7</td>\n",
       "      <td>NaN</td>\n",
       "      <td>NaN</td>\n",
       "    </tr>\n",
       "    <tr>\n",
       "      <th>1</th>\n",
       "      <td>1749</td>\n",
       "      <td>2</td>\n",
       "      <td>1749.123</td>\n",
       "      <td>104.3</td>\n",
       "      <td>NaN</td>\n",
       "      <td>NaN</td>\n",
       "    </tr>\n",
       "    <tr>\n",
       "      <th>2</th>\n",
       "      <td>1749</td>\n",
       "      <td>3</td>\n",
       "      <td>1749.204</td>\n",
       "      <td>116.7</td>\n",
       "      <td>NaN</td>\n",
       "      <td>NaN</td>\n",
       "    </tr>\n",
       "    <tr>\n",
       "      <th>3</th>\n",
       "      <td>1749</td>\n",
       "      <td>4</td>\n",
       "      <td>1749.288</td>\n",
       "      <td>92.8</td>\n",
       "      <td>NaN</td>\n",
       "      <td>NaN</td>\n",
       "    </tr>\n",
       "    <tr>\n",
       "      <th>4</th>\n",
       "      <td>1749</td>\n",
       "      <td>5</td>\n",
       "      <td>1749.371</td>\n",
       "      <td>141.7</td>\n",
       "      <td>NaN</td>\n",
       "      <td>NaN</td>\n",
       "    </tr>\n",
       "    <tr>\n",
       "      <th>...</th>\n",
       "      <td>...</td>\n",
       "      <td>...</td>\n",
       "      <td>...</td>\n",
       "      <td>...</td>\n",
       "      <td>...</td>\n",
       "      <td>...</td>\n",
       "    </tr>\n",
       "    <tr>\n",
       "      <th>3277</th>\n",
       "      <td>2022</td>\n",
       "      <td>2</td>\n",
       "      <td>2022.122</td>\n",
       "      <td>59.7</td>\n",
       "      <td>13.1</td>\n",
       "      <td>1044.0</td>\n",
       "    </tr>\n",
       "    <tr>\n",
       "      <th>3278</th>\n",
       "      <td>2022</td>\n",
       "      <td>3</td>\n",
       "      <td>2022.204</td>\n",
       "      <td>78.5</td>\n",
       "      <td>13.9</td>\n",
       "      <td>1277.0</td>\n",
       "    </tr>\n",
       "    <tr>\n",
       "      <th>3279</th>\n",
       "      <td>2022</td>\n",
       "      <td>4</td>\n",
       "      <td>2022.286</td>\n",
       "      <td>84.1</td>\n",
       "      <td>15.2</td>\n",
       "      <td>1237.0</td>\n",
       "    </tr>\n",
       "    <tr>\n",
       "      <th>3280</th>\n",
       "      <td>2022</td>\n",
       "      <td>5</td>\n",
       "      <td>2022.371</td>\n",
       "      <td>96.5</td>\n",
       "      <td>16.0</td>\n",
       "      <td>1250.0</td>\n",
       "    </tr>\n",
       "    <tr>\n",
       "      <th>3281</th>\n",
       "      <td>2022</td>\n",
       "      <td>6</td>\n",
       "      <td>2022.453</td>\n",
       "      <td>70.5</td>\n",
       "      <td>12.9</td>\n",
       "      <td>1219.0</td>\n",
       "    </tr>\n",
       "  </tbody>\n",
       "</table>\n",
       "<p>3282 rows × 6 columns</p>\n",
       "</div>"
      ],
      "text/plain": [
       "      Year  Month  FracYear  MonthlyMean  StdDev  ObsCount\n",
       "0     1749      1  1749.042         96.7     NaN       NaN\n",
       "1     1749      2  1749.123        104.3     NaN       NaN\n",
       "2     1749      3  1749.204        116.7     NaN       NaN\n",
       "3     1749      4  1749.288         92.8     NaN       NaN\n",
       "4     1749      5  1749.371        141.7     NaN       NaN\n",
       "...    ...    ...       ...          ...     ...       ...\n",
       "3277  2022      2  2022.122         59.7    13.1    1044.0\n",
       "3278  2022      3  2022.204         78.5    13.9    1277.0\n",
       "3279  2022      4  2022.286         84.1    15.2    1237.0\n",
       "3280  2022      5  2022.371         96.5    16.0    1250.0\n",
       "3281  2022      6  2022.453         70.5    12.9    1219.0\n",
       "\n",
       "[3282 rows x 6 columns]"
      ]
     },
     "metadata": {},
     "output_type": "display_data"
    },
    {
     "name": "stdout",
     "output_type": "stream",
     "text": [
      "\n",
      "---------------------------------------------------------------------------------\n",
      "Dataset CenozoicCO2 ['co2']\n",
      "\n"
     ]
    },
    {
     "data": {
      "text/html": [
       "description: We present high-resolution records of Mesozoic and early Cenozoic atmospheric CO2 concentrations from a combination of carbon-isotope analyses of non-vascular plant (bryophyte) fossils and theoretical modelling. These records indicate that atmospheric CO2 rose from ~420 p.p.m.v. in the Triassic period (about 200 million years ago) to a peak of ~1,130 p.p.m.v. in the Middle Cretaceous (about 100 million years ago). Atmospheric CO2 levels then declined to ~680 p.p.m.v. by 60 million years ago."
      ],
      "text/plain": [
       "<IPython.core.display.HTML object>"
      ]
     },
     "metadata": {},
     "output_type": "display_data"
    },
    {
     "data": {
      "text/html": [
       "authors: ['D.L. Royer', 'M. Pagani', 'D.J. Beerling']"
      ],
      "text/plain": [
       "<IPython.core.display.HTML object>"
      ]
     },
     "metadata": {},
     "output_type": "display_data"
    },
    {
     "data": {
      "text/html": [
       "publication_date: 2008"
      ],
      "text/plain": [
       "<IPython.core.display.HTML object>"
      ]
     },
     "metadata": {},
     "output_type": "display_data"
    },
    {
     "data": {
      "text/html": [
       "last_update: 2012"
      ],
      "text/plain": [
       "<IPython.core.display.HTML object>"
      ]
     },
     "metadata": {},
     "output_type": "display_data"
    },
    {
     "data": {
      "text/html": [
       "publisher: Geobiology, 10(4), 298-310"
      ],
      "text/plain": [
       "<IPython.core.display.HTML object>"
      ]
     },
     "metadata": {},
     "output_type": "display_data"
    },
    {
     "data": {
      "text/html": [
       "id: doi: 10.1111/j.1472-4669.2012.00320.x"
      ],
      "text/plain": [
       "<IPython.core.display.HTML object>"
      ]
     },
     "metadata": {},
     "output_type": "display_data"
    },
    {
     "data": {
      "text/html": [
       "version: "
      ],
      "text/plain": [
       "<IPython.core.display.HTML object>"
      ]
     },
     "metadata": {},
     "output_type": "display_data"
    },
    {
     "data": {
      "text/html": [
       "data_source: https://www.ncei.noaa.gov/pub/data/paleo/climate_forcing/trace_gases/Paleo-pCO2/liverwort_fletcher_2008.xlsx"
      ],
      "text/plain": [
       "<IPython.core.display.HTML object>"
      ]
     },
     "metadata": {},
     "output_type": "display_data"
    },
    {
     "data": {
      "text/html": [
       "related_publications: ['https://www.ncei.noaa.gov/access/paleo-search/study/23250']"
      ],
      "text/plain": [
       "<IPython.core.display.HTML object>"
      ]
     },
     "metadata": {},
     "output_type": "display_data"
    },
    {
     "data": {
      "text/html": [
       "Note: There is TXT version, but it is corrupted by random line-breakes, hence XLS"
      ],
      "text/plain": [
       "<IPython.core.display.HTML object>"
      ]
     },
     "metadata": {},
     "output_type": "display_data"
    },
    {
     "data": {
      "text/html": [
       "<div>\n",
       "<style scoped>\n",
       "    .dataframe tbody tr th:only-of-type {\n",
       "        vertical-align: middle;\n",
       "    }\n",
       "\n",
       "    .dataframe tbody tr th {\n",
       "        vertical-align: top;\n",
       "    }\n",
       "\n",
       "    .dataframe thead th {\n",
       "        text-align: right;\n",
       "    }\n",
       "</style>\n",
       "<table border=\"1\" class=\"dataframe\">\n",
       "  <thead>\n",
       "    <tr style=\"text-align: right;\">\n",
       "      <th></th>\n",
       "      <th>proxy</th>\n",
       "      <th>first_author_last_name</th>\n",
       "      <th>publication_year</th>\n",
       "      <th>doi</th>\n",
       "      <th>age_ka</th>\n",
       "      <th>Age_uncertainty_pos_ka</th>\n",
       "      <th>Age_uncertainty_neg_ka</th>\n",
       "      <th>CO2_ppm</th>\n",
       "      <th>CO2_uncertainty_pos_ppm</th>\n",
       "      <th>CO2_uncertainty_neg_ppm</th>\n",
       "      <th>...</th>\n",
       "      <th>cloud</th>\n",
       "      <th>cloud_err</th>\n",
       "      <th>N_cloud_err</th>\n",
       "      <th>LAI</th>\n",
       "      <th>LAI_err</th>\n",
       "      <th>N_LAI_err</th>\n",
       "      <th>attenuation</th>\n",
       "      <th>atten_err</th>\n",
       "      <th>N_atten_err</th>\n",
       "      <th>general notes</th>\n",
       "    </tr>\n",
       "  </thead>\n",
       "  <tbody>\n",
       "    <tr>\n",
       "      <th>0</th>\n",
       "      <td>liverworts</td>\n",
       "      <td>Fletcher</td>\n",
       "      <td>2008</td>\n",
       "      <td>10.1038/ngeo.2007.29 and 10.1111/j.1472-4669.2...</td>\n",
       "      <td>52200</td>\n",
       "      <td>3600.0</td>\n",
       "      <td>3600.0</td>\n",
       "      <td>1967</td>\n",
       "      <td>1534</td>\n",
       "      <td>875</td>\n",
       "      <td>...</td>\n",
       "      <td>0.55</td>\n",
       "      <td>NaN</td>\n",
       "      <td>taken from Fletcher et al. (2008); no error is...</td>\n",
       "      <td>NaN</td>\n",
       "      <td>NaN</td>\n",
       "      <td>taken from Fletcher et al. (2008); the combine...</td>\n",
       "      <td>0.5</td>\n",
       "      <td>NaN</td>\n",
       "      <td>taken from Fletcher et al. (2008); no error is...</td>\n",
       "      <td>Inputs measured but CO2 not reported in Fletch...</td>\n",
       "    </tr>\n",
       "    <tr>\n",
       "      <th>1</th>\n",
       "      <td>liverworts</td>\n",
       "      <td>Fletcher</td>\n",
       "      <td>2008</td>\n",
       "      <td>10.1038/ngeo.2007.29</td>\n",
       "      <td>60400</td>\n",
       "      <td>4600.0</td>\n",
       "      <td>4600.0</td>\n",
       "      <td>683</td>\n",
       "      <td>199</td>\n",
       "      <td>201</td>\n",
       "      <td>...</td>\n",
       "      <td>0.55</td>\n",
       "      <td>NaN</td>\n",
       "      <td>taken from Fletcher et al. (2008); no error is...</td>\n",
       "      <td>NaN</td>\n",
       "      <td>NaN</td>\n",
       "      <td>taken from Fletcher et al. (2008); the combine...</td>\n",
       "      <td>0.5</td>\n",
       "      <td>NaN</td>\n",
       "      <td>taken from Fletcher et al. (2008); no error is...</td>\n",
       "      <td>data doi: and 10.1111/j.1472-4669.2012.00320.x</td>\n",
       "    </tr>\n",
       "  </tbody>\n",
       "</table>\n",
       "<p>2 rows × 80 columns</p>\n",
       "</div>"
      ],
      "text/plain": [
       "        proxy first_author_last_name  publication_year  \\\n",
       "0  liverworts               Fletcher              2008   \n",
       "1  liverworts               Fletcher              2008   \n",
       "\n",
       "                                                 doi  age_ka  \\\n",
       "0  10.1038/ngeo.2007.29 and 10.1111/j.1472-4669.2...   52200   \n",
       "1                               10.1038/ngeo.2007.29   60400   \n",
       "\n",
       "   Age_uncertainty_pos_ka  Age_uncertainty_neg_ka  CO2_ppm  \\\n",
       "0                  3600.0                  3600.0     1967   \n",
       "1                  4600.0                  4600.0      683   \n",
       "\n",
       "   CO2_uncertainty_pos_ppm  CO2_uncertainty_neg_ppm  ... cloud cloud_err  \\\n",
       "0                     1534                      875  ...  0.55       NaN   \n",
       "1                      199                      201  ...  0.55       NaN   \n",
       "\n",
       "                                         N_cloud_err LAI LAI_err  \\\n",
       "0  taken from Fletcher et al. (2008); no error is... NaN     NaN   \n",
       "1  taken from Fletcher et al. (2008); no error is... NaN     NaN   \n",
       "\n",
       "                                           N_LAI_err attenuation  atten_err  \\\n",
       "0  taken from Fletcher et al. (2008); the combine...         0.5        NaN   \n",
       "1  taken from Fletcher et al. (2008); the combine...         0.5        NaN   \n",
       "\n",
       "                                         N_atten_err  \\\n",
       "0  taken from Fletcher et al. (2008); no error is...   \n",
       "1  taken from Fletcher et al. (2008); no error is...   \n",
       "\n",
       "                                       general notes  \n",
       "0  Inputs measured but CO2 not reported in Fletch...  \n",
       "1     data doi: and 10.1111/j.1472-4669.2012.00320.x  \n",
       "\n",
       "[2 rows x 80 columns]"
      ]
     },
     "metadata": {},
     "output_type": "display_data"
    },
    {
     "name": "stdout",
     "output_type": "stream",
     "text": [
      "\n",
      "---------------------------------------------------------------------------------\n",
      "Dataset CenozoicCO2Filtered ['co2']\n",
      "\n"
     ]
    },
    {
     "data": {
      "text/html": [
       "description: We present high-resolution records of Mesozoic and early Cenozoic atmospheric CO2 concentrations from a combination of carbon-isotope analyses of non-vascular plant (bryophyte) fossils and theoretical modelling. These records indicate that atmospheric CO2 rose from ~420 p.p.m.v. in the Triassic period (about 200 million years ago) to a peak of ~1,130 p.p.m.v. in the Middle Cretaceous (about 100 million years ago). Atmospheric CO2 levels then declined to ~680 p.p.m.v. by 60 million years ago."
      ],
      "text/plain": [
       "<IPython.core.display.HTML object>"
      ]
     },
     "metadata": {},
     "output_type": "display_data"
    },
    {
     "data": {
      "text/html": [
       "authors: ['D.L. Royer', 'M. Pagani', 'D.J. Beerling']"
      ],
      "text/plain": [
       "<IPython.core.display.HTML object>"
      ]
     },
     "metadata": {},
     "output_type": "display_data"
    },
    {
     "data": {
      "text/html": [
       "publication_date: 2008"
      ],
      "text/plain": [
       "<IPython.core.display.HTML object>"
      ]
     },
     "metadata": {},
     "output_type": "display_data"
    },
    {
     "data": {
      "text/html": [
       "last_update: 2012"
      ],
      "text/plain": [
       "<IPython.core.display.HTML object>"
      ]
     },
     "metadata": {},
     "output_type": "display_data"
    },
    {
     "data": {
      "text/html": [
       "publisher: Geobiology, 10(4), 298-310"
      ],
      "text/plain": [
       "<IPython.core.display.HTML object>"
      ]
     },
     "metadata": {},
     "output_type": "display_data"
    },
    {
     "data": {
      "text/html": [
       "id: doi: 10.1111/j.1472-4669.2012.00320.x"
      ],
      "text/plain": [
       "<IPython.core.display.HTML object>"
      ]
     },
     "metadata": {},
     "output_type": "display_data"
    },
    {
     "data": {
      "text/html": [
       "version: "
      ],
      "text/plain": [
       "<IPython.core.display.HTML object>"
      ]
     },
     "metadata": {},
     "output_type": "display_data"
    },
    {
     "data": {
      "text/html": [
       "data_source: https://www.ncei.noaa.gov/pub/data/paleo/climate_forcing/trace_gases/Paleo-pCO2/liverwort_fletcher_2008.xlsx"
      ],
      "text/plain": [
       "<IPython.core.display.HTML object>"
      ]
     },
     "metadata": {},
     "output_type": "display_data"
    },
    {
     "data": {
      "text/html": [
       "related_publications: ['https://www.ncei.noaa.gov/access/paleo-search/study/23250']"
      ],
      "text/plain": [
       "<IPython.core.display.HTML object>"
      ]
     },
     "metadata": {},
     "output_type": "display_data"
    },
    {
     "data": {
      "text/html": [
       "Note: There is TXT version, but it is corrupted by random line-breakes, hence XLS"
      ],
      "text/plain": [
       "<IPython.core.display.HTML object>"
      ]
     },
     "metadata": {},
     "output_type": "display_data"
    },
    {
     "data": {
      "text/html": [
       "<div>\n",
       "<style scoped>\n",
       "    .dataframe tbody tr th:only-of-type {\n",
       "        vertical-align: middle;\n",
       "    }\n",
       "\n",
       "    .dataframe tbody tr th {\n",
       "        vertical-align: top;\n",
       "    }\n",
       "\n",
       "    .dataframe thead th {\n",
       "        text-align: right;\n",
       "    }\n",
       "</style>\n",
       "<table border=\"1\" class=\"dataframe\">\n",
       "  <thead>\n",
       "    <tr style=\"text-align: right;\">\n",
       "      <th></th>\n",
       "      <th>age_ka</th>\n",
       "      <th>Age_uncertainty_pos_ka</th>\n",
       "      <th>Age_uncertainty_neg_ka</th>\n",
       "      <th>CO2_ppm</th>\n",
       "      <th>CO2_uncertainty_pos_ppm</th>\n",
       "      <th>CO2_uncertainty_neg_ppm</th>\n",
       "    </tr>\n",
       "  </thead>\n",
       "  <tbody>\n",
       "    <tr>\n",
       "      <th>0</th>\n",
       "      <td>52200</td>\n",
       "      <td>3600.0</td>\n",
       "      <td>3600.0</td>\n",
       "      <td>1967</td>\n",
       "      <td>1534</td>\n",
       "      <td>875</td>\n",
       "    </tr>\n",
       "    <tr>\n",
       "      <th>1</th>\n",
       "      <td>60400</td>\n",
       "      <td>4600.0</td>\n",
       "      <td>4600.0</td>\n",
       "      <td>683</td>\n",
       "      <td>199</td>\n",
       "      <td>201</td>\n",
       "    </tr>\n",
       "  </tbody>\n",
       "</table>\n",
       "</div>"
      ],
      "text/plain": [
       "   age_ka  Age_uncertainty_pos_ka  Age_uncertainty_neg_ka  CO2_ppm  \\\n",
       "0   52200                  3600.0                  3600.0     1967   \n",
       "1   60400                  4600.0                  4600.0      683   \n",
       "\n",
       "   CO2_uncertainty_pos_ppm  CO2_uncertainty_neg_ppm  \n",
       "0                     1534                      875  \n",
       "1                      199                      201  "
      ]
     },
     "metadata": {},
     "output_type": "display_data"
    },
    {
     "name": "stdout",
     "output_type": "stream",
     "text": [
      "\n",
      "---------------------------------------------------------------------------------\n",
      "Dataset MaunaLoaMonthlyCO2 ['co2', 'mauna_loa', 'direct_measurement']\n",
      "\n"
     ]
    },
    {
     "data": {
      "text/html": [
       "description: Data from March 1958 through April 1974 have been obtained by C. David Keeling of the Scripps Institution of Oceanography (SIO) and were obtained from the Scripps website (scrippsco2.ucsd.edu). Monthly mean CO2 constructed from daily mean values Scripps data downloaded from http://scrippsco2.ucsd.edu/data/atmospheric_co2 Monthly values are corrected to center of month based on average seasonal cycle. Missing days can be asymmetric which would produce a high or low bias. Missing months have been interpolated, for NOAA data indicated by negative stdev and uncertainty. We have no information for SIO data about Ndays, stdv, unc so that they are also indicated by negative numbers"
      ],
      "text/plain": [
       "<IPython.core.display.HTML object>"
      ]
     },
     "metadata": {},
     "output_type": "display_data"
    },
    {
     "data": {
      "text/html": [
       "authors: ['Dr. Pieter Tans', 'Dr. Ralph Keeling']"
      ],
      "text/plain": [
       "<IPython.core.display.HTML object>"
      ]
     },
     "metadata": {},
     "output_type": "display_data"
    },
    {
     "data": {
      "text/html": [
       "publication_date: 2022-06"
      ],
      "text/plain": [
       "<IPython.core.display.HTML object>"
      ]
     },
     "metadata": {},
     "output_type": "display_data"
    },
    {
     "data": {
      "text/html": [
       "last_update: 2022-06"
      ],
      "text/plain": [
       "<IPython.core.display.HTML object>"
      ]
     },
     "metadata": {},
     "output_type": "display_data"
    },
    {
     "data": {
      "text/html": [
       "publisher: Dr. Pieter Tans, NOAA/GML (gml.noaa.gov/ccgg/trends/) and Dr. Ralph Keeling, Scripps Institution of Oceanography (scrippsco2.ucsd.edu/)."
      ],
      "text/plain": [
       "<IPython.core.display.HTML object>"
      ]
     },
     "metadata": {},
     "output_type": "display_data"
    },
    {
     "data": {
      "text/html": [
       "id: "
      ],
      "text/plain": [
       "<IPython.core.display.HTML object>"
      ]
     },
     "metadata": {},
     "output_type": "display_data"
    },
    {
     "data": {
      "text/html": [
       "version: "
      ],
      "text/plain": [
       "<IPython.core.display.HTML object>"
      ]
     },
     "metadata": {},
     "output_type": "display_data"
    },
    {
     "data": {
      "text/html": [
       "data_source: https://gml.noaa.gov/webdata/ccgg/trends/co2/co2_mm_mlo.csv"
      ],
      "text/plain": [
       "<IPython.core.display.HTML object>"
      ]
     },
     "metadata": {},
     "output_type": "display_data"
    },
    {
     "data": {
      "text/html": [
       "related_publications: ['https://gml.noaa.gov/ccgg/trends/data.html']"
      ],
      "text/plain": [
       "<IPython.core.display.HTML object>"
      ]
     },
     "metadata": {},
     "output_type": "display_data"
    },
    {
     "data": {
      "text/html": [
       "<div>\n",
       "<style scoped>\n",
       "    .dataframe tbody tr th:only-of-type {\n",
       "        vertical-align: middle;\n",
       "    }\n",
       "\n",
       "    .dataframe tbody tr th {\n",
       "        vertical-align: top;\n",
       "    }\n",
       "\n",
       "    .dataframe thead th {\n",
       "        text-align: right;\n",
       "    }\n",
       "</style>\n",
       "<table border=\"1\" class=\"dataframe\">\n",
       "  <thead>\n",
       "    <tr style=\"text-align: right;\">\n",
       "      <th></th>\n",
       "      <th>year</th>\n",
       "      <th>month</th>\n",
       "      <th>decimal date</th>\n",
       "      <th>average</th>\n",
       "      <th>deseasonalized</th>\n",
       "      <th>ndays</th>\n",
       "      <th>sdev</th>\n",
       "      <th>unc</th>\n",
       "    </tr>\n",
       "  </thead>\n",
       "  <tbody>\n",
       "    <tr>\n",
       "      <th>0</th>\n",
       "      <td>1958</td>\n",
       "      <td>3</td>\n",
       "      <td>1958.2027</td>\n",
       "      <td>315.70</td>\n",
       "      <td>314.43</td>\n",
       "      <td>NaN</td>\n",
       "      <td>NaN</td>\n",
       "      <td>NaN</td>\n",
       "    </tr>\n",
       "    <tr>\n",
       "      <th>1</th>\n",
       "      <td>1958</td>\n",
       "      <td>4</td>\n",
       "      <td>1958.2877</td>\n",
       "      <td>317.45</td>\n",
       "      <td>315.16</td>\n",
       "      <td>NaN</td>\n",
       "      <td>NaN</td>\n",
       "      <td>NaN</td>\n",
       "    </tr>\n",
       "    <tr>\n",
       "      <th>2</th>\n",
       "      <td>1958</td>\n",
       "      <td>5</td>\n",
       "      <td>1958.3699</td>\n",
       "      <td>317.51</td>\n",
       "      <td>314.71</td>\n",
       "      <td>NaN</td>\n",
       "      <td>NaN</td>\n",
       "      <td>NaN</td>\n",
       "    </tr>\n",
       "    <tr>\n",
       "      <th>3</th>\n",
       "      <td>1958</td>\n",
       "      <td>6</td>\n",
       "      <td>1958.4548</td>\n",
       "      <td>317.24</td>\n",
       "      <td>315.14</td>\n",
       "      <td>NaN</td>\n",
       "      <td>NaN</td>\n",
       "      <td>NaN</td>\n",
       "    </tr>\n",
       "    <tr>\n",
       "      <th>4</th>\n",
       "      <td>1958</td>\n",
       "      <td>7</td>\n",
       "      <td>1958.5370</td>\n",
       "      <td>315.86</td>\n",
       "      <td>315.18</td>\n",
       "      <td>NaN</td>\n",
       "      <td>NaN</td>\n",
       "      <td>NaN</td>\n",
       "    </tr>\n",
       "    <tr>\n",
       "      <th>...</th>\n",
       "      <td>...</td>\n",
       "      <td>...</td>\n",
       "      <td>...</td>\n",
       "      <td>...</td>\n",
       "      <td>...</td>\n",
       "      <td>...</td>\n",
       "      <td>...</td>\n",
       "      <td>...</td>\n",
       "    </tr>\n",
       "    <tr>\n",
       "      <th>767</th>\n",
       "      <td>2022</td>\n",
       "      <td>2</td>\n",
       "      <td>2022.1250</td>\n",
       "      <td>419.28</td>\n",
       "      <td>418.32</td>\n",
       "      <td>27.0</td>\n",
       "      <td>0.92</td>\n",
       "      <td>0.34</td>\n",
       "    </tr>\n",
       "    <tr>\n",
       "      <th>768</th>\n",
       "      <td>2022</td>\n",
       "      <td>3</td>\n",
       "      <td>2022.2083</td>\n",
       "      <td>418.81</td>\n",
       "      <td>417.33</td>\n",
       "      <td>30.0</td>\n",
       "      <td>0.78</td>\n",
       "      <td>0.27</td>\n",
       "    </tr>\n",
       "    <tr>\n",
       "      <th>769</th>\n",
       "      <td>2022</td>\n",
       "      <td>4</td>\n",
       "      <td>2022.2917</td>\n",
       "      <td>420.23</td>\n",
       "      <td>417.56</td>\n",
       "      <td>28.0</td>\n",
       "      <td>0.85</td>\n",
       "      <td>0.31</td>\n",
       "    </tr>\n",
       "    <tr>\n",
       "      <th>770</th>\n",
       "      <td>2022</td>\n",
       "      <td>5</td>\n",
       "      <td>2022.3750</td>\n",
       "      <td>420.99</td>\n",
       "      <td>417.60</td>\n",
       "      <td>30.0</td>\n",
       "      <td>0.76</td>\n",
       "      <td>0.27</td>\n",
       "    </tr>\n",
       "    <tr>\n",
       "      <th>771</th>\n",
       "      <td>2022</td>\n",
       "      <td>6</td>\n",
       "      <td>2022.4583</td>\n",
       "      <td>420.99</td>\n",
       "      <td>418.56</td>\n",
       "      <td>28.0</td>\n",
       "      <td>0.30</td>\n",
       "      <td>0.11</td>\n",
       "    </tr>\n",
       "  </tbody>\n",
       "</table>\n",
       "<p>772 rows × 8 columns</p>\n",
       "</div>"
      ],
      "text/plain": [
       "     year  month  decimal date  average  deseasonalized  ndays  sdev   unc\n",
       "0    1958      3     1958.2027   315.70          314.43    NaN   NaN   NaN\n",
       "1    1958      4     1958.2877   317.45          315.16    NaN   NaN   NaN\n",
       "2    1958      5     1958.3699   317.51          314.71    NaN   NaN   NaN\n",
       "3    1958      6     1958.4548   317.24          315.14    NaN   NaN   NaN\n",
       "4    1958      7     1958.5370   315.86          315.18    NaN   NaN   NaN\n",
       "..    ...    ...           ...      ...             ...    ...   ...   ...\n",
       "767  2022      2     2022.1250   419.28          418.32   27.0  0.92  0.34\n",
       "768  2022      3     2022.2083   418.81          417.33   30.0  0.78  0.27\n",
       "769  2022      4     2022.2917   420.23          417.56   28.0  0.85  0.31\n",
       "770  2022      5     2022.3750   420.99          417.60   30.0  0.76  0.27\n",
       "771  2022      6     2022.4583   420.99          418.56   28.0  0.30  0.11\n",
       "\n",
       "[772 rows x 8 columns]"
      ]
     },
     "metadata": {},
     "output_type": "display_data"
    },
    {
     "name": "stdout",
     "output_type": "stream",
     "text": [
      "\n",
      "---------------------------------------------------------------------------------\n",
      "Dataset MaunaLoaWeeklyHistoricalCO2 ['co2', 'mauna_loa', 'direct_measurement']\n",
      "\n"
     ]
    },
    {
     "data": {
      "text/html": [
       "description: NOTE: DATA FOR THE LAST SEVERAL MONTHS ARE PRELIMINARY, ARE STILL SUBJECT TO QUALITY CONTROL PROCEDURES. NOTE: The week '1 yr ago' is exactly 365 days ago, and thus does not run from Sunday through Saturday. 365 also ignores the possibility of a leap year. The week '10 yr ago' is exactly 10*365 days +3 days (for leap years) ago."
      ],
      "text/plain": [
       "<IPython.core.display.HTML object>"
      ]
     },
     "metadata": {},
     "output_type": "display_data"
    },
    {
     "data": {
      "text/html": [
       "authors: ['Dr. Pieter Tans', 'Dr. Ralph Keeling']"
      ],
      "text/plain": [
       "<IPython.core.display.HTML object>"
      ]
     },
     "metadata": {},
     "output_type": "display_data"
    },
    {
     "data": {
      "text/html": [
       "publication_date: 2022-07"
      ],
      "text/plain": [
       "<IPython.core.display.HTML object>"
      ]
     },
     "metadata": {},
     "output_type": "display_data"
    },
    {
     "data": {
      "text/html": [
       "last_update: 2022-07"
      ],
      "text/plain": [
       "<IPython.core.display.HTML object>"
      ]
     },
     "metadata": {},
     "output_type": "display_data"
    },
    {
     "data": {
      "text/html": [
       "publisher: Dr. Pieter Tans, NOAA/GML (gml.noaa.gov/ccgg/trends/) and Dr. Ralph Keeling, Scripps Institution of Oceanography (scrippsco2.ucsd.edu/)."
      ],
      "text/plain": [
       "<IPython.core.display.HTML object>"
      ]
     },
     "metadata": {},
     "output_type": "display_data"
    },
    {
     "data": {
      "text/html": [
       "id: "
      ],
      "text/plain": [
       "<IPython.core.display.HTML object>"
      ]
     },
     "metadata": {},
     "output_type": "display_data"
    },
    {
     "data": {
      "text/html": [
       "version: "
      ],
      "text/plain": [
       "<IPython.core.display.HTML object>"
      ]
     },
     "metadata": {},
     "output_type": "display_data"
    },
    {
     "data": {
      "text/html": [
       "data_source: https://gml.noaa.gov/webdata/ccgg/trends/co2/co2_weekly_mlo.csv"
      ],
      "text/plain": [
       "<IPython.core.display.HTML object>"
      ]
     },
     "metadata": {},
     "output_type": "display_data"
    },
    {
     "data": {
      "text/html": [
       "related_publications: ['https://gml.noaa.gov/ccgg/trends/data.html']"
      ],
      "text/plain": [
       "<IPython.core.display.HTML object>"
      ]
     },
     "metadata": {},
     "output_type": "display_data"
    },
    {
     "data": {
      "text/html": [
       "<div>\n",
       "<style scoped>\n",
       "    .dataframe tbody tr th:only-of-type {\n",
       "        vertical-align: middle;\n",
       "    }\n",
       "\n",
       "    .dataframe tbody tr th {\n",
       "        vertical-align: top;\n",
       "    }\n",
       "\n",
       "    .dataframe thead th {\n",
       "        text-align: right;\n",
       "    }\n",
       "</style>\n",
       "<table border=\"1\" class=\"dataframe\">\n",
       "  <thead>\n",
       "    <tr style=\"text-align: right;\">\n",
       "      <th></th>\n",
       "      <th>year</th>\n",
       "      <th>month</th>\n",
       "      <th>day</th>\n",
       "      <th>decimal</th>\n",
       "      <th>average</th>\n",
       "      <th>ndays</th>\n",
       "      <th>1 year ago</th>\n",
       "      <th>10 years ago</th>\n",
       "      <th>increase since 1800</th>\n",
       "    </tr>\n",
       "  </thead>\n",
       "  <tbody>\n",
       "    <tr>\n",
       "      <th>0</th>\n",
       "      <td>1974</td>\n",
       "      <td>5</td>\n",
       "      <td>19</td>\n",
       "      <td>1974.3795</td>\n",
       "      <td>333.37</td>\n",
       "      <td>5</td>\n",
       "      <td>NaN</td>\n",
       "      <td>NaN</td>\n",
       "      <td>50.40</td>\n",
       "    </tr>\n",
       "    <tr>\n",
       "      <th>1</th>\n",
       "      <td>1974</td>\n",
       "      <td>5</td>\n",
       "      <td>26</td>\n",
       "      <td>1974.3986</td>\n",
       "      <td>332.95</td>\n",
       "      <td>6</td>\n",
       "      <td>NaN</td>\n",
       "      <td>NaN</td>\n",
       "      <td>50.06</td>\n",
       "    </tr>\n",
       "    <tr>\n",
       "      <th>2</th>\n",
       "      <td>1974</td>\n",
       "      <td>6</td>\n",
       "      <td>2</td>\n",
       "      <td>1974.4178</td>\n",
       "      <td>332.35</td>\n",
       "      <td>5</td>\n",
       "      <td>NaN</td>\n",
       "      <td>NaN</td>\n",
       "      <td>49.60</td>\n",
       "    </tr>\n",
       "    <tr>\n",
       "      <th>3</th>\n",
       "      <td>1974</td>\n",
       "      <td>6</td>\n",
       "      <td>9</td>\n",
       "      <td>1974.4370</td>\n",
       "      <td>332.20</td>\n",
       "      <td>7</td>\n",
       "      <td>NaN</td>\n",
       "      <td>NaN</td>\n",
       "      <td>49.65</td>\n",
       "    </tr>\n",
       "    <tr>\n",
       "      <th>4</th>\n",
       "      <td>1974</td>\n",
       "      <td>6</td>\n",
       "      <td>16</td>\n",
       "      <td>1974.4562</td>\n",
       "      <td>332.37</td>\n",
       "      <td>7</td>\n",
       "      <td>NaN</td>\n",
       "      <td>NaN</td>\n",
       "      <td>50.06</td>\n",
       "    </tr>\n",
       "    <tr>\n",
       "      <th>...</th>\n",
       "      <td>...</td>\n",
       "      <td>...</td>\n",
       "      <td>...</td>\n",
       "      <td>...</td>\n",
       "      <td>...</td>\n",
       "      <td>...</td>\n",
       "      <td>...</td>\n",
       "      <td>...</td>\n",
       "      <td>...</td>\n",
       "    </tr>\n",
       "    <tr>\n",
       "      <th>2507</th>\n",
       "      <td>2022</td>\n",
       "      <td>6</td>\n",
       "      <td>5</td>\n",
       "      <td>2022.4260</td>\n",
       "      <td>421.30</td>\n",
       "      <td>6</td>\n",
       "      <td>419.61</td>\n",
       "      <td>395.92</td>\n",
       "      <td>138.40</td>\n",
       "    </tr>\n",
       "    <tr>\n",
       "      <th>2508</th>\n",
       "      <td>2022</td>\n",
       "      <td>6</td>\n",
       "      <td>12</td>\n",
       "      <td>2022.4452</td>\n",
       "      <td>421.03</td>\n",
       "      <td>6</td>\n",
       "      <td>419.00</td>\n",
       "      <td>396.07</td>\n",
       "      <td>138.50</td>\n",
       "    </tr>\n",
       "    <tr>\n",
       "      <th>2509</th>\n",
       "      <td>2022</td>\n",
       "      <td>6</td>\n",
       "      <td>19</td>\n",
       "      <td>2022.4644</td>\n",
       "      <td>420.87</td>\n",
       "      <td>7</td>\n",
       "      <td>418.62</td>\n",
       "      <td>395.92</td>\n",
       "      <td>138.77</td>\n",
       "    </tr>\n",
       "    <tr>\n",
       "      <th>2510</th>\n",
       "      <td>2022</td>\n",
       "      <td>6</td>\n",
       "      <td>26</td>\n",
       "      <td>2022.4836</td>\n",
       "      <td>420.31</td>\n",
       "      <td>7</td>\n",
       "      <td>418.14</td>\n",
       "      <td>395.36</td>\n",
       "      <td>138.69</td>\n",
       "    </tr>\n",
       "    <tr>\n",
       "      <th>2511</th>\n",
       "      <td>2022</td>\n",
       "      <td>7</td>\n",
       "      <td>3</td>\n",
       "      <td>2022.5027</td>\n",
       "      <td>419.73</td>\n",
       "      <td>6</td>\n",
       "      <td>417.49</td>\n",
       "      <td>395.15</td>\n",
       "      <td>138.61</td>\n",
       "    </tr>\n",
       "  </tbody>\n",
       "</table>\n",
       "<p>2512 rows × 9 columns</p>\n",
       "</div>"
      ],
      "text/plain": [
       "      year  month  day    decimal  average  ndays  1 year ago  10 years ago  \\\n",
       "0     1974      5   19  1974.3795   333.37      5         NaN           NaN   \n",
       "1     1974      5   26  1974.3986   332.95      6         NaN           NaN   \n",
       "2     1974      6    2  1974.4178   332.35      5         NaN           NaN   \n",
       "3     1974      6    9  1974.4370   332.20      7         NaN           NaN   \n",
       "4     1974      6   16  1974.4562   332.37      7         NaN           NaN   \n",
       "...    ...    ...  ...        ...      ...    ...         ...           ...   \n",
       "2507  2022      6    5  2022.4260   421.30      6      419.61        395.92   \n",
       "2508  2022      6   12  2022.4452   421.03      6      419.00        396.07   \n",
       "2509  2022      6   19  2022.4644   420.87      7      418.62        395.92   \n",
       "2510  2022      6   26  2022.4836   420.31      7      418.14        395.36   \n",
       "2511  2022      7    3  2022.5027   419.73      6      417.49        395.15   \n",
       "\n",
       "      increase since 1800  \n",
       "0                   50.40  \n",
       "1                   50.06  \n",
       "2                   49.60  \n",
       "3                   49.65  \n",
       "4                   50.06  \n",
       "...                   ...  \n",
       "2507               138.40  \n",
       "2508               138.50  \n",
       "2509               138.77  \n",
       "2510               138.69  \n",
       "2511               138.61  \n",
       "\n",
       "[2512 rows x 9 columns]"
      ]
     },
     "metadata": {},
     "output_type": "display_data"
    }
   ],
   "source": [
    "for dataset_name in dfs.keys():\n",
    "    print()\n",
    "    print(\"---------------------------------------------------------------------------------\")\n",
    "    print(f\"Dataset {dataset_name} {dfs[dataset_name]['metadata']['tags']}\")\n",
    "    print()\n",
    "    for entry in dfs[dataset_name]['metadata']:\n",
    "        if entry in ['title', 'tags']:\n",
    "            continue\n",
    "        display(HTML(f\"{entry}: {dfs[dataset_name]['metadata'][entry]}\"))\n",
    "    display(dfs[dataset_name]['data'])"
   ]
  },
  {
   "cell_type": "code",
   "execution_count": 17,
   "id": "5fc4bec9-f38d-45d3-8cfb-c4b0268a5db1",
   "metadata": {},
   "outputs": [],
   "source": [
    "em2k=dfs['euromed2k']['data'].to_numpy()\n",
    "gjmt6=dfs['germany_june_meantemp']['data'].to_numpy()\n",
    "gjmt7=dfs['germany_july_meantemp']['data'].to_numpy()\n",
    "gjmt8=dfs['germany_august_meantemp']['data'].to_numpy()\n",
    "sunsp=dfs['sunspots11000yrs']['data'].to_numpy()\n",
    "sunsp1749=dfs['sunspotsmonthlymean1749']['data'].to_numpy()"
   ]
  },
  {
   "cell_type": "code",
   "execution_count": 18,
   "id": "fa8c7a92-3a0e-457a-9270-5707fcba3d95",
   "metadata": {},
   "outputs": [],
   "source": [
    "sunsp[:,0]=1950-sunsp[:,0]"
   ]
  },
  {
   "cell_type": "code",
   "execution_count": 19,
   "id": "f1d07e30-3faf-44f2-af97-4882865ced25",
   "metadata": {},
   "outputs": [],
   "source": [
    "gjmt=(gjmt6[:-1,:]+gjmt7+gjmt8)/3.0"
   ]
  },
  {
   "cell_type": "code",
   "execution_count": 20,
   "id": "87570714-a46b-4a7a-bfb0-32df3b8b1c79",
   "metadata": {},
   "outputs": [
    {
     "data": {
      "text/plain": [
       "17.553569739952717"
      ]
     },
     "execution_count": 20,
     "metadata": {},
     "output_type": "execute_result"
    }
   ],
   "source": [
    "np.mean(gjmt[:,2])"
   ]
  },
  {
   "cell_type": "code",
   "execution_count": 21,
   "id": "e31a53e5-85da-423d-b33e-c9d5ea129852",
   "metadata": {},
   "outputs": [],
   "source": [
    "def moving_average(a, n=3) :\n",
    "    ret = np.cumsum(a, dtype=float)\n",
    "    ret[n:] = ret[n:] - ret[:-n]\n",
    "    return ret[n - 1:] / n"
   ]
  },
  {
   "cell_type": "code",
   "execution_count": 22,
   "id": "2bb28d24-631e-482b-802b-b06cfa1fcadf",
   "metadata": {},
   "outputs": [],
   "source": [
    "gjmean=np.mean(gjmt[:,2])"
   ]
  },
  {
   "cell_type": "code",
   "execution_count": 23,
   "id": "0bbb81bb-2d24-4047-92c3-20a74de40fe0",
   "metadata": {},
   "outputs": [],
   "source": [
    "win=10\n",
    "em2kmat=moving_average(em2k[:,1],2*win+1)\n",
    "gjmtmat=moving_average(gjmt[:,2]-gjmean,2*win+1)"
   ]
  },
  {
   "cell_type": "code",
   "execution_count": null,
   "id": "bbd9d515-4886-4163-8362-1fcc16510045",
   "metadata": {},
   "outputs": [],
   "source": []
  },
  {
   "cell_type": "code",
   "execution_count": 24,
   "id": "55f45fd0-9695-4d3b-bc39-4c9eecf91d9f",
   "metadata": {},
   "outputs": [],
   "source": [
    "sunma=moving_average(sunsp[:,1],2*win+1)\n",
    "sunman=moving_average(sunsp1749[:,3],20*win+1)"
   ]
  },
  {
   "cell_type": "code",
   "execution_count": 25,
   "id": "105c73a6-9126-4168-ba98-3f00a799808d",
   "metadata": {},
   "outputs": [
    {
     "data": {
      "text/plain": [
       "array([76.14427861, 75.77910448, 75.3761194 , ..., 39.60099502,\n",
       "       39.7800995 , 39.94577114])"
      ]
     },
     "execution_count": 25,
     "metadata": {},
     "output_type": "execute_result"
    }
   ],
   "source": [
    "sunman"
   ]
  },
  {
   "cell_type": "code",
   "execution_count": 26,
   "id": "6b37388c-3068-423e-8f24-3924ccbf2a38",
   "metadata": {},
   "outputs": [
    {
     "data": {
      "text/plain": [
       "((3082,), (3282, 6))"
      ]
     },
     "execution_count": 26,
     "metadata": {},
     "output_type": "execute_result"
    }
   ],
   "source": [
    "sunman.shape, sunsp1749.shape"
   ]
  },
  {
   "cell_type": "code",
   "execution_count": 27,
   "id": "a5121968-0c17-4992-a32c-1def16c1eab9",
   "metadata": {},
   "outputs": [],
   "source": [
    "import matplotlib.pyplot as plt\n",
    "plt.rcParams['figure.figsize'] = [14,8]  # inch! :-/"
   ]
  },
  {
   "cell_type": "code",
   "execution_count": 28,
   "id": "ed2109e7-df55-47e8-afee-b70515132808",
   "metadata": {},
   "outputs": [
    {
     "data": {
      "text/plain": [
       "[<matplotlib.lines.Line2D at 0x7f691e29a500>]"
      ]
     },
     "execution_count": 28,
     "metadata": {},
     "output_type": "execute_result"
    },
    {
     "data": {
      "image/png": "[encoded data removed]",
      "text/plain": [
       "<Figure size 432x288 with 1 Axes>"
      ]
     },
     "metadata": {
      "needs_background": "light"
     },
     "output_type": "display_data"
    }
   ],
   "source": [
    "plt.plot(gjmt[:,0],gjmt[:,2]-gjmean)\n",
    "plt.plot(em2k[:,0],em2k[:,1])\n",
    "plt.plot(sunsp[-200:,0],sunsp[-200:,1]/60-0.4)\n",
    "plt.plot(sunsp1749[10*win:-10*win,2],sunman/200)"
   ]
  },
  {
   "cell_type": "code",
   "execution_count": 29,
   "id": "c453a710-93d4-47e5-9dc1-a390a9960976",
   "metadata": {},
   "outputs": [
    {
     "data": {
      "text/plain": [
       "[<matplotlib.lines.Line2D at 0x7f691518aec0>]"
      ]
     },
     "execution_count": 29,
     "metadata": {},
     "output_type": "execute_result"
    },
    {
     "data": {
      "image/png": "[encoded data removed]",
      "text/plain": [
       "<Figure size 432x288 with 1 Axes>"
      ]
     },
     "metadata": {
      "needs_background": "light"
     },
     "output_type": "display_data"
    }
   ],
   "source": [
    "# plt.plot(dfnp[:,0],dfnp[:,1])\n",
    "plt.plot(gjmt[win:-win,0],gjmtmat)\n",
    "plt.plot(em2k[win:-win,0],em2kmat)\n",
    "plt.plot(sunsp[-200:,0],sunsp[-200:,1]/80-0.5) # sunma[-200:]/50-0.5)\n",
    "plt.plot(sunsp1749[10*win:-10*win,2],sunman/200-0.5)"
   ]
  },
  {
   "cell_type": "code",
   "execution_count": 30,
   "id": "5431309b-1066-4ddf-be63-ca17b1ad5817",
   "metadata": {},
   "outputs": [
    {
     "data": {
      "text/plain": [
       "[<matplotlib.lines.Line2D at 0x7f6915203e50>]"
      ]
     },
     "execution_count": 30,
     "metadata": {},
     "output_type": "execute_result"
    },
    {
     "data": {
      "image/png": "[encoded data removed]",
      "text/plain": [
       "<Figure size 432x288 with 1 Axes>"
      ]
     },
     "metadata": {
      "needs_background": "light"
     },
     "output_type": "display_data"
    }
   ],
   "source": [
    "plt.plot(em2k[-120+win:-win,0],em2kmat[-120+win:-win])\n",
    "plt.plot(gjmt[win:-win,0],gjmtmat)\n",
    "plt.plot(sunsp[-20:,0],sunsp[-20:,1]/80-0.5) # sunma[-20:]/50-0.5)\n",
    "plt.plot(sunsp1749[10*win:-10*win,2],sunman/200-0.5)"
   ]
  },
  {
   "cell_type": "code",
   "execution_count": 31,
   "id": "de494b63-7266-48e7-9c12-646d3b486197",
   "metadata": {},
   "outputs": [
    {
     "data": {
      "text/plain": [
       "[<matplotlib.lines.Line2D at 0x7f6915077820>]"
      ]
     },
     "execution_count": 31,
     "metadata": {},
     "output_type": "execute_result"
    },
    {
     "data": {
      "image/png": "[encoded data removed]",
      "text/plain": [
       "<Figure size 432x288 with 1 Axes>"
      ]
     },
     "metadata": {
      "needs_background": "light"
     },
     "output_type": "display_data"
    }
   ],
   "source": [
    "a=-1500\n",
    "b=-1400\n",
    "plt.plot(em2k[a:b,0],em2k[a:b,1])\n",
    "plt.plot(gjmt[a:b,0],gjmtmat[a-win:b-win])\n"
   ]
  },
  {
   "cell_type": "code",
   "execution_count": null,
   "id": "7752c815-b02d-48cd-8be8-ff486a0cf090",
   "metadata": {},
   "outputs": [],
   "source": []
  },
  {
   "cell_type": "code",
   "execution_count": null,
   "id": "dc004f7c-f60c-4827-ae02-95b76ce4d1bd",
   "metadata": {},
   "outputs": [],
   "source": []
  }
 ],
 "metadata": {
  "kernelspec": {
   "display_name": "Python 3 (ipykernel)",
   "language": "python",
   "name": "python3"
  },
  "language_info": {
   "codemirror_mode": {
    "name": "ipython",
    "version": 3
   },
   "file_extension": ".py",
   "mimetype": "text/x-python",
   "name": "python",
   "nbconvert_exporter": "python",
   "pygments_lexer": "ipython3",
   "version": "3.10.5"
  }
 },
 "nbformat": 4,
 "nbformat_minor": 5
}
