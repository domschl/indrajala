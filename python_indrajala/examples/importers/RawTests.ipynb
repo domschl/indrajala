{
 "cells": [
  {
   "cell_type": "code",
   "execution_count": 1,
   "id": "f2bdfbf3-e08c-4c18-8e08-bdda7e8c03c2",
   "metadata": {},
   "outputs": [],
   "source": [
    "import pandas as pd"
   ]
  },
  {
   "cell_type": "code",
   "execution_count": 2,
   "id": "32fa5271-f591-46da-aa72-0ee35974594d",
   "metadata": {},
   "outputs": [],
   "source": [
    "url='https://en.wikipedia.org/wiki/Geologic_time_scale'"
   ]
  },
  {
   "cell_type": "code",
   "execution_count": 4,
   "id": "6a6ae439-3dd4-4bb5-a5fb-ea59f0e6401e",
   "metadata": {},
   "outputs": [],
   "source": [
    "tables=pd.read_html(url)"
   ]
  },
  {
   "cell_type": "code",
   "execution_count": 5,
   "id": "b5174c1a-2f50-4437-9050-ae2e7fbcb3c1",
   "metadata": {},
   "outputs": [
    {
     "name": "stdout",
     "output_type": "stream",
     "text": [
      "23\n"
     ]
    }
   ],
   "source": [
    "print(len(tables))"
   ]
  },
  {
   "cell_type": "code",
   "execution_count": 9,
   "id": "6905eb0a-84f3-4462-944d-7f5e7fc1d31d",
   "metadata": {
    "tags": []
   },
   "outputs": [
    {
     "data": {
      "text/html": [
       "<div>\n",
       "<style scoped>\n",
       "    .dataframe tbody tr th:only-of-type {\n",
       "        vertical-align: middle;\n",
       "    }\n",
       "\n",
       "    .dataframe tbody tr th {\n",
       "        vertical-align: top;\n",
       "    }\n",
       "\n",
       "    .dataframe thead th {\n",
       "        text-align: right;\n",
       "    }\n",
       "</style>\n",
       "<table border=\"1\" class=\"dataframe\">\n",
       "  <thead>\n",
       "    <tr style=\"text-align: right;\">\n",
       "      <th></th>\n",
       "      <th>Name</th>\n",
       "      <th>Time Span</th>\n",
       "      <th>Etymology of name</th>\n",
       "    </tr>\n",
       "  </thead>\n",
       "  <tbody>\n",
       "    <tr>\n",
       "      <th>0</th>\n",
       "      <td>Quaternary</td>\n",
       "      <td>2.6 to 0 million years ago</td>\n",
       "      <td>First introduced by Jules Desnoyers in 1829 fo...</td>\n",
       "    </tr>\n",
       "    <tr>\n",
       "      <th>1</th>\n",
       "      <td>Neogene</td>\n",
       "      <td>23 to 2.6 million years ago</td>\n",
       "      <td>Derived from the Greek words νέος (néos) meani...</td>\n",
       "    </tr>\n",
       "    <tr>\n",
       "      <th>2</th>\n",
       "      <td>Paleogene</td>\n",
       "      <td>66 to 23 million years ago</td>\n",
       "      <td>Derived from the Greek words παλιός (palaiós) ...</td>\n",
       "    </tr>\n",
       "    <tr>\n",
       "      <th>3</th>\n",
       "      <td>Cretaceous</td>\n",
       "      <td>145 to 66 million years ago</td>\n",
       "      <td>Derived from Terrain Crétacé used in 1822 by J...</td>\n",
       "    </tr>\n",
       "    <tr>\n",
       "      <th>4</th>\n",
       "      <td>Jurassic</td>\n",
       "      <td>201.3 to 145 million years ago</td>\n",
       "      <td>Named after the Jura Mountains. Originally use...</td>\n",
       "    </tr>\n",
       "  </tbody>\n",
       "</table>\n",
       "</div>"
      ],
      "text/plain": [
       "         Name                       Time Span  \\\n",
       "0  Quaternary      2.6 to 0 million years ago   \n",
       "1     Neogene     23 to 2.6 million years ago   \n",
       "2   Paleogene      66 to 23 million years ago   \n",
       "3  Cretaceous     145 to 66 million years ago   \n",
       "4    Jurassic  201.3 to 145 million years ago   \n",
       "\n",
       "                                   Etymology of name  \n",
       "0  First introduced by Jules Desnoyers in 1829 fo...  \n",
       "1  Derived from the Greek words νέος (néos) meani...  \n",
       "2  Derived from the Greek words παλιός (palaiós) ...  \n",
       "3  Derived from Terrain Crétacé used in 1822 by J...  \n",
       "4  Named after the Jura Mountains. Originally use...  "
      ]
     },
     "execution_count": 9,
     "metadata": {},
     "output_type": "execute_result"
    }
   ],
   "source": [
    "tables[3].head()"
   ]
  },
  {
   "cell_type": "code",
   "execution_count": 8,
   "id": "5cc0dff2-0660-4a41-826e-a36cdf362fce",
   "metadata": {},
   "outputs": [],
   "source": [
    "ice='GISP2 dataset from Alley (2000)'\n",
    "url='ftp://ftp.ncdc.noaa.gov/pub/data/paleo/icecore/greenland/summit/gisp2/isotopes/gisp2_temp_accum_alley2000.txt'"
   ]
  },
  {
   "cell_type": "code",
   "execution_count": 10,
   "id": "1397bd8e-64d2-4ea1-b036-e6240c29b69d",
   "metadata": {},
   "outputs": [],
   "source": [
    "import downloader"
   ]
  },
  {
   "cell_type": "code",
   "execution_count": 11,
   "id": "3640f121-9f28-43e5-8d2d-cb4a593f3b8f",
   "metadata": {},
   "outputs": [],
   "source": [
    "dl=downloader.Downloader()"
   ]
  },
  {
   "cell_type": "code",
   "execution_count": 23,
   "id": "78232802-e449-46c8-9b5f-2f68a1ad7b65",
   "metadata": {},
   "outputs": [],
   "source": [
    "raw=dl.get(url, transforms='decode')"
   ]
  },
  {
   "cell_type": "code",
   "execution_count": null,
   "id": "2410cbec-a887-4dbb-9f16-2f556a3495bc",
   "metadata": {},
   "outputs": [],
   "source": []
  }
 ],
 "metadata": {
  "kernelspec": {
   "display_name": "Python 3 (ipykernel)",
   "language": "python",
   "name": "python3"
  },
  "language_info": {
   "codemirror_mode": {
    "name": "ipython",
    "version": 3
   },
   "file_extension": ".py",
   "mimetype": "text/x-python",
   "name": "python",
   "nbconvert_exporter": "python",
   "pygments_lexer": "ipython3",
   "version": "3.10.5"
  }
 },
 "nbformat": 4,
 "nbformat_minor": 5
}
