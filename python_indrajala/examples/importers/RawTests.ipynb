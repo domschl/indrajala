{
 "cells": [
  {
   "cell_type": "code",
   "execution_count": 55,
   "id": "f2bdfbf3-e08c-4c18-8e08-bdda7e8c03c2",
   "metadata": {},
   "outputs": [],
   "source": [
    "import logging\n",
    "import pandas as pd\n",
    "import numpy as np"
   ]
  },
  {
   "cell_type": "code",
   "execution_count": 56,
   "id": "1536e2d5-3f7c-4cd5-bce1-98bd685bab9e",
   "metadata": {},
   "outputs": [
    {
     "name": "stdout",
     "output_type": "stream",
     "text": [
      "The autoreload extension is already loaded. To reload it, use:\n",
      "  %reload_ext autoreload\n"
     ]
    }
   ],
   "source": [
    "%load_ext autoreload\n",
    "%autoreload 2\n",
    "from IPython.display import display, HTML"
   ]
  },
  {
   "cell_type": "code",
   "execution_count": 57,
   "id": "9b8d5e7f-9794-4e2e-b12b-0db2fbfdbbfe",
   "metadata": {},
   "outputs": [],
   "source": [
    "logging.basicConfig(format='%(asctime)s %(levelname)s %(name)s %(message)s', level=logging.INFO)"
   ]
  },
  {
   "cell_type": "code",
   "execution_count": 97,
   "id": "1397bd8e-64d2-4ea1-b036-e6240c29b69d",
   "metadata": {},
   "outputs": [],
   "source": [
    "import downloader"
   ]
  },
  {
   "cell_type": "code",
   "execution_count": 98,
   "id": "2410cbec-a887-4dbb-9f16-2f556a3495bc",
   "metadata": {},
   "outputs": [],
   "source": [
    "import download_datasets"
   ]
  },
  {
   "cell_type": "code",
   "execution_count": 99,
   "id": "8b8a146f-53ce-4f32-a2a6-f36932118e51",
   "metadata": {},
   "outputs": [
    {
     "name": "stderr",
     "output_type": "stream",
     "text": [
      "2022-07-24 19:17:31,792 INFO root processing: data_sources/MaunaLoaCO2MonthlyMean.toml\n",
      "2022-07-24 19:17:32,707 INFO Downloader Creating dataset MaunaLoaMonthlyCO2\n",
      "2022-07-24 19:17:32,729 INFO root processing: data_sources/EuropeanMeanTemperatureSinceRomanTime_EuroMed2k.toml\n",
      "2022-07-24 19:17:33,478 INFO Downloader Creating dataset euromed2k\n",
      "2022-07-24 19:17:33,502 INFO root processing: data_sources/LawDome2006.toml\n",
      "2022-07-24 19:17:34,485 INFO Downloader Creating dataset LawDome2006_CO2_CH4_N20\n",
      "2022-07-24 19:17:34,522 INFO Downloader Creating dataset LawDome2006_CO2_Core_DSS_Eth1996\n",
      "2022-07-24 19:17:34,525 INFO Downloader Creating dataset LawDome2006_CO2_Core_DSS_MacFM20042006\n",
      "2022-07-24 19:17:34,528 INFO Downloader Creating dataset LawDome2006_CO2_Core_DE08-2_Eth1996\n",
      "2022-07-24 19:17:34,530 INFO Downloader Creating dataset LawDome2006_CO2_Core_DE08-2_MacFM20042006\n",
      "2022-07-24 19:17:34,532 INFO Downloader Creating dataset LawDome2006_CO2_Core_DE08_Eth1996\n",
      "2022-07-24 19:17:34,535 INFO Downloader Creating dataset LawDome2006_CO2_Core_DE08_MacFM20042006\n",
      "2022-07-24 19:17:34,537 INFO Downloader Creating dataset LawDome2006_CO2_Core_DSSW20Kfirn\n",
      "2022-07-24 19:17:34,539 INFO Downloader Creating dataset LawDome2006_CO2_Core_CAPEGRIM\n",
      "2022-07-24 19:17:34,541 INFO Downloader Creating dataset LawDome2006_CO2_All\n",
      "2022-07-24 19:17:34,544 INFO Downloader Creating dataset LawDome2006_CH4_Core_DSS_Eth1996\n",
      "2022-07-24 19:17:34,546 INFO Downloader Creating dataset LawDome2006_CH4_Core_DSS_MacFM20042006\n",
      "2022-07-24 19:17:34,548 INFO Downloader Creating dataset LawDome2006_CH4_Core_DE08-2_Eth1996\n",
      "2022-07-24 19:17:34,550 INFO Downloader Creating dataset LawDome2006_CH4_Core_DE08-2_MacFM20042006\n",
      "2022-07-24 19:17:34,552 INFO Downloader Creating dataset LawDome2006_CH4_Core_DE08_Eth1996\n",
      "2022-07-24 19:17:34,554 INFO Downloader Creating dataset LawDome2006_CH4_Core_DE08_MacFM20042006\n",
      "2022-07-24 19:17:34,556 INFO Downloader Creating dataset LawDome2006_CH4_Core_DSSW20Kfirn\n",
      "2022-07-24 19:17:34,557 INFO Downloader Creating dataset LawDome2006_CH4_Core_CAPEGRIM\n",
      "2022-07-24 19:17:34,559 INFO Downloader Creating dataset LawDome2006_CH4_All\n",
      "2022-07-24 19:17:34,561 INFO Downloader Creating dataset LawDome2006_N20_Core_DSS_MacFM20042006\n",
      "2022-07-24 19:17:34,563 INFO Downloader Creating dataset LawDome2006_N20_Core_DSS08-2_MacFM20042006\n",
      "2022-07-24 19:17:34,565 INFO Downloader Creating dataset LawDome2006_N20_Core_DSS08_MacFM20042006\n",
      "2022-07-24 19:17:34,566 INFO Downloader Creating dataset LawDome2006_N20_Core_DSSW20Kfirn\n",
      "2022-07-24 19:17:34,568 INFO Downloader Creating dataset LawDome2006_N20_Core_CAPEGRIM\n",
      "2022-07-24 19:17:34,569 INFO Downloader Creating dataset LawDome2006_N20_All\n",
      "2022-07-24 19:17:34,571 INFO root processing: data_sources/MaunaLoaCO2WeeklyMeanHistorical.toml\n",
      "2022-07-24 19:17:35,393 INFO Downloader Creating dataset MaunaLoaWeeklyHistoricalCO2\n",
      "2022-07-24 19:17:35,429 INFO root processing: data_sources/WikipediaGeologicTimeScales.toml\n",
      "2022-07-24 19:17:35,543 INFO Downloader Creating dataset geologictimescale\n",
      "2022-07-24 19:17:35,666 INFO root processing: data_sources/DWDGermanJuneMeanTemperature.toml\n",
      "2022-07-24 19:17:35,834 INFO Downloader Creating dataset germany_june_meantemp\n",
      "2022-07-24 19:17:35,842 INFO root processing: data_sources/11000yearsunspotnumber.toml\n",
      "2022-07-24 19:17:36,548 INFO Downloader Creating dataset sunspots11000yrs\n",
      "2022-07-24 19:17:36,566 INFO root processing: data_sources/DWDGermanAugustMeanTemperature.toml\n",
      "2022-07-24 19:17:36,736 INFO Downloader Creating dataset germany_august_meantemp\n",
      "2022-07-24 19:17:36,751 INFO root processing: data_sources/DWDGermanJulyMeanTemperature.toml\n",
      "2022-07-24 19:17:36,874 INFO Downloader Creating dataset germany_july_meantemp\n",
      "2022-07-24 19:17:36,888 INFO root processing: data_sources/SunspotsMonthlyMean.toml\n",
      "2022-07-24 19:17:37,260 INFO Downloader Creating dataset sunspotsmonthlymean1749\n",
      "2022-07-24 19:17:37,307 INFO root processing: data_sources/LawDome2018CO2.toml\n",
      "2022-07-24 19:17:37,904 INFO Downloader Creating dataset LawDome2018CO2\n",
      "2022-07-24 19:17:37,913 INFO root processing: data_sources/DomeC2006CO2.toml\n",
      "2022-07-24 19:17:37,925 INFO Downloader Test for redirect: https://doi.pangaea.de/10.1594/PANGAEA.472488?format=textfile\n",
      "2022-07-24 19:17:38,290 INFO Downloader ReqInfo: <Response [200]>\n",
      "2022-07-24 19:17:38,292 INFO Downloader Creating dataset DomeC2016CO2\n",
      "2022-07-24 19:17:38,297 INFO root processing: data_sources/GISP2IceCoreTemperatureAlley2004.toml\n",
      "2022-07-24 19:17:40,538 INFO Downloader Creating dataset gisp2icecoretemp\n",
      "2022-07-24 19:17:40,555 INFO Downloader Creating dataset gisp2icecoreaccum\n",
      "2022-07-24 19:17:40,566 INFO root processing: data_sources/EarlyCenozoicLiverwortBryocarbCO2Data.toml\n",
      "2022-07-24 19:17:41,290 INFO Downloader Creating dataset CenozoicCO2\n",
      "2022-07-24 19:17:41,578 INFO Downloader Creating dataset CenozoicCO2Filtered\n"
     ]
    }
   ],
   "source": [
    "dfs=download_datasets.get_datasets()"
   ]
  },
  {
   "cell_type": "code",
   "execution_count": 100,
   "id": "c248bb65-8f1e-4044-8d6e-d5cbde9bbab7",
   "metadata": {},
   "outputs": [
    {
     "name": "stdout",
     "output_type": "stream",
     "text": [
      " Datasets: 40\n",
      "----co2----:\n",
      "MaunaLoaMonthlyCO2 LawDome2006_CO2_CH4_N20 LawDome2006_CO2_Core_DSS_Eth1996 LawDome2006_CO2_Core_DSS_MacFM20042006 LawDome2006_CO2_Core_DE08-2_Eth1996 LawDome2006_CO2_Core_DE08-2_MacFM20042006 LawDome2006_CO2_Core_DE08_Eth1996 LawDome2006_CO2_Core_DE08_MacFM20042006 LawDome2006_CO2_Core_DSSW20Kfirn LawDome2006_CO2_Core_CAPEGRIM LawDome2006_CO2_All LawDome2006_CH4_Core_DSS_Eth1996 LawDome2006_CH4_Core_DSS_MacFM20042006 LawDome2006_CH4_Core_DE08-2_Eth1996 LawDome2006_CH4_Core_DE08-2_MacFM20042006 LawDome2006_CH4_Core_DE08_Eth1996 LawDome2006_CH4_Core_DE08_MacFM20042006 LawDome2006_CH4_Core_DSSW20Kfirn LawDome2006_CH4_Core_CAPEGRIM LawDome2006_CH4_All LawDome2006_N20_Core_DSS_MacFM20042006 LawDome2006_N20_Core_DSS08-2_MacFM20042006 LawDome2006_N20_Core_DSS08_MacFM20042006 LawDome2006_N20_Core_DSSW20Kfirn LawDome2006_N20_Core_CAPEGRIM LawDome2006_N20_All MaunaLoaWeeklyHistoricalCO2 LawDome2018CO2 DomeC2016CO2 CenozoicCO2 CenozoicCO2Filtered \n",
      "\n",
      "----mauna_loa----:\n",
      "MaunaLoaMonthlyCO2 MaunaLoaWeeklyHistoricalCO2 \n",
      "\n",
      "----direct_measurement----:\n",
      "MaunaLoaMonthlyCO2 MaunaLoaWeeklyHistoricalCO2 germany_june_meantemp germany_august_meantemp germany_july_meantemp sunspotsmonthlymean1749 \n",
      "\n",
      "----temperature----:\n",
      "euromed2k germany_june_meantemp germany_august_meantemp germany_july_meantemp gisp2icecoretemp gisp2icecoreaccum \n",
      "\n",
      "----tree_ring----:\n",
      "euromed2k \n",
      "\n",
      "----europe----:\n",
      "euromed2k \n",
      "\n",
      "----summer----:\n",
      "euromed2k germany_june_meantemp germany_august_meantemp germany_july_meantemp \n",
      "\n",
      "----ch4----:\n",
      "LawDome2006_CO2_CH4_N20 LawDome2006_CO2_Core_DSS_Eth1996 LawDome2006_CO2_Core_DSS_MacFM20042006 LawDome2006_CO2_Core_DE08-2_Eth1996 LawDome2006_CO2_Core_DE08-2_MacFM20042006 LawDome2006_CO2_Core_DE08_Eth1996 LawDome2006_CO2_Core_DE08_MacFM20042006 LawDome2006_CO2_Core_DSSW20Kfirn LawDome2006_CO2_Core_CAPEGRIM LawDome2006_CO2_All LawDome2006_CH4_Core_DSS_Eth1996 LawDome2006_CH4_Core_DSS_MacFM20042006 LawDome2006_CH4_Core_DE08-2_Eth1996 LawDome2006_CH4_Core_DE08-2_MacFM20042006 LawDome2006_CH4_Core_DE08_Eth1996 LawDome2006_CH4_Core_DE08_MacFM20042006 LawDome2006_CH4_Core_DSSW20Kfirn LawDome2006_CH4_Core_CAPEGRIM LawDome2006_CH4_All LawDome2006_N20_Core_DSS_MacFM20042006 LawDome2006_N20_Core_DSS08-2_MacFM20042006 LawDome2006_N20_Core_DSS08_MacFM20042006 LawDome2006_N20_Core_DSSW20Kfirn LawDome2006_N20_Core_CAPEGRIM LawDome2006_N20_All \n",
      "\n",
      "----n20----:\n",
      "LawDome2006_CO2_CH4_N20 LawDome2006_CO2_Core_DSS_Eth1996 LawDome2006_CO2_Core_DSS_MacFM20042006 LawDome2006_CO2_Core_DE08-2_Eth1996 LawDome2006_CO2_Core_DE08-2_MacFM20042006 LawDome2006_CO2_Core_DE08_Eth1996 LawDome2006_CO2_Core_DE08_MacFM20042006 LawDome2006_CO2_Core_DSSW20Kfirn LawDome2006_CO2_Core_CAPEGRIM LawDome2006_CO2_All LawDome2006_CH4_Core_DSS_Eth1996 LawDome2006_CH4_Core_DSS_MacFM20042006 LawDome2006_CH4_Core_DE08-2_Eth1996 LawDome2006_CH4_Core_DE08-2_MacFM20042006 LawDome2006_CH4_Core_DE08_Eth1996 LawDome2006_CH4_Core_DE08_MacFM20042006 LawDome2006_CH4_Core_DSSW20Kfirn LawDome2006_CH4_Core_CAPEGRIM LawDome2006_CH4_All LawDome2006_N20_Core_DSS_MacFM20042006 LawDome2006_N20_Core_DSS08-2_MacFM20042006 LawDome2006_N20_Core_DSS08_MacFM20042006 LawDome2006_N20_Core_DSSW20Kfirn LawDome2006_N20_Core_CAPEGRIM LawDome2006_N20_All \n",
      "\n",
      "----icecore----:\n",
      "LawDome2006_CO2_CH4_N20 LawDome2006_CO2_Core_DSS_Eth1996 LawDome2006_CO2_Core_DSS_MacFM20042006 LawDome2006_CO2_Core_DE08-2_Eth1996 LawDome2006_CO2_Core_DE08-2_MacFM20042006 LawDome2006_CO2_Core_DE08_Eth1996 LawDome2006_CO2_Core_DE08_MacFM20042006 LawDome2006_CO2_Core_DSSW20Kfirn LawDome2006_CO2_Core_CAPEGRIM LawDome2006_CO2_All LawDome2006_CH4_Core_DSS_Eth1996 LawDome2006_CH4_Core_DSS_MacFM20042006 LawDome2006_CH4_Core_DE08-2_Eth1996 LawDome2006_CH4_Core_DE08-2_MacFM20042006 LawDome2006_CH4_Core_DE08_Eth1996 LawDome2006_CH4_Core_DE08_MacFM20042006 LawDome2006_CH4_Core_DSSW20Kfirn LawDome2006_CH4_Core_CAPEGRIM LawDome2006_CH4_All LawDome2006_N20_Core_DSS_MacFM20042006 LawDome2006_N20_Core_DSS08-2_MacFM20042006 LawDome2006_N20_Core_DSS08_MacFM20042006 LawDome2006_N20_Core_DSSW20Kfirn LawDome2006_N20_Core_CAPEGRIM LawDome2006_N20_All LawDome2018CO2 DomeC2016CO2 gisp2icecoretemp gisp2icecoreaccum \n",
      "\n",
      "----antarctica----:\n",
      "LawDome2006_CO2_CH4_N20 LawDome2006_CO2_Core_DSS_Eth1996 LawDome2006_CO2_Core_DSS_MacFM20042006 LawDome2006_CO2_Core_DE08-2_Eth1996 LawDome2006_CO2_Core_DE08-2_MacFM20042006 LawDome2006_CO2_Core_DE08_Eth1996 LawDome2006_CO2_Core_DE08_MacFM20042006 LawDome2006_CO2_Core_DSSW20Kfirn LawDome2006_CO2_Core_CAPEGRIM LawDome2006_CO2_All LawDome2006_CH4_Core_DSS_Eth1996 LawDome2006_CH4_Core_DSS_MacFM20042006 LawDome2006_CH4_Core_DE08-2_Eth1996 LawDome2006_CH4_Core_DE08-2_MacFM20042006 LawDome2006_CH4_Core_DE08_Eth1996 LawDome2006_CH4_Core_DE08_MacFM20042006 LawDome2006_CH4_Core_DSSW20Kfirn LawDome2006_CH4_Core_CAPEGRIM LawDome2006_CH4_All LawDome2006_N20_Core_DSS_MacFM20042006 LawDome2006_N20_Core_DSS08-2_MacFM20042006 LawDome2006_N20_Core_DSS08_MacFM20042006 LawDome2006_N20_Core_DSSW20Kfirn LawDome2006_N20_Core_CAPEGRIM LawDome2006_N20_All LawDome2018CO2 DomeC2016CO2 \n",
      "\n",
      "----time_interval_names----:\n",
      "geologictimescale \n",
      "\n",
      "----germany----:\n",
      "germany_june_meantemp germany_august_meantemp germany_july_meantemp \n",
      "\n",
      "----sunspots----:\n",
      "sunspots11000yrs sunspotsmonthlymean1749 \n",
      "\n",
      "----greenland----:\n",
      "gisp2icecoretemp gisp2icecoreaccum \n",
      "\n"
     ]
    }
   ],
   "source": [
    "print(f\" Datasets: {len(dfs.keys())}\")\n",
    "tags=[]\n",
    "for ds in dfs:\n",
    "    for tag in dfs[ds]['metadata']['tags']:\n",
    "        if tag not in tags:\n",
    "            tags.append(tag)\n",
    "for tag in tags:\n",
    "    print(f\"----{tag}----:\")\n",
    "    for ds in dfs:\n",
    "        if tag in dfs[ds]['metadata']['tags']:\n",
    "            print(f\"{ds} \", end=\"\")\n",
    "    print()\n",
    "    print()"
   ]
  },
  {
   "cell_type": "code",
   "execution_count": 101,
   "id": "f1da5ae5-d097-44af-ac96-5e658c11f475",
   "metadata": {},
   "outputs": [
    {
     "name": "stdout",
     "output_type": "stream",
     "text": [
      "\n",
      "---------------------------------------------------------------------------------\n",
      "Dataset MaunaLoaMonthlyCO2 ['co2', 'mauna_loa', 'direct_measurement']\n",
      "\n"
     ]
    },
    {
     "data": {
      "text/html": [
       "description: Data from March 1958 through April 1974 have been obtained by C. David Keeling of the Scripps Institution of Oceanography (SIO) and were obtained from the Scripps website (scrippsco2.ucsd.edu). Monthly mean CO2 constructed from daily mean values Scripps data downloaded from http://scrippsco2.ucsd.edu/data/atmospheric_co2 Monthly values are corrected to center of month based on average seasonal cycle. Missing days can be asymmetric which would produce a high or low bias. Missing months have been interpolated, for NOAA data indicated by negative stdev and uncertainty. We have no information for SIO data about Ndays, stdv, unc so that they are also indicated by negative numbers"
      ],
      "text/plain": [
       "<IPython.core.display.HTML object>"
      ]
     },
     "metadata": {},
     "output_type": "display_data"
    },
    {
     "data": {
      "text/html": [
       "authors: ['Dr. Pieter Tans', 'Dr. Ralph Keeling']"
      ],
      "text/plain": [
       "<IPython.core.display.HTML object>"
      ]
     },
     "metadata": {},
     "output_type": "display_data"
    },
    {
     "data": {
      "text/html": [
       "publication_date: 2022-06"
      ],
      "text/plain": [
       "<IPython.core.display.HTML object>"
      ]
     },
     "metadata": {},
     "output_type": "display_data"
    },
    {
     "data": {
      "text/html": [
       "last_update: 2022-06"
      ],
      "text/plain": [
       "<IPython.core.display.HTML object>"
      ]
     },
     "metadata": {},
     "output_type": "display_data"
    },
    {
     "data": {
      "text/html": [
       "publisher: Dr. Pieter Tans, NOAA/GML (gml.noaa.gov/ccgg/trends/) and Dr. Ralph Keeling, Scripps Institution of Oceanography (scrippsco2.ucsd.edu/)."
      ],
      "text/plain": [
       "<IPython.core.display.HTML object>"
      ]
     },
     "metadata": {},
     "output_type": "display_data"
    },
    {
     "data": {
      "text/html": [
       "id: "
      ],
      "text/plain": [
       "<IPython.core.display.HTML object>"
      ]
     },
     "metadata": {},
     "output_type": "display_data"
    },
    {
     "data": {
      "text/html": [
       "version: "
      ],
      "text/plain": [
       "<IPython.core.display.HTML object>"
      ]
     },
     "metadata": {},
     "output_type": "display_data"
    },
    {
     "data": {
      "text/html": [
       "data_source: https://gml.noaa.gov/webdata/ccgg/trends/co2/co2_mm_mlo.csv"
      ],
      "text/plain": [
       "<IPython.core.display.HTML object>"
      ]
     },
     "metadata": {},
     "output_type": "display_data"
    },
    {
     "data": {
      "text/html": [
       "related_publications: ['https://gml.noaa.gov/ccgg/trends/data.html']"
      ],
      "text/plain": [
       "<IPython.core.display.HTML object>"
      ]
     },
     "metadata": {},
     "output_type": "display_data"
    },
    {
     "data": {
      "text/html": [
       "<div>\n",
       "<style scoped>\n",
       "    .dataframe tbody tr th:only-of-type {\n",
       "        vertical-align: middle;\n",
       "    }\n",
       "\n",
       "    .dataframe tbody tr th {\n",
       "        vertical-align: top;\n",
       "    }\n",
       "\n",
       "    .dataframe thead th {\n",
       "        text-align: right;\n",
       "    }\n",
       "</style>\n",
       "<table border=\"1\" class=\"dataframe\">\n",
       "  <thead>\n",
       "    <tr style=\"text-align: right;\">\n",
       "      <th></th>\n",
       "      <th>year</th>\n",
       "      <th>month</th>\n",
       "      <th>decimal date</th>\n",
       "      <th>average</th>\n",
       "      <th>deseasonalized</th>\n",
       "      <th>ndays</th>\n",
       "      <th>sdev</th>\n",
       "      <th>unc</th>\n",
       "    </tr>\n",
       "  </thead>\n",
       "  <tbody>\n",
       "    <tr>\n",
       "      <th>0</th>\n",
       "      <td>1958</td>\n",
       "      <td>3</td>\n",
       "      <td>1958.2027</td>\n",
       "      <td>315.70</td>\n",
       "      <td>314.43</td>\n",
       "      <td>NaN</td>\n",
       "      <td>NaN</td>\n",
       "      <td>NaN</td>\n",
       "    </tr>\n",
       "    <tr>\n",
       "      <th>1</th>\n",
       "      <td>1958</td>\n",
       "      <td>4</td>\n",
       "      <td>1958.2877</td>\n",
       "      <td>317.45</td>\n",
       "      <td>315.16</td>\n",
       "      <td>NaN</td>\n",
       "      <td>NaN</td>\n",
       "      <td>NaN</td>\n",
       "    </tr>\n",
       "    <tr>\n",
       "      <th>2</th>\n",
       "      <td>1958</td>\n",
       "      <td>5</td>\n",
       "      <td>1958.3699</td>\n",
       "      <td>317.51</td>\n",
       "      <td>314.71</td>\n",
       "      <td>NaN</td>\n",
       "      <td>NaN</td>\n",
       "      <td>NaN</td>\n",
       "    </tr>\n",
       "    <tr>\n",
       "      <th>3</th>\n",
       "      <td>1958</td>\n",
       "      <td>6</td>\n",
       "      <td>1958.4548</td>\n",
       "      <td>317.24</td>\n",
       "      <td>315.14</td>\n",
       "      <td>NaN</td>\n",
       "      <td>NaN</td>\n",
       "      <td>NaN</td>\n",
       "    </tr>\n",
       "    <tr>\n",
       "      <th>4</th>\n",
       "      <td>1958</td>\n",
       "      <td>7</td>\n",
       "      <td>1958.5370</td>\n",
       "      <td>315.86</td>\n",
       "      <td>315.18</td>\n",
       "      <td>NaN</td>\n",
       "      <td>NaN</td>\n",
       "      <td>NaN</td>\n",
       "    </tr>\n",
       "    <tr>\n",
       "      <th>...</th>\n",
       "      <td>...</td>\n",
       "      <td>...</td>\n",
       "      <td>...</td>\n",
       "      <td>...</td>\n",
       "      <td>...</td>\n",
       "      <td>...</td>\n",
       "      <td>...</td>\n",
       "      <td>...</td>\n",
       "    </tr>\n",
       "    <tr>\n",
       "      <th>767</th>\n",
       "      <td>2022</td>\n",
       "      <td>2</td>\n",
       "      <td>2022.1250</td>\n",
       "      <td>419.28</td>\n",
       "      <td>418.32</td>\n",
       "      <td>27.0</td>\n",
       "      <td>0.92</td>\n",
       "      <td>0.34</td>\n",
       "    </tr>\n",
       "    <tr>\n",
       "      <th>768</th>\n",
       "      <td>2022</td>\n",
       "      <td>3</td>\n",
       "      <td>2022.2083</td>\n",
       "      <td>418.81</td>\n",
       "      <td>417.33</td>\n",
       "      <td>30.0</td>\n",
       "      <td>0.78</td>\n",
       "      <td>0.27</td>\n",
       "    </tr>\n",
       "    <tr>\n",
       "      <th>769</th>\n",
       "      <td>2022</td>\n",
       "      <td>4</td>\n",
       "      <td>2022.2917</td>\n",
       "      <td>420.23</td>\n",
       "      <td>417.56</td>\n",
       "      <td>28.0</td>\n",
       "      <td>0.85</td>\n",
       "      <td>0.31</td>\n",
       "    </tr>\n",
       "    <tr>\n",
       "      <th>770</th>\n",
       "      <td>2022</td>\n",
       "      <td>5</td>\n",
       "      <td>2022.3750</td>\n",
       "      <td>420.99</td>\n",
       "      <td>417.60</td>\n",
       "      <td>30.0</td>\n",
       "      <td>0.76</td>\n",
       "      <td>0.27</td>\n",
       "    </tr>\n",
       "    <tr>\n",
       "      <th>771</th>\n",
       "      <td>2022</td>\n",
       "      <td>6</td>\n",
       "      <td>2022.4583</td>\n",
       "      <td>420.99</td>\n",
       "      <td>418.56</td>\n",
       "      <td>28.0</td>\n",
       "      <td>0.30</td>\n",
       "      <td>0.11</td>\n",
       "    </tr>\n",
       "  </tbody>\n",
       "</table>\n",
       "<p>772 rows × 8 columns</p>\n",
       "</div>"
      ],
      "text/plain": [
       "     year  month  decimal date  average  deseasonalized  ndays  sdev   unc\n",
       "0    1958      3     1958.2027   315.70          314.43    NaN   NaN   NaN\n",
       "1    1958      4     1958.2877   317.45          315.16    NaN   NaN   NaN\n",
       "2    1958      5     1958.3699   317.51          314.71    NaN   NaN   NaN\n",
       "3    1958      6     1958.4548   317.24          315.14    NaN   NaN   NaN\n",
       "4    1958      7     1958.5370   315.86          315.18    NaN   NaN   NaN\n",
       "..    ...    ...           ...      ...             ...    ...   ...   ...\n",
       "767  2022      2     2022.1250   419.28          418.32   27.0  0.92  0.34\n",
       "768  2022      3     2022.2083   418.81          417.33   30.0  0.78  0.27\n",
       "769  2022      4     2022.2917   420.23          417.56   28.0  0.85  0.31\n",
       "770  2022      5     2022.3750   420.99          417.60   30.0  0.76  0.27\n",
       "771  2022      6     2022.4583   420.99          418.56   28.0  0.30  0.11\n",
       "\n",
       "[772 rows x 8 columns]"
      ]
     },
     "metadata": {},
     "output_type": "display_data"
    },
    {
     "name": "stdout",
     "output_type": "stream",
     "text": [
      "\n",
      "---------------------------------------------------------------------------------\n",
      "Dataset euromed2k ['temperature', 'tree_ring', 'europe', 'summer']\n",
      "\n"
     ]
    },
    {
     "data": {
      "text/html": [
       "description: Spatial (5x5 degree grid) reconstructions of European summer (June-August) temperature back to 755 CE based on a Bayesian hierarchical modelling (BHM), plus estimates of the European mean temperature variation since 138 BCE, based on composite-plus-scaling (CPS)."
      ],
      "text/plain": [
       "<IPython.core.display.HTML object>"
      ]
     },
     "metadata": {},
     "output_type": "display_data"
    },
    {
     "data": {
      "text/html": [
       "authors: ['Luterbacher, J.', 'Werner, J.P.', 'Smerdon, J.E.', 'Fernández-Donado, L.', 'González-Rouco, J.F.', 'Barriopedro, D.', 'Ljungqvist, F.C.', 'Büntgen, U.', 'Zorita, E.', 'Wagner, S.', 'Esper, J.', 'McCarroll, D.', 'Toreti, A.', 'Frank, D.C.', 'Jungclaus, J.H.', 'Barriendos, M.', 'Bertolin, C.', 'Bothe, O.', 'Brázdil, R.', 'Camuffo, D.', 'Dobrovolný, P.', 'Gagen, M.H.', 'García-Bustamante, E.', 'Ge, Q.', 'Gómez-Navarro, J.J.', 'Guiot, J.', 'Hao, Z.', 'Hegerl, G.C.', 'Holmgren, K.', 'Klimenko, V.V.', 'Martín-Chivelet, J.', 'Pfister, C.', 'Roberts, N.', 'Schindler, A.', 'Schurer, A.P.', 'Solomina, O.', 'von Gunten, L.', 'Wahl, E.R.', 'Wanner, H.', 'Wetter, O.', 'Xoplaki, E.', 'Yuan, N.', 'Zanchettin, D.', 'Zhang, H.', 'Zerefos, C.']"
      ],
      "text/plain": [
       "<IPython.core.display.HTML object>"
      ]
     },
     "metadata": {},
     "output_type": "display_data"
    },
    {
     "data": {
      "text/html": [
       "publication_date: 2016-01-04"
      ],
      "text/plain": [
       "<IPython.core.display.HTML object>"
      ]
     },
     "metadata": {},
     "output_type": "display_data"
    },
    {
     "data": {
      "text/html": [
       "publisher: Environmental Research Letters, 11, 2, 024001"
      ],
      "text/plain": [
       "<IPython.core.display.HTML object>"
      ]
     },
     "metadata": {},
     "output_type": "display_data"
    },
    {
     "data": {
      "text/html": [
       "id: doi: 10.1088/1748-9326/11/2/024001"
      ],
      "text/plain": [
       "<IPython.core.display.HTML object>"
      ]
     },
     "metadata": {},
     "output_type": "display_data"
    },
    {
     "data": {
      "text/html": [
       "version: "
      ],
      "text/plain": [
       "<IPython.core.display.HTML object>"
      ]
     },
     "metadata": {},
     "output_type": "display_data"
    },
    {
     "data": {
      "text/html": [
       "data_source: https://www.ncei.noaa.gov/pub/data/paleo/pages2k/EuroMed2k/eujja_2krecon_nested_cps.txt"
      ],
      "text/plain": [
       "<IPython.core.display.HTML object>"
      ]
     },
     "metadata": {},
     "output_type": "display_data"
    },
    {
     "data": {
      "text/html": [
       "related_publications: ['https://www.ncei.noaa.gov/access/paleo-search/study/19600']"
      ],
      "text/plain": [
       "<IPython.core.display.HTML object>"
      ]
     },
     "metadata": {},
     "output_type": "display_data"
    },
    {
     "data": {
      "text/html": [
       "<div>\n",
       "<style scoped>\n",
       "    .dataframe tbody tr th:only-of-type {\n",
       "        vertical-align: middle;\n",
       "    }\n",
       "\n",
       "    .dataframe tbody tr th {\n",
       "        vertical-align: top;\n",
       "    }\n",
       "\n",
       "    .dataframe thead th {\n",
       "        text-align: right;\n",
       "    }\n",
       "</style>\n",
       "<table border=\"1\" class=\"dataframe\">\n",
       "  <thead>\n",
       "    <tr style=\"text-align: right;\">\n",
       "      <th></th>\n",
       "      <th>Year</th>\n",
       "      <th>Mean</th>\n",
       "      <th>Lower2sigma</th>\n",
       "      <th>Upper2sigma</th>\n",
       "    </tr>\n",
       "  </thead>\n",
       "  <tbody>\n",
       "    <tr>\n",
       "      <th>0</th>\n",
       "      <td>-138</td>\n",
       "      <td>-0.037309</td>\n",
       "      <td>-0.85472</td>\n",
       "      <td>0.76376</td>\n",
       "    </tr>\n",
       "    <tr>\n",
       "      <th>1</th>\n",
       "      <td>-137</td>\n",
       "      <td>-0.029138</td>\n",
       "      <td>-0.92172</td>\n",
       "      <td>0.81199</td>\n",
       "    </tr>\n",
       "    <tr>\n",
       "      <th>2</th>\n",
       "      <td>-136</td>\n",
       "      <td>-0.066622</td>\n",
       "      <td>-0.91555</td>\n",
       "      <td>0.74954</td>\n",
       "    </tr>\n",
       "    <tr>\n",
       "      <th>3</th>\n",
       "      <td>-135</td>\n",
       "      <td>-0.435790</td>\n",
       "      <td>-1.27780</td>\n",
       "      <td>0.35291</td>\n",
       "    </tr>\n",
       "    <tr>\n",
       "      <th>4</th>\n",
       "      <td>-134</td>\n",
       "      <td>-0.503160</td>\n",
       "      <td>-1.32540</td>\n",
       "      <td>0.27134</td>\n",
       "    </tr>\n",
       "    <tr>\n",
       "      <th>...</th>\n",
       "      <td>...</td>\n",
       "      <td>...</td>\n",
       "      <td>...</td>\n",
       "      <td>...</td>\n",
       "    </tr>\n",
       "    <tr>\n",
       "      <th>2136</th>\n",
       "      <td>1999</td>\n",
       "      <td>0.789580</td>\n",
       "      <td>0.13234</td>\n",
       "      <td>1.57860</td>\n",
       "    </tr>\n",
       "    <tr>\n",
       "      <th>2137</th>\n",
       "      <td>2000</td>\n",
       "      <td>0.852750</td>\n",
       "      <td>0.21043</td>\n",
       "      <td>1.60250</td>\n",
       "    </tr>\n",
       "    <tr>\n",
       "      <th>2138</th>\n",
       "      <td>2001</td>\n",
       "      <td>0.947810</td>\n",
       "      <td>0.27156</td>\n",
       "      <td>1.81780</td>\n",
       "    </tr>\n",
       "    <tr>\n",
       "      <th>2139</th>\n",
       "      <td>2002</td>\n",
       "      <td>1.388100</td>\n",
       "      <td>0.73063</td>\n",
       "      <td>2.08610</td>\n",
       "    </tr>\n",
       "    <tr>\n",
       "      <th>2140</th>\n",
       "      <td>2003</td>\n",
       "      <td>2.262000</td>\n",
       "      <td>1.54560</td>\n",
       "      <td>2.93750</td>\n",
       "    </tr>\n",
       "  </tbody>\n",
       "</table>\n",
       "<p>2141 rows × 4 columns</p>\n",
       "</div>"
      ],
      "text/plain": [
       "      Year      Mean  Lower2sigma  Upper2sigma\n",
       "0     -138 -0.037309     -0.85472      0.76376\n",
       "1     -137 -0.029138     -0.92172      0.81199\n",
       "2     -136 -0.066622     -0.91555      0.74954\n",
       "3     -135 -0.435790     -1.27780      0.35291\n",
       "4     -134 -0.503160     -1.32540      0.27134\n",
       "...    ...       ...          ...          ...\n",
       "2136  1999  0.789580      0.13234      1.57860\n",
       "2137  2000  0.852750      0.21043      1.60250\n",
       "2138  2001  0.947810      0.27156      1.81780\n",
       "2139  2002  1.388100      0.73063      2.08610\n",
       "2140  2003  2.262000      1.54560      2.93750\n",
       "\n",
       "[2141 rows x 4 columns]"
      ]
     },
     "metadata": {},
     "output_type": "display_data"
    },
    {
     "name": "stdout",
     "output_type": "stream",
     "text": [
      "\n",
      "---------------------------------------------------------------------------------\n",
      "Dataset LawDome2006_CO2_CH4_N20 ['co2', 'ch4', 'n20', 'icecore', 'antarctica']\n",
      "\n"
     ]
    },
    {
     "data": {
      "text/html": [
       "description: New measurements of atmospheric greenhouse gas concentrations in ice from Law Dome, Antarctica reproduce published Law Dome CO2 and CH4 records, extend them back to 2000 years BP, and include N2O. They have very high air age resolution, data density and measurement precision. Firn air measurements span the past 65 years and overlap with the ice core and direct atmospheric observations. Major increases in CO2, CH4 and N2O concentrations during the past 200 years followed a period of relative stability beforehand. Decadal variations during the industrial period include the stabilization of CO2 and slowing of CH4 and N2O growth in the 1940s and 1950s. Variations of up to 10 ppm CO2, 40 ppb CH4 and 10 ppb N2O occurred throughout the preindustrial period.  Methane concentrations grew by 100 ppb from AD 0 to 1800, possibly due to early anthropogenic emissions."
      ],
      "text/plain": [
       "<IPython.core.display.HTML object>"
      ]
     },
     "metadata": {},
     "output_type": "display_data"
    },
    {
     "data": {
      "text/html": [
       "authors: ['A.M. Smith', 'C.E. Allison', 'C.M. MacFarling Meure', 'C.M. Trudinger', 'D.A. Spencer', 'D.C. Lowe', 'D.F. Ferretti', 'D.M. Etheridge', 'G.A. Sturrock', 'I.G. Enting', 'J. Elkins', 'J.-M. Barnola', 'J.B. Miller', 'J.W.C. White', 'K.R. Lassey', 'L.N. Cooper', 'L.P. Steele', 'L.W. Porter', 'M.F. Dreier', 'M.V. Van der Schoot', 'P.B. Krummel', 'P.J. Fraser', 'P.J. Rayner', 'R.J. Francey', 'R.L. Langenfelds ', 'T.D. van Ommen', 'V.I. Morgan']"
      ],
      "text/plain": [
       "<IPython.core.display.HTML object>"
      ]
     },
     "metadata": {},
     "output_type": "display_data"
    },
    {
     "data": {
      "text/html": [
       "publication_date: 2010"
      ],
      "text/plain": [
       "<IPython.core.display.HTML object>"
      ]
     },
     "metadata": {},
     "output_type": "display_data"
    },
    {
     "data": {
      "text/html": [
       "last_update: 2010-07"
      ],
      "text/plain": [
       "<IPython.core.display.HTML object>"
      ]
     },
     "metadata": {},
     "output_type": "display_data"
    },
    {
     "data": {
      "text/html": [
       "publisher: World Data Center for Paleoclimatology, Boulder and NOAA Paleoclimatology Program"
      ],
      "text/plain": [
       "<IPython.core.display.HTML object>"
      ]
     },
     "metadata": {},
     "output_type": "display_data"
    },
    {
     "data": {
      "text/html": [
       "id: IGBP PAGES/World Data Center for Paleoclimatology Data Contribution Series # 2010-070"
      ],
      "text/plain": [
       "<IPython.core.display.HTML object>"
      ]
     },
     "metadata": {},
     "output_type": "display_data"
    },
    {
     "data": {
      "text/html": [
       "version: "
      ],
      "text/plain": [
       "<IPython.core.display.HTML object>"
      ]
     },
     "metadata": {},
     "output_type": "display_data"
    },
    {
     "data": {
      "text/html": [
       "data_source: https://www.ncei.noaa.gov/pub/data/paleo/icecore/antarctica/law/law2006.txt"
      ],
      "text/plain": [
       "<IPython.core.display.HTML object>"
      ]
     },
     "metadata": {},
     "output_type": "display_data"
    },
    {
     "data": {
      "text/html": [
       "related_publications: ['https://www.ncei.noaa.gov/pub/data/paleo/icecore/antarctica/law/']"
      ],
      "text/plain": [
       "<IPython.core.display.HTML object>"
      ]
     },
     "metadata": {},
     "output_type": "display_data"
    },
    {
     "data": {
      "text/html": [
       "time_interval: ['1 AD', '2004 AD']"
      ],
      "text/plain": [
       "<IPython.core.display.HTML object>"
      ]
     },
     "metadata": {},
     "output_type": "display_data"
    },
    {
     "data": {
      "text/html": [
       "<div>\n",
       "<style scoped>\n",
       "    .dataframe tbody tr th:only-of-type {\n",
       "        vertical-align: middle;\n",
       "    }\n",
       "\n",
       "    .dataframe tbody tr th {\n",
       "        vertical-align: top;\n",
       "    }\n",
       "\n",
       "    .dataframe thead th {\n",
       "        text-align: right;\n",
       "    }\n",
       "</style>\n",
       "<table border=\"1\" class=\"dataframe\">\n",
       "  <thead>\n",
       "    <tr style=\"text-align: right;\">\n",
       "      <th></th>\n",
       "      <th>YearAD</th>\n",
       "      <th>CH4spl</th>\n",
       "      <th>GrwthRt</th>\n",
       "      <th>NOAA04</th>\n",
       "      <th>YearAD.1</th>\n",
       "      <th>CO2spl</th>\n",
       "      <th>GrwthRt.1</th>\n",
       "      <th>YearAD.2</th>\n",
       "      <th>N2Ospl</th>\n",
       "      <th>GrwthRt.2</th>\n",
       "    </tr>\n",
       "  </thead>\n",
       "  <tbody>\n",
       "    <tr>\n",
       "      <th>0</th>\n",
       "      <td>1</td>\n",
       "      <td>647.6</td>\n",
       "      <td>-0.5</td>\n",
       "      <td>655.5</td>\n",
       "      <td>1.0</td>\n",
       "      <td>276.7</td>\n",
       "      <td>0.1</td>\n",
       "      <td>1.0</td>\n",
       "      <td>264.2</td>\n",
       "      <td>-0.1</td>\n",
       "    </tr>\n",
       "    <tr>\n",
       "      <th>1</th>\n",
       "      <td>2</td>\n",
       "      <td>647.1</td>\n",
       "      <td>-0.5</td>\n",
       "      <td>655.0</td>\n",
       "      <td>2.0</td>\n",
       "      <td>276.8</td>\n",
       "      <td>0.1</td>\n",
       "      <td>2.0</td>\n",
       "      <td>264.1</td>\n",
       "      <td>-0.1</td>\n",
       "    </tr>\n",
       "    <tr>\n",
       "      <th>2</th>\n",
       "      <td>3</td>\n",
       "      <td>646.5</td>\n",
       "      <td>-0.5</td>\n",
       "      <td>654.4</td>\n",
       "      <td>3.0</td>\n",
       "      <td>276.8</td>\n",
       "      <td>0.1</td>\n",
       "      <td>3.0</td>\n",
       "      <td>264.1</td>\n",
       "      <td>-0.1</td>\n",
       "    </tr>\n",
       "    <tr>\n",
       "      <th>3</th>\n",
       "      <td>4</td>\n",
       "      <td>646.0</td>\n",
       "      <td>-0.5</td>\n",
       "      <td>653.9</td>\n",
       "      <td>4.0</td>\n",
       "      <td>276.9</td>\n",
       "      <td>0.1</td>\n",
       "      <td>4.0</td>\n",
       "      <td>264.0</td>\n",
       "      <td>-0.1</td>\n",
       "    </tr>\n",
       "    <tr>\n",
       "      <th>4</th>\n",
       "      <td>5</td>\n",
       "      <td>645.5</td>\n",
       "      <td>-0.5</td>\n",
       "      <td>653.4</td>\n",
       "      <td>5.0</td>\n",
       "      <td>276.9</td>\n",
       "      <td>0.1</td>\n",
       "      <td>5.0</td>\n",
       "      <td>264.0</td>\n",
       "      <td>-0.1</td>\n",
       "    </tr>\n",
       "    <tr>\n",
       "      <th>...</th>\n",
       "      <td>...</td>\n",
       "      <td>...</td>\n",
       "      <td>...</td>\n",
       "      <td>...</td>\n",
       "      <td>...</td>\n",
       "      <td>...</td>\n",
       "      <td>...</td>\n",
       "      <td>...</td>\n",
       "      <td>...</td>\n",
       "      <td>...</td>\n",
       "    </tr>\n",
       "    <tr>\n",
       "      <th>1999</th>\n",
       "      <td>2000</td>\n",
       "      <td>1703.4</td>\n",
       "      <td>3.9</td>\n",
       "      <td>1724.2</td>\n",
       "      <td>2000.0</td>\n",
       "      <td>366.8</td>\n",
       "      <td>1.9</td>\n",
       "      <td>2000.0</td>\n",
       "      <td>315.4</td>\n",
       "      <td>0.8</td>\n",
       "    </tr>\n",
       "    <tr>\n",
       "      <th>2000</th>\n",
       "      <td>2001</td>\n",
       "      <td>1706.5</td>\n",
       "      <td>2.4</td>\n",
       "      <td>1727.3</td>\n",
       "      <td>2001.0</td>\n",
       "      <td>368.7</td>\n",
       "      <td>1.9</td>\n",
       "      <td>2001.0</td>\n",
       "      <td>316.2</td>\n",
       "      <td>0.8</td>\n",
       "    </tr>\n",
       "    <tr>\n",
       "      <th>2001</th>\n",
       "      <td>2002</td>\n",
       "      <td>1708.3</td>\n",
       "      <td>1.2</td>\n",
       "      <td>1729.1</td>\n",
       "      <td>2002.0</td>\n",
       "      <td>370.6</td>\n",
       "      <td>2.0</td>\n",
       "      <td>2002.0</td>\n",
       "      <td>317.0</td>\n",
       "      <td>0.8</td>\n",
       "    </tr>\n",
       "    <tr>\n",
       "      <th>2002</th>\n",
       "      <td>2003</td>\n",
       "      <td>1709.1</td>\n",
       "      <td>0.6</td>\n",
       "      <td>1730.0</td>\n",
       "      <td>2003.0</td>\n",
       "      <td>372.6</td>\n",
       "      <td>2.0</td>\n",
       "      <td>2003.0</td>\n",
       "      <td>317.8</td>\n",
       "      <td>0.8</td>\n",
       "    </tr>\n",
       "    <tr>\n",
       "      <th>2003</th>\n",
       "      <td>2004</td>\n",
       "      <td>1709.7</td>\n",
       "      <td>0.5</td>\n",
       "      <td>1730.5</td>\n",
       "      <td>2004.0</td>\n",
       "      <td>374.6</td>\n",
       "      <td>0.0</td>\n",
       "      <td>2004.0</td>\n",
       "      <td>318.6</td>\n",
       "      <td>0.0</td>\n",
       "    </tr>\n",
       "  </tbody>\n",
       "</table>\n",
       "<p>2004 rows × 10 columns</p>\n",
       "</div>"
      ],
      "text/plain": [
       "      YearAD  CH4spl  GrwthRt  NOAA04  YearAD.1  CO2spl  GrwthRt.1  YearAD.2  \\\n",
       "0          1   647.6     -0.5   655.5       1.0   276.7        0.1       1.0   \n",
       "1          2   647.1     -0.5   655.0       2.0   276.8        0.1       2.0   \n",
       "2          3   646.5     -0.5   654.4       3.0   276.8        0.1       3.0   \n",
       "3          4   646.0     -0.5   653.9       4.0   276.9        0.1       4.0   \n",
       "4          5   645.5     -0.5   653.4       5.0   276.9        0.1       5.0   \n",
       "...      ...     ...      ...     ...       ...     ...        ...       ...   \n",
       "1999    2000  1703.4      3.9  1724.2    2000.0   366.8        1.9    2000.0   \n",
       "2000    2001  1706.5      2.4  1727.3    2001.0   368.7        1.9    2001.0   \n",
       "2001    2002  1708.3      1.2  1729.1    2002.0   370.6        2.0    2002.0   \n",
       "2002    2003  1709.1      0.6  1730.0    2003.0   372.6        2.0    2003.0   \n",
       "2003    2004  1709.7      0.5  1730.5    2004.0   374.6        0.0    2004.0   \n",
       "\n",
       "      N2Ospl  GrwthRt.2  \n",
       "0      264.2       -0.1  \n",
       "1      264.1       -0.1  \n",
       "2      264.1       -0.1  \n",
       "3      264.0       -0.1  \n",
       "4      264.0       -0.1  \n",
       "...      ...        ...  \n",
       "1999   315.4        0.8  \n",
       "2000   316.2        0.8  \n",
       "2001   317.0        0.8  \n",
       "2002   317.8        0.8  \n",
       "2003   318.6        0.0  \n",
       "\n",
       "[2004 rows x 10 columns]"
      ]
     },
     "metadata": {},
     "output_type": "display_data"
    },
    {
     "name": "stdout",
     "output_type": "stream",
     "text": [
      "\n",
      "---------------------------------------------------------------------------------\n",
      "Dataset LawDome2006_CO2_Core_DSS_Eth1996 ['co2', 'ch4', 'n20', 'icecore', 'antarctica']\n",
      "\n"
     ]
    },
    {
     "data": {
      "text/html": [
       "description: New measurements of atmospheric greenhouse gas concentrations in ice from Law Dome, Antarctica reproduce published Law Dome CO2 and CH4 records, extend them back to 2000 years BP, and include N2O. They have very high air age resolution, data density and measurement precision. Firn air measurements span the past 65 years and overlap with the ice core and direct atmospheric observations. Major increases in CO2, CH4 and N2O concentrations during the past 200 years followed a period of relative stability beforehand. Decadal variations during the industrial period include the stabilization of CO2 and slowing of CH4 and N2O growth in the 1940s and 1950s. Variations of up to 10 ppm CO2, 40 ppb CH4 and 10 ppb N2O occurred throughout the preindustrial period.  Methane concentrations grew by 100 ppb from AD 0 to 1800, possibly due to early anthropogenic emissions."
      ],
      "text/plain": [
       "<IPython.core.display.HTML object>"
      ]
     },
     "metadata": {},
     "output_type": "display_data"
    },
    {
     "data": {
      "text/html": [
       "authors: ['A.M. Smith', 'C.E. Allison', 'C.M. MacFarling Meure', 'C.M. Trudinger', 'D.A. Spencer', 'D.C. Lowe', 'D.F. Ferretti', 'D.M. Etheridge', 'G.A. Sturrock', 'I.G. Enting', 'J. Elkins', 'J.-M. Barnola', 'J.B. Miller', 'J.W.C. White', 'K.R. Lassey', 'L.N. Cooper', 'L.P. Steele', 'L.W. Porter', 'M.F. Dreier', 'M.V. Van der Schoot', 'P.B. Krummel', 'P.J. Fraser', 'P.J. Rayner', 'R.J. Francey', 'R.L. Langenfelds ', 'T.D. van Ommen', 'V.I. Morgan']"
      ],
      "text/plain": [
       "<IPython.core.display.HTML object>"
      ]
     },
     "metadata": {},
     "output_type": "display_data"
    },
    {
     "data": {
      "text/html": [
       "publication_date: 2010"
      ],
      "text/plain": [
       "<IPython.core.display.HTML object>"
      ]
     },
     "metadata": {},
     "output_type": "display_data"
    },
    {
     "data": {
      "text/html": [
       "last_update: 2010-07"
      ],
      "text/plain": [
       "<IPython.core.display.HTML object>"
      ]
     },
     "metadata": {},
     "output_type": "display_data"
    },
    {
     "data": {
      "text/html": [
       "publisher: World Data Center for Paleoclimatology, Boulder and NOAA Paleoclimatology Program"
      ],
      "text/plain": [
       "<IPython.core.display.HTML object>"
      ]
     },
     "metadata": {},
     "output_type": "display_data"
    },
    {
     "data": {
      "text/html": [
       "id: IGBP PAGES/World Data Center for Paleoclimatology Data Contribution Series # 2010-070"
      ],
      "text/plain": [
       "<IPython.core.display.HTML object>"
      ]
     },
     "metadata": {},
     "output_type": "display_data"
    },
    {
     "data": {
      "text/html": [
       "version: "
      ],
      "text/plain": [
       "<IPython.core.display.HTML object>"
      ]
     },
     "metadata": {},
     "output_type": "display_data"
    },
    {
     "data": {
      "text/html": [
       "data_source: https://www.ncei.noaa.gov/pub/data/paleo/icecore/antarctica/law/law2006.txt"
      ],
      "text/plain": [
       "<IPython.core.display.HTML object>"
      ]
     },
     "metadata": {},
     "output_type": "display_data"
    },
    {
     "data": {
      "text/html": [
       "related_publications: ['https://www.ncei.noaa.gov/pub/data/paleo/icecore/antarctica/law/']"
      ],
      "text/plain": [
       "<IPython.core.display.HTML object>"
      ]
     },
     "metadata": {},
     "output_type": "display_data"
    },
    {
     "data": {
      "text/html": [
       "time_interval: ['1 AD', '2004 AD']"
      ],
      "text/plain": [
       "<IPython.core.display.HTML object>"
      ]
     },
     "metadata": {},
     "output_type": "display_data"
    },
    {
     "data": {
      "text/html": [
       "<div>\n",
       "<style scoped>\n",
       "    .dataframe tbody tr th:only-of-type {\n",
       "        vertical-align: middle;\n",
       "    }\n",
       "\n",
       "    .dataframe tbody tr th {\n",
       "        vertical-align: top;\n",
       "    }\n",
       "\n",
       "    .dataframe thead th {\n",
       "        text-align: right;\n",
       "    }\n",
       "</style>\n",
       "<table border=\"1\" class=\"dataframe\">\n",
       "  <thead>\n",
       "    <tr style=\"text-align: right;\">\n",
       "      <th></th>\n",
       "      <th>SampleType</th>\n",
       "      <th>CO2gasAge</th>\n",
       "      <th>CO2(ppm)</th>\n",
       "      <th>Publication</th>\n",
       "    </tr>\n",
       "  </thead>\n",
       "  <tbody>\n",
       "    <tr>\n",
       "      <th>0</th>\n",
       "      <td>DSS</td>\n",
       "      <td>1005.0</td>\n",
       "      <td>279.4</td>\n",
       "      <td>Eth1996</td>\n",
       "    </tr>\n",
       "    <tr>\n",
       "      <th>1</th>\n",
       "      <td>DSS</td>\n",
       "      <td>1036.8</td>\n",
       "      <td>280.3</td>\n",
       "      <td>Eth1996</td>\n",
       "    </tr>\n",
       "    <tr>\n",
       "      <th>2</th>\n",
       "      <td>DSS</td>\n",
       "      <td>1087.5</td>\n",
       "      <td>282.4</td>\n",
       "      <td>Eth1996</td>\n",
       "    </tr>\n",
       "    <tr>\n",
       "      <th>3</th>\n",
       "      <td>DSS</td>\n",
       "      <td>1136.8</td>\n",
       "      <td>283.8</td>\n",
       "      <td>Eth1996</td>\n",
       "    </tr>\n",
       "    <tr>\n",
       "      <th>4</th>\n",
       "      <td>DSS</td>\n",
       "      <td>1192.6</td>\n",
       "      <td>283.9</td>\n",
       "      <td>Eth1996</td>\n",
       "    </tr>\n",
       "    <tr>\n",
       "      <th>5</th>\n",
       "      <td>DSS</td>\n",
       "      <td>1246.3</td>\n",
       "      <td>281.7</td>\n",
       "      <td>Eth1996</td>\n",
       "    </tr>\n",
       "    <tr>\n",
       "      <th>6</th>\n",
       "      <td>DSS</td>\n",
       "      <td>1330.1</td>\n",
       "      <td>283.4</td>\n",
       "      <td>Eth1996</td>\n",
       "    </tr>\n",
       "    <tr>\n",
       "      <th>7</th>\n",
       "      <td>DSS</td>\n",
       "      <td>1390.5</td>\n",
       "      <td>280.4</td>\n",
       "      <td>Eth1996</td>\n",
       "    </tr>\n",
       "    <tr>\n",
       "      <th>8</th>\n",
       "      <td>DSS</td>\n",
       "      <td>1390.5</td>\n",
       "      <td>280.0</td>\n",
       "      <td>Eth1996</td>\n",
       "    </tr>\n",
       "    <tr>\n",
       "      <th>9</th>\n",
       "      <td>DSS</td>\n",
       "      <td>1449.1</td>\n",
       "      <td>281.7</td>\n",
       "      <td>Eth1996</td>\n",
       "    </tr>\n",
       "    <tr>\n",
       "      <th>10</th>\n",
       "      <td>DSS</td>\n",
       "      <td>1469.5</td>\n",
       "      <td>279.6</td>\n",
       "      <td>Eth1996</td>\n",
       "    </tr>\n",
       "    <tr>\n",
       "      <th>11</th>\n",
       "      <td>DSS</td>\n",
       "      <td>1501.5</td>\n",
       "      <td>282.4</td>\n",
       "      <td>Eth1996</td>\n",
       "    </tr>\n",
       "    <tr>\n",
       "      <th>12</th>\n",
       "      <td>DSS</td>\n",
       "      <td>1529.7</td>\n",
       "      <td>283.2</td>\n",
       "      <td>Eth1996</td>\n",
       "    </tr>\n",
       "    <tr>\n",
       "      <th>13</th>\n",
       "      <td>DSS</td>\n",
       "      <td>1549.7</td>\n",
       "      <td>282.8</td>\n",
       "      <td>Eth1996</td>\n",
       "    </tr>\n",
       "    <tr>\n",
       "      <th>14</th>\n",
       "      <td>DSS</td>\n",
       "      <td>1573.0</td>\n",
       "      <td>281.9</td>\n",
       "      <td>Eth1996</td>\n",
       "    </tr>\n",
       "    <tr>\n",
       "      <th>15</th>\n",
       "      <td>DSS</td>\n",
       "      <td>1591.1</td>\n",
       "      <td>278.7</td>\n",
       "      <td>Eth1996</td>\n",
       "    </tr>\n",
       "    <tr>\n",
       "      <th>16</th>\n",
       "      <td>DSS</td>\n",
       "      <td>1603.4</td>\n",
       "      <td>274.3</td>\n",
       "      <td>Eth1996</td>\n",
       "    </tr>\n",
       "    <tr>\n",
       "      <th>17</th>\n",
       "      <td>DSS</td>\n",
       "      <td>1649.2</td>\n",
       "      <td>277.2</td>\n",
       "      <td>Eth1996</td>\n",
       "    </tr>\n",
       "    <tr>\n",
       "      <th>18</th>\n",
       "      <td>DSS</td>\n",
       "      <td>1681.9</td>\n",
       "      <td>275.9</td>\n",
       "      <td>Eth1996</td>\n",
       "    </tr>\n",
       "    <tr>\n",
       "      <th>19</th>\n",
       "      <td>DSS</td>\n",
       "      <td>1694.1</td>\n",
       "      <td>276.5</td>\n",
       "      <td>Eth1996</td>\n",
       "    </tr>\n",
       "    <tr>\n",
       "      <th>20</th>\n",
       "      <td>DSS</td>\n",
       "      <td>1722.9</td>\n",
       "      <td>277.5</td>\n",
       "      <td>Eth1996</td>\n",
       "    </tr>\n",
       "    <tr>\n",
       "      <th>21</th>\n",
       "      <td>DSS</td>\n",
       "      <td>1749.2</td>\n",
       "      <td>276.9</td>\n",
       "      <td>Eth1996</td>\n",
       "    </tr>\n",
       "    <tr>\n",
       "      <th>22</th>\n",
       "      <td>DSS</td>\n",
       "      <td>1752.2</td>\n",
       "      <td>277.2</td>\n",
       "      <td>Eth1996</td>\n",
       "    </tr>\n",
       "    <tr>\n",
       "      <th>23</th>\n",
       "      <td>DSS</td>\n",
       "      <td>1762.8</td>\n",
       "      <td>276.7</td>\n",
       "      <td>Eth1996</td>\n",
       "    </tr>\n",
       "    <tr>\n",
       "      <th>24</th>\n",
       "      <td>DSS</td>\n",
       "      <td>1779.6</td>\n",
       "      <td>279.5</td>\n",
       "      <td>Eth1996</td>\n",
       "    </tr>\n",
       "    <tr>\n",
       "      <th>25</th>\n",
       "      <td>DSS</td>\n",
       "      <td>1796.1</td>\n",
       "      <td>281.6</td>\n",
       "      <td>Eth1996</td>\n",
       "    </tr>\n",
       "    <tr>\n",
       "      <th>26</th>\n",
       "      <td>DSS</td>\n",
       "      <td>1799.3</td>\n",
       "      <td>283.7</td>\n",
       "      <td>Eth1996</td>\n",
       "    </tr>\n",
       "    <tr>\n",
       "      <th>27</th>\n",
       "      <td>DSS</td>\n",
       "      <td>1826.9</td>\n",
       "      <td>285.1</td>\n",
       "      <td>Eth1996</td>\n",
       "    </tr>\n",
       "    <tr>\n",
       "      <th>28</th>\n",
       "      <td>DSS</td>\n",
       "      <td>1847.5</td>\n",
       "      <td>286.1</td>\n",
       "      <td>Eth1996</td>\n",
       "    </tr>\n",
       "    <tr>\n",
       "      <th>29</th>\n",
       "      <td>DSS</td>\n",
       "      <td>1892.1</td>\n",
       "      <td>294.7</td>\n",
       "      <td>Eth1996</td>\n",
       "    </tr>\n",
       "    <tr>\n",
       "      <th>30</th>\n",
       "      <td>DSS</td>\n",
       "      <td>1900.8</td>\n",
       "      <td>296.5</td>\n",
       "      <td>Eth1996</td>\n",
       "    </tr>\n",
       "    <tr>\n",
       "      <th>31</th>\n",
       "      <td>DSS</td>\n",
       "      <td>1904.8</td>\n",
       "      <td>299.0</td>\n",
       "      <td>Eth1996</td>\n",
       "    </tr>\n",
       "    <tr>\n",
       "      <th>32</th>\n",
       "      <td>DSS</td>\n",
       "      <td>1927.2</td>\n",
       "      <td>305.0</td>\n",
       "      <td>Eth1996</td>\n",
       "    </tr>\n",
       "    <tr>\n",
       "      <th>33</th>\n",
       "      <td>DSS</td>\n",
       "      <td>1927.8</td>\n",
       "      <td>305.2</td>\n",
       "      <td>Eth1996</td>\n",
       "    </tr>\n",
       "    <tr>\n",
       "      <th>34</th>\n",
       "      <td>DSS</td>\n",
       "      <td>1937.2</td>\n",
       "      <td>307.9</td>\n",
       "      <td>Eth1996</td>\n",
       "    </tr>\n",
       "    <tr>\n",
       "      <th>35</th>\n",
       "      <td>DSS</td>\n",
       "      <td>1939.1</td>\n",
       "      <td>309.2</td>\n",
       "      <td>Eth1996</td>\n",
       "    </tr>\n",
       "    <tr>\n",
       "      <th>36</th>\n",
       "      <td>DSS</td>\n",
       "      <td>1949.3</td>\n",
       "      <td>311.4</td>\n",
       "      <td>Eth1996</td>\n",
       "    </tr>\n",
       "    <tr>\n",
       "      <th>37</th>\n",
       "      <td>DSS</td>\n",
       "      <td>1955.2</td>\n",
       "      <td>313.6</td>\n",
       "      <td>Eth1996</td>\n",
       "    </tr>\n",
       "    <tr>\n",
       "      <th>38</th>\n",
       "      <td>DSS</td>\n",
       "      <td>1955.2</td>\n",
       "      <td>314.1</td>\n",
       "      <td>Eth1996</td>\n",
       "    </tr>\n",
       "    <tr>\n",
       "      <th>39</th>\n",
       "      <td>DSS</td>\n",
       "      <td>1955.2</td>\n",
       "      <td>314.7</td>\n",
       "      <td>Eth1996</td>\n",
       "    </tr>\n",
       "    <tr>\n",
       "      <th>40</th>\n",
       "      <td>DSS</td>\n",
       "      <td>1960.7</td>\n",
       "      <td>315.7</td>\n",
       "      <td>Eth1996</td>\n",
       "    </tr>\n",
       "  </tbody>\n",
       "</table>\n",
       "</div>"
      ],
      "text/plain": [
       "   SampleType  CO2gasAge  CO2(ppm) Publication\n",
       "0         DSS     1005.0     279.4     Eth1996\n",
       "1         DSS     1036.8     280.3     Eth1996\n",
       "2         DSS     1087.5     282.4     Eth1996\n",
       "3         DSS     1136.8     283.8     Eth1996\n",
       "4         DSS     1192.6     283.9     Eth1996\n",
       "5         DSS     1246.3     281.7     Eth1996\n",
       "6         DSS     1330.1     283.4     Eth1996\n",
       "7         DSS     1390.5     280.4     Eth1996\n",
       "8         DSS     1390.5     280.0     Eth1996\n",
       "9         DSS     1449.1     281.7     Eth1996\n",
       "10        DSS     1469.5     279.6     Eth1996\n",
       "11        DSS     1501.5     282.4     Eth1996\n",
       "12        DSS     1529.7     283.2     Eth1996\n",
       "13        DSS     1549.7     282.8     Eth1996\n",
       "14        DSS     1573.0     281.9     Eth1996\n",
       "15        DSS     1591.1     278.7     Eth1996\n",
       "16        DSS     1603.4     274.3     Eth1996\n",
       "17        DSS     1649.2     277.2     Eth1996\n",
       "18        DSS     1681.9     275.9     Eth1996\n",
       "19        DSS     1694.1     276.5     Eth1996\n",
       "20        DSS     1722.9     277.5     Eth1996\n",
       "21        DSS     1749.2     276.9     Eth1996\n",
       "22        DSS     1752.2     277.2     Eth1996\n",
       "23        DSS     1762.8     276.7     Eth1996\n",
       "24        DSS     1779.6     279.5     Eth1996\n",
       "25        DSS     1796.1     281.6     Eth1996\n",
       "26        DSS     1799.3     283.7     Eth1996\n",
       "27        DSS     1826.9     285.1     Eth1996\n",
       "28        DSS     1847.5     286.1     Eth1996\n",
       "29        DSS     1892.1     294.7     Eth1996\n",
       "30        DSS     1900.8     296.5     Eth1996\n",
       "31        DSS     1904.8     299.0     Eth1996\n",
       "32        DSS     1927.2     305.0     Eth1996\n",
       "33        DSS     1927.8     305.2     Eth1996\n",
       "34        DSS     1937.2     307.9     Eth1996\n",
       "35        DSS     1939.1     309.2     Eth1996\n",
       "36        DSS     1949.3     311.4     Eth1996\n",
       "37        DSS     1955.2     313.6     Eth1996\n",
       "38        DSS     1955.2     314.1     Eth1996\n",
       "39        DSS     1955.2     314.7     Eth1996\n",
       "40        DSS     1960.7     315.7     Eth1996"
      ]
     },
     "metadata": {},
     "output_type": "display_data"
    },
    {
     "name": "stdout",
     "output_type": "stream",
     "text": [
      "\n",
      "---------------------------------------------------------------------------------\n",
      "Dataset LawDome2006_CO2_Core_DSS_MacFM20042006 ['co2', 'ch4', 'n20', 'icecore', 'antarctica']\n",
      "\n"
     ]
    },
    {
     "data": {
      "text/html": [
       "description: New measurements of atmospheric greenhouse gas concentrations in ice from Law Dome, Antarctica reproduce published Law Dome CO2 and CH4 records, extend them back to 2000 years BP, and include N2O. They have very high air age resolution, data density and measurement precision. Firn air measurements span the past 65 years and overlap with the ice core and direct atmospheric observations. Major increases in CO2, CH4 and N2O concentrations during the past 200 years followed a period of relative stability beforehand. Decadal variations during the industrial period include the stabilization of CO2 and slowing of CH4 and N2O growth in the 1940s and 1950s. Variations of up to 10 ppm CO2, 40 ppb CH4 and 10 ppb N2O occurred throughout the preindustrial period.  Methane concentrations grew by 100 ppb from AD 0 to 1800, possibly due to early anthropogenic emissions."
      ],
      "text/plain": [
       "<IPython.core.display.HTML object>"
      ]
     },
     "metadata": {},
     "output_type": "display_data"
    },
    {
     "data": {
      "text/html": [
       "authors: ['A.M. Smith', 'C.E. Allison', 'C.M. MacFarling Meure', 'C.M. Trudinger', 'D.A. Spencer', 'D.C. Lowe', 'D.F. Ferretti', 'D.M. Etheridge', 'G.A. Sturrock', 'I.G. Enting', 'J. Elkins', 'J.-M. Barnola', 'J.B. Miller', 'J.W.C. White', 'K.R. Lassey', 'L.N. Cooper', 'L.P. Steele', 'L.W. Porter', 'M.F. Dreier', 'M.V. Van der Schoot', 'P.B. Krummel', 'P.J. Fraser', 'P.J. Rayner', 'R.J. Francey', 'R.L. Langenfelds ', 'T.D. van Ommen', 'V.I. Morgan']"
      ],
      "text/plain": [
       "<IPython.core.display.HTML object>"
      ]
     },
     "metadata": {},
     "output_type": "display_data"
    },
    {
     "data": {
      "text/html": [
       "publication_date: 2010"
      ],
      "text/plain": [
       "<IPython.core.display.HTML object>"
      ]
     },
     "metadata": {},
     "output_type": "display_data"
    },
    {
     "data": {
      "text/html": [
       "last_update: 2010-07"
      ],
      "text/plain": [
       "<IPython.core.display.HTML object>"
      ]
     },
     "metadata": {},
     "output_type": "display_data"
    },
    {
     "data": {
      "text/html": [
       "publisher: World Data Center for Paleoclimatology, Boulder and NOAA Paleoclimatology Program"
      ],
      "text/plain": [
       "<IPython.core.display.HTML object>"
      ]
     },
     "metadata": {},
     "output_type": "display_data"
    },
    {
     "data": {
      "text/html": [
       "id: IGBP PAGES/World Data Center for Paleoclimatology Data Contribution Series # 2010-070"
      ],
      "text/plain": [
       "<IPython.core.display.HTML object>"
      ]
     },
     "metadata": {},
     "output_type": "display_data"
    },
    {
     "data": {
      "text/html": [
       "version: "
      ],
      "text/plain": [
       "<IPython.core.display.HTML object>"
      ]
     },
     "metadata": {},
     "output_type": "display_data"
    },
    {
     "data": {
      "text/html": [
       "data_source: https://www.ncei.noaa.gov/pub/data/paleo/icecore/antarctica/law/law2006.txt"
      ],
      "text/plain": [
       "<IPython.core.display.HTML object>"
      ]
     },
     "metadata": {},
     "output_type": "display_data"
    },
    {
     "data": {
      "text/html": [
       "related_publications: ['https://www.ncei.noaa.gov/pub/data/paleo/icecore/antarctica/law/']"
      ],
      "text/plain": [
       "<IPython.core.display.HTML object>"
      ]
     },
     "metadata": {},
     "output_type": "display_data"
    },
    {
     "data": {
      "text/html": [
       "time_interval: ['1 AD', '2004 AD']"
      ],
      "text/plain": [
       "<IPython.core.display.HTML object>"
      ]
     },
     "metadata": {},
     "output_type": "display_data"
    },
    {
     "data": {
      "text/html": [
       "<div>\n",
       "<style scoped>\n",
       "    .dataframe tbody tr th:only-of-type {\n",
       "        vertical-align: middle;\n",
       "    }\n",
       "\n",
       "    .dataframe tbody tr th {\n",
       "        vertical-align: top;\n",
       "    }\n",
       "\n",
       "    .dataframe thead th {\n",
       "        text-align: right;\n",
       "    }\n",
       "</style>\n",
       "<table border=\"1\" class=\"dataframe\">\n",
       "  <thead>\n",
       "    <tr style=\"text-align: right;\">\n",
       "      <th></th>\n",
       "      <th>SampleType</th>\n",
       "      <th>CO2gasAge</th>\n",
       "      <th>CO2(ppm)</th>\n",
       "      <th>Publication</th>\n",
       "    </tr>\n",
       "  </thead>\n",
       "  <tbody>\n",
       "    <tr>\n",
       "      <th>0</th>\n",
       "      <td>DSS</td>\n",
       "      <td>13.3</td>\n",
       "      <td>276.7</td>\n",
       "      <td>MacFM20042006</td>\n",
       "    </tr>\n",
       "    <tr>\n",
       "      <th>1</th>\n",
       "      <td>DSS</td>\n",
       "      <td>29.5</td>\n",
       "      <td>277.9</td>\n",
       "      <td>MacFM20042006</td>\n",
       "    </tr>\n",
       "    <tr>\n",
       "      <th>2</th>\n",
       "      <td>DSS</td>\n",
       "      <td>56.0</td>\n",
       "      <td>277.4</td>\n",
       "      <td>MacFM20042006</td>\n",
       "    </tr>\n",
       "    <tr>\n",
       "      <th>3</th>\n",
       "      <td>DSS</td>\n",
       "      <td>104.5</td>\n",
       "      <td>277.5</td>\n",
       "      <td>MacFM20042006</td>\n",
       "    </tr>\n",
       "    <tr>\n",
       "      <th>4</th>\n",
       "      <td>DSS</td>\n",
       "      <td>136.0</td>\n",
       "      <td>278.1</td>\n",
       "      <td>MacFM20042006</td>\n",
       "    </tr>\n",
       "    <tr>\n",
       "      <th>...</th>\n",
       "      <td>...</td>\n",
       "      <td>...</td>\n",
       "      <td>...</td>\n",
       "      <td>...</td>\n",
       "    </tr>\n",
       "    <tr>\n",
       "      <th>58</th>\n",
       "      <td>DSS</td>\n",
       "      <td>1834.5</td>\n",
       "      <td>283.7</td>\n",
       "      <td>MacFM20042006</td>\n",
       "    </tr>\n",
       "    <tr>\n",
       "      <th>59</th>\n",
       "      <td>DSS</td>\n",
       "      <td>1838.0</td>\n",
       "      <td>284.1</td>\n",
       "      <td>MacFM20042006</td>\n",
       "    </tr>\n",
       "    <tr>\n",
       "      <th>60</th>\n",
       "      <td>DSS</td>\n",
       "      <td>1852.3</td>\n",
       "      <td>288.6</td>\n",
       "      <td>MacFM20042006</td>\n",
       "    </tr>\n",
       "    <tr>\n",
       "      <th>61</th>\n",
       "      <td>DSS</td>\n",
       "      <td>1869.1</td>\n",
       "      <td>287.7</td>\n",
       "      <td>MacFM20042006</td>\n",
       "    </tr>\n",
       "    <tr>\n",
       "      <th>62</th>\n",
       "      <td>DSS</td>\n",
       "      <td>1884.4</td>\n",
       "      <td>289.0</td>\n",
       "      <td>MacFM20042006</td>\n",
       "    </tr>\n",
       "  </tbody>\n",
       "</table>\n",
       "<p>63 rows × 4 columns</p>\n",
       "</div>"
      ],
      "text/plain": [
       "   SampleType  CO2gasAge  CO2(ppm)    Publication\n",
       "0         DSS       13.3     276.7  MacFM20042006\n",
       "1         DSS       29.5     277.9  MacFM20042006\n",
       "2         DSS       56.0     277.4  MacFM20042006\n",
       "3         DSS      104.5     277.5  MacFM20042006\n",
       "4         DSS      136.0     278.1  MacFM20042006\n",
       "..        ...        ...       ...            ...\n",
       "58        DSS     1834.5     283.7  MacFM20042006\n",
       "59        DSS     1838.0     284.1  MacFM20042006\n",
       "60        DSS     1852.3     288.6  MacFM20042006\n",
       "61        DSS     1869.1     287.7  MacFM20042006\n",
       "62        DSS     1884.4     289.0  MacFM20042006\n",
       "\n",
       "[63 rows x 4 columns]"
      ]
     },
     "metadata": {},
     "output_type": "display_data"
    },
    {
     "name": "stdout",
     "output_type": "stream",
     "text": [
      "\n",
      "---------------------------------------------------------------------------------\n",
      "Dataset LawDome2006_CO2_Core_DE08-2_Eth1996 ['co2', 'ch4', 'n20', 'icecore', 'antarctica']\n",
      "\n"
     ]
    },
    {
     "data": {
      "text/html": [
       "description: New measurements of atmospheric greenhouse gas concentrations in ice from Law Dome, Antarctica reproduce published Law Dome CO2 and CH4 records, extend them back to 2000 years BP, and include N2O. They have very high air age resolution, data density and measurement precision. Firn air measurements span the past 65 years and overlap with the ice core and direct atmospheric observations. Major increases in CO2, CH4 and N2O concentrations during the past 200 years followed a period of relative stability beforehand. Decadal variations during the industrial period include the stabilization of CO2 and slowing of CH4 and N2O growth in the 1940s and 1950s. Variations of up to 10 ppm CO2, 40 ppb CH4 and 10 ppb N2O occurred throughout the preindustrial period.  Methane concentrations grew by 100 ppb from AD 0 to 1800, possibly due to early anthropogenic emissions."
      ],
      "text/plain": [
       "<IPython.core.display.HTML object>"
      ]
     },
     "metadata": {},
     "output_type": "display_data"
    },
    {
     "data": {
      "text/html": [
       "authors: ['A.M. Smith', 'C.E. Allison', 'C.M. MacFarling Meure', 'C.M. Trudinger', 'D.A. Spencer', 'D.C. Lowe', 'D.F. Ferretti', 'D.M. Etheridge', 'G.A. Sturrock', 'I.G. Enting', 'J. Elkins', 'J.-M. Barnola', 'J.B. Miller', 'J.W.C. White', 'K.R. Lassey', 'L.N. Cooper', 'L.P. Steele', 'L.W. Porter', 'M.F. Dreier', 'M.V. Van der Schoot', 'P.B. Krummel', 'P.J. Fraser', 'P.J. Rayner', 'R.J. Francey', 'R.L. Langenfelds ', 'T.D. van Ommen', 'V.I. Morgan']"
      ],
      "text/plain": [
       "<IPython.core.display.HTML object>"
      ]
     },
     "metadata": {},
     "output_type": "display_data"
    },
    {
     "data": {
      "text/html": [
       "publication_date: 2010"
      ],
      "text/plain": [
       "<IPython.core.display.HTML object>"
      ]
     },
     "metadata": {},
     "output_type": "display_data"
    },
    {
     "data": {
      "text/html": [
       "last_update: 2010-07"
      ],
      "text/plain": [
       "<IPython.core.display.HTML object>"
      ]
     },
     "metadata": {},
     "output_type": "display_data"
    },
    {
     "data": {
      "text/html": [
       "publisher: World Data Center for Paleoclimatology, Boulder and NOAA Paleoclimatology Program"
      ],
      "text/plain": [
       "<IPython.core.display.HTML object>"
      ]
     },
     "metadata": {},
     "output_type": "display_data"
    },
    {
     "data": {
      "text/html": [
       "id: IGBP PAGES/World Data Center for Paleoclimatology Data Contribution Series # 2010-070"
      ],
      "text/plain": [
       "<IPython.core.display.HTML object>"
      ]
     },
     "metadata": {},
     "output_type": "display_data"
    },
    {
     "data": {
      "text/html": [
       "version: "
      ],
      "text/plain": [
       "<IPython.core.display.HTML object>"
      ]
     },
     "metadata": {},
     "output_type": "display_data"
    },
    {
     "data": {
      "text/html": [
       "data_source: https://www.ncei.noaa.gov/pub/data/paleo/icecore/antarctica/law/law2006.txt"
      ],
      "text/plain": [
       "<IPython.core.display.HTML object>"
      ]
     },
     "metadata": {},
     "output_type": "display_data"
    },
    {
     "data": {
      "text/html": [
       "related_publications: ['https://www.ncei.noaa.gov/pub/data/paleo/icecore/antarctica/law/']"
      ],
      "text/plain": [
       "<IPython.core.display.HTML object>"
      ]
     },
     "metadata": {},
     "output_type": "display_data"
    },
    {
     "data": {
      "text/html": [
       "time_interval: ['1 AD', '2004 AD']"
      ],
      "text/plain": [
       "<IPython.core.display.HTML object>"
      ]
     },
     "metadata": {},
     "output_type": "display_data"
    },
    {
     "data": {
      "text/html": [
       "<div>\n",
       "<style scoped>\n",
       "    .dataframe tbody tr th:only-of-type {\n",
       "        vertical-align: middle;\n",
       "    }\n",
       "\n",
       "    .dataframe tbody tr th {\n",
       "        vertical-align: top;\n",
       "    }\n",
       "\n",
       "    .dataframe thead th {\n",
       "        text-align: right;\n",
       "    }\n",
       "</style>\n",
       "<table border=\"1\" class=\"dataframe\">\n",
       "  <thead>\n",
       "    <tr style=\"text-align: right;\">\n",
       "      <th></th>\n",
       "      <th>SampleType</th>\n",
       "      <th>CO2gasAge</th>\n",
       "      <th>CO2(ppm)</th>\n",
       "      <th>Publication</th>\n",
       "    </tr>\n",
       "  </thead>\n",
       "  <tbody>\n",
       "    <tr>\n",
       "      <th>0</th>\n",
       "      <td>DE08-2</td>\n",
       "      <td>1833.0</td>\n",
       "      <td>284.5</td>\n",
       "      <td>Eth1996</td>\n",
       "    </tr>\n",
       "    <tr>\n",
       "      <th>1</th>\n",
       "      <td>DE08-2</td>\n",
       "      <td>1935.0</td>\n",
       "      <td>309.2</td>\n",
       "      <td>Eth1996</td>\n",
       "    </tr>\n",
       "    <tr>\n",
       "      <th>2</th>\n",
       "      <td>DE08-2</td>\n",
       "      <td>1941.0</td>\n",
       "      <td>310.5</td>\n",
       "      <td>Eth1996</td>\n",
       "    </tr>\n",
       "    <tr>\n",
       "      <th>3</th>\n",
       "      <td>DE08-2</td>\n",
       "      <td>1949.0</td>\n",
       "      <td>309.9</td>\n",
       "      <td>Eth1996</td>\n",
       "    </tr>\n",
       "    <tr>\n",
       "      <th>4</th>\n",
       "      <td>DE08-2</td>\n",
       "      <td>1970.7</td>\n",
       "      <td>324.7</td>\n",
       "      <td>Eth1996</td>\n",
       "    </tr>\n",
       "    <tr>\n",
       "      <th>5</th>\n",
       "      <td>DE08-2</td>\n",
       "      <td>1971.2</td>\n",
       "      <td>325.2</td>\n",
       "      <td>Eth1996</td>\n",
       "    </tr>\n",
       "    <tr>\n",
       "      <th>6</th>\n",
       "      <td>DE08-2</td>\n",
       "      <td>1972.0</td>\n",
       "      <td>324.1</td>\n",
       "      <td>Eth1996</td>\n",
       "    </tr>\n",
       "    <tr>\n",
       "      <th>7</th>\n",
       "      <td>DE08-2</td>\n",
       "      <td>1974.0</td>\n",
       "      <td>328.1</td>\n",
       "      <td>Eth1996</td>\n",
       "    </tr>\n",
       "    <tr>\n",
       "      <th>8</th>\n",
       "      <td>DE08-2</td>\n",
       "      <td>1976.0</td>\n",
       "      <td>331.2</td>\n",
       "      <td>Eth1996</td>\n",
       "    </tr>\n",
       "    <tr>\n",
       "      <th>9</th>\n",
       "      <td>DE08-2</td>\n",
       "      <td>1979.0</td>\n",
       "      <td>332.0</td>\n",
       "      <td>Eth1996</td>\n",
       "    </tr>\n",
       "    <tr>\n",
       "      <th>10</th>\n",
       "      <td>DE08-2</td>\n",
       "      <td>1979.0</td>\n",
       "      <td>335.2</td>\n",
       "      <td>Eth1996</td>\n",
       "    </tr>\n",
       "  </tbody>\n",
       "</table>\n",
       "</div>"
      ],
      "text/plain": [
       "   SampleType  CO2gasAge  CO2(ppm) Publication\n",
       "0      DE08-2     1833.0     284.5     Eth1996\n",
       "1      DE08-2     1935.0     309.2     Eth1996\n",
       "2      DE08-2     1941.0     310.5     Eth1996\n",
       "3      DE08-2     1949.0     309.9     Eth1996\n",
       "4      DE08-2     1970.7     324.7     Eth1996\n",
       "5      DE08-2     1971.2     325.2     Eth1996\n",
       "6      DE08-2     1972.0     324.1     Eth1996\n",
       "7      DE08-2     1974.0     328.1     Eth1996\n",
       "8      DE08-2     1976.0     331.2     Eth1996\n",
       "9      DE08-2     1979.0     332.0     Eth1996\n",
       "10     DE08-2     1979.0     335.2     Eth1996"
      ]
     },
     "metadata": {},
     "output_type": "display_data"
    },
    {
     "name": "stdout",
     "output_type": "stream",
     "text": [
      "\n",
      "---------------------------------------------------------------------------------\n",
      "Dataset LawDome2006_CO2_Core_DE08-2_MacFM20042006 ['co2', 'ch4', 'n20', 'icecore', 'antarctica']\n",
      "\n"
     ]
    },
    {
     "data": {
      "text/html": [
       "description: New measurements of atmospheric greenhouse gas concentrations in ice from Law Dome, Antarctica reproduce published Law Dome CO2 and CH4 records, extend them back to 2000 years BP, and include N2O. They have very high air age resolution, data density and measurement precision. Firn air measurements span the past 65 years and overlap with the ice core and direct atmospheric observations. Major increases in CO2, CH4 and N2O concentrations during the past 200 years followed a period of relative stability beforehand. Decadal variations during the industrial period include the stabilization of CO2 and slowing of CH4 and N2O growth in the 1940s and 1950s. Variations of up to 10 ppm CO2, 40 ppb CH4 and 10 ppb N2O occurred throughout the preindustrial period.  Methane concentrations grew by 100 ppb from AD 0 to 1800, possibly due to early anthropogenic emissions."
      ],
      "text/plain": [
       "<IPython.core.display.HTML object>"
      ]
     },
     "metadata": {},
     "output_type": "display_data"
    },
    {
     "data": {
      "text/html": [
       "authors: ['A.M. Smith', 'C.E. Allison', 'C.M. MacFarling Meure', 'C.M. Trudinger', 'D.A. Spencer', 'D.C. Lowe', 'D.F. Ferretti', 'D.M. Etheridge', 'G.A. Sturrock', 'I.G. Enting', 'J. Elkins', 'J.-M. Barnola', 'J.B. Miller', 'J.W.C. White', 'K.R. Lassey', 'L.N. Cooper', 'L.P. Steele', 'L.W. Porter', 'M.F. Dreier', 'M.V. Van der Schoot', 'P.B. Krummel', 'P.J. Fraser', 'P.J. Rayner', 'R.J. Francey', 'R.L. Langenfelds ', 'T.D. van Ommen', 'V.I. Morgan']"
      ],
      "text/plain": [
       "<IPython.core.display.HTML object>"
      ]
     },
     "metadata": {},
     "output_type": "display_data"
    },
    {
     "data": {
      "text/html": [
       "publication_date: 2010"
      ],
      "text/plain": [
       "<IPython.core.display.HTML object>"
      ]
     },
     "metadata": {},
     "output_type": "display_data"
    },
    {
     "data": {
      "text/html": [
       "last_update: 2010-07"
      ],
      "text/plain": [
       "<IPython.core.display.HTML object>"
      ]
     },
     "metadata": {},
     "output_type": "display_data"
    },
    {
     "data": {
      "text/html": [
       "publisher: World Data Center for Paleoclimatology, Boulder and NOAA Paleoclimatology Program"
      ],
      "text/plain": [
       "<IPython.core.display.HTML object>"
      ]
     },
     "metadata": {},
     "output_type": "display_data"
    },
    {
     "data": {
      "text/html": [
       "id: IGBP PAGES/World Data Center for Paleoclimatology Data Contribution Series # 2010-070"
      ],
      "text/plain": [
       "<IPython.core.display.HTML object>"
      ]
     },
     "metadata": {},
     "output_type": "display_data"
    },
    {
     "data": {
      "text/html": [
       "version: "
      ],
      "text/plain": [
       "<IPython.core.display.HTML object>"
      ]
     },
     "metadata": {},
     "output_type": "display_data"
    },
    {
     "data": {
      "text/html": [
       "data_source: https://www.ncei.noaa.gov/pub/data/paleo/icecore/antarctica/law/law2006.txt"
      ],
      "text/plain": [
       "<IPython.core.display.HTML object>"
      ]
     },
     "metadata": {},
     "output_type": "display_data"
    },
    {
     "data": {
      "text/html": [
       "related_publications: ['https://www.ncei.noaa.gov/pub/data/paleo/icecore/antarctica/law/']"
      ],
      "text/plain": [
       "<IPython.core.display.HTML object>"
      ]
     },
     "metadata": {},
     "output_type": "display_data"
    },
    {
     "data": {
      "text/html": [
       "time_interval: ['1 AD', '2004 AD']"
      ],
      "text/plain": [
       "<IPython.core.display.HTML object>"
      ]
     },
     "metadata": {},
     "output_type": "display_data"
    },
    {
     "data": {
      "text/html": [
       "<div>\n",
       "<style scoped>\n",
       "    .dataframe tbody tr th:only-of-type {\n",
       "        vertical-align: middle;\n",
       "    }\n",
       "\n",
       "    .dataframe tbody tr th {\n",
       "        vertical-align: top;\n",
       "    }\n",
       "\n",
       "    .dataframe thead th {\n",
       "        text-align: right;\n",
       "    }\n",
       "</style>\n",
       "<table border=\"1\" class=\"dataframe\">\n",
       "  <thead>\n",
       "    <tr style=\"text-align: right;\">\n",
       "      <th></th>\n",
       "      <th>SampleType</th>\n",
       "      <th>CO2gasAge</th>\n",
       "      <th>CO2(ppm)</th>\n",
       "      <th>Publication</th>\n",
       "    </tr>\n",
       "  </thead>\n",
       "  <tbody>\n",
       "    <tr>\n",
       "      <th>0</th>\n",
       "      <td>DE08-2</td>\n",
       "      <td>1896.0</td>\n",
       "      <td>298.2</td>\n",
       "      <td>MacFM20042006</td>\n",
       "    </tr>\n",
       "    <tr>\n",
       "      <th>1</th>\n",
       "      <td>DE08-2</td>\n",
       "      <td>1940.0</td>\n",
       "      <td>311.9</td>\n",
       "      <td>MacFM20042006</td>\n",
       "    </tr>\n",
       "    <tr>\n",
       "      <th>2</th>\n",
       "      <td>DE08-2</td>\n",
       "      <td>1941.5</td>\n",
       "      <td>310.3</td>\n",
       "      <td>MacFM20042006</td>\n",
       "    </tr>\n",
       "    <tr>\n",
       "      <th>3</th>\n",
       "      <td>DE08-2</td>\n",
       "      <td>1944.0</td>\n",
       "      <td>311.4</td>\n",
       "      <td>MacFM20042006</td>\n",
       "    </tr>\n",
       "    <tr>\n",
       "      <th>4</th>\n",
       "      <td>DE08-2</td>\n",
       "      <td>1944.0</td>\n",
       "      <td>312.1</td>\n",
       "      <td>MacFM20042006</td>\n",
       "    </tr>\n",
       "    <tr>\n",
       "      <th>5</th>\n",
       "      <td>DE08-2</td>\n",
       "      <td>1947.0</td>\n",
       "      <td>310.8</td>\n",
       "      <td>MacFM20042006</td>\n",
       "    </tr>\n",
       "    <tr>\n",
       "      <th>6</th>\n",
       "      <td>DE08-2</td>\n",
       "      <td>1967.0</td>\n",
       "      <td>322.9</td>\n",
       "      <td>MacFM20042006</td>\n",
       "    </tr>\n",
       "    <tr>\n",
       "      <th>7</th>\n",
       "      <td>DE08-2</td>\n",
       "      <td>1973.0</td>\n",
       "      <td>326.4</td>\n",
       "      <td>MacFM20042006</td>\n",
       "    </tr>\n",
       "  </tbody>\n",
       "</table>\n",
       "</div>"
      ],
      "text/plain": [
       "  SampleType  CO2gasAge  CO2(ppm)    Publication\n",
       "0     DE08-2     1896.0     298.2  MacFM20042006\n",
       "1     DE08-2     1940.0     311.9  MacFM20042006\n",
       "2     DE08-2     1941.5     310.3  MacFM20042006\n",
       "3     DE08-2     1944.0     311.4  MacFM20042006\n",
       "4     DE08-2     1944.0     312.1  MacFM20042006\n",
       "5     DE08-2     1947.0     310.8  MacFM20042006\n",
       "6     DE08-2     1967.0     322.9  MacFM20042006\n",
       "7     DE08-2     1973.0     326.4  MacFM20042006"
      ]
     },
     "metadata": {},
     "output_type": "display_data"
    },
    {
     "name": "stdout",
     "output_type": "stream",
     "text": [
      "\n",
      "---------------------------------------------------------------------------------\n",
      "Dataset LawDome2006_CO2_Core_DE08_Eth1996 ['co2', 'ch4', 'n20', 'icecore', 'antarctica']\n",
      "\n"
     ]
    },
    {
     "data": {
      "text/html": [
       "description: New measurements of atmospheric greenhouse gas concentrations in ice from Law Dome, Antarctica reproduce published Law Dome CO2 and CH4 records, extend them back to 2000 years BP, and include N2O. They have very high air age resolution, data density and measurement precision. Firn air measurements span the past 65 years and overlap with the ice core and direct atmospheric observations. Major increases in CO2, CH4 and N2O concentrations during the past 200 years followed a period of relative stability beforehand. Decadal variations during the industrial period include the stabilization of CO2 and slowing of CH4 and N2O growth in the 1940s and 1950s. Variations of up to 10 ppm CO2, 40 ppb CH4 and 10 ppb N2O occurred throughout the preindustrial period.  Methane concentrations grew by 100 ppb from AD 0 to 1800, possibly due to early anthropogenic emissions."
      ],
      "text/plain": [
       "<IPython.core.display.HTML object>"
      ]
     },
     "metadata": {},
     "output_type": "display_data"
    },
    {
     "data": {
      "text/html": [
       "authors: ['A.M. Smith', 'C.E. Allison', 'C.M. MacFarling Meure', 'C.M. Trudinger', 'D.A. Spencer', 'D.C. Lowe', 'D.F. Ferretti', 'D.M. Etheridge', 'G.A. Sturrock', 'I.G. Enting', 'J. Elkins', 'J.-M. Barnola', 'J.B. Miller', 'J.W.C. White', 'K.R. Lassey', 'L.N. Cooper', 'L.P. Steele', 'L.W. Porter', 'M.F. Dreier', 'M.V. Van der Schoot', 'P.B. Krummel', 'P.J. Fraser', 'P.J. Rayner', 'R.J. Francey', 'R.L. Langenfelds ', 'T.D. van Ommen', 'V.I. Morgan']"
      ],
      "text/plain": [
       "<IPython.core.display.HTML object>"
      ]
     },
     "metadata": {},
     "output_type": "display_data"
    },
    {
     "data": {
      "text/html": [
       "publication_date: 2010"
      ],
      "text/plain": [
       "<IPython.core.display.HTML object>"
      ]
     },
     "metadata": {},
     "output_type": "display_data"
    },
    {
     "data": {
      "text/html": [
       "last_update: 2010-07"
      ],
      "text/plain": [
       "<IPython.core.display.HTML object>"
      ]
     },
     "metadata": {},
     "output_type": "display_data"
    },
    {
     "data": {
      "text/html": [
       "publisher: World Data Center for Paleoclimatology, Boulder and NOAA Paleoclimatology Program"
      ],
      "text/plain": [
       "<IPython.core.display.HTML object>"
      ]
     },
     "metadata": {},
     "output_type": "display_data"
    },
    {
     "data": {
      "text/html": [
       "id: IGBP PAGES/World Data Center for Paleoclimatology Data Contribution Series # 2010-070"
      ],
      "text/plain": [
       "<IPython.core.display.HTML object>"
      ]
     },
     "metadata": {},
     "output_type": "display_data"
    },
    {
     "data": {
      "text/html": [
       "version: "
      ],
      "text/plain": [
       "<IPython.core.display.HTML object>"
      ]
     },
     "metadata": {},
     "output_type": "display_data"
    },
    {
     "data": {
      "text/html": [
       "data_source: https://www.ncei.noaa.gov/pub/data/paleo/icecore/antarctica/law/law2006.txt"
      ],
      "text/plain": [
       "<IPython.core.display.HTML object>"
      ]
     },
     "metadata": {},
     "output_type": "display_data"
    },
    {
     "data": {
      "text/html": [
       "related_publications: ['https://www.ncei.noaa.gov/pub/data/paleo/icecore/antarctica/law/']"
      ],
      "text/plain": [
       "<IPython.core.display.HTML object>"
      ]
     },
     "metadata": {},
     "output_type": "display_data"
    },
    {
     "data": {
      "text/html": [
       "time_interval: ['1 AD', '2004 AD']"
      ],
      "text/plain": [
       "<IPython.core.display.HTML object>"
      ]
     },
     "metadata": {},
     "output_type": "display_data"
    },
    {
     "data": {
      "text/html": [
       "<div>\n",
       "<style scoped>\n",
       "    .dataframe tbody tr th:only-of-type {\n",
       "        vertical-align: middle;\n",
       "    }\n",
       "\n",
       "    .dataframe tbody tr th {\n",
       "        vertical-align: top;\n",
       "    }\n",
       "\n",
       "    .dataframe thead th {\n",
       "        text-align: right;\n",
       "    }\n",
       "</style>\n",
       "<table border=\"1\" class=\"dataframe\">\n",
       "  <thead>\n",
       "    <tr style=\"text-align: right;\">\n",
       "      <th></th>\n",
       "      <th>SampleType</th>\n",
       "      <th>CO2gasAge</th>\n",
       "      <th>CO2(ppm)</th>\n",
       "      <th>Publication</th>\n",
       "    </tr>\n",
       "  </thead>\n",
       "  <tbody>\n",
       "    <tr>\n",
       "      <th>0</th>\n",
       "      <td>DE08</td>\n",
       "      <td>1841.0</td>\n",
       "      <td>283.0</td>\n",
       "      <td>Eth1996</td>\n",
       "    </tr>\n",
       "    <tr>\n",
       "      <th>1</th>\n",
       "      <td>DE08</td>\n",
       "      <td>1851.0</td>\n",
       "      <td>285.2</td>\n",
       "      <td>Eth1996</td>\n",
       "    </tr>\n",
       "    <tr>\n",
       "      <th>2</th>\n",
       "      <td>DE08</td>\n",
       "      <td>1855.0</td>\n",
       "      <td>284.9</td>\n",
       "      <td>Eth1996</td>\n",
       "    </tr>\n",
       "    <tr>\n",
       "      <th>3</th>\n",
       "      <td>DE08</td>\n",
       "      <td>1862.0</td>\n",
       "      <td>286.6</td>\n",
       "      <td>Eth1996</td>\n",
       "    </tr>\n",
       "    <tr>\n",
       "      <th>4</th>\n",
       "      <td>DE08</td>\n",
       "      <td>1870.0</td>\n",
       "      <td>287.4</td>\n",
       "      <td>Eth1996</td>\n",
       "    </tr>\n",
       "    <tr>\n",
       "      <th>5</th>\n",
       "      <td>DE08</td>\n",
       "      <td>1878.0</td>\n",
       "      <td>288.8</td>\n",
       "      <td>Eth1996</td>\n",
       "    </tr>\n",
       "    <tr>\n",
       "      <th>6</th>\n",
       "      <td>DE08</td>\n",
       "      <td>1883.0</td>\n",
       "      <td>291.9</td>\n",
       "      <td>Eth1996</td>\n",
       "    </tr>\n",
       "    <tr>\n",
       "      <th>7</th>\n",
       "      <td>DE08</td>\n",
       "      <td>1887.0</td>\n",
       "      <td>293.7</td>\n",
       "      <td>Eth1996</td>\n",
       "    </tr>\n",
       "    <tr>\n",
       "      <th>8</th>\n",
       "      <td>DE08</td>\n",
       "      <td>1893.0</td>\n",
       "      <td>294.6</td>\n",
       "      <td>Eth1996</td>\n",
       "    </tr>\n",
       "    <tr>\n",
       "      <th>9</th>\n",
       "      <td>DE08</td>\n",
       "      <td>1899.0</td>\n",
       "      <td>294.7</td>\n",
       "      <td>Eth1996</td>\n",
       "    </tr>\n",
       "    <tr>\n",
       "      <th>10</th>\n",
       "      <td>DE08</td>\n",
       "      <td>1906.0</td>\n",
       "      <td>296.9</td>\n",
       "      <td>Eth1996</td>\n",
       "    </tr>\n",
       "    <tr>\n",
       "      <th>11</th>\n",
       "      <td>DE08</td>\n",
       "      <td>1906.0</td>\n",
       "      <td>298.5</td>\n",
       "      <td>Eth1996</td>\n",
       "    </tr>\n",
       "    <tr>\n",
       "      <th>12</th>\n",
       "      <td>DE08</td>\n",
       "      <td>1913.0</td>\n",
       "      <td>300.7</td>\n",
       "      <td>Eth1996</td>\n",
       "    </tr>\n",
       "    <tr>\n",
       "      <th>13</th>\n",
       "      <td>DE08</td>\n",
       "      <td>1916.0</td>\n",
       "      <td>301.3</td>\n",
       "      <td>Eth1996</td>\n",
       "    </tr>\n",
       "    <tr>\n",
       "      <th>14</th>\n",
       "      <td>DE08</td>\n",
       "      <td>1925.0</td>\n",
       "      <td>304.1</td>\n",
       "      <td>Eth1996</td>\n",
       "    </tr>\n",
       "    <tr>\n",
       "      <th>15</th>\n",
       "      <td>DE08</td>\n",
       "      <td>1925.0</td>\n",
       "      <td>304.8</td>\n",
       "      <td>Eth1996</td>\n",
       "    </tr>\n",
       "    <tr>\n",
       "      <th>16</th>\n",
       "      <td>DE08</td>\n",
       "      <td>1933.0</td>\n",
       "      <td>307.8</td>\n",
       "      <td>Eth1996</td>\n",
       "    </tr>\n",
       "    <tr>\n",
       "      <th>17</th>\n",
       "      <td>DE08</td>\n",
       "      <td>1939.0</td>\n",
       "      <td>310.5</td>\n",
       "      <td>Eth1996</td>\n",
       "    </tr>\n",
       "    <tr>\n",
       "      <th>18</th>\n",
       "      <td>DE08</td>\n",
       "      <td>1940.0</td>\n",
       "      <td>311.0</td>\n",
       "      <td>Eth1996</td>\n",
       "    </tr>\n",
       "    <tr>\n",
       "      <th>19</th>\n",
       "      <td>DE08</td>\n",
       "      <td>1945.0</td>\n",
       "      <td>309.6</td>\n",
       "      <td>Eth1996</td>\n",
       "    </tr>\n",
       "    <tr>\n",
       "      <th>20</th>\n",
       "      <td>DE08</td>\n",
       "      <td>1954.0</td>\n",
       "      <td>311.0</td>\n",
       "      <td>Eth1996</td>\n",
       "    </tr>\n",
       "    <tr>\n",
       "      <th>21</th>\n",
       "      <td>DE08</td>\n",
       "      <td>1954.0</td>\n",
       "      <td>311.9</td>\n",
       "      <td>Eth1996</td>\n",
       "    </tr>\n",
       "    <tr>\n",
       "      <th>22</th>\n",
       "      <td>DE08</td>\n",
       "      <td>1954.0</td>\n",
       "      <td>312.7</td>\n",
       "      <td>Eth1996</td>\n",
       "    </tr>\n",
       "    <tr>\n",
       "      <th>23</th>\n",
       "      <td>DE08</td>\n",
       "      <td>1963.0</td>\n",
       "      <td>317.0</td>\n",
       "      <td>Eth1996</td>\n",
       "    </tr>\n",
       "    <tr>\n",
       "      <th>24</th>\n",
       "      <td>DE08</td>\n",
       "      <td>1963.0</td>\n",
       "      <td>317.0</td>\n",
       "      <td>Eth1996</td>\n",
       "    </tr>\n",
       "    <tr>\n",
       "      <th>25</th>\n",
       "      <td>DE08</td>\n",
       "      <td>1963.0</td>\n",
       "      <td>318.7</td>\n",
       "      <td>Eth1996</td>\n",
       "    </tr>\n",
       "    <tr>\n",
       "      <th>26</th>\n",
       "      <td>DE08</td>\n",
       "      <td>1963.0</td>\n",
       "      <td>319.4</td>\n",
       "      <td>Eth1996</td>\n",
       "    </tr>\n",
       "    <tr>\n",
       "      <th>27</th>\n",
       "      <td>DE08</td>\n",
       "      <td>1964.0</td>\n",
       "      <td>318.2</td>\n",
       "      <td>Eth1996</td>\n",
       "    </tr>\n",
       "    <tr>\n",
       "      <th>28</th>\n",
       "      <td>DE08</td>\n",
       "      <td>1966.0</td>\n",
       "      <td>318.8</td>\n",
       "      <td>Eth1996</td>\n",
       "    </tr>\n",
       "    <tr>\n",
       "      <th>29</th>\n",
       "      <td>DE08</td>\n",
       "      <td>1966.0</td>\n",
       "      <td>319.5</td>\n",
       "      <td>Eth1996</td>\n",
       "    </tr>\n",
       "    <tr>\n",
       "      <th>30</th>\n",
       "      <td>DE08</td>\n",
       "      <td>1969.0</td>\n",
       "      <td>323.7</td>\n",
       "      <td>Eth1996</td>\n",
       "    </tr>\n",
       "    <tr>\n",
       "      <th>31</th>\n",
       "      <td>DE08</td>\n",
       "      <td>1970.0</td>\n",
       "      <td>323.2</td>\n",
       "      <td>Eth1996</td>\n",
       "    </tr>\n",
       "  </tbody>\n",
       "</table>\n",
       "</div>"
      ],
      "text/plain": [
       "   SampleType  CO2gasAge  CO2(ppm) Publication\n",
       "0        DE08     1841.0     283.0     Eth1996\n",
       "1        DE08     1851.0     285.2     Eth1996\n",
       "2        DE08     1855.0     284.9     Eth1996\n",
       "3        DE08     1862.0     286.6     Eth1996\n",
       "4        DE08     1870.0     287.4     Eth1996\n",
       "5        DE08     1878.0     288.8     Eth1996\n",
       "6        DE08     1883.0     291.9     Eth1996\n",
       "7        DE08     1887.0     293.7     Eth1996\n",
       "8        DE08     1893.0     294.6     Eth1996\n",
       "9        DE08     1899.0     294.7     Eth1996\n",
       "10       DE08     1906.0     296.9     Eth1996\n",
       "11       DE08     1906.0     298.5     Eth1996\n",
       "12       DE08     1913.0     300.7     Eth1996\n",
       "13       DE08     1916.0     301.3     Eth1996\n",
       "14       DE08     1925.0     304.1     Eth1996\n",
       "15       DE08     1925.0     304.8     Eth1996\n",
       "16       DE08     1933.0     307.8     Eth1996\n",
       "17       DE08     1939.0     310.5     Eth1996\n",
       "18       DE08     1940.0     311.0     Eth1996\n",
       "19       DE08     1945.0     309.6     Eth1996\n",
       "20       DE08     1954.0     311.0     Eth1996\n",
       "21       DE08     1954.0     311.9     Eth1996\n",
       "22       DE08     1954.0     312.7     Eth1996\n",
       "23       DE08     1963.0     317.0     Eth1996\n",
       "24       DE08     1963.0     317.0     Eth1996\n",
       "25       DE08     1963.0     318.7     Eth1996\n",
       "26       DE08     1963.0     319.4     Eth1996\n",
       "27       DE08     1964.0     318.2     Eth1996\n",
       "28       DE08     1966.0     318.8     Eth1996\n",
       "29       DE08     1966.0     319.5     Eth1996\n",
       "30       DE08     1969.0     323.7     Eth1996\n",
       "31       DE08     1970.0     323.2     Eth1996"
      ]
     },
     "metadata": {},
     "output_type": "display_data"
    },
    {
     "name": "stdout",
     "output_type": "stream",
     "text": [
      "\n",
      "---------------------------------------------------------------------------------\n",
      "Dataset LawDome2006_CO2_Core_DE08_MacFM20042006 ['co2', 'ch4', 'n20', 'icecore', 'antarctica']\n",
      "\n"
     ]
    },
    {
     "data": {
      "text/html": [
       "description: New measurements of atmospheric greenhouse gas concentrations in ice from Law Dome, Antarctica reproduce published Law Dome CO2 and CH4 records, extend them back to 2000 years BP, and include N2O. They have very high air age resolution, data density and measurement precision. Firn air measurements span the past 65 years and overlap with the ice core and direct atmospheric observations. Major increases in CO2, CH4 and N2O concentrations during the past 200 years followed a period of relative stability beforehand. Decadal variations during the industrial period include the stabilization of CO2 and slowing of CH4 and N2O growth in the 1940s and 1950s. Variations of up to 10 ppm CO2, 40 ppb CH4 and 10 ppb N2O occurred throughout the preindustrial period.  Methane concentrations grew by 100 ppb from AD 0 to 1800, possibly due to early anthropogenic emissions."
      ],
      "text/plain": [
       "<IPython.core.display.HTML object>"
      ]
     },
     "metadata": {},
     "output_type": "display_data"
    },
    {
     "data": {
      "text/html": [
       "authors: ['A.M. Smith', 'C.E. Allison', 'C.M. MacFarling Meure', 'C.M. Trudinger', 'D.A. Spencer', 'D.C. Lowe', 'D.F. Ferretti', 'D.M. Etheridge', 'G.A. Sturrock', 'I.G. Enting', 'J. Elkins', 'J.-M. Barnola', 'J.B. Miller', 'J.W.C. White', 'K.R. Lassey', 'L.N. Cooper', 'L.P. Steele', 'L.W. Porter', 'M.F. Dreier', 'M.V. Van der Schoot', 'P.B. Krummel', 'P.J. Fraser', 'P.J. Rayner', 'R.J. Francey', 'R.L. Langenfelds ', 'T.D. van Ommen', 'V.I. Morgan']"
      ],
      "text/plain": [
       "<IPython.core.display.HTML object>"
      ]
     },
     "metadata": {},
     "output_type": "display_data"
    },
    {
     "data": {
      "text/html": [
       "publication_date: 2010"
      ],
      "text/plain": [
       "<IPython.core.display.HTML object>"
      ]
     },
     "metadata": {},
     "output_type": "display_data"
    },
    {
     "data": {
      "text/html": [
       "last_update: 2010-07"
      ],
      "text/plain": [
       "<IPython.core.display.HTML object>"
      ]
     },
     "metadata": {},
     "output_type": "display_data"
    },
    {
     "data": {
      "text/html": [
       "publisher: World Data Center for Paleoclimatology, Boulder and NOAA Paleoclimatology Program"
      ],
      "text/plain": [
       "<IPython.core.display.HTML object>"
      ]
     },
     "metadata": {},
     "output_type": "display_data"
    },
    {
     "data": {
      "text/html": [
       "id: IGBP PAGES/World Data Center for Paleoclimatology Data Contribution Series # 2010-070"
      ],
      "text/plain": [
       "<IPython.core.display.HTML object>"
      ]
     },
     "metadata": {},
     "output_type": "display_data"
    },
    {
     "data": {
      "text/html": [
       "version: "
      ],
      "text/plain": [
       "<IPython.core.display.HTML object>"
      ]
     },
     "metadata": {},
     "output_type": "display_data"
    },
    {
     "data": {
      "text/html": [
       "data_source: https://www.ncei.noaa.gov/pub/data/paleo/icecore/antarctica/law/law2006.txt"
      ],
      "text/plain": [
       "<IPython.core.display.HTML object>"
      ]
     },
     "metadata": {},
     "output_type": "display_data"
    },
    {
     "data": {
      "text/html": [
       "related_publications: ['https://www.ncei.noaa.gov/pub/data/paleo/icecore/antarctica/law/']"
      ],
      "text/plain": [
       "<IPython.core.display.HTML object>"
      ]
     },
     "metadata": {},
     "output_type": "display_data"
    },
    {
     "data": {
      "text/html": [
       "time_interval: ['1 AD', '2004 AD']"
      ],
      "text/plain": [
       "<IPython.core.display.HTML object>"
      ]
     },
     "metadata": {},
     "output_type": "display_data"
    },
    {
     "data": {
      "text/html": [
       "<div>\n",
       "<style scoped>\n",
       "    .dataframe tbody tr th:only-of-type {\n",
       "        vertical-align: middle;\n",
       "    }\n",
       "\n",
       "    .dataframe tbody tr th {\n",
       "        vertical-align: top;\n",
       "    }\n",
       "\n",
       "    .dataframe thead th {\n",
       "        text-align: right;\n",
       "    }\n",
       "</style>\n",
       "<table border=\"1\" class=\"dataframe\">\n",
       "  <thead>\n",
       "    <tr style=\"text-align: right;\">\n",
       "      <th></th>\n",
       "      <th>SampleType</th>\n",
       "      <th>CO2gasAge</th>\n",
       "      <th>CO2(ppm)</th>\n",
       "      <th>Publication</th>\n",
       "    </tr>\n",
       "  </thead>\n",
       "  <tbody>\n",
       "    <tr>\n",
       "      <th>0</th>\n",
       "      <td>DE08</td>\n",
       "      <td>1844.0</td>\n",
       "      <td>286.5</td>\n",
       "      <td>MacFM20042006</td>\n",
       "    </tr>\n",
       "    <tr>\n",
       "      <th>1</th>\n",
       "      <td>DE08</td>\n",
       "      <td>1846.0</td>\n",
       "      <td>283.3</td>\n",
       "      <td>MacFM20042006</td>\n",
       "    </tr>\n",
       "    <tr>\n",
       "      <th>2</th>\n",
       "      <td>DE08</td>\n",
       "      <td>1846.0</td>\n",
       "      <td>285.0</td>\n",
       "      <td>MacFM20042006</td>\n",
       "    </tr>\n",
       "    <tr>\n",
       "      <th>3</th>\n",
       "      <td>DE08</td>\n",
       "      <td>1849.0</td>\n",
       "      <td>287.7</td>\n",
       "      <td>MacFM20042006</td>\n",
       "    </tr>\n",
       "    <tr>\n",
       "      <th>4</th>\n",
       "      <td>DE08</td>\n",
       "      <td>1854.0</td>\n",
       "      <td>287.0</td>\n",
       "      <td>MacFM20042006</td>\n",
       "    </tr>\n",
       "    <tr>\n",
       "      <th>5</th>\n",
       "      <td>DE08</td>\n",
       "      <td>1859.0</td>\n",
       "      <td>286.5</td>\n",
       "      <td>MacFM20042006</td>\n",
       "    </tr>\n",
       "    <tr>\n",
       "      <th>6</th>\n",
       "      <td>DE08</td>\n",
       "      <td>1864.0</td>\n",
       "      <td>285.4</td>\n",
       "      <td>MacFM20042006</td>\n",
       "    </tr>\n",
       "    <tr>\n",
       "      <th>7</th>\n",
       "      <td>DE08</td>\n",
       "      <td>1867.0</td>\n",
       "      <td>285.2</td>\n",
       "      <td>MacFM20042006</td>\n",
       "    </tr>\n",
       "    <tr>\n",
       "      <th>8</th>\n",
       "      <td>DE08</td>\n",
       "      <td>1873.0</td>\n",
       "      <td>287.2</td>\n",
       "      <td>MacFM20042006</td>\n",
       "    </tr>\n",
       "    <tr>\n",
       "      <th>9</th>\n",
       "      <td>DE08</td>\n",
       "      <td>1874.0</td>\n",
       "      <td>290.5</td>\n",
       "      <td>MacFM20042006</td>\n",
       "    </tr>\n",
       "    <tr>\n",
       "      <th>10</th>\n",
       "      <td>DE08</td>\n",
       "      <td>1884.0</td>\n",
       "      <td>289.8</td>\n",
       "      <td>MacFM20042006</td>\n",
       "    </tr>\n",
       "    <tr>\n",
       "      <th>11</th>\n",
       "      <td>DE08</td>\n",
       "      <td>1886.0</td>\n",
       "      <td>290.6</td>\n",
       "      <td>MacFM20042006</td>\n",
       "    </tr>\n",
       "    <tr>\n",
       "      <th>12</th>\n",
       "      <td>DE08</td>\n",
       "      <td>1889.0</td>\n",
       "      <td>291.5</td>\n",
       "      <td>MacFM20042006</td>\n",
       "    </tr>\n",
       "    <tr>\n",
       "      <th>13</th>\n",
       "      <td>DE08</td>\n",
       "      <td>1889.0</td>\n",
       "      <td>292.2</td>\n",
       "      <td>MacFM20042006</td>\n",
       "    </tr>\n",
       "    <tr>\n",
       "      <th>14</th>\n",
       "      <td>DE08</td>\n",
       "      <td>1894.0</td>\n",
       "      <td>293.8</td>\n",
       "      <td>MacFM20042006</td>\n",
       "    </tr>\n",
       "    <tr>\n",
       "      <th>15</th>\n",
       "      <td>DE08</td>\n",
       "      <td>1899.0</td>\n",
       "      <td>296.0</td>\n",
       "      <td>MacFM20042006</td>\n",
       "    </tr>\n",
       "    <tr>\n",
       "      <th>16</th>\n",
       "      <td>DE08</td>\n",
       "      <td>1899.0</td>\n",
       "      <td>296.2</td>\n",
       "      <td>MacFM20042006</td>\n",
       "    </tr>\n",
       "    <tr>\n",
       "      <th>17</th>\n",
       "      <td>DE08</td>\n",
       "      <td>1902.0</td>\n",
       "      <td>295.7</td>\n",
       "      <td>MacFM20042006</td>\n",
       "    </tr>\n",
       "    <tr>\n",
       "      <th>18</th>\n",
       "      <td>DE08</td>\n",
       "      <td>1902.0</td>\n",
       "      <td>295.0</td>\n",
       "      <td>MacFM20042006</td>\n",
       "    </tr>\n",
       "    <tr>\n",
       "      <th>19</th>\n",
       "      <td>DE08</td>\n",
       "      <td>1904.0</td>\n",
       "      <td>295.1</td>\n",
       "      <td>MacFM20042006</td>\n",
       "    </tr>\n",
       "    <tr>\n",
       "      <th>20</th>\n",
       "      <td>DE08</td>\n",
       "      <td>1909.0</td>\n",
       "      <td>300.4</td>\n",
       "      <td>MacFM20042006</td>\n",
       "    </tr>\n",
       "    <tr>\n",
       "      <th>21</th>\n",
       "      <td>DE08</td>\n",
       "      <td>1911.5</td>\n",
       "      <td>298.4</td>\n",
       "      <td>MacFM20042006</td>\n",
       "    </tr>\n",
       "    <tr>\n",
       "      <th>22</th>\n",
       "      <td>DE08</td>\n",
       "      <td>1914.0</td>\n",
       "      <td>300.0</td>\n",
       "      <td>MacFM20042006</td>\n",
       "    </tr>\n",
       "    <tr>\n",
       "      <th>23</th>\n",
       "      <td>DE08</td>\n",
       "      <td>1914.0</td>\n",
       "      <td>300.7</td>\n",
       "      <td>MacFM20042006</td>\n",
       "    </tr>\n",
       "    <tr>\n",
       "      <th>24</th>\n",
       "      <td>DE08</td>\n",
       "      <td>1918.6</td>\n",
       "      <td>303.3</td>\n",
       "      <td>MacFM20042006</td>\n",
       "    </tr>\n",
       "    <tr>\n",
       "      <th>25</th>\n",
       "      <td>DE08</td>\n",
       "      <td>1919.0</td>\n",
       "      <td>303.6</td>\n",
       "      <td>MacFM20042006</td>\n",
       "    </tr>\n",
       "    <tr>\n",
       "      <th>26</th>\n",
       "      <td>DE08</td>\n",
       "      <td>1923.0</td>\n",
       "      <td>303.2</td>\n",
       "      <td>MacFM20042006</td>\n",
       "    </tr>\n",
       "    <tr>\n",
       "      <th>27</th>\n",
       "      <td>DE08</td>\n",
       "      <td>1923.6</td>\n",
       "      <td>305.2</td>\n",
       "      <td>MacFM20042006</td>\n",
       "    </tr>\n",
       "    <tr>\n",
       "      <th>28</th>\n",
       "      <td>DE08</td>\n",
       "      <td>1928.8</td>\n",
       "      <td>307.8</td>\n",
       "      <td>MacFM20042006</td>\n",
       "    </tr>\n",
       "    <tr>\n",
       "      <th>29</th>\n",
       "      <td>DE08</td>\n",
       "      <td>1929.0</td>\n",
       "      <td>305.7</td>\n",
       "      <td>MacFM20042006</td>\n",
       "    </tr>\n",
       "    <tr>\n",
       "      <th>30</th>\n",
       "      <td>DE08</td>\n",
       "      <td>1933.0</td>\n",
       "      <td>307.2</td>\n",
       "      <td>MacFM20042006</td>\n",
       "    </tr>\n",
       "    <tr>\n",
       "      <th>31</th>\n",
       "      <td>DE08</td>\n",
       "      <td>1934.5</td>\n",
       "      <td>307.8</td>\n",
       "      <td>MacFM20042006</td>\n",
       "    </tr>\n",
       "    <tr>\n",
       "      <th>32</th>\n",
       "      <td>DE08</td>\n",
       "      <td>1936.5</td>\n",
       "      <td>309.0</td>\n",
       "      <td>MacFM20042006</td>\n",
       "    </tr>\n",
       "    <tr>\n",
       "      <th>33</th>\n",
       "      <td>DE08</td>\n",
       "      <td>1938.0</td>\n",
       "      <td>309.6</td>\n",
       "      <td>MacFM20042006</td>\n",
       "    </tr>\n",
       "    <tr>\n",
       "      <th>34</th>\n",
       "      <td>DE08</td>\n",
       "      <td>1939.0</td>\n",
       "      <td>310.9</td>\n",
       "      <td>MacFM20042006</td>\n",
       "    </tr>\n",
       "    <tr>\n",
       "      <th>35</th>\n",
       "      <td>DE08</td>\n",
       "      <td>1941.0</td>\n",
       "      <td>310.7</td>\n",
       "      <td>MacFM20042006</td>\n",
       "    </tr>\n",
       "    <tr>\n",
       "      <th>36</th>\n",
       "      <td>DE08</td>\n",
       "      <td>1942.0</td>\n",
       "      <td>310.9</td>\n",
       "      <td>MacFM20042006</td>\n",
       "    </tr>\n",
       "    <tr>\n",
       "      <th>37</th>\n",
       "      <td>DE08</td>\n",
       "      <td>1942.0</td>\n",
       "      <td>311.6</td>\n",
       "      <td>MacFM20042006</td>\n",
       "    </tr>\n",
       "    <tr>\n",
       "      <th>38</th>\n",
       "      <td>DE08</td>\n",
       "      <td>1943.0</td>\n",
       "      <td>310.5</td>\n",
       "      <td>MacFM20042006</td>\n",
       "    </tr>\n",
       "    <tr>\n",
       "      <th>39</th>\n",
       "      <td>DE08</td>\n",
       "      <td>1943.0</td>\n",
       "      <td>311.0</td>\n",
       "      <td>MacFM20042006</td>\n",
       "    </tr>\n",
       "    <tr>\n",
       "      <th>40</th>\n",
       "      <td>DE08</td>\n",
       "      <td>1944.0</td>\n",
       "      <td>311.3</td>\n",
       "      <td>MacFM20042006</td>\n",
       "    </tr>\n",
       "    <tr>\n",
       "      <th>41</th>\n",
       "      <td>DE08</td>\n",
       "      <td>1945.0</td>\n",
       "      <td>309.7</td>\n",
       "      <td>MacFM20042006</td>\n",
       "    </tr>\n",
       "    <tr>\n",
       "      <th>42</th>\n",
       "      <td>DE08</td>\n",
       "      <td>1946.0</td>\n",
       "      <td>311.5</td>\n",
       "      <td>MacFM20042006</td>\n",
       "    </tr>\n",
       "    <tr>\n",
       "      <th>43</th>\n",
       "      <td>DE08</td>\n",
       "      <td>1947.0</td>\n",
       "      <td>310.0</td>\n",
       "      <td>MacFM20042006</td>\n",
       "    </tr>\n",
       "    <tr>\n",
       "      <th>44</th>\n",
       "      <td>DE08</td>\n",
       "      <td>1947.0</td>\n",
       "      <td>311.5</td>\n",
       "      <td>MacFM20042006</td>\n",
       "    </tr>\n",
       "    <tr>\n",
       "      <th>45</th>\n",
       "      <td>DE08</td>\n",
       "      <td>1948.0</td>\n",
       "      <td>310.5</td>\n",
       "      <td>MacFM20042006</td>\n",
       "    </tr>\n",
       "    <tr>\n",
       "      <th>46</th>\n",
       "      <td>DE08</td>\n",
       "      <td>1949.0</td>\n",
       "      <td>311.2</td>\n",
       "      <td>MacFM20042006</td>\n",
       "    </tr>\n",
       "    <tr>\n",
       "      <th>47</th>\n",
       "      <td>DE08</td>\n",
       "      <td>1950.0</td>\n",
       "      <td>312.6</td>\n",
       "      <td>MacFM20042006</td>\n",
       "    </tr>\n",
       "    <tr>\n",
       "      <th>48</th>\n",
       "      <td>DE08</td>\n",
       "      <td>1953.0</td>\n",
       "      <td>312.1</td>\n",
       "      <td>MacFM20042006</td>\n",
       "    </tr>\n",
       "    <tr>\n",
       "      <th>49</th>\n",
       "      <td>DE08</td>\n",
       "      <td>1954.0</td>\n",
       "      <td>311.7</td>\n",
       "      <td>MacFM20042006</td>\n",
       "    </tr>\n",
       "    <tr>\n",
       "      <th>50</th>\n",
       "      <td>DE08</td>\n",
       "      <td>1955.0</td>\n",
       "      <td>313.5</td>\n",
       "      <td>MacFM20042006</td>\n",
       "    </tr>\n",
       "    <tr>\n",
       "      <th>51</th>\n",
       "      <td>DE08</td>\n",
       "      <td>1955.0</td>\n",
       "      <td>313.8</td>\n",
       "      <td>MacFM20042006</td>\n",
       "    </tr>\n",
       "    <tr>\n",
       "      <th>52</th>\n",
       "      <td>DE08</td>\n",
       "      <td>1957.0</td>\n",
       "      <td>314.0</td>\n",
       "      <td>MacFM20042006</td>\n",
       "    </tr>\n",
       "    <tr>\n",
       "      <th>53</th>\n",
       "      <td>DE08</td>\n",
       "      <td>1958.0</td>\n",
       "      <td>314.4</td>\n",
       "      <td>MacFM20042006</td>\n",
       "    </tr>\n",
       "    <tr>\n",
       "      <th>54</th>\n",
       "      <td>DE08</td>\n",
       "      <td>1959.0</td>\n",
       "      <td>316.3</td>\n",
       "      <td>MacFM20042006</td>\n",
       "    </tr>\n",
       "    <tr>\n",
       "      <th>55</th>\n",
       "      <td>DE08</td>\n",
       "      <td>1964.0</td>\n",
       "      <td>319.0</td>\n",
       "      <td>MacFM20042006</td>\n",
       "    </tr>\n",
       "    <tr>\n",
       "      <th>56</th>\n",
       "      <td>DE08</td>\n",
       "      <td>1973.0</td>\n",
       "      <td>329.2</td>\n",
       "      <td>MacFM20042006</td>\n",
       "    </tr>\n",
       "  </tbody>\n",
       "</table>\n",
       "</div>"
      ],
      "text/plain": [
       "   SampleType  CO2gasAge  CO2(ppm)    Publication\n",
       "0        DE08     1844.0     286.5  MacFM20042006\n",
       "1        DE08     1846.0     283.3  MacFM20042006\n",
       "2        DE08     1846.0     285.0  MacFM20042006\n",
       "3        DE08     1849.0     287.7  MacFM20042006\n",
       "4        DE08     1854.0     287.0  MacFM20042006\n",
       "5        DE08     1859.0     286.5  MacFM20042006\n",
       "6        DE08     1864.0     285.4  MacFM20042006\n",
       "7        DE08     1867.0     285.2  MacFM20042006\n",
       "8        DE08     1873.0     287.2  MacFM20042006\n",
       "9        DE08     1874.0     290.5  MacFM20042006\n",
       "10       DE08     1884.0     289.8  MacFM20042006\n",
       "11       DE08     1886.0     290.6  MacFM20042006\n",
       "12       DE08     1889.0     291.5  MacFM20042006\n",
       "13       DE08     1889.0     292.2  MacFM20042006\n",
       "14       DE08     1894.0     293.8  MacFM20042006\n",
       "15       DE08     1899.0     296.0  MacFM20042006\n",
       "16       DE08     1899.0     296.2  MacFM20042006\n",
       "17       DE08     1902.0     295.7  MacFM20042006\n",
       "18       DE08     1902.0     295.0  MacFM20042006\n",
       "19       DE08     1904.0     295.1  MacFM20042006\n",
       "20       DE08     1909.0     300.4  MacFM20042006\n",
       "21       DE08     1911.5     298.4  MacFM20042006\n",
       "22       DE08     1914.0     300.0  MacFM20042006\n",
       "23       DE08     1914.0     300.7  MacFM20042006\n",
       "24       DE08     1918.6     303.3  MacFM20042006\n",
       "25       DE08     1919.0     303.6  MacFM20042006\n",
       "26       DE08     1923.0     303.2  MacFM20042006\n",
       "27       DE08     1923.6     305.2  MacFM20042006\n",
       "28       DE08     1928.8     307.8  MacFM20042006\n",
       "29       DE08     1929.0     305.7  MacFM20042006\n",
       "30       DE08     1933.0     307.2  MacFM20042006\n",
       "31       DE08     1934.5     307.8  MacFM20042006\n",
       "32       DE08     1936.5     309.0  MacFM20042006\n",
       "33       DE08     1938.0     309.6  MacFM20042006\n",
       "34       DE08     1939.0     310.9  MacFM20042006\n",
       "35       DE08     1941.0     310.7  MacFM20042006\n",
       "36       DE08     1942.0     310.9  MacFM20042006\n",
       "37       DE08     1942.0     311.6  MacFM20042006\n",
       "38       DE08     1943.0     310.5  MacFM20042006\n",
       "39       DE08     1943.0     311.0  MacFM20042006\n",
       "40       DE08     1944.0     311.3  MacFM20042006\n",
       "41       DE08     1945.0     309.7  MacFM20042006\n",
       "42       DE08     1946.0     311.5  MacFM20042006\n",
       "43       DE08     1947.0     310.0  MacFM20042006\n",
       "44       DE08     1947.0     311.5  MacFM20042006\n",
       "45       DE08     1948.0     310.5  MacFM20042006\n",
       "46       DE08     1949.0     311.2  MacFM20042006\n",
       "47       DE08     1950.0     312.6  MacFM20042006\n",
       "48       DE08     1953.0     312.1  MacFM20042006\n",
       "49       DE08     1954.0     311.7  MacFM20042006\n",
       "50       DE08     1955.0     313.5  MacFM20042006\n",
       "51       DE08     1955.0     313.8  MacFM20042006\n",
       "52       DE08     1957.0     314.0  MacFM20042006\n",
       "53       DE08     1958.0     314.4  MacFM20042006\n",
       "54       DE08     1959.0     316.3  MacFM20042006\n",
       "55       DE08     1964.0     319.0  MacFM20042006\n",
       "56       DE08     1973.0     329.2  MacFM20042006"
      ]
     },
     "metadata": {},
     "output_type": "display_data"
    },
    {
     "name": "stdout",
     "output_type": "stream",
     "text": [
      "\n",
      "---------------------------------------------------------------------------------\n",
      "Dataset LawDome2006_CO2_Core_DSSW20Kfirn ['co2', 'ch4', 'n20', 'icecore', 'antarctica']\n",
      "\n"
     ]
    },
    {
     "data": {
      "text/html": [
       "description: New measurements of atmospheric greenhouse gas concentrations in ice from Law Dome, Antarctica reproduce published Law Dome CO2 and CH4 records, extend them back to 2000 years BP, and include N2O. They have very high air age resolution, data density and measurement precision. Firn air measurements span the past 65 years and overlap with the ice core and direct atmospheric observations. Major increases in CO2, CH4 and N2O concentrations during the past 200 years followed a period of relative stability beforehand. Decadal variations during the industrial period include the stabilization of CO2 and slowing of CH4 and N2O growth in the 1940s and 1950s. Variations of up to 10 ppm CO2, 40 ppb CH4 and 10 ppb N2O occurred throughout the preindustrial period.  Methane concentrations grew by 100 ppb from AD 0 to 1800, possibly due to early anthropogenic emissions."
      ],
      "text/plain": [
       "<IPython.core.display.HTML object>"
      ]
     },
     "metadata": {},
     "output_type": "display_data"
    },
    {
     "data": {
      "text/html": [
       "authors: ['A.M. Smith', 'C.E. Allison', 'C.M. MacFarling Meure', 'C.M. Trudinger', 'D.A. Spencer', 'D.C. Lowe', 'D.F. Ferretti', 'D.M. Etheridge', 'G.A. Sturrock', 'I.G. Enting', 'J. Elkins', 'J.-M. Barnola', 'J.B. Miller', 'J.W.C. White', 'K.R. Lassey', 'L.N. Cooper', 'L.P. Steele', 'L.W. Porter', 'M.F. Dreier', 'M.V. Van der Schoot', 'P.B. Krummel', 'P.J. Fraser', 'P.J. Rayner', 'R.J. Francey', 'R.L. Langenfelds ', 'T.D. van Ommen', 'V.I. Morgan']"
      ],
      "text/plain": [
       "<IPython.core.display.HTML object>"
      ]
     },
     "metadata": {},
     "output_type": "display_data"
    },
    {
     "data": {
      "text/html": [
       "publication_date: 2010"
      ],
      "text/plain": [
       "<IPython.core.display.HTML object>"
      ]
     },
     "metadata": {},
     "output_type": "display_data"
    },
    {
     "data": {
      "text/html": [
       "last_update: 2010-07"
      ],
      "text/plain": [
       "<IPython.core.display.HTML object>"
      ]
     },
     "metadata": {},
     "output_type": "display_data"
    },
    {
     "data": {
      "text/html": [
       "publisher: World Data Center for Paleoclimatology, Boulder and NOAA Paleoclimatology Program"
      ],
      "text/plain": [
       "<IPython.core.display.HTML object>"
      ]
     },
     "metadata": {},
     "output_type": "display_data"
    },
    {
     "data": {
      "text/html": [
       "id: IGBP PAGES/World Data Center for Paleoclimatology Data Contribution Series # 2010-070"
      ],
      "text/plain": [
       "<IPython.core.display.HTML object>"
      ]
     },
     "metadata": {},
     "output_type": "display_data"
    },
    {
     "data": {
      "text/html": [
       "version: "
      ],
      "text/plain": [
       "<IPython.core.display.HTML object>"
      ]
     },
     "metadata": {},
     "output_type": "display_data"
    },
    {
     "data": {
      "text/html": [
       "data_source: https://www.ncei.noaa.gov/pub/data/paleo/icecore/antarctica/law/law2006.txt"
      ],
      "text/plain": [
       "<IPython.core.display.HTML object>"
      ]
     },
     "metadata": {},
     "output_type": "display_data"
    },
    {
     "data": {
      "text/html": [
       "related_publications: ['https://www.ncei.noaa.gov/pub/data/paleo/icecore/antarctica/law/']"
      ],
      "text/plain": [
       "<IPython.core.display.HTML object>"
      ]
     },
     "metadata": {},
     "output_type": "display_data"
    },
    {
     "data": {
      "text/html": [
       "time_interval: ['1 AD', '2004 AD']"
      ],
      "text/plain": [
       "<IPython.core.display.HTML object>"
      ]
     },
     "metadata": {},
     "output_type": "display_data"
    },
    {
     "data": {
      "text/html": [
       "<div>\n",
       "<style scoped>\n",
       "    .dataframe tbody tr th:only-of-type {\n",
       "        vertical-align: middle;\n",
       "    }\n",
       "\n",
       "    .dataframe tbody tr th {\n",
       "        vertical-align: top;\n",
       "    }\n",
       "\n",
       "    .dataframe thead th {\n",
       "        text-align: right;\n",
       "    }\n",
       "</style>\n",
       "<table border=\"1\" class=\"dataframe\">\n",
       "  <thead>\n",
       "    <tr style=\"text-align: right;\">\n",
       "      <th></th>\n",
       "      <th>SampleType</th>\n",
       "      <th>CO2gasAge</th>\n",
       "      <th>CO2(ppm)</th>\n",
       "    </tr>\n",
       "  </thead>\n",
       "  <tbody>\n",
       "    <tr>\n",
       "      <th>0</th>\n",
       "      <td>DSSW20Kfirn</td>\n",
       "      <td>1942.1</td>\n",
       "      <td>312.3</td>\n",
       "    </tr>\n",
       "    <tr>\n",
       "      <th>1</th>\n",
       "      <td>DSSW20Kfirn</td>\n",
       "      <td>1956.1</td>\n",
       "      <td>316.3</td>\n",
       "    </tr>\n",
       "    <tr>\n",
       "      <th>2</th>\n",
       "      <td>DSSW20Kfirn</td>\n",
       "      <td>1970.0</td>\n",
       "      <td>324.8</td>\n",
       "    </tr>\n",
       "    <tr>\n",
       "      <th>3</th>\n",
       "      <td>DSSW20Kfirn</td>\n",
       "      <td>1983.7</td>\n",
       "      <td>341.2</td>\n",
       "    </tr>\n",
       "    <tr>\n",
       "      <th>4</th>\n",
       "      <td>DSSW20Kfirn</td>\n",
       "      <td>1989.8</td>\n",
       "      <td>349.7</td>\n",
       "    </tr>\n",
       "    <tr>\n",
       "      <th>5</th>\n",
       "      <td>DSSW20Kfirn</td>\n",
       "      <td>1992.4</td>\n",
       "      <td>353.6</td>\n",
       "    </tr>\n",
       "    <tr>\n",
       "      <th>6</th>\n",
       "      <td>DSSW20Kfirn</td>\n",
       "      <td>1994.5</td>\n",
       "      <td>356.9</td>\n",
       "    </tr>\n",
       "    <tr>\n",
       "      <th>7</th>\n",
       "      <td>DSSW20Kfirn</td>\n",
       "      <td>1996.5</td>\n",
       "      <td>359.5</td>\n",
       "    </tr>\n",
       "  </tbody>\n",
       "</table>\n",
       "</div>"
      ],
      "text/plain": [
       "    SampleType  CO2gasAge  CO2(ppm)\n",
       "0  DSSW20Kfirn     1942.1     312.3\n",
       "1  DSSW20Kfirn     1956.1     316.3\n",
       "2  DSSW20Kfirn     1970.0     324.8\n",
       "3  DSSW20Kfirn     1983.7     341.2\n",
       "4  DSSW20Kfirn     1989.8     349.7\n",
       "5  DSSW20Kfirn     1992.4     353.6\n",
       "6  DSSW20Kfirn     1994.5     356.9\n",
       "7  DSSW20Kfirn     1996.5     359.5"
      ]
     },
     "metadata": {},
     "output_type": "display_data"
    },
    {
     "name": "stdout",
     "output_type": "stream",
     "text": [
      "\n",
      "---------------------------------------------------------------------------------\n",
      "Dataset LawDome2006_CO2_Core_CAPEGRIM ['co2', 'ch4', 'n20', 'icecore', 'antarctica']\n",
      "\n"
     ]
    },
    {
     "data": {
      "text/html": [
       "description: New measurements of atmospheric greenhouse gas concentrations in ice from Law Dome, Antarctica reproduce published Law Dome CO2 and CH4 records, extend them back to 2000 years BP, and include N2O. They have very high air age resolution, data density and measurement precision. Firn air measurements span the past 65 years and overlap with the ice core and direct atmospheric observations. Major increases in CO2, CH4 and N2O concentrations during the past 200 years followed a period of relative stability beforehand. Decadal variations during the industrial period include the stabilization of CO2 and slowing of CH4 and N2O growth in the 1940s and 1950s. Variations of up to 10 ppm CO2, 40 ppb CH4 and 10 ppb N2O occurred throughout the preindustrial period.  Methane concentrations grew by 100 ppb from AD 0 to 1800, possibly due to early anthropogenic emissions."
      ],
      "text/plain": [
       "<IPython.core.display.HTML object>"
      ]
     },
     "metadata": {},
     "output_type": "display_data"
    },
    {
     "data": {
      "text/html": [
       "authors: ['A.M. Smith', 'C.E. Allison', 'C.M. MacFarling Meure', 'C.M. Trudinger', 'D.A. Spencer', 'D.C. Lowe', 'D.F. Ferretti', 'D.M. Etheridge', 'G.A. Sturrock', 'I.G. Enting', 'J. Elkins', 'J.-M. Barnola', 'J.B. Miller', 'J.W.C. White', 'K.R. Lassey', 'L.N. Cooper', 'L.P. Steele', 'L.W. Porter', 'M.F. Dreier', 'M.V. Van der Schoot', 'P.B. Krummel', 'P.J. Fraser', 'P.J. Rayner', 'R.J. Francey', 'R.L. Langenfelds ', 'T.D. van Ommen', 'V.I. Morgan']"
      ],
      "text/plain": [
       "<IPython.core.display.HTML object>"
      ]
     },
     "metadata": {},
     "output_type": "display_data"
    },
    {
     "data": {
      "text/html": [
       "publication_date: 2010"
      ],
      "text/plain": [
       "<IPython.core.display.HTML object>"
      ]
     },
     "metadata": {},
     "output_type": "display_data"
    },
    {
     "data": {
      "text/html": [
       "last_update: 2010-07"
      ],
      "text/plain": [
       "<IPython.core.display.HTML object>"
      ]
     },
     "metadata": {},
     "output_type": "display_data"
    },
    {
     "data": {
      "text/html": [
       "publisher: World Data Center for Paleoclimatology, Boulder and NOAA Paleoclimatology Program"
      ],
      "text/plain": [
       "<IPython.core.display.HTML object>"
      ]
     },
     "metadata": {},
     "output_type": "display_data"
    },
    {
     "data": {
      "text/html": [
       "id: IGBP PAGES/World Data Center for Paleoclimatology Data Contribution Series # 2010-070"
      ],
      "text/plain": [
       "<IPython.core.display.HTML object>"
      ]
     },
     "metadata": {},
     "output_type": "display_data"
    },
    {
     "data": {
      "text/html": [
       "version: "
      ],
      "text/plain": [
       "<IPython.core.display.HTML object>"
      ]
     },
     "metadata": {},
     "output_type": "display_data"
    },
    {
     "data": {
      "text/html": [
       "data_source: https://www.ncei.noaa.gov/pub/data/paleo/icecore/antarctica/law/law2006.txt"
      ],
      "text/plain": [
       "<IPython.core.display.HTML object>"
      ]
     },
     "metadata": {},
     "output_type": "display_data"
    },
    {
     "data": {
      "text/html": [
       "related_publications: ['https://www.ncei.noaa.gov/pub/data/paleo/icecore/antarctica/law/']"
      ],
      "text/plain": [
       "<IPython.core.display.HTML object>"
      ]
     },
     "metadata": {},
     "output_type": "display_data"
    },
    {
     "data": {
      "text/html": [
       "time_interval: ['1 AD', '2004 AD']"
      ],
      "text/plain": [
       "<IPython.core.display.HTML object>"
      ]
     },
     "metadata": {},
     "output_type": "display_data"
    },
    {
     "data": {
      "text/html": [
       "<div>\n",
       "<style scoped>\n",
       "    .dataframe tbody tr th:only-of-type {\n",
       "        vertical-align: middle;\n",
       "    }\n",
       "\n",
       "    .dataframe tbody tr th {\n",
       "        vertical-align: top;\n",
       "    }\n",
       "\n",
       "    .dataframe thead th {\n",
       "        text-align: right;\n",
       "    }\n",
       "</style>\n",
       "<table border=\"1\" class=\"dataframe\">\n",
       "  <thead>\n",
       "    <tr style=\"text-align: right;\">\n",
       "      <th></th>\n",
       "      <th>SampleType</th>\n",
       "      <th>CO2gasAge</th>\n",
       "      <th>CO2(ppm)</th>\n",
       "    </tr>\n",
       "  </thead>\n",
       "  <tbody>\n",
       "    <tr>\n",
       "      <th>0</th>\n",
       "      <td>CAPEGRIM</td>\n",
       "      <td>1977.0</td>\n",
       "      <td>331.7</td>\n",
       "    </tr>\n",
       "    <tr>\n",
       "      <th>1</th>\n",
       "      <td>CAPEGRIM</td>\n",
       "      <td>1978.0</td>\n",
       "      <td>333.5</td>\n",
       "    </tr>\n",
       "    <tr>\n",
       "      <th>2</th>\n",
       "      <td>CAPEGRIM</td>\n",
       "      <td>1979.0</td>\n",
       "      <td>335.3</td>\n",
       "    </tr>\n",
       "    <tr>\n",
       "      <th>3</th>\n",
       "      <td>CAPEGRIM</td>\n",
       "      <td>1980.0</td>\n",
       "      <td>336.6</td>\n",
       "    </tr>\n",
       "    <tr>\n",
       "      <th>4</th>\n",
       "      <td>CAPEGRIM</td>\n",
       "      <td>1981.0</td>\n",
       "      <td>337.6</td>\n",
       "    </tr>\n",
       "    <tr>\n",
       "      <th>5</th>\n",
       "      <td>CAPEGRIM</td>\n",
       "      <td>1982.0</td>\n",
       "      <td>338.1</td>\n",
       "    </tr>\n",
       "    <tr>\n",
       "      <th>6</th>\n",
       "      <td>CAPEGRIM</td>\n",
       "      <td>1983.0</td>\n",
       "      <td>340.1</td>\n",
       "    </tr>\n",
       "    <tr>\n",
       "      <th>7</th>\n",
       "      <td>CAPEGRIM</td>\n",
       "      <td>1984.0</td>\n",
       "      <td>341.8</td>\n",
       "    </tr>\n",
       "    <tr>\n",
       "      <th>8</th>\n",
       "      <td>CAPEGRIM</td>\n",
       "      <td>1985.0</td>\n",
       "      <td>343.2</td>\n",
       "    </tr>\n",
       "    <tr>\n",
       "      <th>9</th>\n",
       "      <td>CAPEGRIM</td>\n",
       "      <td>1986.0</td>\n",
       "      <td>344.5</td>\n",
       "    </tr>\n",
       "    <tr>\n",
       "      <th>10</th>\n",
       "      <td>CAPEGRIM</td>\n",
       "      <td>1987.0</td>\n",
       "      <td>346.1</td>\n",
       "    </tr>\n",
       "    <tr>\n",
       "      <th>11</th>\n",
       "      <td>CAPEGRIM</td>\n",
       "      <td>1988.0</td>\n",
       "      <td>348.3</td>\n",
       "    </tr>\n",
       "    <tr>\n",
       "      <th>12</th>\n",
       "      <td>CAPEGRIM</td>\n",
       "      <td>1989.0</td>\n",
       "      <td>349.5</td>\n",
       "    </tr>\n",
       "    <tr>\n",
       "      <th>13</th>\n",
       "      <td>CAPEGRIM</td>\n",
       "      <td>1990.0</td>\n",
       "      <td>351.0</td>\n",
       "    </tr>\n",
       "    <tr>\n",
       "      <th>14</th>\n",
       "      <td>CAPEGRIM</td>\n",
       "      <td>1991.0</td>\n",
       "      <td>352.6</td>\n",
       "    </tr>\n",
       "    <tr>\n",
       "      <th>15</th>\n",
       "      <td>CAPEGRIM</td>\n",
       "      <td>1992.0</td>\n",
       "      <td>354.1</td>\n",
       "    </tr>\n",
       "    <tr>\n",
       "      <th>16</th>\n",
       "      <td>CAPEGRIM</td>\n",
       "      <td>1993.0</td>\n",
       "      <td>354.9</td>\n",
       "    </tr>\n",
       "    <tr>\n",
       "      <th>17</th>\n",
       "      <td>CAPEGRIM</td>\n",
       "      <td>1994.0</td>\n",
       "      <td>356.3</td>\n",
       "    </tr>\n",
       "    <tr>\n",
       "      <th>18</th>\n",
       "      <td>CAPEGRIM</td>\n",
       "      <td>1995.0</td>\n",
       "      <td>358.3</td>\n",
       "    </tr>\n",
       "    <tr>\n",
       "      <th>19</th>\n",
       "      <td>CAPEGRIM</td>\n",
       "      <td>1996.0</td>\n",
       "      <td>359.8</td>\n",
       "    </tr>\n",
       "    <tr>\n",
       "      <th>20</th>\n",
       "      <td>CAPEGRIM</td>\n",
       "      <td>1997.0</td>\n",
       "      <td>361.1</td>\n",
       "    </tr>\n",
       "    <tr>\n",
       "      <th>21</th>\n",
       "      <td>CAPEGRIM</td>\n",
       "      <td>1998.0</td>\n",
       "      <td>363.6</td>\n",
       "    </tr>\n",
       "    <tr>\n",
       "      <th>22</th>\n",
       "      <td>CAPEGRIM</td>\n",
       "      <td>1999.0</td>\n",
       "      <td>365.5</td>\n",
       "    </tr>\n",
       "    <tr>\n",
       "      <th>23</th>\n",
       "      <td>CAPEGRIM</td>\n",
       "      <td>2000.0</td>\n",
       "      <td>366.8</td>\n",
       "    </tr>\n",
       "    <tr>\n",
       "      <th>24</th>\n",
       "      <td>CAPEGRIM</td>\n",
       "      <td>2001.0</td>\n",
       "      <td>368.3</td>\n",
       "    </tr>\n",
       "    <tr>\n",
       "      <th>25</th>\n",
       "      <td>CAPEGRIM</td>\n",
       "      <td>2002.0</td>\n",
       "      <td>370.5</td>\n",
       "    </tr>\n",
       "    <tr>\n",
       "      <th>26</th>\n",
       "      <td>CAPEGRIM</td>\n",
       "      <td>2003.0</td>\n",
       "      <td>372.8</td>\n",
       "    </tr>\n",
       "    <tr>\n",
       "      <th>27</th>\n",
       "      <td>CAPEGRIM</td>\n",
       "      <td>2004.0</td>\n",
       "      <td>374.7</td>\n",
       "    </tr>\n",
       "    <tr>\n",
       "      <th>28</th>\n",
       "      <td>CAPEGRIM</td>\n",
       "      <td>2005.0</td>\n",
       "      <td>376.7</td>\n",
       "    </tr>\n",
       "    <tr>\n",
       "      <th>29</th>\n",
       "      <td>CAPEGRIM</td>\n",
       "      <td>2006.0</td>\n",
       "      <td>378.7</td>\n",
       "    </tr>\n",
       "  </tbody>\n",
       "</table>\n",
       "</div>"
      ],
      "text/plain": [
       "   SampleType  CO2gasAge  CO2(ppm)\n",
       "0    CAPEGRIM     1977.0     331.7\n",
       "1    CAPEGRIM     1978.0     333.5\n",
       "2    CAPEGRIM     1979.0     335.3\n",
       "3    CAPEGRIM     1980.0     336.6\n",
       "4    CAPEGRIM     1981.0     337.6\n",
       "5    CAPEGRIM     1982.0     338.1\n",
       "6    CAPEGRIM     1983.0     340.1\n",
       "7    CAPEGRIM     1984.0     341.8\n",
       "8    CAPEGRIM     1985.0     343.2\n",
       "9    CAPEGRIM     1986.0     344.5\n",
       "10   CAPEGRIM     1987.0     346.1\n",
       "11   CAPEGRIM     1988.0     348.3\n",
       "12   CAPEGRIM     1989.0     349.5\n",
       "13   CAPEGRIM     1990.0     351.0\n",
       "14   CAPEGRIM     1991.0     352.6\n",
       "15   CAPEGRIM     1992.0     354.1\n",
       "16   CAPEGRIM     1993.0     354.9\n",
       "17   CAPEGRIM     1994.0     356.3\n",
       "18   CAPEGRIM     1995.0     358.3\n",
       "19   CAPEGRIM     1996.0     359.8\n",
       "20   CAPEGRIM     1997.0     361.1\n",
       "21   CAPEGRIM     1998.0     363.6\n",
       "22   CAPEGRIM     1999.0     365.5\n",
       "23   CAPEGRIM     2000.0     366.8\n",
       "24   CAPEGRIM     2001.0     368.3\n",
       "25   CAPEGRIM     2002.0     370.5\n",
       "26   CAPEGRIM     2003.0     372.8\n",
       "27   CAPEGRIM     2004.0     374.7\n",
       "28   CAPEGRIM     2005.0     376.7\n",
       "29   CAPEGRIM     2006.0     378.7"
      ]
     },
     "metadata": {},
     "output_type": "display_data"
    },
    {
     "name": "stdout",
     "output_type": "stream",
     "text": [
      "\n",
      "---------------------------------------------------------------------------------\n",
      "Dataset LawDome2006_CO2_All ['co2', 'ch4', 'n20', 'icecore', 'antarctica']\n",
      "\n"
     ]
    },
    {
     "data": {
      "text/html": [
       "description: New measurements of atmospheric greenhouse gas concentrations in ice from Law Dome, Antarctica reproduce published Law Dome CO2 and CH4 records, extend them back to 2000 years BP, and include N2O. They have very high air age resolution, data density and measurement precision. Firn air measurements span the past 65 years and overlap with the ice core and direct atmospheric observations. Major increases in CO2, CH4 and N2O concentrations during the past 200 years followed a period of relative stability beforehand. Decadal variations during the industrial period include the stabilization of CO2 and slowing of CH4 and N2O growth in the 1940s and 1950s. Variations of up to 10 ppm CO2, 40 ppb CH4 and 10 ppb N2O occurred throughout the preindustrial period.  Methane concentrations grew by 100 ppb from AD 0 to 1800, possibly due to early anthropogenic emissions."
      ],
      "text/plain": [
       "<IPython.core.display.HTML object>"
      ]
     },
     "metadata": {},
     "output_type": "display_data"
    },
    {
     "data": {
      "text/html": [
       "authors: ['A.M. Smith', 'C.E. Allison', 'C.M. MacFarling Meure', 'C.M. Trudinger', 'D.A. Spencer', 'D.C. Lowe', 'D.F. Ferretti', 'D.M. Etheridge', 'G.A. Sturrock', 'I.G. Enting', 'J. Elkins', 'J.-M. Barnola', 'J.B. Miller', 'J.W.C. White', 'K.R. Lassey', 'L.N. Cooper', 'L.P. Steele', 'L.W. Porter', 'M.F. Dreier', 'M.V. Van der Schoot', 'P.B. Krummel', 'P.J. Fraser', 'P.J. Rayner', 'R.J. Francey', 'R.L. Langenfelds ', 'T.D. van Ommen', 'V.I. Morgan']"
      ],
      "text/plain": [
       "<IPython.core.display.HTML object>"
      ]
     },
     "metadata": {},
     "output_type": "display_data"
    },
    {
     "data": {
      "text/html": [
       "publication_date: 2010"
      ],
      "text/plain": [
       "<IPython.core.display.HTML object>"
      ]
     },
     "metadata": {},
     "output_type": "display_data"
    },
    {
     "data": {
      "text/html": [
       "last_update: 2010-07"
      ],
      "text/plain": [
       "<IPython.core.display.HTML object>"
      ]
     },
     "metadata": {},
     "output_type": "display_data"
    },
    {
     "data": {
      "text/html": [
       "publisher: World Data Center for Paleoclimatology, Boulder and NOAA Paleoclimatology Program"
      ],
      "text/plain": [
       "<IPython.core.display.HTML object>"
      ]
     },
     "metadata": {},
     "output_type": "display_data"
    },
    {
     "data": {
      "text/html": [
       "id: IGBP PAGES/World Data Center for Paleoclimatology Data Contribution Series # 2010-070"
      ],
      "text/plain": [
       "<IPython.core.display.HTML object>"
      ]
     },
     "metadata": {},
     "output_type": "display_data"
    },
    {
     "data": {
      "text/html": [
       "version: "
      ],
      "text/plain": [
       "<IPython.core.display.HTML object>"
      ]
     },
     "metadata": {},
     "output_type": "display_data"
    },
    {
     "data": {
      "text/html": [
       "data_source: https://www.ncei.noaa.gov/pub/data/paleo/icecore/antarctica/law/law2006.txt"
      ],
      "text/plain": [
       "<IPython.core.display.HTML object>"
      ]
     },
     "metadata": {},
     "output_type": "display_data"
    },
    {
     "data": {
      "text/html": [
       "related_publications: ['https://www.ncei.noaa.gov/pub/data/paleo/icecore/antarctica/law/']"
      ],
      "text/plain": [
       "<IPython.core.display.HTML object>"
      ]
     },
     "metadata": {},
     "output_type": "display_data"
    },
    {
     "data": {
      "text/html": [
       "time_interval: ['1 AD', '2004 AD']"
      ],
      "text/plain": [
       "<IPython.core.display.HTML object>"
      ]
     },
     "metadata": {},
     "output_type": "display_data"
    },
    {
     "data": {
      "text/html": [
       "<div>\n",
       "<style scoped>\n",
       "    .dataframe tbody tr th:only-of-type {\n",
       "        vertical-align: middle;\n",
       "    }\n",
       "\n",
       "    .dataframe tbody tr th {\n",
       "        vertical-align: top;\n",
       "    }\n",
       "\n",
       "    .dataframe thead th {\n",
       "        text-align: right;\n",
       "    }\n",
       "</style>\n",
       "<table border=\"1\" class=\"dataframe\">\n",
       "  <thead>\n",
       "    <tr style=\"text-align: right;\">\n",
       "      <th></th>\n",
       "      <th>SampleType</th>\n",
       "      <th>CO2gasAge</th>\n",
       "      <th>CO2(ppm)</th>\n",
       "      <th>Publication</th>\n",
       "    </tr>\n",
       "  </thead>\n",
       "  <tbody>\n",
       "    <tr>\n",
       "      <th>0</th>\n",
       "      <td>CAPEGRIM</td>\n",
       "      <td>2006.0</td>\n",
       "      <td>378.7</td>\n",
       "      <td>None</td>\n",
       "    </tr>\n",
       "    <tr>\n",
       "      <th>1</th>\n",
       "      <td>CAPEGRIM</td>\n",
       "      <td>2005.0</td>\n",
       "      <td>376.7</td>\n",
       "      <td>None</td>\n",
       "    </tr>\n",
       "    <tr>\n",
       "      <th>2</th>\n",
       "      <td>CAPEGRIM</td>\n",
       "      <td>2004.0</td>\n",
       "      <td>374.7</td>\n",
       "      <td>None</td>\n",
       "    </tr>\n",
       "    <tr>\n",
       "      <th>3</th>\n",
       "      <td>CAPEGRIM</td>\n",
       "      <td>2003.0</td>\n",
       "      <td>372.8</td>\n",
       "      <td>None</td>\n",
       "    </tr>\n",
       "    <tr>\n",
       "      <th>4</th>\n",
       "      <td>CAPEGRIM</td>\n",
       "      <td>2002.0</td>\n",
       "      <td>370.5</td>\n",
       "      <td>None</td>\n",
       "    </tr>\n",
       "    <tr>\n",
       "      <th>...</th>\n",
       "      <td>...</td>\n",
       "      <td>...</td>\n",
       "      <td>...</td>\n",
       "      <td>...</td>\n",
       "    </tr>\n",
       "    <tr>\n",
       "      <th>245</th>\n",
       "      <td>DSS</td>\n",
       "      <td>136.0</td>\n",
       "      <td>278.1</td>\n",
       "      <td>MacFM20042006</td>\n",
       "    </tr>\n",
       "    <tr>\n",
       "      <th>246</th>\n",
       "      <td>DSS</td>\n",
       "      <td>104.5</td>\n",
       "      <td>277.5</td>\n",
       "      <td>MacFM20042006</td>\n",
       "    </tr>\n",
       "    <tr>\n",
       "      <th>247</th>\n",
       "      <td>DSS</td>\n",
       "      <td>56.0</td>\n",
       "      <td>277.4</td>\n",
       "      <td>MacFM20042006</td>\n",
       "    </tr>\n",
       "    <tr>\n",
       "      <th>248</th>\n",
       "      <td>DSS</td>\n",
       "      <td>29.5</td>\n",
       "      <td>277.9</td>\n",
       "      <td>MacFM20042006</td>\n",
       "    </tr>\n",
       "    <tr>\n",
       "      <th>249</th>\n",
       "      <td>DSS</td>\n",
       "      <td>13.3</td>\n",
       "      <td>276.7</td>\n",
       "      <td>MacFM20042006</td>\n",
       "    </tr>\n",
       "  </tbody>\n",
       "</table>\n",
       "<p>250 rows × 4 columns</p>\n",
       "</div>"
      ],
      "text/plain": [
       "    SampleType  CO2gasAge  CO2(ppm)    Publication\n",
       "0     CAPEGRIM     2006.0     378.7           None\n",
       "1     CAPEGRIM     2005.0     376.7           None\n",
       "2     CAPEGRIM     2004.0     374.7           None\n",
       "3     CAPEGRIM     2003.0     372.8           None\n",
       "4     CAPEGRIM     2002.0     370.5           None\n",
       "..         ...        ...       ...            ...\n",
       "245        DSS      136.0     278.1  MacFM20042006\n",
       "246        DSS      104.5     277.5  MacFM20042006\n",
       "247        DSS       56.0     277.4  MacFM20042006\n",
       "248        DSS       29.5     277.9  MacFM20042006\n",
       "249        DSS       13.3     276.7  MacFM20042006\n",
       "\n",
       "[250 rows x 4 columns]"
      ]
     },
     "metadata": {},
     "output_type": "display_data"
    },
    {
     "name": "stdout",
     "output_type": "stream",
     "text": [
      "\n",
      "---------------------------------------------------------------------------------\n",
      "Dataset LawDome2006_CH4_Core_DSS_Eth1996 ['co2', 'ch4', 'n20', 'icecore', 'antarctica']\n",
      "\n"
     ]
    },
    {
     "data": {
      "text/html": [
       "description: New measurements of atmospheric greenhouse gas concentrations in ice from Law Dome, Antarctica reproduce published Law Dome CO2 and CH4 records, extend them back to 2000 years BP, and include N2O. They have very high air age resolution, data density and measurement precision. Firn air measurements span the past 65 years and overlap with the ice core and direct atmospheric observations. Major increases in CO2, CH4 and N2O concentrations during the past 200 years followed a period of relative stability beforehand. Decadal variations during the industrial period include the stabilization of CO2 and slowing of CH4 and N2O growth in the 1940s and 1950s. Variations of up to 10 ppm CO2, 40 ppb CH4 and 10 ppb N2O occurred throughout the preindustrial period.  Methane concentrations grew by 100 ppb from AD 0 to 1800, possibly due to early anthropogenic emissions."
      ],
      "text/plain": [
       "<IPython.core.display.HTML object>"
      ]
     },
     "metadata": {},
     "output_type": "display_data"
    },
    {
     "data": {
      "text/html": [
       "authors: ['A.M. Smith', 'C.E. Allison', 'C.M. MacFarling Meure', 'C.M. Trudinger', 'D.A. Spencer', 'D.C. Lowe', 'D.F. Ferretti', 'D.M. Etheridge', 'G.A. Sturrock', 'I.G. Enting', 'J. Elkins', 'J.-M. Barnola', 'J.B. Miller', 'J.W.C. White', 'K.R. Lassey', 'L.N. Cooper', 'L.P. Steele', 'L.W. Porter', 'M.F. Dreier', 'M.V. Van der Schoot', 'P.B. Krummel', 'P.J. Fraser', 'P.J. Rayner', 'R.J. Francey', 'R.L. Langenfelds ', 'T.D. van Ommen', 'V.I. Morgan']"
      ],
      "text/plain": [
       "<IPython.core.display.HTML object>"
      ]
     },
     "metadata": {},
     "output_type": "display_data"
    },
    {
     "data": {
      "text/html": [
       "publication_date: 2010"
      ],
      "text/plain": [
       "<IPython.core.display.HTML object>"
      ]
     },
     "metadata": {},
     "output_type": "display_data"
    },
    {
     "data": {
      "text/html": [
       "last_update: 2010-07"
      ],
      "text/plain": [
       "<IPython.core.display.HTML object>"
      ]
     },
     "metadata": {},
     "output_type": "display_data"
    },
    {
     "data": {
      "text/html": [
       "publisher: World Data Center for Paleoclimatology, Boulder and NOAA Paleoclimatology Program"
      ],
      "text/plain": [
       "<IPython.core.display.HTML object>"
      ]
     },
     "metadata": {},
     "output_type": "display_data"
    },
    {
     "data": {
      "text/html": [
       "id: IGBP PAGES/World Data Center for Paleoclimatology Data Contribution Series # 2010-070"
      ],
      "text/plain": [
       "<IPython.core.display.HTML object>"
      ]
     },
     "metadata": {},
     "output_type": "display_data"
    },
    {
     "data": {
      "text/html": [
       "version: "
      ],
      "text/plain": [
       "<IPython.core.display.HTML object>"
      ]
     },
     "metadata": {},
     "output_type": "display_data"
    },
    {
     "data": {
      "text/html": [
       "data_source: https://www.ncei.noaa.gov/pub/data/paleo/icecore/antarctica/law/law2006.txt"
      ],
      "text/plain": [
       "<IPython.core.display.HTML object>"
      ]
     },
     "metadata": {},
     "output_type": "display_data"
    },
    {
     "data": {
      "text/html": [
       "related_publications: ['https://www.ncei.noaa.gov/pub/data/paleo/icecore/antarctica/law/']"
      ],
      "text/plain": [
       "<IPython.core.display.HTML object>"
      ]
     },
     "metadata": {},
     "output_type": "display_data"
    },
    {
     "data": {
      "text/html": [
       "time_interval: ['1 AD', '2004 AD']"
      ],
      "text/plain": [
       "<IPython.core.display.HTML object>"
      ]
     },
     "metadata": {},
     "output_type": "display_data"
    },
    {
     "data": {
      "text/html": [
       "<div>\n",
       "<style scoped>\n",
       "    .dataframe tbody tr th:only-of-type {\n",
       "        vertical-align: middle;\n",
       "    }\n",
       "\n",
       "    .dataframe tbody tr th {\n",
       "        vertical-align: top;\n",
       "    }\n",
       "\n",
       "    .dataframe thead th {\n",
       "        text-align: right;\n",
       "    }\n",
       "</style>\n",
       "<table border=\"1\" class=\"dataframe\">\n",
       "  <thead>\n",
       "    <tr style=\"text-align: right;\">\n",
       "      <th></th>\n",
       "      <th>SampleType</th>\n",
       "      <th>CH4gasAge</th>\n",
       "      <th>CH4(ppb)</th>\n",
       "      <th>NOAA04</th>\n",
       "      <th>Publication</th>\n",
       "    </tr>\n",
       "  </thead>\n",
       "  <tbody>\n",
       "    <tr>\n",
       "      <th>0</th>\n",
       "      <td>DSS</td>\n",
       "      <td>1006.0</td>\n",
       "      <td>666.0</td>\n",
       "      <td>674.2</td>\n",
       "      <td>Eth1998</td>\n",
       "    </tr>\n",
       "    <tr>\n",
       "      <th>1</th>\n",
       "      <td>DSS</td>\n",
       "      <td>1037.8</td>\n",
       "      <td>677.8</td>\n",
       "      <td>686.0</td>\n",
       "      <td>Eth1998</td>\n",
       "    </tr>\n",
       "    <tr>\n",
       "      <th>2</th>\n",
       "      <td>DSS</td>\n",
       "      <td>1088.5</td>\n",
       "      <td>676.4</td>\n",
       "      <td>684.6</td>\n",
       "      <td>Eth1998</td>\n",
       "    </tr>\n",
       "    <tr>\n",
       "      <th>3</th>\n",
       "      <td>DSS</td>\n",
       "      <td>1137.8</td>\n",
       "      <td>685.9</td>\n",
       "      <td>694.2</td>\n",
       "      <td>Eth1998</td>\n",
       "    </tr>\n",
       "    <tr>\n",
       "      <th>4</th>\n",
       "      <td>DSS</td>\n",
       "      <td>1193.6</td>\n",
       "      <td>683.7</td>\n",
       "      <td>692.1</td>\n",
       "      <td>Eth1998</td>\n",
       "    </tr>\n",
       "    <tr>\n",
       "      <th>5</th>\n",
       "      <td>DSS</td>\n",
       "      <td>1247.3</td>\n",
       "      <td>660.9</td>\n",
       "      <td>668.9</td>\n",
       "      <td>Eth1998</td>\n",
       "    </tr>\n",
       "    <tr>\n",
       "      <th>6</th>\n",
       "      <td>DSS</td>\n",
       "      <td>1331.1</td>\n",
       "      <td>672.9</td>\n",
       "      <td>681.1</td>\n",
       "      <td>Eth1998</td>\n",
       "    </tr>\n",
       "    <tr>\n",
       "      <th>7</th>\n",
       "      <td>DSS</td>\n",
       "      <td>1391.5</td>\n",
       "      <td>678.9</td>\n",
       "      <td>687.1</td>\n",
       "      <td>Eth1998</td>\n",
       "    </tr>\n",
       "    <tr>\n",
       "      <th>8</th>\n",
       "      <td>DSS</td>\n",
       "      <td>1391.5</td>\n",
       "      <td>676.3</td>\n",
       "      <td>684.5</td>\n",
       "      <td>Eth1998</td>\n",
       "    </tr>\n",
       "    <tr>\n",
       "      <th>9</th>\n",
       "      <td>DSS</td>\n",
       "      <td>1450.1</td>\n",
       "      <td>681.5</td>\n",
       "      <td>689.9</td>\n",
       "      <td>Eth1998</td>\n",
       "    </tr>\n",
       "    <tr>\n",
       "      <th>10</th>\n",
       "      <td>DSS</td>\n",
       "      <td>1470.5</td>\n",
       "      <td>671.4</td>\n",
       "      <td>679.6</td>\n",
       "      <td>Eth1998</td>\n",
       "    </tr>\n",
       "    <tr>\n",
       "      <th>11</th>\n",
       "      <td>DSS</td>\n",
       "      <td>1502.5</td>\n",
       "      <td>693.0</td>\n",
       "      <td>701.4</td>\n",
       "      <td>Eth1998</td>\n",
       "    </tr>\n",
       "    <tr>\n",
       "      <th>12</th>\n",
       "      <td>DSS</td>\n",
       "      <td>1530.7</td>\n",
       "      <td>698.9</td>\n",
       "      <td>707.4</td>\n",
       "      <td>Eth1998</td>\n",
       "    </tr>\n",
       "    <tr>\n",
       "      <th>13</th>\n",
       "      <td>DSS</td>\n",
       "      <td>1550.7</td>\n",
       "      <td>704.3</td>\n",
       "      <td>712.9</td>\n",
       "      <td>Eth1998</td>\n",
       "    </tr>\n",
       "    <tr>\n",
       "      <th>14</th>\n",
       "      <td>DSS</td>\n",
       "      <td>1574.0</td>\n",
       "      <td>684.8</td>\n",
       "      <td>693.1</td>\n",
       "      <td>Eth1998</td>\n",
       "    </tr>\n",
       "    <tr>\n",
       "      <th>15</th>\n",
       "      <td>DSS</td>\n",
       "      <td>1592.1</td>\n",
       "      <td>665.4</td>\n",
       "      <td>673.5</td>\n",
       "      <td>Eth1998</td>\n",
       "    </tr>\n",
       "    <tr>\n",
       "      <th>16</th>\n",
       "      <td>DSS</td>\n",
       "      <td>1604.4</td>\n",
       "      <td>667.7</td>\n",
       "      <td>675.8</td>\n",
       "      <td>Eth1998</td>\n",
       "    </tr>\n",
       "    <tr>\n",
       "      <th>17</th>\n",
       "      <td>DSS</td>\n",
       "      <td>1624.0</td>\n",
       "      <td>679.4</td>\n",
       "      <td>687.7</td>\n",
       "      <td>Eth1998</td>\n",
       "    </tr>\n",
       "    <tr>\n",
       "      <th>18</th>\n",
       "      <td>DSS</td>\n",
       "      <td>1650.2</td>\n",
       "      <td>674.6</td>\n",
       "      <td>682.8</td>\n",
       "      <td>Eth1998</td>\n",
       "    </tr>\n",
       "    <tr>\n",
       "      <th>19</th>\n",
       "      <td>DSS</td>\n",
       "      <td>1682.9</td>\n",
       "      <td>692.0</td>\n",
       "      <td>700.5</td>\n",
       "      <td>Eth1998</td>\n",
       "    </tr>\n",
       "    <tr>\n",
       "      <th>20</th>\n",
       "      <td>DSS</td>\n",
       "      <td>1695.1</td>\n",
       "      <td>676.1</td>\n",
       "      <td>684.4</td>\n",
       "      <td>Eth1998</td>\n",
       "    </tr>\n",
       "    <tr>\n",
       "      <th>21</th>\n",
       "      <td>DSS</td>\n",
       "      <td>1723.9</td>\n",
       "      <td>671.9</td>\n",
       "      <td>680.1</td>\n",
       "      <td>Eth1998</td>\n",
       "    </tr>\n",
       "    <tr>\n",
       "      <th>22</th>\n",
       "      <td>DSS</td>\n",
       "      <td>1753.2</td>\n",
       "      <td>696.9</td>\n",
       "      <td>705.4</td>\n",
       "      <td>Eth1998</td>\n",
       "    </tr>\n",
       "    <tr>\n",
       "      <th>23</th>\n",
       "      <td>DSS</td>\n",
       "      <td>1763.8</td>\n",
       "      <td>703.1</td>\n",
       "      <td>711.7</td>\n",
       "      <td>Eth1998</td>\n",
       "    </tr>\n",
       "    <tr>\n",
       "      <th>24</th>\n",
       "      <td>DSS</td>\n",
       "      <td>1780.6</td>\n",
       "      <td>714.4</td>\n",
       "      <td>723.1</td>\n",
       "      <td>Eth1998</td>\n",
       "    </tr>\n",
       "    <tr>\n",
       "      <th>25</th>\n",
       "      <td>DSS</td>\n",
       "      <td>1797.1</td>\n",
       "      <td>716.9</td>\n",
       "      <td>725.6</td>\n",
       "      <td>Eth1998</td>\n",
       "    </tr>\n",
       "    <tr>\n",
       "      <th>26</th>\n",
       "      <td>DSS</td>\n",
       "      <td>1800.3</td>\n",
       "      <td>728.5</td>\n",
       "      <td>737.4</td>\n",
       "      <td>Eth1998</td>\n",
       "    </tr>\n",
       "    <tr>\n",
       "      <th>27</th>\n",
       "      <td>DSS</td>\n",
       "      <td>1827.9</td>\n",
       "      <td>755.8</td>\n",
       "      <td>765.1</td>\n",
       "      <td>Eth1998</td>\n",
       "    </tr>\n",
       "    <tr>\n",
       "      <th>28</th>\n",
       "      <td>DSS</td>\n",
       "      <td>1848.5</td>\n",
       "      <td>763.7</td>\n",
       "      <td>773.0</td>\n",
       "      <td>Eth1998</td>\n",
       "    </tr>\n",
       "    <tr>\n",
       "      <th>29</th>\n",
       "      <td>DSS</td>\n",
       "      <td>1893.1</td>\n",
       "      <td>836.8</td>\n",
       "      <td>847.0</td>\n",
       "      <td>Eth1998</td>\n",
       "    </tr>\n",
       "    <tr>\n",
       "      <th>30</th>\n",
       "      <td>DSS</td>\n",
       "      <td>1901.8</td>\n",
       "      <td>868.4</td>\n",
       "      <td>879.0</td>\n",
       "      <td>Eth1998</td>\n",
       "    </tr>\n",
       "    <tr>\n",
       "      <th>31</th>\n",
       "      <td>DSS</td>\n",
       "      <td>1905.8</td>\n",
       "      <td>891.0</td>\n",
       "      <td>901.8</td>\n",
       "      <td>Eth1998</td>\n",
       "    </tr>\n",
       "    <tr>\n",
       "      <th>32</th>\n",
       "      <td>DSS</td>\n",
       "      <td>1928.2</td>\n",
       "      <td>997.0</td>\n",
       "      <td>1009.2</td>\n",
       "      <td>Eth1998</td>\n",
       "    </tr>\n",
       "    <tr>\n",
       "      <th>33</th>\n",
       "      <td>DSS</td>\n",
       "      <td>1928.8</td>\n",
       "      <td>1006.4</td>\n",
       "      <td>1018.7</td>\n",
       "      <td>Eth1998</td>\n",
       "    </tr>\n",
       "    <tr>\n",
       "      <th>34</th>\n",
       "      <td>DSS</td>\n",
       "      <td>1938.2</td>\n",
       "      <td>1053.0</td>\n",
       "      <td>1065.9</td>\n",
       "      <td>Eth1998</td>\n",
       "    </tr>\n",
       "    <tr>\n",
       "      <th>35</th>\n",
       "      <td>DSS</td>\n",
       "      <td>1941.0</td>\n",
       "      <td>1055.7</td>\n",
       "      <td>1068.6</td>\n",
       "      <td>Eth1998</td>\n",
       "    </tr>\n",
       "    <tr>\n",
       "      <th>36</th>\n",
       "      <td>DSS</td>\n",
       "      <td>1944.0</td>\n",
       "      <td>1082.5</td>\n",
       "      <td>1095.7</td>\n",
       "      <td>Eth1998</td>\n",
       "    </tr>\n",
       "    <tr>\n",
       "      <th>37</th>\n",
       "      <td>DSS</td>\n",
       "      <td>1950.3</td>\n",
       "      <td>1103.7</td>\n",
       "      <td>1117.1</td>\n",
       "      <td>Eth1998</td>\n",
       "    </tr>\n",
       "    <tr>\n",
       "      <th>38</th>\n",
       "      <td>DSS</td>\n",
       "      <td>1956.2</td>\n",
       "      <td>1164.3</td>\n",
       "      <td>1178.5</td>\n",
       "      <td>Eth1998</td>\n",
       "    </tr>\n",
       "    <tr>\n",
       "      <th>39</th>\n",
       "      <td>DSS</td>\n",
       "      <td>1956.2</td>\n",
       "      <td>1171.8</td>\n",
       "      <td>1186.1</td>\n",
       "      <td>Eth1998</td>\n",
       "    </tr>\n",
       "    <tr>\n",
       "      <th>40</th>\n",
       "      <td>DSS</td>\n",
       "      <td>1956.2</td>\n",
       "      <td>1183.8</td>\n",
       "      <td>1198.3</td>\n",
       "      <td>Eth1998</td>\n",
       "    </tr>\n",
       "    <tr>\n",
       "      <th>41</th>\n",
       "      <td>DSS</td>\n",
       "      <td>1957.0</td>\n",
       "      <td>1179.5</td>\n",
       "      <td>1193.9</td>\n",
       "      <td>Eth1998</td>\n",
       "    </tr>\n",
       "    <tr>\n",
       "      <th>42</th>\n",
       "      <td>DSS</td>\n",
       "      <td>1957.0</td>\n",
       "      <td>1186.4</td>\n",
       "      <td>1200.9</td>\n",
       "      <td>Eth1998</td>\n",
       "    </tr>\n",
       "    <tr>\n",
       "      <th>43</th>\n",
       "      <td>DSS</td>\n",
       "      <td>1961.7</td>\n",
       "      <td>1218.5</td>\n",
       "      <td>1233.3</td>\n",
       "      <td>Eth1998</td>\n",
       "    </tr>\n",
       "    <tr>\n",
       "      <th>44</th>\n",
       "      <td>DSS</td>\n",
       "      <td>1967.0</td>\n",
       "      <td>1288.5</td>\n",
       "      <td>1304.2</td>\n",
       "      <td>Eth1998</td>\n",
       "    </tr>\n",
       "    <tr>\n",
       "      <th>45</th>\n",
       "      <td>DSS</td>\n",
       "      <td>1973.2</td>\n",
       "      <td>1421.5</td>\n",
       "      <td>1438.8</td>\n",
       "      <td>Eth1998</td>\n",
       "    </tr>\n",
       "  </tbody>\n",
       "</table>\n",
       "</div>"
      ],
      "text/plain": [
       "   SampleType  CH4gasAge  CH4(ppb)  NOAA04 Publication\n",
       "0         DSS     1006.0     666.0   674.2     Eth1998\n",
       "1         DSS     1037.8     677.8   686.0     Eth1998\n",
       "2         DSS     1088.5     676.4   684.6     Eth1998\n",
       "3         DSS     1137.8     685.9   694.2     Eth1998\n",
       "4         DSS     1193.6     683.7   692.1     Eth1998\n",
       "5         DSS     1247.3     660.9   668.9     Eth1998\n",
       "6         DSS     1331.1     672.9   681.1     Eth1998\n",
       "7         DSS     1391.5     678.9   687.1     Eth1998\n",
       "8         DSS     1391.5     676.3   684.5     Eth1998\n",
       "9         DSS     1450.1     681.5   689.9     Eth1998\n",
       "10        DSS     1470.5     671.4   679.6     Eth1998\n",
       "11        DSS     1502.5     693.0   701.4     Eth1998\n",
       "12        DSS     1530.7     698.9   707.4     Eth1998\n",
       "13        DSS     1550.7     704.3   712.9     Eth1998\n",
       "14        DSS     1574.0     684.8   693.1     Eth1998\n",
       "15        DSS     1592.1     665.4   673.5     Eth1998\n",
       "16        DSS     1604.4     667.7   675.8     Eth1998\n",
       "17        DSS     1624.0     679.4   687.7     Eth1998\n",
       "18        DSS     1650.2     674.6   682.8     Eth1998\n",
       "19        DSS     1682.9     692.0   700.5     Eth1998\n",
       "20        DSS     1695.1     676.1   684.4     Eth1998\n",
       "21        DSS     1723.9     671.9   680.1     Eth1998\n",
       "22        DSS     1753.2     696.9   705.4     Eth1998\n",
       "23        DSS     1763.8     703.1   711.7     Eth1998\n",
       "24        DSS     1780.6     714.4   723.1     Eth1998\n",
       "25        DSS     1797.1     716.9   725.6     Eth1998\n",
       "26        DSS     1800.3     728.5   737.4     Eth1998\n",
       "27        DSS     1827.9     755.8   765.1     Eth1998\n",
       "28        DSS     1848.5     763.7   773.0     Eth1998\n",
       "29        DSS     1893.1     836.8   847.0     Eth1998\n",
       "30        DSS     1901.8     868.4   879.0     Eth1998\n",
       "31        DSS     1905.8     891.0   901.8     Eth1998\n",
       "32        DSS     1928.2     997.0  1009.2     Eth1998\n",
       "33        DSS     1928.8    1006.4  1018.7     Eth1998\n",
       "34        DSS     1938.2    1053.0  1065.9     Eth1998\n",
       "35        DSS     1941.0    1055.7  1068.6     Eth1998\n",
       "36        DSS     1944.0    1082.5  1095.7     Eth1998\n",
       "37        DSS     1950.3    1103.7  1117.1     Eth1998\n",
       "38        DSS     1956.2    1164.3  1178.5     Eth1998\n",
       "39        DSS     1956.2    1171.8  1186.1     Eth1998\n",
       "40        DSS     1956.2    1183.8  1198.3     Eth1998\n",
       "41        DSS     1957.0    1179.5  1193.9     Eth1998\n",
       "42        DSS     1957.0    1186.4  1200.9     Eth1998\n",
       "43        DSS     1961.7    1218.5  1233.3     Eth1998\n",
       "44        DSS     1967.0    1288.5  1304.2     Eth1998\n",
       "45        DSS     1973.2    1421.5  1438.8     Eth1998"
      ]
     },
     "metadata": {},
     "output_type": "display_data"
    },
    {
     "name": "stdout",
     "output_type": "stream",
     "text": [
      "\n",
      "---------------------------------------------------------------------------------\n",
      "Dataset LawDome2006_CH4_Core_DSS_MacFM20042006 ['co2', 'ch4', 'n20', 'icecore', 'antarctica']\n",
      "\n"
     ]
    },
    {
     "data": {
      "text/html": [
       "description: New measurements of atmospheric greenhouse gas concentrations in ice from Law Dome, Antarctica reproduce published Law Dome CO2 and CH4 records, extend them back to 2000 years BP, and include N2O. They have very high air age resolution, data density and measurement precision. Firn air measurements span the past 65 years and overlap with the ice core and direct atmospheric observations. Major increases in CO2, CH4 and N2O concentrations during the past 200 years followed a period of relative stability beforehand. Decadal variations during the industrial period include the stabilization of CO2 and slowing of CH4 and N2O growth in the 1940s and 1950s. Variations of up to 10 ppm CO2, 40 ppb CH4 and 10 ppb N2O occurred throughout the preindustrial period.  Methane concentrations grew by 100 ppb from AD 0 to 1800, possibly due to early anthropogenic emissions."
      ],
      "text/plain": [
       "<IPython.core.display.HTML object>"
      ]
     },
     "metadata": {},
     "output_type": "display_data"
    },
    {
     "data": {
      "text/html": [
       "authors: ['A.M. Smith', 'C.E. Allison', 'C.M. MacFarling Meure', 'C.M. Trudinger', 'D.A. Spencer', 'D.C. Lowe', 'D.F. Ferretti', 'D.M. Etheridge', 'G.A. Sturrock', 'I.G. Enting', 'J. Elkins', 'J.-M. Barnola', 'J.B. Miller', 'J.W.C. White', 'K.R. Lassey', 'L.N. Cooper', 'L.P. Steele', 'L.W. Porter', 'M.F. Dreier', 'M.V. Van der Schoot', 'P.B. Krummel', 'P.J. Fraser', 'P.J. Rayner', 'R.J. Francey', 'R.L. Langenfelds ', 'T.D. van Ommen', 'V.I. Morgan']"
      ],
      "text/plain": [
       "<IPython.core.display.HTML object>"
      ]
     },
     "metadata": {},
     "output_type": "display_data"
    },
    {
     "data": {
      "text/html": [
       "publication_date: 2010"
      ],
      "text/plain": [
       "<IPython.core.display.HTML object>"
      ]
     },
     "metadata": {},
     "output_type": "display_data"
    },
    {
     "data": {
      "text/html": [
       "last_update: 2010-07"
      ],
      "text/plain": [
       "<IPython.core.display.HTML object>"
      ]
     },
     "metadata": {},
     "output_type": "display_data"
    },
    {
     "data": {
      "text/html": [
       "publisher: World Data Center for Paleoclimatology, Boulder and NOAA Paleoclimatology Program"
      ],
      "text/plain": [
       "<IPython.core.display.HTML object>"
      ]
     },
     "metadata": {},
     "output_type": "display_data"
    },
    {
     "data": {
      "text/html": [
       "id: IGBP PAGES/World Data Center for Paleoclimatology Data Contribution Series # 2010-070"
      ],
      "text/plain": [
       "<IPython.core.display.HTML object>"
      ]
     },
     "metadata": {},
     "output_type": "display_data"
    },
    {
     "data": {
      "text/html": [
       "version: "
      ],
      "text/plain": [
       "<IPython.core.display.HTML object>"
      ]
     },
     "metadata": {},
     "output_type": "display_data"
    },
    {
     "data": {
      "text/html": [
       "data_source: https://www.ncei.noaa.gov/pub/data/paleo/icecore/antarctica/law/law2006.txt"
      ],
      "text/plain": [
       "<IPython.core.display.HTML object>"
      ]
     },
     "metadata": {},
     "output_type": "display_data"
    },
    {
     "data": {
      "text/html": [
       "related_publications: ['https://www.ncei.noaa.gov/pub/data/paleo/icecore/antarctica/law/']"
      ],
      "text/plain": [
       "<IPython.core.display.HTML object>"
      ]
     },
     "metadata": {},
     "output_type": "display_data"
    },
    {
     "data": {
      "text/html": [
       "time_interval: ['1 AD', '2004 AD']"
      ],
      "text/plain": [
       "<IPython.core.display.HTML object>"
      ]
     },
     "metadata": {},
     "output_type": "display_data"
    },
    {
     "data": {
      "text/html": [
       "<div>\n",
       "<style scoped>\n",
       "    .dataframe tbody tr th:only-of-type {\n",
       "        vertical-align: middle;\n",
       "    }\n",
       "\n",
       "    .dataframe tbody tr th {\n",
       "        vertical-align: top;\n",
       "    }\n",
       "\n",
       "    .dataframe thead th {\n",
       "        text-align: right;\n",
       "    }\n",
       "</style>\n",
       "<table border=\"1\" class=\"dataframe\">\n",
       "  <thead>\n",
       "    <tr style=\"text-align: right;\">\n",
       "      <th></th>\n",
       "      <th>SampleType</th>\n",
       "      <th>CH4gasAge</th>\n",
       "      <th>CH4(ppb)</th>\n",
       "      <th>NOAA04</th>\n",
       "      <th>Publication</th>\n",
       "    </tr>\n",
       "  </thead>\n",
       "  <tbody>\n",
       "    <tr>\n",
       "      <th>0</th>\n",
       "      <td>DSS</td>\n",
       "      <td>14.3</td>\n",
       "      <td>647.6</td>\n",
       "      <td>655.5</td>\n",
       "      <td>MacFM20042006</td>\n",
       "    </tr>\n",
       "    <tr>\n",
       "      <th>1</th>\n",
       "      <td>DSS</td>\n",
       "      <td>30.5</td>\n",
       "      <td>633.9</td>\n",
       "      <td>641.6</td>\n",
       "      <td>MacFM20042006</td>\n",
       "    </tr>\n",
       "    <tr>\n",
       "      <th>2</th>\n",
       "      <td>DSS</td>\n",
       "      <td>57.0</td>\n",
       "      <td>628.4</td>\n",
       "      <td>636.1</td>\n",
       "      <td>MacFM20042006</td>\n",
       "    </tr>\n",
       "    <tr>\n",
       "      <th>3</th>\n",
       "      <td>DSS</td>\n",
       "      <td>105.5</td>\n",
       "      <td>632.0</td>\n",
       "      <td>639.7</td>\n",
       "      <td>MacFM20042006</td>\n",
       "    </tr>\n",
       "    <tr>\n",
       "      <th>4</th>\n",
       "      <td>DSS</td>\n",
       "      <td>137.0</td>\n",
       "      <td>638.8</td>\n",
       "      <td>646.6</td>\n",
       "      <td>MacFM20042006</td>\n",
       "    </tr>\n",
       "    <tr>\n",
       "      <th>...</th>\n",
       "      <td>...</td>\n",
       "      <td>...</td>\n",
       "      <td>...</td>\n",
       "      <td>...</td>\n",
       "      <td>...</td>\n",
       "    </tr>\n",
       "    <tr>\n",
       "      <th>66</th>\n",
       "      <td>DSS</td>\n",
       "      <td>1835.5</td>\n",
       "      <td>767.3</td>\n",
       "      <td>776.7</td>\n",
       "      <td>MacFM20042006</td>\n",
       "    </tr>\n",
       "    <tr>\n",
       "      <th>67</th>\n",
       "      <td>DSS</td>\n",
       "      <td>1839.0</td>\n",
       "      <td>765.0</td>\n",
       "      <td>774.3</td>\n",
       "      <td>MacFM20042006</td>\n",
       "    </tr>\n",
       "    <tr>\n",
       "      <th>68</th>\n",
       "      <td>DSS</td>\n",
       "      <td>1853.3</td>\n",
       "      <td>775.4</td>\n",
       "      <td>784.8</td>\n",
       "      <td>MacFM20042006</td>\n",
       "    </tr>\n",
       "    <tr>\n",
       "      <th>69</th>\n",
       "      <td>DSS</td>\n",
       "      <td>1870.1</td>\n",
       "      <td>802.1</td>\n",
       "      <td>811.9</td>\n",
       "      <td>MacFM20042006</td>\n",
       "    </tr>\n",
       "    <tr>\n",
       "      <th>70</th>\n",
       "      <td>DSS</td>\n",
       "      <td>1885.4</td>\n",
       "      <td>845.7</td>\n",
       "      <td>856.0</td>\n",
       "      <td>MacFM20042006</td>\n",
       "    </tr>\n",
       "  </tbody>\n",
       "</table>\n",
       "<p>71 rows × 5 columns</p>\n",
       "</div>"
      ],
      "text/plain": [
       "   SampleType  CH4gasAge  CH4(ppb)  NOAA04    Publication\n",
       "0         DSS       14.3     647.6   655.5  MacFM20042006\n",
       "1         DSS       30.5     633.9   641.6  MacFM20042006\n",
       "2         DSS       57.0     628.4   636.1  MacFM20042006\n",
       "3         DSS      105.5     632.0   639.7  MacFM20042006\n",
       "4         DSS      137.0     638.8   646.6  MacFM20042006\n",
       "..        ...        ...       ...     ...            ...\n",
       "66        DSS     1835.5     767.3   776.7  MacFM20042006\n",
       "67        DSS     1839.0     765.0   774.3  MacFM20042006\n",
       "68        DSS     1853.3     775.4   784.8  MacFM20042006\n",
       "69        DSS     1870.1     802.1   811.9  MacFM20042006\n",
       "70        DSS     1885.4     845.7   856.0  MacFM20042006\n",
       "\n",
       "[71 rows x 5 columns]"
      ]
     },
     "metadata": {},
     "output_type": "display_data"
    },
    {
     "name": "stdout",
     "output_type": "stream",
     "text": [
      "\n",
      "---------------------------------------------------------------------------------\n",
      "Dataset LawDome2006_CH4_Core_DE08-2_Eth1996 ['co2', 'ch4', 'n20', 'icecore', 'antarctica']\n",
      "\n"
     ]
    },
    {
     "data": {
      "text/html": [
       "description: New measurements of atmospheric greenhouse gas concentrations in ice from Law Dome, Antarctica reproduce published Law Dome CO2 and CH4 records, extend them back to 2000 years BP, and include N2O. They have very high air age resolution, data density and measurement precision. Firn air measurements span the past 65 years and overlap with the ice core and direct atmospheric observations. Major increases in CO2, CH4 and N2O concentrations during the past 200 years followed a period of relative stability beforehand. Decadal variations during the industrial period include the stabilization of CO2 and slowing of CH4 and N2O growth in the 1940s and 1950s. Variations of up to 10 ppm CO2, 40 ppb CH4 and 10 ppb N2O occurred throughout the preindustrial period.  Methane concentrations grew by 100 ppb from AD 0 to 1800, possibly due to early anthropogenic emissions."
      ],
      "text/plain": [
       "<IPython.core.display.HTML object>"
      ]
     },
     "metadata": {},
     "output_type": "display_data"
    },
    {
     "data": {
      "text/html": [
       "authors: ['A.M. Smith', 'C.E. Allison', 'C.M. MacFarling Meure', 'C.M. Trudinger', 'D.A. Spencer', 'D.C. Lowe', 'D.F. Ferretti', 'D.M. Etheridge', 'G.A. Sturrock', 'I.G. Enting', 'J. Elkins', 'J.-M. Barnola', 'J.B. Miller', 'J.W.C. White', 'K.R. Lassey', 'L.N. Cooper', 'L.P. Steele', 'L.W. Porter', 'M.F. Dreier', 'M.V. Van der Schoot', 'P.B. Krummel', 'P.J. Fraser', 'P.J. Rayner', 'R.J. Francey', 'R.L. Langenfelds ', 'T.D. van Ommen', 'V.I. Morgan']"
      ],
      "text/plain": [
       "<IPython.core.display.HTML object>"
      ]
     },
     "metadata": {},
     "output_type": "display_data"
    },
    {
     "data": {
      "text/html": [
       "publication_date: 2010"
      ],
      "text/plain": [
       "<IPython.core.display.HTML object>"
      ]
     },
     "metadata": {},
     "output_type": "display_data"
    },
    {
     "data": {
      "text/html": [
       "last_update: 2010-07"
      ],
      "text/plain": [
       "<IPython.core.display.HTML object>"
      ]
     },
     "metadata": {},
     "output_type": "display_data"
    },
    {
     "data": {
      "text/html": [
       "publisher: World Data Center for Paleoclimatology, Boulder and NOAA Paleoclimatology Program"
      ],
      "text/plain": [
       "<IPython.core.display.HTML object>"
      ]
     },
     "metadata": {},
     "output_type": "display_data"
    },
    {
     "data": {
      "text/html": [
       "id: IGBP PAGES/World Data Center for Paleoclimatology Data Contribution Series # 2010-070"
      ],
      "text/plain": [
       "<IPython.core.display.HTML object>"
      ]
     },
     "metadata": {},
     "output_type": "display_data"
    },
    {
     "data": {
      "text/html": [
       "version: "
      ],
      "text/plain": [
       "<IPython.core.display.HTML object>"
      ]
     },
     "metadata": {},
     "output_type": "display_data"
    },
    {
     "data": {
      "text/html": [
       "data_source: https://www.ncei.noaa.gov/pub/data/paleo/icecore/antarctica/law/law2006.txt"
      ],
      "text/plain": [
       "<IPython.core.display.HTML object>"
      ]
     },
     "metadata": {},
     "output_type": "display_data"
    },
    {
     "data": {
      "text/html": [
       "related_publications: ['https://www.ncei.noaa.gov/pub/data/paleo/icecore/antarctica/law/']"
      ],
      "text/plain": [
       "<IPython.core.display.HTML object>"
      ]
     },
     "metadata": {},
     "output_type": "display_data"
    },
    {
     "data": {
      "text/html": [
       "time_interval: ['1 AD', '2004 AD']"
      ],
      "text/plain": [
       "<IPython.core.display.HTML object>"
      ]
     },
     "metadata": {},
     "output_type": "display_data"
    },
    {
     "data": {
      "text/html": [
       "<div>\n",
       "<style scoped>\n",
       "    .dataframe tbody tr th:only-of-type {\n",
       "        vertical-align: middle;\n",
       "    }\n",
       "\n",
       "    .dataframe tbody tr th {\n",
       "        vertical-align: top;\n",
       "    }\n",
       "\n",
       "    .dataframe thead th {\n",
       "        text-align: right;\n",
       "    }\n",
       "</style>\n",
       "<table border=\"1\" class=\"dataframe\">\n",
       "  <thead>\n",
       "    <tr style=\"text-align: right;\">\n",
       "      <th></th>\n",
       "      <th>SampleType</th>\n",
       "      <th>CH4gasAge</th>\n",
       "      <th>CH4(ppb)</th>\n",
       "      <th>NOAA04</th>\n",
       "      <th>Publication</th>\n",
       "    </tr>\n",
       "  </thead>\n",
       "  <tbody>\n",
       "    <tr>\n",
       "      <th>0</th>\n",
       "      <td>DE08-2</td>\n",
       "      <td>1834.0</td>\n",
       "      <td>756.3</td>\n",
       "      <td>765.5</td>\n",
       "      <td>Eth1998</td>\n",
       "    </tr>\n",
       "    <tr>\n",
       "      <th>1</th>\n",
       "      <td>DE08-2</td>\n",
       "      <td>1936.0</td>\n",
       "      <td>1045.2</td>\n",
       "      <td>1058.0</td>\n",
       "      <td>Eth1998</td>\n",
       "    </tr>\n",
       "    <tr>\n",
       "      <th>2</th>\n",
       "      <td>DE08-2</td>\n",
       "      <td>1942.0</td>\n",
       "      <td>1069.1</td>\n",
       "      <td>1082.1</td>\n",
       "      <td>Eth1998</td>\n",
       "    </tr>\n",
       "    <tr>\n",
       "      <th>3</th>\n",
       "      <td>DE08-2</td>\n",
       "      <td>1950.0</td>\n",
       "      <td>1102.9</td>\n",
       "      <td>1116.3</td>\n",
       "      <td>Eth1998</td>\n",
       "    </tr>\n",
       "    <tr>\n",
       "      <th>4</th>\n",
       "      <td>DE08-2</td>\n",
       "      <td>1971.7</td>\n",
       "      <td>1380.3</td>\n",
       "      <td>1397.1</td>\n",
       "      <td>Eth1998</td>\n",
       "    </tr>\n",
       "    <tr>\n",
       "      <th>5</th>\n",
       "      <td>DE08-2</td>\n",
       "      <td>1972.2</td>\n",
       "      <td>1379.9</td>\n",
       "      <td>1396.7</td>\n",
       "      <td>Eth1998</td>\n",
       "    </tr>\n",
       "    <tr>\n",
       "      <th>6</th>\n",
       "      <td>DE08-2</td>\n",
       "      <td>1973.0</td>\n",
       "      <td>1385.8</td>\n",
       "      <td>1402.7</td>\n",
       "      <td>Eth1998</td>\n",
       "    </tr>\n",
       "    <tr>\n",
       "      <th>7</th>\n",
       "      <td>DE08-2</td>\n",
       "      <td>1975.0</td>\n",
       "      <td>1420.4</td>\n",
       "      <td>1437.8</td>\n",
       "      <td>Eth1998</td>\n",
       "    </tr>\n",
       "    <tr>\n",
       "      <th>8</th>\n",
       "      <td>DE08-2</td>\n",
       "      <td>1977.0</td>\n",
       "      <td>1458.1</td>\n",
       "      <td>1475.9</td>\n",
       "      <td>Eth1998</td>\n",
       "    </tr>\n",
       "    <tr>\n",
       "      <th>9</th>\n",
       "      <td>DE08-2</td>\n",
       "      <td>1980.0</td>\n",
       "      <td>1479.3</td>\n",
       "      <td>1497.4</td>\n",
       "      <td>Eth1998</td>\n",
       "    </tr>\n",
       "    <tr>\n",
       "      <th>10</th>\n",
       "      <td>DE08-2</td>\n",
       "      <td>1980.0</td>\n",
       "      <td>1479.9</td>\n",
       "      <td>1497.9</td>\n",
       "      <td>Eth1998</td>\n",
       "    </tr>\n",
       "  </tbody>\n",
       "</table>\n",
       "</div>"
      ],
      "text/plain": [
       "   SampleType  CH4gasAge  CH4(ppb)  NOAA04 Publication\n",
       "0      DE08-2     1834.0     756.3   765.5     Eth1998\n",
       "1      DE08-2     1936.0    1045.2  1058.0     Eth1998\n",
       "2      DE08-2     1942.0    1069.1  1082.1     Eth1998\n",
       "3      DE08-2     1950.0    1102.9  1116.3     Eth1998\n",
       "4      DE08-2     1971.7    1380.3  1397.1     Eth1998\n",
       "5      DE08-2     1972.2    1379.9  1396.7     Eth1998\n",
       "6      DE08-2     1973.0    1385.8  1402.7     Eth1998\n",
       "7      DE08-2     1975.0    1420.4  1437.8     Eth1998\n",
       "8      DE08-2     1977.0    1458.1  1475.9     Eth1998\n",
       "9      DE08-2     1980.0    1479.3  1497.4     Eth1998\n",
       "10     DE08-2     1980.0    1479.9  1497.9     Eth1998"
      ]
     },
     "metadata": {},
     "output_type": "display_data"
    },
    {
     "name": "stdout",
     "output_type": "stream",
     "text": [
      "\n",
      "---------------------------------------------------------------------------------\n",
      "Dataset LawDome2006_CH4_Core_DE08-2_MacFM20042006 ['co2', 'ch4', 'n20', 'icecore', 'antarctica']\n",
      "\n"
     ]
    },
    {
     "data": {
      "text/html": [
       "description: New measurements of atmospheric greenhouse gas concentrations in ice from Law Dome, Antarctica reproduce published Law Dome CO2 and CH4 records, extend them back to 2000 years BP, and include N2O. They have very high air age resolution, data density and measurement precision. Firn air measurements span the past 65 years and overlap with the ice core and direct atmospheric observations. Major increases in CO2, CH4 and N2O concentrations during the past 200 years followed a period of relative stability beforehand. Decadal variations during the industrial period include the stabilization of CO2 and slowing of CH4 and N2O growth in the 1940s and 1950s. Variations of up to 10 ppm CO2, 40 ppb CH4 and 10 ppb N2O occurred throughout the preindustrial period.  Methane concentrations grew by 100 ppb from AD 0 to 1800, possibly due to early anthropogenic emissions."
      ],
      "text/plain": [
       "<IPython.core.display.HTML object>"
      ]
     },
     "metadata": {},
     "output_type": "display_data"
    },
    {
     "data": {
      "text/html": [
       "authors: ['A.M. Smith', 'C.E. Allison', 'C.M. MacFarling Meure', 'C.M. Trudinger', 'D.A. Spencer', 'D.C. Lowe', 'D.F. Ferretti', 'D.M. Etheridge', 'G.A. Sturrock', 'I.G. Enting', 'J. Elkins', 'J.-M. Barnola', 'J.B. Miller', 'J.W.C. White', 'K.R. Lassey', 'L.N. Cooper', 'L.P. Steele', 'L.W. Porter', 'M.F. Dreier', 'M.V. Van der Schoot', 'P.B. Krummel', 'P.J. Fraser', 'P.J. Rayner', 'R.J. Francey', 'R.L. Langenfelds ', 'T.D. van Ommen', 'V.I. Morgan']"
      ],
      "text/plain": [
       "<IPython.core.display.HTML object>"
      ]
     },
     "metadata": {},
     "output_type": "display_data"
    },
    {
     "data": {
      "text/html": [
       "publication_date: 2010"
      ],
      "text/plain": [
       "<IPython.core.display.HTML object>"
      ]
     },
     "metadata": {},
     "output_type": "display_data"
    },
    {
     "data": {
      "text/html": [
       "last_update: 2010-07"
      ],
      "text/plain": [
       "<IPython.core.display.HTML object>"
      ]
     },
     "metadata": {},
     "output_type": "display_data"
    },
    {
     "data": {
      "text/html": [
       "publisher: World Data Center for Paleoclimatology, Boulder and NOAA Paleoclimatology Program"
      ],
      "text/plain": [
       "<IPython.core.display.HTML object>"
      ]
     },
     "metadata": {},
     "output_type": "display_data"
    },
    {
     "data": {
      "text/html": [
       "id: IGBP PAGES/World Data Center for Paleoclimatology Data Contribution Series # 2010-070"
      ],
      "text/plain": [
       "<IPython.core.display.HTML object>"
      ]
     },
     "metadata": {},
     "output_type": "display_data"
    },
    {
     "data": {
      "text/html": [
       "version: "
      ],
      "text/plain": [
       "<IPython.core.display.HTML object>"
      ]
     },
     "metadata": {},
     "output_type": "display_data"
    },
    {
     "data": {
      "text/html": [
       "data_source: https://www.ncei.noaa.gov/pub/data/paleo/icecore/antarctica/law/law2006.txt"
      ],
      "text/plain": [
       "<IPython.core.display.HTML object>"
      ]
     },
     "metadata": {},
     "output_type": "display_data"
    },
    {
     "data": {
      "text/html": [
       "related_publications: ['https://www.ncei.noaa.gov/pub/data/paleo/icecore/antarctica/law/']"
      ],
      "text/plain": [
       "<IPython.core.display.HTML object>"
      ]
     },
     "metadata": {},
     "output_type": "display_data"
    },
    {
     "data": {
      "text/html": [
       "time_interval: ['1 AD', '2004 AD']"
      ],
      "text/plain": [
       "<IPython.core.display.HTML object>"
      ]
     },
     "metadata": {},
     "output_type": "display_data"
    },
    {
     "data": {
      "text/html": [
       "<div>\n",
       "<style scoped>\n",
       "    .dataframe tbody tr th:only-of-type {\n",
       "        vertical-align: middle;\n",
       "    }\n",
       "\n",
       "    .dataframe tbody tr th {\n",
       "        vertical-align: top;\n",
       "    }\n",
       "\n",
       "    .dataframe thead th {\n",
       "        text-align: right;\n",
       "    }\n",
       "</style>\n",
       "<table border=\"1\" class=\"dataframe\">\n",
       "  <thead>\n",
       "    <tr style=\"text-align: right;\">\n",
       "      <th></th>\n",
       "      <th>SampleType</th>\n",
       "      <th>CH4gasAge</th>\n",
       "      <th>CH4(ppb)</th>\n",
       "      <th>NOAA04</th>\n",
       "      <th>Publication</th>\n",
       "    </tr>\n",
       "  </thead>\n",
       "  <tbody>\n",
       "    <tr>\n",
       "      <th>0</th>\n",
       "      <td>DE08-2</td>\n",
       "      <td>1845.0</td>\n",
       "      <td>778.0</td>\n",
       "      <td>787.5</td>\n",
       "      <td>MacFM20042006</td>\n",
       "    </tr>\n",
       "    <tr>\n",
       "      <th>1</th>\n",
       "      <td>DE08-2</td>\n",
       "      <td>1850.0</td>\n",
       "      <td>806.5</td>\n",
       "      <td>816.4</td>\n",
       "      <td>MacFM20042006</td>\n",
       "    </tr>\n",
       "    <tr>\n",
       "      <th>2</th>\n",
       "      <td>DE08-2</td>\n",
       "      <td>1897.0</td>\n",
       "      <td>850.7</td>\n",
       "      <td>861.1</td>\n",
       "      <td>MacFM20042006</td>\n",
       "    </tr>\n",
       "    <tr>\n",
       "      <th>3</th>\n",
       "      <td>DE08-2</td>\n",
       "      <td>1941.0</td>\n",
       "      <td>1060.1</td>\n",
       "      <td>1073.0</td>\n",
       "      <td>MacFM20042006</td>\n",
       "    </tr>\n",
       "    <tr>\n",
       "      <th>4</th>\n",
       "      <td>DE08-2</td>\n",
       "      <td>1942.5</td>\n",
       "      <td>1085.5</td>\n",
       "      <td>1098.7</td>\n",
       "      <td>MacFM20042006</td>\n",
       "    </tr>\n",
       "    <tr>\n",
       "      <th>5</th>\n",
       "      <td>DE08-2</td>\n",
       "      <td>1945.0</td>\n",
       "      <td>1072.9</td>\n",
       "      <td>1086.0</td>\n",
       "      <td>MacFM20042006</td>\n",
       "    </tr>\n",
       "    <tr>\n",
       "      <th>6</th>\n",
       "      <td>DE08-2</td>\n",
       "      <td>1945.0</td>\n",
       "      <td>1079.9</td>\n",
       "      <td>1093.0</td>\n",
       "      <td>MacFM20042006</td>\n",
       "    </tr>\n",
       "    <tr>\n",
       "      <th>7</th>\n",
       "      <td>DE08-2</td>\n",
       "      <td>1948.0</td>\n",
       "      <td>1094.4</td>\n",
       "      <td>1107.7</td>\n",
       "      <td>MacFM20042006</td>\n",
       "    </tr>\n",
       "    <tr>\n",
       "      <th>8</th>\n",
       "      <td>DE08-2</td>\n",
       "      <td>1968.0</td>\n",
       "      <td>1306.6</td>\n",
       "      <td>1322.5</td>\n",
       "      <td>MacFM20042006</td>\n",
       "    </tr>\n",
       "    <tr>\n",
       "      <th>9</th>\n",
       "      <td>DE08-2</td>\n",
       "      <td>1973.5</td>\n",
       "      <td>1404.6</td>\n",
       "      <td>1421.7</td>\n",
       "      <td>MacFM20042006</td>\n",
       "    </tr>\n",
       "  </tbody>\n",
       "</table>\n",
       "</div>"
      ],
      "text/plain": [
       "  SampleType  CH4gasAge  CH4(ppb)  NOAA04    Publication\n",
       "0     DE08-2     1845.0     778.0   787.5  MacFM20042006\n",
       "1     DE08-2     1850.0     806.5   816.4  MacFM20042006\n",
       "2     DE08-2     1897.0     850.7   861.1  MacFM20042006\n",
       "3     DE08-2     1941.0    1060.1  1073.0  MacFM20042006\n",
       "4     DE08-2     1942.5    1085.5  1098.7  MacFM20042006\n",
       "5     DE08-2     1945.0    1072.9  1086.0  MacFM20042006\n",
       "6     DE08-2     1945.0    1079.9  1093.0  MacFM20042006\n",
       "7     DE08-2     1948.0    1094.4  1107.7  MacFM20042006\n",
       "8     DE08-2     1968.0    1306.6  1322.5  MacFM20042006\n",
       "9     DE08-2     1973.5    1404.6  1421.7  MacFM20042006"
      ]
     },
     "metadata": {},
     "output_type": "display_data"
    },
    {
     "name": "stdout",
     "output_type": "stream",
     "text": [
      "\n",
      "---------------------------------------------------------------------------------\n",
      "Dataset LawDome2006_CH4_Core_DE08_Eth1996 ['co2', 'ch4', 'n20', 'icecore', 'antarctica']\n",
      "\n"
     ]
    },
    {
     "data": {
      "text/html": [
       "description: New measurements of atmospheric greenhouse gas concentrations in ice from Law Dome, Antarctica reproduce published Law Dome CO2 and CH4 records, extend them back to 2000 years BP, and include N2O. They have very high air age resolution, data density and measurement precision. Firn air measurements span the past 65 years and overlap with the ice core and direct atmospheric observations. Major increases in CO2, CH4 and N2O concentrations during the past 200 years followed a period of relative stability beforehand. Decadal variations during the industrial period include the stabilization of CO2 and slowing of CH4 and N2O growth in the 1940s and 1950s. Variations of up to 10 ppm CO2, 40 ppb CH4 and 10 ppb N2O occurred throughout the preindustrial period.  Methane concentrations grew by 100 ppb from AD 0 to 1800, possibly due to early anthropogenic emissions."
      ],
      "text/plain": [
       "<IPython.core.display.HTML object>"
      ]
     },
     "metadata": {},
     "output_type": "display_data"
    },
    {
     "data": {
      "text/html": [
       "authors: ['A.M. Smith', 'C.E. Allison', 'C.M. MacFarling Meure', 'C.M. Trudinger', 'D.A. Spencer', 'D.C. Lowe', 'D.F. Ferretti', 'D.M. Etheridge', 'G.A. Sturrock', 'I.G. Enting', 'J. Elkins', 'J.-M. Barnola', 'J.B. Miller', 'J.W.C. White', 'K.R. Lassey', 'L.N. Cooper', 'L.P. Steele', 'L.W. Porter', 'M.F. Dreier', 'M.V. Van der Schoot', 'P.B. Krummel', 'P.J. Fraser', 'P.J. Rayner', 'R.J. Francey', 'R.L. Langenfelds ', 'T.D. van Ommen', 'V.I. Morgan']"
      ],
      "text/plain": [
       "<IPython.core.display.HTML object>"
      ]
     },
     "metadata": {},
     "output_type": "display_data"
    },
    {
     "data": {
      "text/html": [
       "publication_date: 2010"
      ],
      "text/plain": [
       "<IPython.core.display.HTML object>"
      ]
     },
     "metadata": {},
     "output_type": "display_data"
    },
    {
     "data": {
      "text/html": [
       "last_update: 2010-07"
      ],
      "text/plain": [
       "<IPython.core.display.HTML object>"
      ]
     },
     "metadata": {},
     "output_type": "display_data"
    },
    {
     "data": {
      "text/html": [
       "publisher: World Data Center for Paleoclimatology, Boulder and NOAA Paleoclimatology Program"
      ],
      "text/plain": [
       "<IPython.core.display.HTML object>"
      ]
     },
     "metadata": {},
     "output_type": "display_data"
    },
    {
     "data": {
      "text/html": [
       "id: IGBP PAGES/World Data Center for Paleoclimatology Data Contribution Series # 2010-070"
      ],
      "text/plain": [
       "<IPython.core.display.HTML object>"
      ]
     },
     "metadata": {},
     "output_type": "display_data"
    },
    {
     "data": {
      "text/html": [
       "version: "
      ],
      "text/plain": [
       "<IPython.core.display.HTML object>"
      ]
     },
     "metadata": {},
     "output_type": "display_data"
    },
    {
     "data": {
      "text/html": [
       "data_source: https://www.ncei.noaa.gov/pub/data/paleo/icecore/antarctica/law/law2006.txt"
      ],
      "text/plain": [
       "<IPython.core.display.HTML object>"
      ]
     },
     "metadata": {},
     "output_type": "display_data"
    },
    {
     "data": {
      "text/html": [
       "related_publications: ['https://www.ncei.noaa.gov/pub/data/paleo/icecore/antarctica/law/']"
      ],
      "text/plain": [
       "<IPython.core.display.HTML object>"
      ]
     },
     "metadata": {},
     "output_type": "display_data"
    },
    {
     "data": {
      "text/html": [
       "time_interval: ['1 AD', '2004 AD']"
      ],
      "text/plain": [
       "<IPython.core.display.HTML object>"
      ]
     },
     "metadata": {},
     "output_type": "display_data"
    },
    {
     "data": {
      "text/html": [
       "<div>\n",
       "<style scoped>\n",
       "    .dataframe tbody tr th:only-of-type {\n",
       "        vertical-align: middle;\n",
       "    }\n",
       "\n",
       "    .dataframe tbody tr th {\n",
       "        vertical-align: top;\n",
       "    }\n",
       "\n",
       "    .dataframe thead th {\n",
       "        text-align: right;\n",
       "    }\n",
       "</style>\n",
       "<table border=\"1\" class=\"dataframe\">\n",
       "  <thead>\n",
       "    <tr style=\"text-align: right;\">\n",
       "      <th></th>\n",
       "      <th>SampleType</th>\n",
       "      <th>CH4gasAge</th>\n",
       "      <th>CH4(ppb)</th>\n",
       "      <th>NOAA04</th>\n",
       "      <th>Publication</th>\n",
       "    </tr>\n",
       "  </thead>\n",
       "  <tbody>\n",
       "    <tr>\n",
       "      <th>0</th>\n",
       "      <td>DE08</td>\n",
       "      <td>1852.0</td>\n",
       "      <td>785.5</td>\n",
       "      <td>795.1</td>\n",
       "      <td>Eth1998</td>\n",
       "    </tr>\n",
       "    <tr>\n",
       "      <th>1</th>\n",
       "      <td>DE08</td>\n",
       "      <td>1856.0</td>\n",
       "      <td>775.9</td>\n",
       "      <td>785.4</td>\n",
       "      <td>Eth1998</td>\n",
       "    </tr>\n",
       "    <tr>\n",
       "      <th>2</th>\n",
       "      <td>DE08</td>\n",
       "      <td>1863.0</td>\n",
       "      <td>789.9</td>\n",
       "      <td>799.5</td>\n",
       "      <td>Eth1998</td>\n",
       "    </tr>\n",
       "    <tr>\n",
       "      <th>3</th>\n",
       "      <td>DE08</td>\n",
       "      <td>1871.0</td>\n",
       "      <td>811.9</td>\n",
       "      <td>821.8</td>\n",
       "      <td>Eth1998</td>\n",
       "    </tr>\n",
       "    <tr>\n",
       "      <th>4</th>\n",
       "      <td>DE08</td>\n",
       "      <td>1879.0</td>\n",
       "      <td>822.3</td>\n",
       "      <td>832.3</td>\n",
       "      <td>Eth1998</td>\n",
       "    </tr>\n",
       "    <tr>\n",
       "      <th>5</th>\n",
       "      <td>DE08</td>\n",
       "      <td>1884.0</td>\n",
       "      <td>828.5</td>\n",
       "      <td>838.6</td>\n",
       "      <td>Eth1998</td>\n",
       "    </tr>\n",
       "    <tr>\n",
       "      <th>6</th>\n",
       "      <td>DE08</td>\n",
       "      <td>1888.0</td>\n",
       "      <td>833.6</td>\n",
       "      <td>843.8</td>\n",
       "      <td>Eth1998</td>\n",
       "    </tr>\n",
       "    <tr>\n",
       "      <th>7</th>\n",
       "      <td>DE08</td>\n",
       "      <td>1894.0</td>\n",
       "      <td>852.3</td>\n",
       "      <td>862.7</td>\n",
       "      <td>Eth1998</td>\n",
       "    </tr>\n",
       "    <tr>\n",
       "      <th>8</th>\n",
       "      <td>DE08</td>\n",
       "      <td>1900.0</td>\n",
       "      <td>868.2</td>\n",
       "      <td>878.8</td>\n",
       "      <td>Eth1998</td>\n",
       "    </tr>\n",
       "    <tr>\n",
       "      <th>9</th>\n",
       "      <td>DE08</td>\n",
       "      <td>1907.0</td>\n",
       "      <td>885.3</td>\n",
       "      <td>896.1</td>\n",
       "      <td>Eth1998</td>\n",
       "    </tr>\n",
       "    <tr>\n",
       "      <th>10</th>\n",
       "      <td>DE08</td>\n",
       "      <td>1914.0</td>\n",
       "      <td>921.6</td>\n",
       "      <td>932.8</td>\n",
       "      <td>Eth1998</td>\n",
       "    </tr>\n",
       "    <tr>\n",
       "      <th>11</th>\n",
       "      <td>DE08</td>\n",
       "      <td>1917.0</td>\n",
       "      <td>929.9</td>\n",
       "      <td>941.2</td>\n",
       "      <td>Eth1998</td>\n",
       "    </tr>\n",
       "    <tr>\n",
       "      <th>12</th>\n",
       "      <td>DE08</td>\n",
       "      <td>1926.0</td>\n",
       "      <td>989.0</td>\n",
       "      <td>1001.0</td>\n",
       "      <td>Eth1998</td>\n",
       "    </tr>\n",
       "    <tr>\n",
       "      <th>13</th>\n",
       "      <td>DE08</td>\n",
       "      <td>1926.0</td>\n",
       "      <td>991.1</td>\n",
       "      <td>1003.2</td>\n",
       "      <td>Eth1998</td>\n",
       "    </tr>\n",
       "    <tr>\n",
       "      <th>14</th>\n",
       "      <td>DE08</td>\n",
       "      <td>1934.0</td>\n",
       "      <td>1023.2</td>\n",
       "      <td>1035.7</td>\n",
       "      <td>Eth1998</td>\n",
       "    </tr>\n",
       "    <tr>\n",
       "      <th>15</th>\n",
       "      <td>DE08</td>\n",
       "      <td>1940.0</td>\n",
       "      <td>1059.9</td>\n",
       "      <td>1072.9</td>\n",
       "      <td>Eth1998</td>\n",
       "    </tr>\n",
       "    <tr>\n",
       "      <th>16</th>\n",
       "      <td>DE08</td>\n",
       "      <td>1941.0</td>\n",
       "      <td>1062.2</td>\n",
       "      <td>1075.1</td>\n",
       "      <td>Eth1998</td>\n",
       "    </tr>\n",
       "    <tr>\n",
       "      <th>17</th>\n",
       "      <td>DE08</td>\n",
       "      <td>1946.0</td>\n",
       "      <td>1081.8</td>\n",
       "      <td>1095.0</td>\n",
       "      <td>Eth1998</td>\n",
       "    </tr>\n",
       "    <tr>\n",
       "      <th>18</th>\n",
       "      <td>DE08</td>\n",
       "      <td>1955.0</td>\n",
       "      <td>1140.0</td>\n",
       "      <td>1153.9</td>\n",
       "      <td>Eth1998</td>\n",
       "    </tr>\n",
       "    <tr>\n",
       "      <th>19</th>\n",
       "      <td>DE08</td>\n",
       "      <td>1955.0</td>\n",
       "      <td>1143.5</td>\n",
       "      <td>1157.5</td>\n",
       "      <td>Eth1998</td>\n",
       "    </tr>\n",
       "    <tr>\n",
       "      <th>20</th>\n",
       "      <td>DE08</td>\n",
       "      <td>1955.0</td>\n",
       "      <td>1145.3</td>\n",
       "      <td>1159.2</td>\n",
       "      <td>Eth1998</td>\n",
       "    </tr>\n",
       "    <tr>\n",
       "      <th>21</th>\n",
       "      <td>DE08</td>\n",
       "      <td>1964.0</td>\n",
       "      <td>1248.6</td>\n",
       "      <td>1263.8</td>\n",
       "      <td>Eth1998</td>\n",
       "    </tr>\n",
       "    <tr>\n",
       "      <th>22</th>\n",
       "      <td>DE08</td>\n",
       "      <td>1964.0</td>\n",
       "      <td>1258.7</td>\n",
       "      <td>1274.1</td>\n",
       "      <td>Eth1998</td>\n",
       "    </tr>\n",
       "    <tr>\n",
       "      <th>23</th>\n",
       "      <td>DE08</td>\n",
       "      <td>1964.0</td>\n",
       "      <td>1260.6</td>\n",
       "      <td>1276.0</td>\n",
       "      <td>Eth1998</td>\n",
       "    </tr>\n",
       "    <tr>\n",
       "      <th>24</th>\n",
       "      <td>DE08</td>\n",
       "      <td>1964.0</td>\n",
       "      <td>1273.3</td>\n",
       "      <td>1288.8</td>\n",
       "      <td>Eth1998</td>\n",
       "    </tr>\n",
       "    <tr>\n",
       "      <th>25</th>\n",
       "      <td>DE08</td>\n",
       "      <td>1965.0</td>\n",
       "      <td>1261.3</td>\n",
       "      <td>1276.7</td>\n",
       "      <td>Eth1998</td>\n",
       "    </tr>\n",
       "    <tr>\n",
       "      <th>26</th>\n",
       "      <td>DE08</td>\n",
       "      <td>1967.0</td>\n",
       "      <td>1278.4</td>\n",
       "      <td>1294.0</td>\n",
       "      <td>Eth1998</td>\n",
       "    </tr>\n",
       "    <tr>\n",
       "      <th>27</th>\n",
       "      <td>DE08</td>\n",
       "      <td>1967.0</td>\n",
       "      <td>1285.2</td>\n",
       "      <td>1300.8</td>\n",
       "      <td>Eth1998</td>\n",
       "    </tr>\n",
       "    <tr>\n",
       "      <th>28</th>\n",
       "      <td>DE08</td>\n",
       "      <td>1970.0</td>\n",
       "      <td>1351.7</td>\n",
       "      <td>1368.2</td>\n",
       "      <td>Eth1998</td>\n",
       "    </tr>\n",
       "    <tr>\n",
       "      <th>29</th>\n",
       "      <td>DE08</td>\n",
       "      <td>1971.0</td>\n",
       "      <td>1357.2</td>\n",
       "      <td>1373.8</td>\n",
       "      <td>Eth1998</td>\n",
       "    </tr>\n",
       "  </tbody>\n",
       "</table>\n",
       "</div>"
      ],
      "text/plain": [
       "   SampleType  CH4gasAge  CH4(ppb)  NOAA04 Publication\n",
       "0        DE08     1852.0     785.5   795.1     Eth1998\n",
       "1        DE08     1856.0     775.9   785.4     Eth1998\n",
       "2        DE08     1863.0     789.9   799.5     Eth1998\n",
       "3        DE08     1871.0     811.9   821.8     Eth1998\n",
       "4        DE08     1879.0     822.3   832.3     Eth1998\n",
       "5        DE08     1884.0     828.5   838.6     Eth1998\n",
       "6        DE08     1888.0     833.6   843.8     Eth1998\n",
       "7        DE08     1894.0     852.3   862.7     Eth1998\n",
       "8        DE08     1900.0     868.2   878.8     Eth1998\n",
       "9        DE08     1907.0     885.3   896.1     Eth1998\n",
       "10       DE08     1914.0     921.6   932.8     Eth1998\n",
       "11       DE08     1917.0     929.9   941.2     Eth1998\n",
       "12       DE08     1926.0     989.0  1001.0     Eth1998\n",
       "13       DE08     1926.0     991.1  1003.2     Eth1998\n",
       "14       DE08     1934.0    1023.2  1035.7     Eth1998\n",
       "15       DE08     1940.0    1059.9  1072.9     Eth1998\n",
       "16       DE08     1941.0    1062.2  1075.1     Eth1998\n",
       "17       DE08     1946.0    1081.8  1095.0     Eth1998\n",
       "18       DE08     1955.0    1140.0  1153.9     Eth1998\n",
       "19       DE08     1955.0    1143.5  1157.5     Eth1998\n",
       "20       DE08     1955.0    1145.3  1159.2     Eth1998\n",
       "21       DE08     1964.0    1248.6  1263.8     Eth1998\n",
       "22       DE08     1964.0    1258.7  1274.1     Eth1998\n",
       "23       DE08     1964.0    1260.6  1276.0     Eth1998\n",
       "24       DE08     1964.0    1273.3  1288.8     Eth1998\n",
       "25       DE08     1965.0    1261.3  1276.7     Eth1998\n",
       "26       DE08     1967.0    1278.4  1294.0     Eth1998\n",
       "27       DE08     1967.0    1285.2  1300.8     Eth1998\n",
       "28       DE08     1970.0    1351.7  1368.2     Eth1998\n",
       "29       DE08     1971.0    1357.2  1373.8     Eth1998"
      ]
     },
     "metadata": {},
     "output_type": "display_data"
    },
    {
     "name": "stdout",
     "output_type": "stream",
     "text": [
      "\n",
      "---------------------------------------------------------------------------------\n",
      "Dataset LawDome2006_CH4_Core_DE08_MacFM20042006 ['co2', 'ch4', 'n20', 'icecore', 'antarctica']\n",
      "\n"
     ]
    },
    {
     "data": {
      "text/html": [
       "description: New measurements of atmospheric greenhouse gas concentrations in ice from Law Dome, Antarctica reproduce published Law Dome CO2 and CH4 records, extend them back to 2000 years BP, and include N2O. They have very high air age resolution, data density and measurement precision. Firn air measurements span the past 65 years and overlap with the ice core and direct atmospheric observations. Major increases in CO2, CH4 and N2O concentrations during the past 200 years followed a period of relative stability beforehand. Decadal variations during the industrial period include the stabilization of CO2 and slowing of CH4 and N2O growth in the 1940s and 1950s. Variations of up to 10 ppm CO2, 40 ppb CH4 and 10 ppb N2O occurred throughout the preindustrial period.  Methane concentrations grew by 100 ppb from AD 0 to 1800, possibly due to early anthropogenic emissions."
      ],
      "text/plain": [
       "<IPython.core.display.HTML object>"
      ]
     },
     "metadata": {},
     "output_type": "display_data"
    },
    {
     "data": {
      "text/html": [
       "authors: ['A.M. Smith', 'C.E. Allison', 'C.M. MacFarling Meure', 'C.M. Trudinger', 'D.A. Spencer', 'D.C. Lowe', 'D.F. Ferretti', 'D.M. Etheridge', 'G.A. Sturrock', 'I.G. Enting', 'J. Elkins', 'J.-M. Barnola', 'J.B. Miller', 'J.W.C. White', 'K.R. Lassey', 'L.N. Cooper', 'L.P. Steele', 'L.W. Porter', 'M.F. Dreier', 'M.V. Van der Schoot', 'P.B. Krummel', 'P.J. Fraser', 'P.J. Rayner', 'R.J. Francey', 'R.L. Langenfelds ', 'T.D. van Ommen', 'V.I. Morgan']"
      ],
      "text/plain": [
       "<IPython.core.display.HTML object>"
      ]
     },
     "metadata": {},
     "output_type": "display_data"
    },
    {
     "data": {
      "text/html": [
       "publication_date: 2010"
      ],
      "text/plain": [
       "<IPython.core.display.HTML object>"
      ]
     },
     "metadata": {},
     "output_type": "display_data"
    },
    {
     "data": {
      "text/html": [
       "last_update: 2010-07"
      ],
      "text/plain": [
       "<IPython.core.display.HTML object>"
      ]
     },
     "metadata": {},
     "output_type": "display_data"
    },
    {
     "data": {
      "text/html": [
       "publisher: World Data Center for Paleoclimatology, Boulder and NOAA Paleoclimatology Program"
      ],
      "text/plain": [
       "<IPython.core.display.HTML object>"
      ]
     },
     "metadata": {},
     "output_type": "display_data"
    },
    {
     "data": {
      "text/html": [
       "id: IGBP PAGES/World Data Center for Paleoclimatology Data Contribution Series # 2010-070"
      ],
      "text/plain": [
       "<IPython.core.display.HTML object>"
      ]
     },
     "metadata": {},
     "output_type": "display_data"
    },
    {
     "data": {
      "text/html": [
       "version: "
      ],
      "text/plain": [
       "<IPython.core.display.HTML object>"
      ]
     },
     "metadata": {},
     "output_type": "display_data"
    },
    {
     "data": {
      "text/html": [
       "data_source: https://www.ncei.noaa.gov/pub/data/paleo/icecore/antarctica/law/law2006.txt"
      ],
      "text/plain": [
       "<IPython.core.display.HTML object>"
      ]
     },
     "metadata": {},
     "output_type": "display_data"
    },
    {
     "data": {
      "text/html": [
       "related_publications: ['https://www.ncei.noaa.gov/pub/data/paleo/icecore/antarctica/law/']"
      ],
      "text/plain": [
       "<IPython.core.display.HTML object>"
      ]
     },
     "metadata": {},
     "output_type": "display_data"
    },
    {
     "data": {
      "text/html": [
       "time_interval: ['1 AD', '2004 AD']"
      ],
      "text/plain": [
       "<IPython.core.display.HTML object>"
      ]
     },
     "metadata": {},
     "output_type": "display_data"
    },
    {
     "data": {
      "text/html": [
       "<div>\n",
       "<style scoped>\n",
       "    .dataframe tbody tr th:only-of-type {\n",
       "        vertical-align: middle;\n",
       "    }\n",
       "\n",
       "    .dataframe tbody tr th {\n",
       "        vertical-align: top;\n",
       "    }\n",
       "\n",
       "    .dataframe thead th {\n",
       "        text-align: right;\n",
       "    }\n",
       "</style>\n",
       "<table border=\"1\" class=\"dataframe\">\n",
       "  <thead>\n",
       "    <tr style=\"text-align: right;\">\n",
       "      <th></th>\n",
       "      <th>SampleType</th>\n",
       "      <th>CH4gasAge</th>\n",
       "      <th>CH4(ppb)</th>\n",
       "      <th>NOAA04</th>\n",
       "      <th>Publication</th>\n",
       "    </tr>\n",
       "  </thead>\n",
       "  <tbody>\n",
       "    <tr>\n",
       "      <th>0</th>\n",
       "      <td>DE08</td>\n",
       "      <td>1835.0</td>\n",
       "      <td>750.6</td>\n",
       "      <td>759.7</td>\n",
       "      <td>MacFM20042006</td>\n",
       "    </tr>\n",
       "    <tr>\n",
       "      <th>1</th>\n",
       "      <td>DE08</td>\n",
       "      <td>1842.0</td>\n",
       "      <td>766.9</td>\n",
       "      <td>776.3</td>\n",
       "      <td>MacFM20042006</td>\n",
       "    </tr>\n",
       "    <tr>\n",
       "      <th>2</th>\n",
       "      <td>DE08</td>\n",
       "      <td>1847.0</td>\n",
       "      <td>769.0</td>\n",
       "      <td>778.4</td>\n",
       "      <td>MacFM20042006</td>\n",
       "    </tr>\n",
       "    <tr>\n",
       "      <th>3</th>\n",
       "      <td>DE08</td>\n",
       "      <td>1847.0</td>\n",
       "      <td>770.4</td>\n",
       "      <td>779.8</td>\n",
       "      <td>MacFM20042006</td>\n",
       "    </tr>\n",
       "    <tr>\n",
       "      <th>4</th>\n",
       "      <td>DE08</td>\n",
       "      <td>1855.0</td>\n",
       "      <td>786.4</td>\n",
       "      <td>796.0</td>\n",
       "      <td>MacFM20042006</td>\n",
       "    </tr>\n",
       "    <tr>\n",
       "      <th>5</th>\n",
       "      <td>DE08</td>\n",
       "      <td>1860.0</td>\n",
       "      <td>786.2</td>\n",
       "      <td>795.8</td>\n",
       "      <td>MacFM20042006</td>\n",
       "    </tr>\n",
       "    <tr>\n",
       "      <th>6</th>\n",
       "      <td>DE08</td>\n",
       "      <td>1865.0</td>\n",
       "      <td>804.1</td>\n",
       "      <td>813.9</td>\n",
       "      <td>MacFM20042006</td>\n",
       "    </tr>\n",
       "    <tr>\n",
       "      <th>7</th>\n",
       "      <td>DE08</td>\n",
       "      <td>1868.0</td>\n",
       "      <td>815.8</td>\n",
       "      <td>825.8</td>\n",
       "      <td>MacFM20042006</td>\n",
       "    </tr>\n",
       "    <tr>\n",
       "      <th>8</th>\n",
       "      <td>DE08</td>\n",
       "      <td>1874.0</td>\n",
       "      <td>817.0</td>\n",
       "      <td>826.9</td>\n",
       "      <td>MacFM20042006</td>\n",
       "    </tr>\n",
       "    <tr>\n",
       "      <th>9</th>\n",
       "      <td>DE08</td>\n",
       "      <td>1875.0</td>\n",
       "      <td>822.1</td>\n",
       "      <td>832.1</td>\n",
       "      <td>MacFM20042006</td>\n",
       "    </tr>\n",
       "    <tr>\n",
       "      <th>10</th>\n",
       "      <td>DE08</td>\n",
       "      <td>1885.0</td>\n",
       "      <td>837.2</td>\n",
       "      <td>847.5</td>\n",
       "      <td>MacFM20042006</td>\n",
       "    </tr>\n",
       "    <tr>\n",
       "      <th>11</th>\n",
       "      <td>DE08</td>\n",
       "      <td>1887.0</td>\n",
       "      <td>841.6</td>\n",
       "      <td>851.8</td>\n",
       "      <td>MacFM20042006</td>\n",
       "    </tr>\n",
       "    <tr>\n",
       "      <th>12</th>\n",
       "      <td>DE08</td>\n",
       "      <td>1890.0</td>\n",
       "      <td>843.5</td>\n",
       "      <td>853.8</td>\n",
       "      <td>MacFM20042006</td>\n",
       "    </tr>\n",
       "    <tr>\n",
       "      <th>13</th>\n",
       "      <td>DE08</td>\n",
       "      <td>1890.0</td>\n",
       "      <td>844.0</td>\n",
       "      <td>854.3</td>\n",
       "      <td>MacFM20042006</td>\n",
       "    </tr>\n",
       "    <tr>\n",
       "      <th>14</th>\n",
       "      <td>DE08</td>\n",
       "      <td>1895.0</td>\n",
       "      <td>857.4</td>\n",
       "      <td>867.9</td>\n",
       "      <td>MacFM20042006</td>\n",
       "    </tr>\n",
       "    <tr>\n",
       "      <th>15</th>\n",
       "      <td>DE08</td>\n",
       "      <td>1900.0</td>\n",
       "      <td>862.4</td>\n",
       "      <td>872.9</td>\n",
       "      <td>MacFM20042006</td>\n",
       "    </tr>\n",
       "    <tr>\n",
       "      <th>16</th>\n",
       "      <td>DE08</td>\n",
       "      <td>1900.0</td>\n",
       "      <td>869.0</td>\n",
       "      <td>879.6</td>\n",
       "      <td>MacFM20042006</td>\n",
       "    </tr>\n",
       "    <tr>\n",
       "      <th>17</th>\n",
       "      <td>DE08</td>\n",
       "      <td>1903.0</td>\n",
       "      <td>867.0</td>\n",
       "      <td>877.6</td>\n",
       "      <td>MacFM20042006</td>\n",
       "    </tr>\n",
       "    <tr>\n",
       "      <th>18</th>\n",
       "      <td>DE08</td>\n",
       "      <td>1903.0</td>\n",
       "      <td>868.7</td>\n",
       "      <td>879.2</td>\n",
       "      <td>MacFM20042006</td>\n",
       "    </tr>\n",
       "    <tr>\n",
       "      <th>19</th>\n",
       "      <td>DE08</td>\n",
       "      <td>1905.0</td>\n",
       "      <td>884.5</td>\n",
       "      <td>895.3</td>\n",
       "      <td>MacFM20042006</td>\n",
       "    </tr>\n",
       "    <tr>\n",
       "      <th>20</th>\n",
       "      <td>DE08</td>\n",
       "      <td>1910.0</td>\n",
       "      <td>934.5</td>\n",
       "      <td>945.9</td>\n",
       "      <td>MacFM20042006</td>\n",
       "    </tr>\n",
       "    <tr>\n",
       "      <th>21</th>\n",
       "      <td>DE08</td>\n",
       "      <td>1912.5</td>\n",
       "      <td>916.2</td>\n",
       "      <td>927.4</td>\n",
       "      <td>MacFM20042006</td>\n",
       "    </tr>\n",
       "    <tr>\n",
       "      <th>22</th>\n",
       "      <td>DE08</td>\n",
       "      <td>1915.0</td>\n",
       "      <td>916.7</td>\n",
       "      <td>927.9</td>\n",
       "      <td>MacFM20042006</td>\n",
       "    </tr>\n",
       "    <tr>\n",
       "      <th>23</th>\n",
       "      <td>DE08</td>\n",
       "      <td>1915.0</td>\n",
       "      <td>925.5</td>\n",
       "      <td>936.8</td>\n",
       "      <td>MacFM20042006</td>\n",
       "    </tr>\n",
       "    <tr>\n",
       "      <th>24</th>\n",
       "      <td>DE08</td>\n",
       "      <td>1919.6</td>\n",
       "      <td>959.3</td>\n",
       "      <td>971.0</td>\n",
       "      <td>MacFM20042006</td>\n",
       "    </tr>\n",
       "    <tr>\n",
       "      <th>25</th>\n",
       "      <td>DE08</td>\n",
       "      <td>1920.0</td>\n",
       "      <td>960.8</td>\n",
       "      <td>972.5</td>\n",
       "      <td>MacFM20042006</td>\n",
       "    </tr>\n",
       "    <tr>\n",
       "      <th>26</th>\n",
       "      <td>DE08</td>\n",
       "      <td>1924.0</td>\n",
       "      <td>980.2</td>\n",
       "      <td>992.1</td>\n",
       "      <td>MacFM20042006</td>\n",
       "    </tr>\n",
       "    <tr>\n",
       "      <th>27</th>\n",
       "      <td>DE08</td>\n",
       "      <td>1924.6</td>\n",
       "      <td>993.1</td>\n",
       "      <td>1005.2</td>\n",
       "      <td>MacFM20042006</td>\n",
       "    </tr>\n",
       "    <tr>\n",
       "      <th>28</th>\n",
       "      <td>DE08</td>\n",
       "      <td>1929.8</td>\n",
       "      <td>1014.7</td>\n",
       "      <td>1027.1</td>\n",
       "      <td>MacFM20042006</td>\n",
       "    </tr>\n",
       "    <tr>\n",
       "      <th>29</th>\n",
       "      <td>DE08</td>\n",
       "      <td>1930.0</td>\n",
       "      <td>1011.6</td>\n",
       "      <td>1023.9</td>\n",
       "      <td>MacFM20042006</td>\n",
       "    </tr>\n",
       "    <tr>\n",
       "      <th>30</th>\n",
       "      <td>DE08</td>\n",
       "      <td>1934.0</td>\n",
       "      <td>1029.0</td>\n",
       "      <td>1041.5</td>\n",
       "      <td>MacFM20042006</td>\n",
       "    </tr>\n",
       "    <tr>\n",
       "      <th>31</th>\n",
       "      <td>DE08</td>\n",
       "      <td>1935.5</td>\n",
       "      <td>1040.9</td>\n",
       "      <td>1053.6</td>\n",
       "      <td>MacFM20042006</td>\n",
       "    </tr>\n",
       "    <tr>\n",
       "      <th>32</th>\n",
       "      <td>DE08</td>\n",
       "      <td>1937.5</td>\n",
       "      <td>1052.4</td>\n",
       "      <td>1065.3</td>\n",
       "      <td>MacFM20042006</td>\n",
       "    </tr>\n",
       "    <tr>\n",
       "      <th>33</th>\n",
       "      <td>DE08</td>\n",
       "      <td>1939.0</td>\n",
       "      <td>1058.2</td>\n",
       "      <td>1071.2</td>\n",
       "      <td>MacFM20042006</td>\n",
       "    </tr>\n",
       "    <tr>\n",
       "      <th>34</th>\n",
       "      <td>DE08</td>\n",
       "      <td>1939.0</td>\n",
       "      <td>1059.1</td>\n",
       "      <td>1072.0</td>\n",
       "      <td>MacFM20042006</td>\n",
       "    </tr>\n",
       "    <tr>\n",
       "      <th>35</th>\n",
       "      <td>DE08</td>\n",
       "      <td>1940.0</td>\n",
       "      <td>1063.3</td>\n",
       "      <td>1076.3</td>\n",
       "      <td>MacFM20042006</td>\n",
       "    </tr>\n",
       "    <tr>\n",
       "      <th>36</th>\n",
       "      <td>DE08</td>\n",
       "      <td>1942.0</td>\n",
       "      <td>1072.8</td>\n",
       "      <td>1085.9</td>\n",
       "      <td>MacFM20042006</td>\n",
       "    </tr>\n",
       "    <tr>\n",
       "      <th>37</th>\n",
       "      <td>DE08</td>\n",
       "      <td>1943.0</td>\n",
       "      <td>1069.5</td>\n",
       "      <td>1082.5</td>\n",
       "      <td>MacFM20042006</td>\n",
       "    </tr>\n",
       "    <tr>\n",
       "      <th>38</th>\n",
       "      <td>DE08</td>\n",
       "      <td>1943.0</td>\n",
       "      <td>1071.1</td>\n",
       "      <td>1084.2</td>\n",
       "      <td>MacFM20042006</td>\n",
       "    </tr>\n",
       "    <tr>\n",
       "      <th>39</th>\n",
       "      <td>DE08</td>\n",
       "      <td>1944.0</td>\n",
       "      <td>1075.6</td>\n",
       "      <td>1088.7</td>\n",
       "      <td>MacFM20042006</td>\n",
       "    </tr>\n",
       "    <tr>\n",
       "      <th>40</th>\n",
       "      <td>DE08</td>\n",
       "      <td>1944.0</td>\n",
       "      <td>1075.7</td>\n",
       "      <td>1088.8</td>\n",
       "      <td>MacFM20042006</td>\n",
       "    </tr>\n",
       "    <tr>\n",
       "      <th>41</th>\n",
       "      <td>DE08</td>\n",
       "      <td>1945.0</td>\n",
       "      <td>1076.6</td>\n",
       "      <td>1089.7</td>\n",
       "      <td>MacFM20042006</td>\n",
       "    </tr>\n",
       "    <tr>\n",
       "      <th>42</th>\n",
       "      <td>DE08</td>\n",
       "      <td>1946.0</td>\n",
       "      <td>1082.8</td>\n",
       "      <td>1096.0</td>\n",
       "      <td>MacFM20042006</td>\n",
       "    </tr>\n",
       "    <tr>\n",
       "      <th>43</th>\n",
       "      <td>DE08</td>\n",
       "      <td>1947.0</td>\n",
       "      <td>1080.5</td>\n",
       "      <td>1093.7</td>\n",
       "      <td>MacFM20042006</td>\n",
       "    </tr>\n",
       "    <tr>\n",
       "      <th>44</th>\n",
       "      <td>DE08</td>\n",
       "      <td>1948.0</td>\n",
       "      <td>1090.9</td>\n",
       "      <td>1104.2</td>\n",
       "      <td>MacFM20042006</td>\n",
       "    </tr>\n",
       "    <tr>\n",
       "      <th>45</th>\n",
       "      <td>DE08</td>\n",
       "      <td>1948.0</td>\n",
       "      <td>1091.5</td>\n",
       "      <td>1104.9</td>\n",
       "      <td>MacFM20042006</td>\n",
       "    </tr>\n",
       "    <tr>\n",
       "      <th>46</th>\n",
       "      <td>DE08</td>\n",
       "      <td>1949.0</td>\n",
       "      <td>1097.5</td>\n",
       "      <td>1110.9</td>\n",
       "      <td>MacFM20042006</td>\n",
       "    </tr>\n",
       "    <tr>\n",
       "      <th>47</th>\n",
       "      <td>DE08</td>\n",
       "      <td>1950.0</td>\n",
       "      <td>1108.5</td>\n",
       "      <td>1122.0</td>\n",
       "      <td>MacFM20042006</td>\n",
       "    </tr>\n",
       "    <tr>\n",
       "      <th>48</th>\n",
       "      <td>DE08</td>\n",
       "      <td>1951.0</td>\n",
       "      <td>1106.5</td>\n",
       "      <td>1120.0</td>\n",
       "      <td>MacFM20042006</td>\n",
       "    </tr>\n",
       "    <tr>\n",
       "      <th>49</th>\n",
       "      <td>DE08</td>\n",
       "      <td>1953.0</td>\n",
       "      <td>1130.2</td>\n",
       "      <td>1144.0</td>\n",
       "      <td>MacFM20042006</td>\n",
       "    </tr>\n",
       "    <tr>\n",
       "      <th>50</th>\n",
       "      <td>DE08</td>\n",
       "      <td>1953.0</td>\n",
       "      <td>1131.0</td>\n",
       "      <td>1144.8</td>\n",
       "      <td>MacFM20042006</td>\n",
       "    </tr>\n",
       "    <tr>\n",
       "      <th>51</th>\n",
       "      <td>DE08</td>\n",
       "      <td>1954.0</td>\n",
       "      <td>1137.6</td>\n",
       "      <td>1151.5</td>\n",
       "      <td>MacFM20042006</td>\n",
       "    </tr>\n",
       "    <tr>\n",
       "      <th>52</th>\n",
       "      <td>DE08</td>\n",
       "      <td>1955.0</td>\n",
       "      <td>1139.5</td>\n",
       "      <td>1153.4</td>\n",
       "      <td>MacFM20042006</td>\n",
       "    </tr>\n",
       "    <tr>\n",
       "      <th>53</th>\n",
       "      <td>DE08</td>\n",
       "      <td>1956.0</td>\n",
       "      <td>1151.1</td>\n",
       "      <td>1165.2</td>\n",
       "      <td>MacFM20042006</td>\n",
       "    </tr>\n",
       "    <tr>\n",
       "      <th>54</th>\n",
       "      <td>DE08</td>\n",
       "      <td>1956.0</td>\n",
       "      <td>1162.2</td>\n",
       "      <td>1176.4</td>\n",
       "      <td>MacFM20042006</td>\n",
       "    </tr>\n",
       "    <tr>\n",
       "      <th>55</th>\n",
       "      <td>DE08</td>\n",
       "      <td>1958.0</td>\n",
       "      <td>1174.0</td>\n",
       "      <td>1188.3</td>\n",
       "      <td>MacFM20042006</td>\n",
       "    </tr>\n",
       "    <tr>\n",
       "      <th>56</th>\n",
       "      <td>DE08</td>\n",
       "      <td>1959.0</td>\n",
       "      <td>1191.7</td>\n",
       "      <td>1206.2</td>\n",
       "      <td>MacFM20042006</td>\n",
       "    </tr>\n",
       "    <tr>\n",
       "      <th>57</th>\n",
       "      <td>DE08</td>\n",
       "      <td>1960.0</td>\n",
       "      <td>1205.9</td>\n",
       "      <td>1220.6</td>\n",
       "      <td>MacFM20042006</td>\n",
       "    </tr>\n",
       "    <tr>\n",
       "      <th>58</th>\n",
       "      <td>DE08</td>\n",
       "      <td>1965.0</td>\n",
       "      <td>1260.7</td>\n",
       "      <td>1276.1</td>\n",
       "      <td>MacFM20042006</td>\n",
       "    </tr>\n",
       "    <tr>\n",
       "      <th>59</th>\n",
       "      <td>DE08</td>\n",
       "      <td>1974.0</td>\n",
       "      <td>1399.6</td>\n",
       "      <td>1416.6</td>\n",
       "      <td>MacFM20042006</td>\n",
       "    </tr>\n",
       "  </tbody>\n",
       "</table>\n",
       "</div>"
      ],
      "text/plain": [
       "   SampleType  CH4gasAge  CH4(ppb)  NOAA04    Publication\n",
       "0        DE08     1835.0     750.6   759.7  MacFM20042006\n",
       "1        DE08     1842.0     766.9   776.3  MacFM20042006\n",
       "2        DE08     1847.0     769.0   778.4  MacFM20042006\n",
       "3        DE08     1847.0     770.4   779.8  MacFM20042006\n",
       "4        DE08     1855.0     786.4   796.0  MacFM20042006\n",
       "5        DE08     1860.0     786.2   795.8  MacFM20042006\n",
       "6        DE08     1865.0     804.1   813.9  MacFM20042006\n",
       "7        DE08     1868.0     815.8   825.8  MacFM20042006\n",
       "8        DE08     1874.0     817.0   826.9  MacFM20042006\n",
       "9        DE08     1875.0     822.1   832.1  MacFM20042006\n",
       "10       DE08     1885.0     837.2   847.5  MacFM20042006\n",
       "11       DE08     1887.0     841.6   851.8  MacFM20042006\n",
       "12       DE08     1890.0     843.5   853.8  MacFM20042006\n",
       "13       DE08     1890.0     844.0   854.3  MacFM20042006\n",
       "14       DE08     1895.0     857.4   867.9  MacFM20042006\n",
       "15       DE08     1900.0     862.4   872.9  MacFM20042006\n",
       "16       DE08     1900.0     869.0   879.6  MacFM20042006\n",
       "17       DE08     1903.0     867.0   877.6  MacFM20042006\n",
       "18       DE08     1903.0     868.7   879.2  MacFM20042006\n",
       "19       DE08     1905.0     884.5   895.3  MacFM20042006\n",
       "20       DE08     1910.0     934.5   945.9  MacFM20042006\n",
       "21       DE08     1912.5     916.2   927.4  MacFM20042006\n",
       "22       DE08     1915.0     916.7   927.9  MacFM20042006\n",
       "23       DE08     1915.0     925.5   936.8  MacFM20042006\n",
       "24       DE08     1919.6     959.3   971.0  MacFM20042006\n",
       "25       DE08     1920.0     960.8   972.5  MacFM20042006\n",
       "26       DE08     1924.0     980.2   992.1  MacFM20042006\n",
       "27       DE08     1924.6     993.1  1005.2  MacFM20042006\n",
       "28       DE08     1929.8    1014.7  1027.1  MacFM20042006\n",
       "29       DE08     1930.0    1011.6  1023.9  MacFM20042006\n",
       "30       DE08     1934.0    1029.0  1041.5  MacFM20042006\n",
       "31       DE08     1935.5    1040.9  1053.6  MacFM20042006\n",
       "32       DE08     1937.5    1052.4  1065.3  MacFM20042006\n",
       "33       DE08     1939.0    1058.2  1071.2  MacFM20042006\n",
       "34       DE08     1939.0    1059.1  1072.0  MacFM20042006\n",
       "35       DE08     1940.0    1063.3  1076.3  MacFM20042006\n",
       "36       DE08     1942.0    1072.8  1085.9  MacFM20042006\n",
       "37       DE08     1943.0    1069.5  1082.5  MacFM20042006\n",
       "38       DE08     1943.0    1071.1  1084.2  MacFM20042006\n",
       "39       DE08     1944.0    1075.6  1088.7  MacFM20042006\n",
       "40       DE08     1944.0    1075.7  1088.8  MacFM20042006\n",
       "41       DE08     1945.0    1076.6  1089.7  MacFM20042006\n",
       "42       DE08     1946.0    1082.8  1096.0  MacFM20042006\n",
       "43       DE08     1947.0    1080.5  1093.7  MacFM20042006\n",
       "44       DE08     1948.0    1090.9  1104.2  MacFM20042006\n",
       "45       DE08     1948.0    1091.5  1104.9  MacFM20042006\n",
       "46       DE08     1949.0    1097.5  1110.9  MacFM20042006\n",
       "47       DE08     1950.0    1108.5  1122.0  MacFM20042006\n",
       "48       DE08     1951.0    1106.5  1120.0  MacFM20042006\n",
       "49       DE08     1953.0    1130.2  1144.0  MacFM20042006\n",
       "50       DE08     1953.0    1131.0  1144.8  MacFM20042006\n",
       "51       DE08     1954.0    1137.6  1151.5  MacFM20042006\n",
       "52       DE08     1955.0    1139.5  1153.4  MacFM20042006\n",
       "53       DE08     1956.0    1151.1  1165.2  MacFM20042006\n",
       "54       DE08     1956.0    1162.2  1176.4  MacFM20042006\n",
       "55       DE08     1958.0    1174.0  1188.3  MacFM20042006\n",
       "56       DE08     1959.0    1191.7  1206.2  MacFM20042006\n",
       "57       DE08     1960.0    1205.9  1220.6  MacFM20042006\n",
       "58       DE08     1965.0    1260.7  1276.1  MacFM20042006\n",
       "59       DE08     1974.0    1399.6  1416.6  MacFM20042006"
      ]
     },
     "metadata": {},
     "output_type": "display_data"
    },
    {
     "name": "stdout",
     "output_type": "stream",
     "text": [
      "\n",
      "---------------------------------------------------------------------------------\n",
      "Dataset LawDome2006_CH4_Core_DSSW20Kfirn ['co2', 'ch4', 'n20', 'icecore', 'antarctica']\n",
      "\n"
     ]
    },
    {
     "data": {
      "text/html": [
       "description: New measurements of atmospheric greenhouse gas concentrations in ice from Law Dome, Antarctica reproduce published Law Dome CO2 and CH4 records, extend them back to 2000 years BP, and include N2O. They have very high air age resolution, data density and measurement precision. Firn air measurements span the past 65 years and overlap with the ice core and direct atmospheric observations. Major increases in CO2, CH4 and N2O concentrations during the past 200 years followed a period of relative stability beforehand. Decadal variations during the industrial period include the stabilization of CO2 and slowing of CH4 and N2O growth in the 1940s and 1950s. Variations of up to 10 ppm CO2, 40 ppb CH4 and 10 ppb N2O occurred throughout the preindustrial period.  Methane concentrations grew by 100 ppb from AD 0 to 1800, possibly due to early anthropogenic emissions."
      ],
      "text/plain": [
       "<IPython.core.display.HTML object>"
      ]
     },
     "metadata": {},
     "output_type": "display_data"
    },
    {
     "data": {
      "text/html": [
       "authors: ['A.M. Smith', 'C.E. Allison', 'C.M. MacFarling Meure', 'C.M. Trudinger', 'D.A. Spencer', 'D.C. Lowe', 'D.F. Ferretti', 'D.M. Etheridge', 'G.A. Sturrock', 'I.G. Enting', 'J. Elkins', 'J.-M. Barnola', 'J.B. Miller', 'J.W.C. White', 'K.R. Lassey', 'L.N. Cooper', 'L.P. Steele', 'L.W. Porter', 'M.F. Dreier', 'M.V. Van der Schoot', 'P.B. Krummel', 'P.J. Fraser', 'P.J. Rayner', 'R.J. Francey', 'R.L. Langenfelds ', 'T.D. van Ommen', 'V.I. Morgan']"
      ],
      "text/plain": [
       "<IPython.core.display.HTML object>"
      ]
     },
     "metadata": {},
     "output_type": "display_data"
    },
    {
     "data": {
      "text/html": [
       "publication_date: 2010"
      ],
      "text/plain": [
       "<IPython.core.display.HTML object>"
      ]
     },
     "metadata": {},
     "output_type": "display_data"
    },
    {
     "data": {
      "text/html": [
       "last_update: 2010-07"
      ],
      "text/plain": [
       "<IPython.core.display.HTML object>"
      ]
     },
     "metadata": {},
     "output_type": "display_data"
    },
    {
     "data": {
      "text/html": [
       "publisher: World Data Center for Paleoclimatology, Boulder and NOAA Paleoclimatology Program"
      ],
      "text/plain": [
       "<IPython.core.display.HTML object>"
      ]
     },
     "metadata": {},
     "output_type": "display_data"
    },
    {
     "data": {
      "text/html": [
       "id: IGBP PAGES/World Data Center for Paleoclimatology Data Contribution Series # 2010-070"
      ],
      "text/plain": [
       "<IPython.core.display.HTML object>"
      ]
     },
     "metadata": {},
     "output_type": "display_data"
    },
    {
     "data": {
      "text/html": [
       "version: "
      ],
      "text/plain": [
       "<IPython.core.display.HTML object>"
      ]
     },
     "metadata": {},
     "output_type": "display_data"
    },
    {
     "data": {
      "text/html": [
       "data_source: https://www.ncei.noaa.gov/pub/data/paleo/icecore/antarctica/law/law2006.txt"
      ],
      "text/plain": [
       "<IPython.core.display.HTML object>"
      ]
     },
     "metadata": {},
     "output_type": "display_data"
    },
    {
     "data": {
      "text/html": [
       "related_publications: ['https://www.ncei.noaa.gov/pub/data/paleo/icecore/antarctica/law/']"
      ],
      "text/plain": [
       "<IPython.core.display.HTML object>"
      ]
     },
     "metadata": {},
     "output_type": "display_data"
    },
    {
     "data": {
      "text/html": [
       "time_interval: ['1 AD', '2004 AD']"
      ],
      "text/plain": [
       "<IPython.core.display.HTML object>"
      ]
     },
     "metadata": {},
     "output_type": "display_data"
    },
    {
     "data": {
      "text/html": [
       "<div>\n",
       "<style scoped>\n",
       "    .dataframe tbody tr th:only-of-type {\n",
       "        vertical-align: middle;\n",
       "    }\n",
       "\n",
       "    .dataframe tbody tr th {\n",
       "        vertical-align: top;\n",
       "    }\n",
       "\n",
       "    .dataframe thead th {\n",
       "        text-align: right;\n",
       "    }\n",
       "</style>\n",
       "<table border=\"1\" class=\"dataframe\">\n",
       "  <thead>\n",
       "    <tr style=\"text-align: right;\">\n",
       "      <th></th>\n",
       "      <th>SampleType</th>\n",
       "      <th>CH4gasAge</th>\n",
       "      <th>CH4(ppb)</th>\n",
       "      <th>NOAA04</th>\n",
       "    </tr>\n",
       "  </thead>\n",
       "  <tbody>\n",
       "    <tr>\n",
       "      <th>0</th>\n",
       "      <td>DSSW20Kfirn</td>\n",
       "      <td>1944.2</td>\n",
       "      <td>1072.3</td>\n",
       "      <td>1085.4</td>\n",
       "    </tr>\n",
       "    <tr>\n",
       "      <th>1</th>\n",
       "      <td>DSSW20Kfirn</td>\n",
       "      <td>1958.3</td>\n",
       "      <td>1177.1</td>\n",
       "      <td>1191.5</td>\n",
       "    </tr>\n",
       "    <tr>\n",
       "      <th>2</th>\n",
       "      <td>DSSW20Kfirn</td>\n",
       "      <td>1972.1</td>\n",
       "      <td>1352.3</td>\n",
       "      <td>1368.8</td>\n",
       "    </tr>\n",
       "    <tr>\n",
       "      <th>3</th>\n",
       "      <td>DSSW20Kfirn</td>\n",
       "      <td>1985.8</td>\n",
       "      <td>1568.9</td>\n",
       "      <td>1588.0</td>\n",
       "    </tr>\n",
       "    <tr>\n",
       "      <th>4</th>\n",
       "      <td>DSSW20Kfirn</td>\n",
       "      <td>1991.5</td>\n",
       "      <td>1643.5</td>\n",
       "      <td>1663.6</td>\n",
       "    </tr>\n",
       "    <tr>\n",
       "      <th>5</th>\n",
       "      <td>DSSW20Kfirn</td>\n",
       "      <td>1993.6</td>\n",
       "      <td>1662.8</td>\n",
       "      <td>1683.1</td>\n",
       "    </tr>\n",
       "    <tr>\n",
       "      <th>6</th>\n",
       "      <td>DSSW20Kfirn</td>\n",
       "      <td>1995.3</td>\n",
       "      <td>1681.6</td>\n",
       "      <td>1702.1</td>\n",
       "    </tr>\n",
       "  </tbody>\n",
       "</table>\n",
       "</div>"
      ],
      "text/plain": [
       "    SampleType  CH4gasAge  CH4(ppb)  NOAA04\n",
       "0  DSSW20Kfirn     1944.2    1072.3  1085.4\n",
       "1  DSSW20Kfirn     1958.3    1177.1  1191.5\n",
       "2  DSSW20Kfirn     1972.1    1352.3  1368.8\n",
       "3  DSSW20Kfirn     1985.8    1568.9  1588.0\n",
       "4  DSSW20Kfirn     1991.5    1643.5  1663.6\n",
       "5  DSSW20Kfirn     1993.6    1662.8  1683.1\n",
       "6  DSSW20Kfirn     1995.3    1681.6  1702.1"
      ]
     },
     "metadata": {},
     "output_type": "display_data"
    },
    {
     "name": "stdout",
     "output_type": "stream",
     "text": [
      "\n",
      "---------------------------------------------------------------------------------\n",
      "Dataset LawDome2006_CH4_Core_CAPEGRIM ['co2', 'ch4', 'n20', 'icecore', 'antarctica']\n",
      "\n"
     ]
    },
    {
     "data": {
      "text/html": [
       "description: New measurements of atmospheric greenhouse gas concentrations in ice from Law Dome, Antarctica reproduce published Law Dome CO2 and CH4 records, extend them back to 2000 years BP, and include N2O. They have very high air age resolution, data density and measurement precision. Firn air measurements span the past 65 years and overlap with the ice core and direct atmospheric observations. Major increases in CO2, CH4 and N2O concentrations during the past 200 years followed a period of relative stability beforehand. Decadal variations during the industrial period include the stabilization of CO2 and slowing of CH4 and N2O growth in the 1940s and 1950s. Variations of up to 10 ppm CO2, 40 ppb CH4 and 10 ppb N2O occurred throughout the preindustrial period.  Methane concentrations grew by 100 ppb from AD 0 to 1800, possibly due to early anthropogenic emissions."
      ],
      "text/plain": [
       "<IPython.core.display.HTML object>"
      ]
     },
     "metadata": {},
     "output_type": "display_data"
    },
    {
     "data": {
      "text/html": [
       "authors: ['A.M. Smith', 'C.E. Allison', 'C.M. MacFarling Meure', 'C.M. Trudinger', 'D.A. Spencer', 'D.C. Lowe', 'D.F. Ferretti', 'D.M. Etheridge', 'G.A. Sturrock', 'I.G. Enting', 'J. Elkins', 'J.-M. Barnola', 'J.B. Miller', 'J.W.C. White', 'K.R. Lassey', 'L.N. Cooper', 'L.P. Steele', 'L.W. Porter', 'M.F. Dreier', 'M.V. Van der Schoot', 'P.B. Krummel', 'P.J. Fraser', 'P.J. Rayner', 'R.J. Francey', 'R.L. Langenfelds ', 'T.D. van Ommen', 'V.I. Morgan']"
      ],
      "text/plain": [
       "<IPython.core.display.HTML object>"
      ]
     },
     "metadata": {},
     "output_type": "display_data"
    },
    {
     "data": {
      "text/html": [
       "publication_date: 2010"
      ],
      "text/plain": [
       "<IPython.core.display.HTML object>"
      ]
     },
     "metadata": {},
     "output_type": "display_data"
    },
    {
     "data": {
      "text/html": [
       "last_update: 2010-07"
      ],
      "text/plain": [
       "<IPython.core.display.HTML object>"
      ]
     },
     "metadata": {},
     "output_type": "display_data"
    },
    {
     "data": {
      "text/html": [
       "publisher: World Data Center for Paleoclimatology, Boulder and NOAA Paleoclimatology Program"
      ],
      "text/plain": [
       "<IPython.core.display.HTML object>"
      ]
     },
     "metadata": {},
     "output_type": "display_data"
    },
    {
     "data": {
      "text/html": [
       "id: IGBP PAGES/World Data Center for Paleoclimatology Data Contribution Series # 2010-070"
      ],
      "text/plain": [
       "<IPython.core.display.HTML object>"
      ]
     },
     "metadata": {},
     "output_type": "display_data"
    },
    {
     "data": {
      "text/html": [
       "version: "
      ],
      "text/plain": [
       "<IPython.core.display.HTML object>"
      ]
     },
     "metadata": {},
     "output_type": "display_data"
    },
    {
     "data": {
      "text/html": [
       "data_source: https://www.ncei.noaa.gov/pub/data/paleo/icecore/antarctica/law/law2006.txt"
      ],
      "text/plain": [
       "<IPython.core.display.HTML object>"
      ]
     },
     "metadata": {},
     "output_type": "display_data"
    },
    {
     "data": {
      "text/html": [
       "related_publications: ['https://www.ncei.noaa.gov/pub/data/paleo/icecore/antarctica/law/']"
      ],
      "text/plain": [
       "<IPython.core.display.HTML object>"
      ]
     },
     "metadata": {},
     "output_type": "display_data"
    },
    {
     "data": {
      "text/html": [
       "time_interval: ['1 AD', '2004 AD']"
      ],
      "text/plain": [
       "<IPython.core.display.HTML object>"
      ]
     },
     "metadata": {},
     "output_type": "display_data"
    },
    {
     "data": {
      "text/html": [
       "<div>\n",
       "<style scoped>\n",
       "    .dataframe tbody tr th:only-of-type {\n",
       "        vertical-align: middle;\n",
       "    }\n",
       "\n",
       "    .dataframe tbody tr th {\n",
       "        vertical-align: top;\n",
       "    }\n",
       "\n",
       "    .dataframe thead th {\n",
       "        text-align: right;\n",
       "    }\n",
       "</style>\n",
       "<table border=\"1\" class=\"dataframe\">\n",
       "  <thead>\n",
       "    <tr style=\"text-align: right;\">\n",
       "      <th></th>\n",
       "      <th>SampleType</th>\n",
       "      <th>CH4gasAge</th>\n",
       "      <th>CH4(ppb)</th>\n",
       "      <th>NOAA04</th>\n",
       "    </tr>\n",
       "  </thead>\n",
       "  <tbody>\n",
       "    <tr>\n",
       "      <th>0</th>\n",
       "      <td>CAPEGRIM</td>\n",
       "      <td>1978.3</td>\n",
       "      <td>1468.8</td>\n",
       "      <td>1486.7</td>\n",
       "    </tr>\n",
       "    <tr>\n",
       "      <th>1</th>\n",
       "      <td>CAPEGRIM</td>\n",
       "      <td>1978.5</td>\n",
       "      <td>1472.3</td>\n",
       "      <td>1490.3</td>\n",
       "    </tr>\n",
       "    <tr>\n",
       "      <th>2</th>\n",
       "      <td>CAPEGRIM</td>\n",
       "      <td>1979.1</td>\n",
       "      <td>1490.4</td>\n",
       "      <td>1508.6</td>\n",
       "    </tr>\n",
       "    <tr>\n",
       "      <th>3</th>\n",
       "      <td>CAPEGRIM</td>\n",
       "      <td>1980.7</td>\n",
       "      <td>1508.7</td>\n",
       "      <td>1527.2</td>\n",
       "    </tr>\n",
       "    <tr>\n",
       "      <th>4</th>\n",
       "      <td>CAPEGRIM</td>\n",
       "      <td>1981.8</td>\n",
       "      <td>1533.8</td>\n",
       "      <td>1552.5</td>\n",
       "    </tr>\n",
       "    <tr>\n",
       "      <th>...</th>\n",
       "      <td>...</td>\n",
       "      <td>...</td>\n",
       "      <td>...</td>\n",
       "      <td>...</td>\n",
       "    </tr>\n",
       "    <tr>\n",
       "      <th>91</th>\n",
       "      <td>CAPEGRIM</td>\n",
       "      <td>2003.2</td>\n",
       "      <td>1706.2</td>\n",
       "      <td>1727.0</td>\n",
       "    </tr>\n",
       "    <tr>\n",
       "      <th>92</th>\n",
       "      <td>CAPEGRIM</td>\n",
       "      <td>2003.2</td>\n",
       "      <td>1707.2</td>\n",
       "      <td>1728.1</td>\n",
       "    </tr>\n",
       "    <tr>\n",
       "      <th>93</th>\n",
       "      <td>CAPEGRIM</td>\n",
       "      <td>2003.4</td>\n",
       "      <td>1709.7</td>\n",
       "      <td>1730.5</td>\n",
       "    </tr>\n",
       "    <tr>\n",
       "      <th>94</th>\n",
       "      <td>CAPEGRIM</td>\n",
       "      <td>2004.1</td>\n",
       "      <td>1707.3</td>\n",
       "      <td>1728.1</td>\n",
       "    </tr>\n",
       "    <tr>\n",
       "      <th>95</th>\n",
       "      <td>CAPEGRIM</td>\n",
       "      <td>2004.5</td>\n",
       "      <td>1708.8</td>\n",
       "      <td>1729.7</td>\n",
       "    </tr>\n",
       "  </tbody>\n",
       "</table>\n",
       "<p>96 rows × 4 columns</p>\n",
       "</div>"
      ],
      "text/plain": [
       "   SampleType  CH4gasAge  CH4(ppb)  NOAA04\n",
       "0    CAPEGRIM     1978.3    1468.8  1486.7\n",
       "1    CAPEGRIM     1978.5    1472.3  1490.3\n",
       "2    CAPEGRIM     1979.1    1490.4  1508.6\n",
       "3    CAPEGRIM     1980.7    1508.7  1527.2\n",
       "4    CAPEGRIM     1981.8    1533.8  1552.5\n",
       "..        ...        ...       ...     ...\n",
       "91   CAPEGRIM     2003.2    1706.2  1727.0\n",
       "92   CAPEGRIM     2003.2    1707.2  1728.1\n",
       "93   CAPEGRIM     2003.4    1709.7  1730.5\n",
       "94   CAPEGRIM     2004.1    1707.3  1728.1\n",
       "95   CAPEGRIM     2004.5    1708.8  1729.7\n",
       "\n",
       "[96 rows x 4 columns]"
      ]
     },
     "metadata": {},
     "output_type": "display_data"
    },
    {
     "name": "stdout",
     "output_type": "stream",
     "text": [
      "\n",
      "---------------------------------------------------------------------------------\n",
      "Dataset LawDome2006_CH4_All ['co2', 'ch4', 'n20', 'icecore', 'antarctica']\n",
      "\n"
     ]
    },
    {
     "data": {
      "text/html": [
       "description: New measurements of atmospheric greenhouse gas concentrations in ice from Law Dome, Antarctica reproduce published Law Dome CO2 and CH4 records, extend them back to 2000 years BP, and include N2O. They have very high air age resolution, data density and measurement precision. Firn air measurements span the past 65 years and overlap with the ice core and direct atmospheric observations. Major increases in CO2, CH4 and N2O concentrations during the past 200 years followed a period of relative stability beforehand. Decadal variations during the industrial period include the stabilization of CO2 and slowing of CH4 and N2O growth in the 1940s and 1950s. Variations of up to 10 ppm CO2, 40 ppb CH4 and 10 ppb N2O occurred throughout the preindustrial period.  Methane concentrations grew by 100 ppb from AD 0 to 1800, possibly due to early anthropogenic emissions."
      ],
      "text/plain": [
       "<IPython.core.display.HTML object>"
      ]
     },
     "metadata": {},
     "output_type": "display_data"
    },
    {
     "data": {
      "text/html": [
       "authors: ['A.M. Smith', 'C.E. Allison', 'C.M. MacFarling Meure', 'C.M. Trudinger', 'D.A. Spencer', 'D.C. Lowe', 'D.F. Ferretti', 'D.M. Etheridge', 'G.A. Sturrock', 'I.G. Enting', 'J. Elkins', 'J.-M. Barnola', 'J.B. Miller', 'J.W.C. White', 'K.R. Lassey', 'L.N. Cooper', 'L.P. Steele', 'L.W. Porter', 'M.F. Dreier', 'M.V. Van der Schoot', 'P.B. Krummel', 'P.J. Fraser', 'P.J. Rayner', 'R.J. Francey', 'R.L. Langenfelds ', 'T.D. van Ommen', 'V.I. Morgan']"
      ],
      "text/plain": [
       "<IPython.core.display.HTML object>"
      ]
     },
     "metadata": {},
     "output_type": "display_data"
    },
    {
     "data": {
      "text/html": [
       "publication_date: 2010"
      ],
      "text/plain": [
       "<IPython.core.display.HTML object>"
      ]
     },
     "metadata": {},
     "output_type": "display_data"
    },
    {
     "data": {
      "text/html": [
       "last_update: 2010-07"
      ],
      "text/plain": [
       "<IPython.core.display.HTML object>"
      ]
     },
     "metadata": {},
     "output_type": "display_data"
    },
    {
     "data": {
      "text/html": [
       "publisher: World Data Center for Paleoclimatology, Boulder and NOAA Paleoclimatology Program"
      ],
      "text/plain": [
       "<IPython.core.display.HTML object>"
      ]
     },
     "metadata": {},
     "output_type": "display_data"
    },
    {
     "data": {
      "text/html": [
       "id: IGBP PAGES/World Data Center for Paleoclimatology Data Contribution Series # 2010-070"
      ],
      "text/plain": [
       "<IPython.core.display.HTML object>"
      ]
     },
     "metadata": {},
     "output_type": "display_data"
    },
    {
     "data": {
      "text/html": [
       "version: "
      ],
      "text/plain": [
       "<IPython.core.display.HTML object>"
      ]
     },
     "metadata": {},
     "output_type": "display_data"
    },
    {
     "data": {
      "text/html": [
       "data_source: https://www.ncei.noaa.gov/pub/data/paleo/icecore/antarctica/law/law2006.txt"
      ],
      "text/plain": [
       "<IPython.core.display.HTML object>"
      ]
     },
     "metadata": {},
     "output_type": "display_data"
    },
    {
     "data": {
      "text/html": [
       "related_publications: ['https://www.ncei.noaa.gov/pub/data/paleo/icecore/antarctica/law/']"
      ],
      "text/plain": [
       "<IPython.core.display.HTML object>"
      ]
     },
     "metadata": {},
     "output_type": "display_data"
    },
    {
     "data": {
      "text/html": [
       "time_interval: ['1 AD', '2004 AD']"
      ],
      "text/plain": [
       "<IPython.core.display.HTML object>"
      ]
     },
     "metadata": {},
     "output_type": "display_data"
    },
    {
     "data": {
      "text/html": [
       "<div>\n",
       "<style scoped>\n",
       "    .dataframe tbody tr th:only-of-type {\n",
       "        vertical-align: middle;\n",
       "    }\n",
       "\n",
       "    .dataframe tbody tr th {\n",
       "        vertical-align: top;\n",
       "    }\n",
       "\n",
       "    .dataframe thead th {\n",
       "        text-align: right;\n",
       "    }\n",
       "</style>\n",
       "<table border=\"1\" class=\"dataframe\">\n",
       "  <thead>\n",
       "    <tr style=\"text-align: right;\">\n",
       "      <th></th>\n",
       "      <th>SampleType</th>\n",
       "      <th>CH4gasAge</th>\n",
       "      <th>CH4(ppb)</th>\n",
       "      <th>NOAA04</th>\n",
       "      <th>Publication</th>\n",
       "    </tr>\n",
       "  </thead>\n",
       "  <tbody>\n",
       "    <tr>\n",
       "      <th>0</th>\n",
       "      <td>CAPEGRIM</td>\n",
       "      <td>2004.5</td>\n",
       "      <td>1708.8</td>\n",
       "      <td>1729.7</td>\n",
       "      <td>None</td>\n",
       "    </tr>\n",
       "    <tr>\n",
       "      <th>1</th>\n",
       "      <td>CAPEGRIM</td>\n",
       "      <td>2004.1</td>\n",
       "      <td>1707.3</td>\n",
       "      <td>1728.1</td>\n",
       "      <td>None</td>\n",
       "    </tr>\n",
       "    <tr>\n",
       "      <th>2</th>\n",
       "      <td>CAPEGRIM</td>\n",
       "      <td>2003.4</td>\n",
       "      <td>1709.7</td>\n",
       "      <td>1730.5</td>\n",
       "      <td>None</td>\n",
       "    </tr>\n",
       "    <tr>\n",
       "      <th>3</th>\n",
       "      <td>CAPEGRIM</td>\n",
       "      <td>2003.2</td>\n",
       "      <td>1707.2</td>\n",
       "      <td>1728.1</td>\n",
       "      <td>None</td>\n",
       "    </tr>\n",
       "    <tr>\n",
       "      <th>4</th>\n",
       "      <td>CAPEGRIM</td>\n",
       "      <td>2003.2</td>\n",
       "      <td>1706.2</td>\n",
       "      <td>1727.0</td>\n",
       "      <td>None</td>\n",
       "    </tr>\n",
       "    <tr>\n",
       "      <th>...</th>\n",
       "      <td>...</td>\n",
       "      <td>...</td>\n",
       "      <td>...</td>\n",
       "      <td>...</td>\n",
       "      <td>...</td>\n",
       "    </tr>\n",
       "    <tr>\n",
       "      <th>326</th>\n",
       "      <td>DSS</td>\n",
       "      <td>137.0</td>\n",
       "      <td>638.8</td>\n",
       "      <td>646.6</td>\n",
       "      <td>MacFM20042006</td>\n",
       "    </tr>\n",
       "    <tr>\n",
       "      <th>327</th>\n",
       "      <td>DSS</td>\n",
       "      <td>105.5</td>\n",
       "      <td>632.0</td>\n",
       "      <td>639.7</td>\n",
       "      <td>MacFM20042006</td>\n",
       "    </tr>\n",
       "    <tr>\n",
       "      <th>328</th>\n",
       "      <td>DSS</td>\n",
       "      <td>57.0</td>\n",
       "      <td>628.4</td>\n",
       "      <td>636.1</td>\n",
       "      <td>MacFM20042006</td>\n",
       "    </tr>\n",
       "    <tr>\n",
       "      <th>329</th>\n",
       "      <td>DSS</td>\n",
       "      <td>30.5</td>\n",
       "      <td>633.9</td>\n",
       "      <td>641.6</td>\n",
       "      <td>MacFM20042006</td>\n",
       "    </tr>\n",
       "    <tr>\n",
       "      <th>330</th>\n",
       "      <td>DSS</td>\n",
       "      <td>14.3</td>\n",
       "      <td>647.6</td>\n",
       "      <td>655.5</td>\n",
       "      <td>MacFM20042006</td>\n",
       "    </tr>\n",
       "  </tbody>\n",
       "</table>\n",
       "<p>331 rows × 5 columns</p>\n",
       "</div>"
      ],
      "text/plain": [
       "    SampleType  CH4gasAge  CH4(ppb)  NOAA04    Publication\n",
       "0     CAPEGRIM     2004.5    1708.8  1729.7           None\n",
       "1     CAPEGRIM     2004.1    1707.3  1728.1           None\n",
       "2     CAPEGRIM     2003.4    1709.7  1730.5           None\n",
       "3     CAPEGRIM     2003.2    1707.2  1728.1           None\n",
       "4     CAPEGRIM     2003.2    1706.2  1727.0           None\n",
       "..         ...        ...       ...     ...            ...\n",
       "326        DSS      137.0     638.8   646.6  MacFM20042006\n",
       "327        DSS      105.5     632.0   639.7  MacFM20042006\n",
       "328        DSS       57.0     628.4   636.1  MacFM20042006\n",
       "329        DSS       30.5     633.9   641.6  MacFM20042006\n",
       "330        DSS       14.3     647.6   655.5  MacFM20042006\n",
       "\n",
       "[331 rows x 5 columns]"
      ]
     },
     "metadata": {},
     "output_type": "display_data"
    },
    {
     "name": "stdout",
     "output_type": "stream",
     "text": [
      "\n",
      "---------------------------------------------------------------------------------\n",
      "Dataset LawDome2006_N20_Core_DSS_MacFM20042006 ['co2', 'ch4', 'n20', 'icecore', 'antarctica']\n",
      "\n"
     ]
    },
    {
     "data": {
      "text/html": [
       "description: New measurements of atmospheric greenhouse gas concentrations in ice from Law Dome, Antarctica reproduce published Law Dome CO2 and CH4 records, extend them back to 2000 years BP, and include N2O. They have very high air age resolution, data density and measurement precision. Firn air measurements span the past 65 years and overlap with the ice core and direct atmospheric observations. Major increases in CO2, CH4 and N2O concentrations during the past 200 years followed a period of relative stability beforehand. Decadal variations during the industrial period include the stabilization of CO2 and slowing of CH4 and N2O growth in the 1940s and 1950s. Variations of up to 10 ppm CO2, 40 ppb CH4 and 10 ppb N2O occurred throughout the preindustrial period.  Methane concentrations grew by 100 ppb from AD 0 to 1800, possibly due to early anthropogenic emissions."
      ],
      "text/plain": [
       "<IPython.core.display.HTML object>"
      ]
     },
     "metadata": {},
     "output_type": "display_data"
    },
    {
     "data": {
      "text/html": [
       "authors: ['A.M. Smith', 'C.E. Allison', 'C.M. MacFarling Meure', 'C.M. Trudinger', 'D.A. Spencer', 'D.C. Lowe', 'D.F. Ferretti', 'D.M. Etheridge', 'G.A. Sturrock', 'I.G. Enting', 'J. Elkins', 'J.-M. Barnola', 'J.B. Miller', 'J.W.C. White', 'K.R. Lassey', 'L.N. Cooper', 'L.P. Steele', 'L.W. Porter', 'M.F. Dreier', 'M.V. Van der Schoot', 'P.B. Krummel', 'P.J. Fraser', 'P.J. Rayner', 'R.J. Francey', 'R.L. Langenfelds ', 'T.D. van Ommen', 'V.I. Morgan']"
      ],
      "text/plain": [
       "<IPython.core.display.HTML object>"
      ]
     },
     "metadata": {},
     "output_type": "display_data"
    },
    {
     "data": {
      "text/html": [
       "publication_date: 2010"
      ],
      "text/plain": [
       "<IPython.core.display.HTML object>"
      ]
     },
     "metadata": {},
     "output_type": "display_data"
    },
    {
     "data": {
      "text/html": [
       "last_update: 2010-07"
      ],
      "text/plain": [
       "<IPython.core.display.HTML object>"
      ]
     },
     "metadata": {},
     "output_type": "display_data"
    },
    {
     "data": {
      "text/html": [
       "publisher: World Data Center for Paleoclimatology, Boulder and NOAA Paleoclimatology Program"
      ],
      "text/plain": [
       "<IPython.core.display.HTML object>"
      ]
     },
     "metadata": {},
     "output_type": "display_data"
    },
    {
     "data": {
      "text/html": [
       "id: IGBP PAGES/World Data Center for Paleoclimatology Data Contribution Series # 2010-070"
      ],
      "text/plain": [
       "<IPython.core.display.HTML object>"
      ]
     },
     "metadata": {},
     "output_type": "display_data"
    },
    {
     "data": {
      "text/html": [
       "version: "
      ],
      "text/plain": [
       "<IPython.core.display.HTML object>"
      ]
     },
     "metadata": {},
     "output_type": "display_data"
    },
    {
     "data": {
      "text/html": [
       "data_source: https://www.ncei.noaa.gov/pub/data/paleo/icecore/antarctica/law/law2006.txt"
      ],
      "text/plain": [
       "<IPython.core.display.HTML object>"
      ]
     },
     "metadata": {},
     "output_type": "display_data"
    },
    {
     "data": {
      "text/html": [
       "related_publications: ['https://www.ncei.noaa.gov/pub/data/paleo/icecore/antarctica/law/']"
      ],
      "text/plain": [
       "<IPython.core.display.HTML object>"
      ]
     },
     "metadata": {},
     "output_type": "display_data"
    },
    {
     "data": {
      "text/html": [
       "time_interval: ['1 AD', '2004 AD']"
      ],
      "text/plain": [
       "<IPython.core.display.HTML object>"
      ]
     },
     "metadata": {},
     "output_type": "display_data"
    },
    {
     "data": {
      "text/html": [
       "<div>\n",
       "<style scoped>\n",
       "    .dataframe tbody tr th:only-of-type {\n",
       "        vertical-align: middle;\n",
       "    }\n",
       "\n",
       "    .dataframe tbody tr th {\n",
       "        vertical-align: top;\n",
       "    }\n",
       "\n",
       "    .dataframe thead th {\n",
       "        text-align: right;\n",
       "    }\n",
       "</style>\n",
       "<table border=\"1\" class=\"dataframe\">\n",
       "  <thead>\n",
       "    <tr style=\"text-align: right;\">\n",
       "      <th></th>\n",
       "      <th>SampleType</th>\n",
       "      <th>N2OgasAge</th>\n",
       "      <th>N2O(ppb)</th>\n",
       "      <th>Publication</th>\n",
       "    </tr>\n",
       "  </thead>\n",
       "  <tbody>\n",
       "    <tr>\n",
       "      <th>0</th>\n",
       "      <td>DSS</td>\n",
       "      <td>13.3</td>\n",
       "      <td>264.2</td>\n",
       "      <td>MacFM20042006</td>\n",
       "    </tr>\n",
       "    <tr>\n",
       "      <th>1</th>\n",
       "      <td>DSS</td>\n",
       "      <td>29.5</td>\n",
       "      <td>263.1</td>\n",
       "      <td>MacFM20042006</td>\n",
       "    </tr>\n",
       "    <tr>\n",
       "      <th>2</th>\n",
       "      <td>DSS</td>\n",
       "      <td>56.0</td>\n",
       "      <td>264.2</td>\n",
       "      <td>MacFM20042006</td>\n",
       "    </tr>\n",
       "    <tr>\n",
       "      <th>3</th>\n",
       "      <td>DSS</td>\n",
       "      <td>136.0</td>\n",
       "      <td>266.1</td>\n",
       "      <td>MacFM20042006</td>\n",
       "    </tr>\n",
       "    <tr>\n",
       "      <th>4</th>\n",
       "      <td>DSS</td>\n",
       "      <td>168.3</td>\n",
       "      <td>265.1</td>\n",
       "      <td>MacFM20042006</td>\n",
       "    </tr>\n",
       "    <tr>\n",
       "      <th>5</th>\n",
       "      <td>DSS</td>\n",
       "      <td>227.9</td>\n",
       "      <td>268.3</td>\n",
       "      <td>MacFM20042006</td>\n",
       "    </tr>\n",
       "    <tr>\n",
       "      <th>6</th>\n",
       "      <td>DSS</td>\n",
       "      <td>302.3</td>\n",
       "      <td>262.3</td>\n",
       "      <td>MacFM20042006</td>\n",
       "    </tr>\n",
       "    <tr>\n",
       "      <th>7</th>\n",
       "      <td>DSS</td>\n",
       "      <td>329.2</td>\n",
       "      <td>261.4</td>\n",
       "      <td>MacFM20042006</td>\n",
       "    </tr>\n",
       "    <tr>\n",
       "      <th>8</th>\n",
       "      <td>DSS</td>\n",
       "      <td>364.6</td>\n",
       "      <td>263.8</td>\n",
       "      <td>MacFM20042006</td>\n",
       "    </tr>\n",
       "    <tr>\n",
       "      <th>9</th>\n",
       "      <td>DSS</td>\n",
       "      <td>428.4</td>\n",
       "      <td>263.5</td>\n",
       "      <td>MacFM20042006</td>\n",
       "    </tr>\n",
       "    <tr>\n",
       "      <th>10</th>\n",
       "      <td>DSS</td>\n",
       "      <td>499.8</td>\n",
       "      <td>261.7</td>\n",
       "      <td>MacFM20042006</td>\n",
       "    </tr>\n",
       "    <tr>\n",
       "      <th>11</th>\n",
       "      <td>DSS</td>\n",
       "      <td>536.7</td>\n",
       "      <td>260.2</td>\n",
       "      <td>MacFM20042006</td>\n",
       "    </tr>\n",
       "    <tr>\n",
       "      <th>12</th>\n",
       "      <td>DSS</td>\n",
       "      <td>572.0</td>\n",
       "      <td>264.7</td>\n",
       "      <td>MacFM20042006</td>\n",
       "    </tr>\n",
       "    <tr>\n",
       "      <th>13</th>\n",
       "      <td>DSS</td>\n",
       "      <td>595.6</td>\n",
       "      <td>261.1</td>\n",
       "      <td>MacFM20042006</td>\n",
       "    </tr>\n",
       "    <tr>\n",
       "      <th>14</th>\n",
       "      <td>DSS</td>\n",
       "      <td>632.0</td>\n",
       "      <td>262.3</td>\n",
       "      <td>MacFM20042006</td>\n",
       "    </tr>\n",
       "    <tr>\n",
       "      <th>15</th>\n",
       "      <td>DSS</td>\n",
       "      <td>667.9</td>\n",
       "      <td>261.2</td>\n",
       "      <td>MacFM20042006</td>\n",
       "    </tr>\n",
       "    <tr>\n",
       "      <th>16</th>\n",
       "      <td>DSS</td>\n",
       "      <td>799.2</td>\n",
       "      <td>270.7</td>\n",
       "      <td>MacFM20042006</td>\n",
       "    </tr>\n",
       "    <tr>\n",
       "      <th>17</th>\n",
       "      <td>DSS</td>\n",
       "      <td>857.3</td>\n",
       "      <td>269.4</td>\n",
       "      <td>MacFM20042006</td>\n",
       "    </tr>\n",
       "    <tr>\n",
       "      <th>18</th>\n",
       "      <td>DSS</td>\n",
       "      <td>897.4</td>\n",
       "      <td>272.1</td>\n",
       "      <td>MacFM20042006</td>\n",
       "    </tr>\n",
       "    <tr>\n",
       "      <th>19</th>\n",
       "      <td>DSS</td>\n",
       "      <td>968.2</td>\n",
       "      <td>266.8</td>\n",
       "      <td>MacFM20042006</td>\n",
       "    </tr>\n",
       "    <tr>\n",
       "      <th>20</th>\n",
       "      <td>DSS</td>\n",
       "      <td>1105.4</td>\n",
       "      <td>268.3</td>\n",
       "      <td>MacFM20042006</td>\n",
       "    </tr>\n",
       "    <tr>\n",
       "      <th>21</th>\n",
       "      <td>DSS</td>\n",
       "      <td>1207.4</td>\n",
       "      <td>267.7</td>\n",
       "      <td>MacFM20042006</td>\n",
       "    </tr>\n",
       "    <tr>\n",
       "      <th>22</th>\n",
       "      <td>DSS</td>\n",
       "      <td>1257.6</td>\n",
       "      <td>267.6</td>\n",
       "      <td>MacFM20042006</td>\n",
       "    </tr>\n",
       "    <tr>\n",
       "      <th>23</th>\n",
       "      <td>DSS</td>\n",
       "      <td>1330.1</td>\n",
       "      <td>269.7</td>\n",
       "      <td>MacFM20042006</td>\n",
       "    </tr>\n",
       "    <tr>\n",
       "      <th>24</th>\n",
       "      <td>DSS</td>\n",
       "      <td>1411.3</td>\n",
       "      <td>266.2</td>\n",
       "      <td>MacFM20042006</td>\n",
       "    </tr>\n",
       "    <tr>\n",
       "      <th>25</th>\n",
       "      <td>DSS</td>\n",
       "      <td>1449.1</td>\n",
       "      <td>267.0</td>\n",
       "      <td>MacFM20042006</td>\n",
       "    </tr>\n",
       "    <tr>\n",
       "      <th>26</th>\n",
       "      <td>DSS</td>\n",
       "      <td>1458.9</td>\n",
       "      <td>266.5</td>\n",
       "      <td>MacFM20042006</td>\n",
       "    </tr>\n",
       "    <tr>\n",
       "      <th>27</th>\n",
       "      <td>DSS</td>\n",
       "      <td>1501.5</td>\n",
       "      <td>268.5</td>\n",
       "      <td>MacFM20042006</td>\n",
       "    </tr>\n",
       "    <tr>\n",
       "      <th>28</th>\n",
       "      <td>DSS</td>\n",
       "      <td>1529.7</td>\n",
       "      <td>272.7</td>\n",
       "      <td>MacFM20042006</td>\n",
       "    </tr>\n",
       "    <tr>\n",
       "      <th>29</th>\n",
       "      <td>DSS</td>\n",
       "      <td>1535.3</td>\n",
       "      <td>270.6</td>\n",
       "      <td>MacFM20042006</td>\n",
       "    </tr>\n",
       "    <tr>\n",
       "      <th>30</th>\n",
       "      <td>DSS</td>\n",
       "      <td>1549.7</td>\n",
       "      <td>270.1</td>\n",
       "      <td>MacFM20042006</td>\n",
       "    </tr>\n",
       "    <tr>\n",
       "      <th>31</th>\n",
       "      <td>DSS</td>\n",
       "      <td>1560.4</td>\n",
       "      <td>270.1</td>\n",
       "      <td>MacFM20042006</td>\n",
       "    </tr>\n",
       "    <tr>\n",
       "      <th>32</th>\n",
       "      <td>DSS</td>\n",
       "      <td>1573.0</td>\n",
       "      <td>269.6</td>\n",
       "      <td>MacFM20042006</td>\n",
       "    </tr>\n",
       "    <tr>\n",
       "      <th>33</th>\n",
       "      <td>DSS</td>\n",
       "      <td>1591.1</td>\n",
       "      <td>268.3</td>\n",
       "      <td>MacFM20042006</td>\n",
       "    </tr>\n",
       "    <tr>\n",
       "      <th>34</th>\n",
       "      <td>DSS</td>\n",
       "      <td>1610.4</td>\n",
       "      <td>266.2</td>\n",
       "      <td>MacFM20042006</td>\n",
       "    </tr>\n",
       "    <tr>\n",
       "      <th>35</th>\n",
       "      <td>DSS</td>\n",
       "      <td>1666.7</td>\n",
       "      <td>267.0</td>\n",
       "      <td>MacFM20042006</td>\n",
       "    </tr>\n",
       "    <tr>\n",
       "      <th>36</th>\n",
       "      <td>DSS</td>\n",
       "      <td>1681.9</td>\n",
       "      <td>270.1</td>\n",
       "      <td>MacFM20042006</td>\n",
       "    </tr>\n",
       "    <tr>\n",
       "      <th>37</th>\n",
       "      <td>DSS</td>\n",
       "      <td>1722.9</td>\n",
       "      <td>269.8</td>\n",
       "      <td>MacFM20042006</td>\n",
       "    </tr>\n",
       "    <tr>\n",
       "      <th>38</th>\n",
       "      <td>DSS</td>\n",
       "      <td>1749.2</td>\n",
       "      <td>270.9</td>\n",
       "      <td>MacFM20042006</td>\n",
       "    </tr>\n",
       "    <tr>\n",
       "      <th>39</th>\n",
       "      <td>DSS</td>\n",
       "      <td>1762.8</td>\n",
       "      <td>274.8</td>\n",
       "      <td>MacFM20042006</td>\n",
       "    </tr>\n",
       "    <tr>\n",
       "      <th>40</th>\n",
       "      <td>DSS</td>\n",
       "      <td>1763.5</td>\n",
       "      <td>273.8</td>\n",
       "      <td>MacFM20042006</td>\n",
       "    </tr>\n",
       "    <tr>\n",
       "      <th>41</th>\n",
       "      <td>DSS</td>\n",
       "      <td>1794.4</td>\n",
       "      <td>271.9</td>\n",
       "      <td>MacFM20042006</td>\n",
       "    </tr>\n",
       "    <tr>\n",
       "      <th>42</th>\n",
       "      <td>DSS</td>\n",
       "      <td>1796.1</td>\n",
       "      <td>272.3</td>\n",
       "      <td>MacFM20042006</td>\n",
       "    </tr>\n",
       "    <tr>\n",
       "      <th>43</th>\n",
       "      <td>DSS</td>\n",
       "      <td>1799.3</td>\n",
       "      <td>272.7</td>\n",
       "      <td>MacFM20042006</td>\n",
       "    </tr>\n",
       "    <tr>\n",
       "      <th>44</th>\n",
       "      <td>DSS</td>\n",
       "      <td>1814.2</td>\n",
       "      <td>271.3</td>\n",
       "      <td>MacFM20042006</td>\n",
       "    </tr>\n",
       "    <tr>\n",
       "      <th>45</th>\n",
       "      <td>DSS</td>\n",
       "      <td>1836.3</td>\n",
       "      <td>268.1</td>\n",
       "      <td>MacFM20042006</td>\n",
       "    </tr>\n",
       "    <tr>\n",
       "      <th>46</th>\n",
       "      <td>DSS</td>\n",
       "      <td>1900.8</td>\n",
       "      <td>277.0</td>\n",
       "      <td>MacFM20042006</td>\n",
       "    </tr>\n",
       "    <tr>\n",
       "      <th>47</th>\n",
       "      <td>DSS</td>\n",
       "      <td>1904.8</td>\n",
       "      <td>279.7</td>\n",
       "      <td>MacFM20042006</td>\n",
       "    </tr>\n",
       "    <tr>\n",
       "      <th>48</th>\n",
       "      <td>DSS</td>\n",
       "      <td>1927.2</td>\n",
       "      <td>283.1</td>\n",
       "      <td>MacFM20042006</td>\n",
       "    </tr>\n",
       "    <tr>\n",
       "      <th>49</th>\n",
       "      <td>DSS</td>\n",
       "      <td>1948.0</td>\n",
       "      <td>288.0</td>\n",
       "      <td>MacFM20042006</td>\n",
       "    </tr>\n",
       "    <tr>\n",
       "      <th>50</th>\n",
       "      <td>DSS</td>\n",
       "      <td>1949.3</td>\n",
       "      <td>288.0</td>\n",
       "      <td>MacFM20042006</td>\n",
       "    </tr>\n",
       "    <tr>\n",
       "      <th>51</th>\n",
       "      <td>DSS</td>\n",
       "      <td>1960.7</td>\n",
       "      <td>291.1</td>\n",
       "      <td>MacFM20042006</td>\n",
       "    </tr>\n",
       "  </tbody>\n",
       "</table>\n",
       "</div>"
      ],
      "text/plain": [
       "   SampleType  N2OgasAge  N2O(ppb)    Publication\n",
       "0         DSS       13.3     264.2  MacFM20042006\n",
       "1         DSS       29.5     263.1  MacFM20042006\n",
       "2         DSS       56.0     264.2  MacFM20042006\n",
       "3         DSS      136.0     266.1  MacFM20042006\n",
       "4         DSS      168.3     265.1  MacFM20042006\n",
       "5         DSS      227.9     268.3  MacFM20042006\n",
       "6         DSS      302.3     262.3  MacFM20042006\n",
       "7         DSS      329.2     261.4  MacFM20042006\n",
       "8         DSS      364.6     263.8  MacFM20042006\n",
       "9         DSS      428.4     263.5  MacFM20042006\n",
       "10        DSS      499.8     261.7  MacFM20042006\n",
       "11        DSS      536.7     260.2  MacFM20042006\n",
       "12        DSS      572.0     264.7  MacFM20042006\n",
       "13        DSS      595.6     261.1  MacFM20042006\n",
       "14        DSS      632.0     262.3  MacFM20042006\n",
       "15        DSS      667.9     261.2  MacFM20042006\n",
       "16        DSS      799.2     270.7  MacFM20042006\n",
       "17        DSS      857.3     269.4  MacFM20042006\n",
       "18        DSS      897.4     272.1  MacFM20042006\n",
       "19        DSS      968.2     266.8  MacFM20042006\n",
       "20        DSS     1105.4     268.3  MacFM20042006\n",
       "21        DSS     1207.4     267.7  MacFM20042006\n",
       "22        DSS     1257.6     267.6  MacFM20042006\n",
       "23        DSS     1330.1     269.7  MacFM20042006\n",
       "24        DSS     1411.3     266.2  MacFM20042006\n",
       "25        DSS     1449.1     267.0  MacFM20042006\n",
       "26        DSS     1458.9     266.5  MacFM20042006\n",
       "27        DSS     1501.5     268.5  MacFM20042006\n",
       "28        DSS     1529.7     272.7  MacFM20042006\n",
       "29        DSS     1535.3     270.6  MacFM20042006\n",
       "30        DSS     1549.7     270.1  MacFM20042006\n",
       "31        DSS     1560.4     270.1  MacFM20042006\n",
       "32        DSS     1573.0     269.6  MacFM20042006\n",
       "33        DSS     1591.1     268.3  MacFM20042006\n",
       "34        DSS     1610.4     266.2  MacFM20042006\n",
       "35        DSS     1666.7     267.0  MacFM20042006\n",
       "36        DSS     1681.9     270.1  MacFM20042006\n",
       "37        DSS     1722.9     269.8  MacFM20042006\n",
       "38        DSS     1749.2     270.9  MacFM20042006\n",
       "39        DSS     1762.8     274.8  MacFM20042006\n",
       "40        DSS     1763.5     273.8  MacFM20042006\n",
       "41        DSS     1794.4     271.9  MacFM20042006\n",
       "42        DSS     1796.1     272.3  MacFM20042006\n",
       "43        DSS     1799.3     272.7  MacFM20042006\n",
       "44        DSS     1814.2     271.3  MacFM20042006\n",
       "45        DSS     1836.3     268.1  MacFM20042006\n",
       "46        DSS     1900.8     277.0  MacFM20042006\n",
       "47        DSS     1904.8     279.7  MacFM20042006\n",
       "48        DSS     1927.2     283.1  MacFM20042006\n",
       "49        DSS     1948.0     288.0  MacFM20042006\n",
       "50        DSS     1949.3     288.0  MacFM20042006\n",
       "51        DSS     1960.7     291.1  MacFM20042006"
      ]
     },
     "metadata": {},
     "output_type": "display_data"
    },
    {
     "name": "stdout",
     "output_type": "stream",
     "text": [
      "\n",
      "---------------------------------------------------------------------------------\n",
      "Dataset LawDome2006_N20_Core_DSS08-2_MacFM20042006 ['co2', 'ch4', 'n20', 'icecore', 'antarctica']\n",
      "\n"
     ]
    },
    {
     "data": {
      "text/html": [
       "description: New measurements of atmospheric greenhouse gas concentrations in ice from Law Dome, Antarctica reproduce published Law Dome CO2 and CH4 records, extend them back to 2000 years BP, and include N2O. They have very high air age resolution, data density and measurement precision. Firn air measurements span the past 65 years and overlap with the ice core and direct atmospheric observations. Major increases in CO2, CH4 and N2O concentrations during the past 200 years followed a period of relative stability beforehand. Decadal variations during the industrial period include the stabilization of CO2 and slowing of CH4 and N2O growth in the 1940s and 1950s. Variations of up to 10 ppm CO2, 40 ppb CH4 and 10 ppb N2O occurred throughout the preindustrial period.  Methane concentrations grew by 100 ppb from AD 0 to 1800, possibly due to early anthropogenic emissions."
      ],
      "text/plain": [
       "<IPython.core.display.HTML object>"
      ]
     },
     "metadata": {},
     "output_type": "display_data"
    },
    {
     "data": {
      "text/html": [
       "authors: ['A.M. Smith', 'C.E. Allison', 'C.M. MacFarling Meure', 'C.M. Trudinger', 'D.A. Spencer', 'D.C. Lowe', 'D.F. Ferretti', 'D.M. Etheridge', 'G.A. Sturrock', 'I.G. Enting', 'J. Elkins', 'J.-M. Barnola', 'J.B. Miller', 'J.W.C. White', 'K.R. Lassey', 'L.N. Cooper', 'L.P. Steele', 'L.W. Porter', 'M.F. Dreier', 'M.V. Van der Schoot', 'P.B. Krummel', 'P.J. Fraser', 'P.J. Rayner', 'R.J. Francey', 'R.L. Langenfelds ', 'T.D. van Ommen', 'V.I. Morgan']"
      ],
      "text/plain": [
       "<IPython.core.display.HTML object>"
      ]
     },
     "metadata": {},
     "output_type": "display_data"
    },
    {
     "data": {
      "text/html": [
       "publication_date: 2010"
      ],
      "text/plain": [
       "<IPython.core.display.HTML object>"
      ]
     },
     "metadata": {},
     "output_type": "display_data"
    },
    {
     "data": {
      "text/html": [
       "last_update: 2010-07"
      ],
      "text/plain": [
       "<IPython.core.display.HTML object>"
      ]
     },
     "metadata": {},
     "output_type": "display_data"
    },
    {
     "data": {
      "text/html": [
       "publisher: World Data Center for Paleoclimatology, Boulder and NOAA Paleoclimatology Program"
      ],
      "text/plain": [
       "<IPython.core.display.HTML object>"
      ]
     },
     "metadata": {},
     "output_type": "display_data"
    },
    {
     "data": {
      "text/html": [
       "id: IGBP PAGES/World Data Center for Paleoclimatology Data Contribution Series # 2010-070"
      ],
      "text/plain": [
       "<IPython.core.display.HTML object>"
      ]
     },
     "metadata": {},
     "output_type": "display_data"
    },
    {
     "data": {
      "text/html": [
       "version: "
      ],
      "text/plain": [
       "<IPython.core.display.HTML object>"
      ]
     },
     "metadata": {},
     "output_type": "display_data"
    },
    {
     "data": {
      "text/html": [
       "data_source: https://www.ncei.noaa.gov/pub/data/paleo/icecore/antarctica/law/law2006.txt"
      ],
      "text/plain": [
       "<IPython.core.display.HTML object>"
      ]
     },
     "metadata": {},
     "output_type": "display_data"
    },
    {
     "data": {
      "text/html": [
       "related_publications: ['https://www.ncei.noaa.gov/pub/data/paleo/icecore/antarctica/law/']"
      ],
      "text/plain": [
       "<IPython.core.display.HTML object>"
      ]
     },
     "metadata": {},
     "output_type": "display_data"
    },
    {
     "data": {
      "text/html": [
       "time_interval: ['1 AD', '2004 AD']"
      ],
      "text/plain": [
       "<IPython.core.display.HTML object>"
      ]
     },
     "metadata": {},
     "output_type": "display_data"
    },
    {
     "data": {
      "text/html": [
       "<div>\n",
       "<style scoped>\n",
       "    .dataframe tbody tr th:only-of-type {\n",
       "        vertical-align: middle;\n",
       "    }\n",
       "\n",
       "    .dataframe tbody tr th {\n",
       "        vertical-align: top;\n",
       "    }\n",
       "\n",
       "    .dataframe thead th {\n",
       "        text-align: right;\n",
       "    }\n",
       "</style>\n",
       "<table border=\"1\" class=\"dataframe\">\n",
       "  <thead>\n",
       "    <tr style=\"text-align: right;\">\n",
       "      <th></th>\n",
       "      <th>SampleType</th>\n",
       "      <th>N2OgasAge</th>\n",
       "      <th>N2O(ppb)</th>\n",
       "      <th>Publication</th>\n",
       "    </tr>\n",
       "  </thead>\n",
       "  <tbody>\n",
       "    <tr>\n",
       "      <th>0</th>\n",
       "      <td>DE08-2</td>\n",
       "      <td>1833.0</td>\n",
       "      <td>273.1</td>\n",
       "      <td>MacFM20042006</td>\n",
       "    </tr>\n",
       "    <tr>\n",
       "      <th>1</th>\n",
       "      <td>DE08-2</td>\n",
       "      <td>1935.0</td>\n",
       "      <td>288.7</td>\n",
       "      <td>MacFM20042006</td>\n",
       "    </tr>\n",
       "    <tr>\n",
       "      <th>2</th>\n",
       "      <td>DE08-2</td>\n",
       "      <td>1941.0</td>\n",
       "      <td>289.9</td>\n",
       "      <td>MacFM20042006</td>\n",
       "    </tr>\n",
       "    <tr>\n",
       "      <th>3</th>\n",
       "      <td>DE08-2</td>\n",
       "      <td>1949.0</td>\n",
       "      <td>290.3</td>\n",
       "      <td>MacFM20042006</td>\n",
       "    </tr>\n",
       "    <tr>\n",
       "      <th>4</th>\n",
       "      <td>DE08-2</td>\n",
       "      <td>1970.7</td>\n",
       "      <td>296.4</td>\n",
       "      <td>MacFM20042006</td>\n",
       "    </tr>\n",
       "    <tr>\n",
       "      <th>5</th>\n",
       "      <td>DE08-2</td>\n",
       "      <td>1972.0</td>\n",
       "      <td>298.4</td>\n",
       "      <td>MacFM20042006</td>\n",
       "    </tr>\n",
       "    <tr>\n",
       "      <th>6</th>\n",
       "      <td>DE08-2</td>\n",
       "      <td>1974.0</td>\n",
       "      <td>297.1</td>\n",
       "      <td>MacFM20042006</td>\n",
       "    </tr>\n",
       "    <tr>\n",
       "      <th>7</th>\n",
       "      <td>DE08-2</td>\n",
       "      <td>1976.0</td>\n",
       "      <td>300.0</td>\n",
       "      <td>MacFM20042006</td>\n",
       "    </tr>\n",
       "    <tr>\n",
       "      <th>8</th>\n",
       "      <td>DE08-2</td>\n",
       "      <td>1979.0</td>\n",
       "      <td>300.3</td>\n",
       "      <td>MacFM20042006</td>\n",
       "    </tr>\n",
       "    <tr>\n",
       "      <th>9</th>\n",
       "      <td>DE08-2</td>\n",
       "      <td>1979.0</td>\n",
       "      <td>304.5</td>\n",
       "      <td>MacFM20042006</td>\n",
       "    </tr>\n",
       "  </tbody>\n",
       "</table>\n",
       "</div>"
      ],
      "text/plain": [
       "  SampleType  N2OgasAge  N2O(ppb)    Publication\n",
       "0     DE08-2     1833.0     273.1  MacFM20042006\n",
       "1     DE08-2     1935.0     288.7  MacFM20042006\n",
       "2     DE08-2     1941.0     289.9  MacFM20042006\n",
       "3     DE08-2     1949.0     290.3  MacFM20042006\n",
       "4     DE08-2     1970.7     296.4  MacFM20042006\n",
       "5     DE08-2     1972.0     298.4  MacFM20042006\n",
       "6     DE08-2     1974.0     297.1  MacFM20042006\n",
       "7     DE08-2     1976.0     300.0  MacFM20042006\n",
       "8     DE08-2     1979.0     300.3  MacFM20042006\n",
       "9     DE08-2     1979.0     304.5  MacFM20042006"
      ]
     },
     "metadata": {},
     "output_type": "display_data"
    },
    {
     "name": "stdout",
     "output_type": "stream",
     "text": [
      "\n",
      "---------------------------------------------------------------------------------\n",
      "Dataset LawDome2006_N20_Core_DSS08_MacFM20042006 ['co2', 'ch4', 'n20', 'icecore', 'antarctica']\n",
      "\n"
     ]
    },
    {
     "data": {
      "text/html": [
       "description: New measurements of atmospheric greenhouse gas concentrations in ice from Law Dome, Antarctica reproduce published Law Dome CO2 and CH4 records, extend them back to 2000 years BP, and include N2O. They have very high air age resolution, data density and measurement precision. Firn air measurements span the past 65 years and overlap with the ice core and direct atmospheric observations. Major increases in CO2, CH4 and N2O concentrations during the past 200 years followed a period of relative stability beforehand. Decadal variations during the industrial period include the stabilization of CO2 and slowing of CH4 and N2O growth in the 1940s and 1950s. Variations of up to 10 ppm CO2, 40 ppb CH4 and 10 ppb N2O occurred throughout the preindustrial period.  Methane concentrations grew by 100 ppb from AD 0 to 1800, possibly due to early anthropogenic emissions."
      ],
      "text/plain": [
       "<IPython.core.display.HTML object>"
      ]
     },
     "metadata": {},
     "output_type": "display_data"
    },
    {
     "data": {
      "text/html": [
       "authors: ['A.M. Smith', 'C.E. Allison', 'C.M. MacFarling Meure', 'C.M. Trudinger', 'D.A. Spencer', 'D.C. Lowe', 'D.F. Ferretti', 'D.M. Etheridge', 'G.A. Sturrock', 'I.G. Enting', 'J. Elkins', 'J.-M. Barnola', 'J.B. Miller', 'J.W.C. White', 'K.R. Lassey', 'L.N. Cooper', 'L.P. Steele', 'L.W. Porter', 'M.F. Dreier', 'M.V. Van der Schoot', 'P.B. Krummel', 'P.J. Fraser', 'P.J. Rayner', 'R.J. Francey', 'R.L. Langenfelds ', 'T.D. van Ommen', 'V.I. Morgan']"
      ],
      "text/plain": [
       "<IPython.core.display.HTML object>"
      ]
     },
     "metadata": {},
     "output_type": "display_data"
    },
    {
     "data": {
      "text/html": [
       "publication_date: 2010"
      ],
      "text/plain": [
       "<IPython.core.display.HTML object>"
      ]
     },
     "metadata": {},
     "output_type": "display_data"
    },
    {
     "data": {
      "text/html": [
       "last_update: 2010-07"
      ],
      "text/plain": [
       "<IPython.core.display.HTML object>"
      ]
     },
     "metadata": {},
     "output_type": "display_data"
    },
    {
     "data": {
      "text/html": [
       "publisher: World Data Center for Paleoclimatology, Boulder and NOAA Paleoclimatology Program"
      ],
      "text/plain": [
       "<IPython.core.display.HTML object>"
      ]
     },
     "metadata": {},
     "output_type": "display_data"
    },
    {
     "data": {
      "text/html": [
       "id: IGBP PAGES/World Data Center for Paleoclimatology Data Contribution Series # 2010-070"
      ],
      "text/plain": [
       "<IPython.core.display.HTML object>"
      ]
     },
     "metadata": {},
     "output_type": "display_data"
    },
    {
     "data": {
      "text/html": [
       "version: "
      ],
      "text/plain": [
       "<IPython.core.display.HTML object>"
      ]
     },
     "metadata": {},
     "output_type": "display_data"
    },
    {
     "data": {
      "text/html": [
       "data_source: https://www.ncei.noaa.gov/pub/data/paleo/icecore/antarctica/law/law2006.txt"
      ],
      "text/plain": [
       "<IPython.core.display.HTML object>"
      ]
     },
     "metadata": {},
     "output_type": "display_data"
    },
    {
     "data": {
      "text/html": [
       "related_publications: ['https://www.ncei.noaa.gov/pub/data/paleo/icecore/antarctica/law/']"
      ],
      "text/plain": [
       "<IPython.core.display.HTML object>"
      ]
     },
     "metadata": {},
     "output_type": "display_data"
    },
    {
     "data": {
      "text/html": [
       "time_interval: ['1 AD', '2004 AD']"
      ],
      "text/plain": [
       "<IPython.core.display.HTML object>"
      ]
     },
     "metadata": {},
     "output_type": "display_data"
    },
    {
     "data": {
      "text/html": [
       "<div>\n",
       "<style scoped>\n",
       "    .dataframe tbody tr th:only-of-type {\n",
       "        vertical-align: middle;\n",
       "    }\n",
       "\n",
       "    .dataframe tbody tr th {\n",
       "        vertical-align: top;\n",
       "    }\n",
       "\n",
       "    .dataframe thead th {\n",
       "        text-align: right;\n",
       "    }\n",
       "</style>\n",
       "<table border=\"1\" class=\"dataframe\">\n",
       "  <thead>\n",
       "    <tr style=\"text-align: right;\">\n",
       "      <th></th>\n",
       "      <th>SampleType</th>\n",
       "      <th>N2OgasAge</th>\n",
       "      <th>N2O(ppb)</th>\n",
       "      <th>Publication</th>\n",
       "    </tr>\n",
       "  </thead>\n",
       "  <tbody>\n",
       "    <tr>\n",
       "      <th>0</th>\n",
       "      <td>DE08</td>\n",
       "      <td>1841.0</td>\n",
       "      <td>270.4</td>\n",
       "      <td>MacFM20042006</td>\n",
       "    </tr>\n",
       "    <tr>\n",
       "      <th>1</th>\n",
       "      <td>DE08</td>\n",
       "      <td>1846.0</td>\n",
       "      <td>270.5</td>\n",
       "      <td>MacFM20042006</td>\n",
       "    </tr>\n",
       "    <tr>\n",
       "      <th>2</th>\n",
       "      <td>DE08</td>\n",
       "      <td>1855.0</td>\n",
       "      <td>270.5</td>\n",
       "      <td>MacFM20042006</td>\n",
       "    </tr>\n",
       "    <tr>\n",
       "      <th>3</th>\n",
       "      <td>DE08</td>\n",
       "      <td>1862.0</td>\n",
       "      <td>272.3</td>\n",
       "      <td>MacFM20042006</td>\n",
       "    </tr>\n",
       "    <tr>\n",
       "      <th>4</th>\n",
       "      <td>DE08</td>\n",
       "      <td>1864.0</td>\n",
       "      <td>272.1</td>\n",
       "      <td>MacFM20042006</td>\n",
       "    </tr>\n",
       "    <tr>\n",
       "      <th>5</th>\n",
       "      <td>DE08</td>\n",
       "      <td>1870.0</td>\n",
       "      <td>272.9</td>\n",
       "      <td>MacFM20042006</td>\n",
       "    </tr>\n",
       "    <tr>\n",
       "      <th>6</th>\n",
       "      <td>DE08</td>\n",
       "      <td>1873.0</td>\n",
       "      <td>272.6</td>\n",
       "      <td>MacFM20042006</td>\n",
       "    </tr>\n",
       "    <tr>\n",
       "      <th>7</th>\n",
       "      <td>DE08</td>\n",
       "      <td>1878.0</td>\n",
       "      <td>275.8</td>\n",
       "      <td>MacFM20042006</td>\n",
       "    </tr>\n",
       "    <tr>\n",
       "      <th>8</th>\n",
       "      <td>DE08</td>\n",
       "      <td>1883.0</td>\n",
       "      <td>275.9</td>\n",
       "      <td>MacFM20042006</td>\n",
       "    </tr>\n",
       "    <tr>\n",
       "      <th>9</th>\n",
       "      <td>DE08</td>\n",
       "      <td>1887.0</td>\n",
       "      <td>278.3</td>\n",
       "      <td>MacFM20042006</td>\n",
       "    </tr>\n",
       "    <tr>\n",
       "      <th>10</th>\n",
       "      <td>DE08</td>\n",
       "      <td>1893.0</td>\n",
       "      <td>277.5</td>\n",
       "      <td>MacFM20042006</td>\n",
       "    </tr>\n",
       "    <tr>\n",
       "      <th>11</th>\n",
       "      <td>DE08</td>\n",
       "      <td>1894.0</td>\n",
       "      <td>278.8</td>\n",
       "      <td>MacFM20042006</td>\n",
       "    </tr>\n",
       "    <tr>\n",
       "      <th>12</th>\n",
       "      <td>DE08</td>\n",
       "      <td>1899.0</td>\n",
       "      <td>276.7</td>\n",
       "      <td>MacFM20042006</td>\n",
       "    </tr>\n",
       "    <tr>\n",
       "      <th>13</th>\n",
       "      <td>DE08</td>\n",
       "      <td>1902.0</td>\n",
       "      <td>276.4</td>\n",
       "      <td>MacFM20042006</td>\n",
       "    </tr>\n",
       "    <tr>\n",
       "      <th>14</th>\n",
       "      <td>DE08</td>\n",
       "      <td>1911.5</td>\n",
       "      <td>280.8</td>\n",
       "      <td>MacFM20042006</td>\n",
       "    </tr>\n",
       "    <tr>\n",
       "      <th>15</th>\n",
       "      <td>DE08</td>\n",
       "      <td>1913.0</td>\n",
       "      <td>282.4</td>\n",
       "      <td>MacFM20042006</td>\n",
       "    </tr>\n",
       "    <tr>\n",
       "      <th>16</th>\n",
       "      <td>DE08</td>\n",
       "      <td>1916.0</td>\n",
       "      <td>282.2</td>\n",
       "      <td>MacFM20042006</td>\n",
       "    </tr>\n",
       "    <tr>\n",
       "      <th>17</th>\n",
       "      <td>DE08</td>\n",
       "      <td>1918.6</td>\n",
       "      <td>285.5</td>\n",
       "      <td>MacFM20042006</td>\n",
       "    </tr>\n",
       "    <tr>\n",
       "      <th>18</th>\n",
       "      <td>DE08</td>\n",
       "      <td>1923.6</td>\n",
       "      <td>286.5</td>\n",
       "      <td>MacFM20042006</td>\n",
       "    </tr>\n",
       "    <tr>\n",
       "      <th>19</th>\n",
       "      <td>DE08</td>\n",
       "      <td>1925.0</td>\n",
       "      <td>283.0</td>\n",
       "      <td>MacFM20042006</td>\n",
       "    </tr>\n",
       "    <tr>\n",
       "      <th>20</th>\n",
       "      <td>DE08</td>\n",
       "      <td>1925.0</td>\n",
       "      <td>283.5</td>\n",
       "      <td>MacFM20042006</td>\n",
       "    </tr>\n",
       "    <tr>\n",
       "      <th>21</th>\n",
       "      <td>DE08</td>\n",
       "      <td>1929.0</td>\n",
       "      <td>285.5</td>\n",
       "      <td>MacFM20042006</td>\n",
       "    </tr>\n",
       "    <tr>\n",
       "      <th>22</th>\n",
       "      <td>DE08</td>\n",
       "      <td>1933.0</td>\n",
       "      <td>285.3</td>\n",
       "      <td>MacFM20042006</td>\n",
       "    </tr>\n",
       "    <tr>\n",
       "      <th>23</th>\n",
       "      <td>DE08</td>\n",
       "      <td>1938.0</td>\n",
       "      <td>285.1</td>\n",
       "      <td>MacFM20042006</td>\n",
       "    </tr>\n",
       "    <tr>\n",
       "      <th>24</th>\n",
       "      <td>DE08</td>\n",
       "      <td>1939.0</td>\n",
       "      <td>286.5</td>\n",
       "      <td>MacFM20042006</td>\n",
       "    </tr>\n",
       "    <tr>\n",
       "      <th>25</th>\n",
       "      <td>DE08</td>\n",
       "      <td>1940.0</td>\n",
       "      <td>287.9</td>\n",
       "      <td>MacFM20042006</td>\n",
       "    </tr>\n",
       "    <tr>\n",
       "      <th>26</th>\n",
       "      <td>DE08</td>\n",
       "      <td>1945.0</td>\n",
       "      <td>286.8</td>\n",
       "      <td>MacFM20042006</td>\n",
       "    </tr>\n",
       "    <tr>\n",
       "      <th>27</th>\n",
       "      <td>DE08</td>\n",
       "      <td>1945.0</td>\n",
       "      <td>287.6</td>\n",
       "      <td>MacFM20042006</td>\n",
       "    </tr>\n",
       "    <tr>\n",
       "      <th>28</th>\n",
       "      <td>DE08</td>\n",
       "      <td>1949.0</td>\n",
       "      <td>286.9</td>\n",
       "      <td>MacFM20042006</td>\n",
       "    </tr>\n",
       "    <tr>\n",
       "      <th>29</th>\n",
       "      <td>DE08</td>\n",
       "      <td>1950.0</td>\n",
       "      <td>287.3</td>\n",
       "      <td>MacFM20042006</td>\n",
       "    </tr>\n",
       "    <tr>\n",
       "      <th>30</th>\n",
       "      <td>DE08</td>\n",
       "      <td>1953.0</td>\n",
       "      <td>286.3</td>\n",
       "      <td>MacFM20042006</td>\n",
       "    </tr>\n",
       "    <tr>\n",
       "      <th>31</th>\n",
       "      <td>DE08</td>\n",
       "      <td>1954.0</td>\n",
       "      <td>288.3</td>\n",
       "      <td>MacFM20042006</td>\n",
       "    </tr>\n",
       "    <tr>\n",
       "      <th>32</th>\n",
       "      <td>DE08</td>\n",
       "      <td>1955.0</td>\n",
       "      <td>290.3</td>\n",
       "      <td>MacFM20042006</td>\n",
       "    </tr>\n",
       "    <tr>\n",
       "      <th>33</th>\n",
       "      <td>DE08</td>\n",
       "      <td>1957.0</td>\n",
       "      <td>292.2</td>\n",
       "      <td>MacFM20042006</td>\n",
       "    </tr>\n",
       "    <tr>\n",
       "      <th>34</th>\n",
       "      <td>DE08</td>\n",
       "      <td>1958.0</td>\n",
       "      <td>292.2</td>\n",
       "      <td>MacFM20042006</td>\n",
       "    </tr>\n",
       "    <tr>\n",
       "      <th>35</th>\n",
       "      <td>DE08</td>\n",
       "      <td>1959.0</td>\n",
       "      <td>292.8</td>\n",
       "      <td>MacFM20042006</td>\n",
       "    </tr>\n",
       "    <tr>\n",
       "      <th>36</th>\n",
       "      <td>DE08</td>\n",
       "      <td>1963.0</td>\n",
       "      <td>294.4</td>\n",
       "      <td>MacFM20042006</td>\n",
       "    </tr>\n",
       "    <tr>\n",
       "      <th>37</th>\n",
       "      <td>DE08</td>\n",
       "      <td>1964.0</td>\n",
       "      <td>293.4</td>\n",
       "      <td>MacFM20042006</td>\n",
       "    </tr>\n",
       "    <tr>\n",
       "      <th>38</th>\n",
       "      <td>DE08</td>\n",
       "      <td>1966.0</td>\n",
       "      <td>292.5</td>\n",
       "      <td>MacFM20042006</td>\n",
       "    </tr>\n",
       "    <tr>\n",
       "      <th>39</th>\n",
       "      <td>DE08</td>\n",
       "      <td>1966.0</td>\n",
       "      <td>292.5</td>\n",
       "      <td>MacFM20042006</td>\n",
       "    </tr>\n",
       "    <tr>\n",
       "      <th>40</th>\n",
       "      <td>DE08</td>\n",
       "      <td>1969.0</td>\n",
       "      <td>292.9</td>\n",
       "      <td>MacFM20042006</td>\n",
       "    </tr>\n",
       "  </tbody>\n",
       "</table>\n",
       "</div>"
      ],
      "text/plain": [
       "   SampleType  N2OgasAge  N2O(ppb)    Publication\n",
       "0        DE08     1841.0     270.4  MacFM20042006\n",
       "1        DE08     1846.0     270.5  MacFM20042006\n",
       "2        DE08     1855.0     270.5  MacFM20042006\n",
       "3        DE08     1862.0     272.3  MacFM20042006\n",
       "4        DE08     1864.0     272.1  MacFM20042006\n",
       "5        DE08     1870.0     272.9  MacFM20042006\n",
       "6        DE08     1873.0     272.6  MacFM20042006\n",
       "7        DE08     1878.0     275.8  MacFM20042006\n",
       "8        DE08     1883.0     275.9  MacFM20042006\n",
       "9        DE08     1887.0     278.3  MacFM20042006\n",
       "10       DE08     1893.0     277.5  MacFM20042006\n",
       "11       DE08     1894.0     278.8  MacFM20042006\n",
       "12       DE08     1899.0     276.7  MacFM20042006\n",
       "13       DE08     1902.0     276.4  MacFM20042006\n",
       "14       DE08     1911.5     280.8  MacFM20042006\n",
       "15       DE08     1913.0     282.4  MacFM20042006\n",
       "16       DE08     1916.0     282.2  MacFM20042006\n",
       "17       DE08     1918.6     285.5  MacFM20042006\n",
       "18       DE08     1923.6     286.5  MacFM20042006\n",
       "19       DE08     1925.0     283.0  MacFM20042006\n",
       "20       DE08     1925.0     283.5  MacFM20042006\n",
       "21       DE08     1929.0     285.5  MacFM20042006\n",
       "22       DE08     1933.0     285.3  MacFM20042006\n",
       "23       DE08     1938.0     285.1  MacFM20042006\n",
       "24       DE08     1939.0     286.5  MacFM20042006\n",
       "25       DE08     1940.0     287.9  MacFM20042006\n",
       "26       DE08     1945.0     286.8  MacFM20042006\n",
       "27       DE08     1945.0     287.6  MacFM20042006\n",
       "28       DE08     1949.0     286.9  MacFM20042006\n",
       "29       DE08     1950.0     287.3  MacFM20042006\n",
       "30       DE08     1953.0     286.3  MacFM20042006\n",
       "31       DE08     1954.0     288.3  MacFM20042006\n",
       "32       DE08     1955.0     290.3  MacFM20042006\n",
       "33       DE08     1957.0     292.2  MacFM20042006\n",
       "34       DE08     1958.0     292.2  MacFM20042006\n",
       "35       DE08     1959.0     292.8  MacFM20042006\n",
       "36       DE08     1963.0     294.4  MacFM20042006\n",
       "37       DE08     1964.0     293.4  MacFM20042006\n",
       "38       DE08     1966.0     292.5  MacFM20042006\n",
       "39       DE08     1966.0     292.5  MacFM20042006\n",
       "40       DE08     1969.0     292.9  MacFM20042006"
      ]
     },
     "metadata": {},
     "output_type": "display_data"
    },
    {
     "name": "stdout",
     "output_type": "stream",
     "text": [
      "\n",
      "---------------------------------------------------------------------------------\n",
      "Dataset LawDome2006_N20_Core_DSSW20Kfirn ['co2', 'ch4', 'n20', 'icecore', 'antarctica']\n",
      "\n"
     ]
    },
    {
     "data": {
      "text/html": [
       "description: New measurements of atmospheric greenhouse gas concentrations in ice from Law Dome, Antarctica reproduce published Law Dome CO2 and CH4 records, extend them back to 2000 years BP, and include N2O. They have very high air age resolution, data density and measurement precision. Firn air measurements span the past 65 years and overlap with the ice core and direct atmospheric observations. Major increases in CO2, CH4 and N2O concentrations during the past 200 years followed a period of relative stability beforehand. Decadal variations during the industrial period include the stabilization of CO2 and slowing of CH4 and N2O growth in the 1940s and 1950s. Variations of up to 10 ppm CO2, 40 ppb CH4 and 10 ppb N2O occurred throughout the preindustrial period.  Methane concentrations grew by 100 ppb from AD 0 to 1800, possibly due to early anthropogenic emissions."
      ],
      "text/plain": [
       "<IPython.core.display.HTML object>"
      ]
     },
     "metadata": {},
     "output_type": "display_data"
    },
    {
     "data": {
      "text/html": [
       "authors: ['A.M. Smith', 'C.E. Allison', 'C.M. MacFarling Meure', 'C.M. Trudinger', 'D.A. Spencer', 'D.C. Lowe', 'D.F. Ferretti', 'D.M. Etheridge', 'G.A. Sturrock', 'I.G. Enting', 'J. Elkins', 'J.-M. Barnola', 'J.B. Miller', 'J.W.C. White', 'K.R. Lassey', 'L.N. Cooper', 'L.P. Steele', 'L.W. Porter', 'M.F. Dreier', 'M.V. Van der Schoot', 'P.B. Krummel', 'P.J. Fraser', 'P.J. Rayner', 'R.J. Francey', 'R.L. Langenfelds ', 'T.D. van Ommen', 'V.I. Morgan']"
      ],
      "text/plain": [
       "<IPython.core.display.HTML object>"
      ]
     },
     "metadata": {},
     "output_type": "display_data"
    },
    {
     "data": {
      "text/html": [
       "publication_date: 2010"
      ],
      "text/plain": [
       "<IPython.core.display.HTML object>"
      ]
     },
     "metadata": {},
     "output_type": "display_data"
    },
    {
     "data": {
      "text/html": [
       "last_update: 2010-07"
      ],
      "text/plain": [
       "<IPython.core.display.HTML object>"
      ]
     },
     "metadata": {},
     "output_type": "display_data"
    },
    {
     "data": {
      "text/html": [
       "publisher: World Data Center for Paleoclimatology, Boulder and NOAA Paleoclimatology Program"
      ],
      "text/plain": [
       "<IPython.core.display.HTML object>"
      ]
     },
     "metadata": {},
     "output_type": "display_data"
    },
    {
     "data": {
      "text/html": [
       "id: IGBP PAGES/World Data Center for Paleoclimatology Data Contribution Series # 2010-070"
      ],
      "text/plain": [
       "<IPython.core.display.HTML object>"
      ]
     },
     "metadata": {},
     "output_type": "display_data"
    },
    {
     "data": {
      "text/html": [
       "version: "
      ],
      "text/plain": [
       "<IPython.core.display.HTML object>"
      ]
     },
     "metadata": {},
     "output_type": "display_data"
    },
    {
     "data": {
      "text/html": [
       "data_source: https://www.ncei.noaa.gov/pub/data/paleo/icecore/antarctica/law/law2006.txt"
      ],
      "text/plain": [
       "<IPython.core.display.HTML object>"
      ]
     },
     "metadata": {},
     "output_type": "display_data"
    },
    {
     "data": {
      "text/html": [
       "related_publications: ['https://www.ncei.noaa.gov/pub/data/paleo/icecore/antarctica/law/']"
      ],
      "text/plain": [
       "<IPython.core.display.HTML object>"
      ]
     },
     "metadata": {},
     "output_type": "display_data"
    },
    {
     "data": {
      "text/html": [
       "time_interval: ['1 AD', '2004 AD']"
      ],
      "text/plain": [
       "<IPython.core.display.HTML object>"
      ]
     },
     "metadata": {},
     "output_type": "display_data"
    },
    {
     "data": {
      "text/html": [
       "<div>\n",
       "<style scoped>\n",
       "    .dataframe tbody tr th:only-of-type {\n",
       "        vertical-align: middle;\n",
       "    }\n",
       "\n",
       "    .dataframe tbody tr th {\n",
       "        vertical-align: top;\n",
       "    }\n",
       "\n",
       "    .dataframe thead th {\n",
       "        text-align: right;\n",
       "    }\n",
       "</style>\n",
       "<table border=\"1\" class=\"dataframe\">\n",
       "  <thead>\n",
       "    <tr style=\"text-align: right;\">\n",
       "      <th></th>\n",
       "      <th>SampleType</th>\n",
       "      <th>N2OgasAge</th>\n",
       "      <th>N2O(ppb)</th>\n",
       "    </tr>\n",
       "  </thead>\n",
       "  <tbody>\n",
       "    <tr>\n",
       "      <th>0</th>\n",
       "      <td>DSSW20Kfirn</td>\n",
       "      <td>1942.1</td>\n",
       "      <td>288.7</td>\n",
       "    </tr>\n",
       "    <tr>\n",
       "      <th>1</th>\n",
       "      <td>DSSW20Kfirn</td>\n",
       "      <td>1962.9</td>\n",
       "      <td>291.2</td>\n",
       "    </tr>\n",
       "    <tr>\n",
       "      <th>2</th>\n",
       "      <td>DSSW20Kfirn</td>\n",
       "      <td>1970.0</td>\n",
       "      <td>295.3</td>\n",
       "    </tr>\n",
       "    <tr>\n",
       "      <th>3</th>\n",
       "      <td>DSSW20Kfirn</td>\n",
       "      <td>1983.7</td>\n",
       "      <td>303.6</td>\n",
       "    </tr>\n",
       "    <tr>\n",
       "      <th>4</th>\n",
       "      <td>DSSW20Kfirn</td>\n",
       "      <td>1989.8</td>\n",
       "      <td>307.5</td>\n",
       "    </tr>\n",
       "    <tr>\n",
       "      <th>5</th>\n",
       "      <td>DSSW20Kfirn</td>\n",
       "      <td>1992.4</td>\n",
       "      <td>309.6</td>\n",
       "    </tr>\n",
       "    <tr>\n",
       "      <th>6</th>\n",
       "      <td>DSSW20Kfirn</td>\n",
       "      <td>1994.5</td>\n",
       "      <td>310.9</td>\n",
       "    </tr>\n",
       "    <tr>\n",
       "      <th>7</th>\n",
       "      <td>DSSW20Kfirn</td>\n",
       "      <td>1996.5</td>\n",
       "      <td>312.3</td>\n",
       "    </tr>\n",
       "  </tbody>\n",
       "</table>\n",
       "</div>"
      ],
      "text/plain": [
       "    SampleType  N2OgasAge  N2O(ppb)\n",
       "0  DSSW20Kfirn     1942.1     288.7\n",
       "1  DSSW20Kfirn     1962.9     291.2\n",
       "2  DSSW20Kfirn     1970.0     295.3\n",
       "3  DSSW20Kfirn     1983.7     303.6\n",
       "4  DSSW20Kfirn     1989.8     307.5\n",
       "5  DSSW20Kfirn     1992.4     309.6\n",
       "6  DSSW20Kfirn     1994.5     310.9\n",
       "7  DSSW20Kfirn     1996.5     312.3"
      ]
     },
     "metadata": {},
     "output_type": "display_data"
    },
    {
     "name": "stdout",
     "output_type": "stream",
     "text": [
      "\n",
      "---------------------------------------------------------------------------------\n",
      "Dataset LawDome2006_N20_Core_CAPEGRIM ['co2', 'ch4', 'n20', 'icecore', 'antarctica']\n",
      "\n"
     ]
    },
    {
     "data": {
      "text/html": [
       "description: New measurements of atmospheric greenhouse gas concentrations in ice from Law Dome, Antarctica reproduce published Law Dome CO2 and CH4 records, extend them back to 2000 years BP, and include N2O. They have very high air age resolution, data density and measurement precision. Firn air measurements span the past 65 years and overlap with the ice core and direct atmospheric observations. Major increases in CO2, CH4 and N2O concentrations during the past 200 years followed a period of relative stability beforehand. Decadal variations during the industrial period include the stabilization of CO2 and slowing of CH4 and N2O growth in the 1940s and 1950s. Variations of up to 10 ppm CO2, 40 ppb CH4 and 10 ppb N2O occurred throughout the preindustrial period.  Methane concentrations grew by 100 ppb from AD 0 to 1800, possibly due to early anthropogenic emissions."
      ],
      "text/plain": [
       "<IPython.core.display.HTML object>"
      ]
     },
     "metadata": {},
     "output_type": "display_data"
    },
    {
     "data": {
      "text/html": [
       "authors: ['A.M. Smith', 'C.E. Allison', 'C.M. MacFarling Meure', 'C.M. Trudinger', 'D.A. Spencer', 'D.C. Lowe', 'D.F. Ferretti', 'D.M. Etheridge', 'G.A. Sturrock', 'I.G. Enting', 'J. Elkins', 'J.-M. Barnola', 'J.B. Miller', 'J.W.C. White', 'K.R. Lassey', 'L.N. Cooper', 'L.P. Steele', 'L.W. Porter', 'M.F. Dreier', 'M.V. Van der Schoot', 'P.B. Krummel', 'P.J. Fraser', 'P.J. Rayner', 'R.J. Francey', 'R.L. Langenfelds ', 'T.D. van Ommen', 'V.I. Morgan']"
      ],
      "text/plain": [
       "<IPython.core.display.HTML object>"
      ]
     },
     "metadata": {},
     "output_type": "display_data"
    },
    {
     "data": {
      "text/html": [
       "publication_date: 2010"
      ],
      "text/plain": [
       "<IPython.core.display.HTML object>"
      ]
     },
     "metadata": {},
     "output_type": "display_data"
    },
    {
     "data": {
      "text/html": [
       "last_update: 2010-07"
      ],
      "text/plain": [
       "<IPython.core.display.HTML object>"
      ]
     },
     "metadata": {},
     "output_type": "display_data"
    },
    {
     "data": {
      "text/html": [
       "publisher: World Data Center for Paleoclimatology, Boulder and NOAA Paleoclimatology Program"
      ],
      "text/plain": [
       "<IPython.core.display.HTML object>"
      ]
     },
     "metadata": {},
     "output_type": "display_data"
    },
    {
     "data": {
      "text/html": [
       "id: IGBP PAGES/World Data Center for Paleoclimatology Data Contribution Series # 2010-070"
      ],
      "text/plain": [
       "<IPython.core.display.HTML object>"
      ]
     },
     "metadata": {},
     "output_type": "display_data"
    },
    {
     "data": {
      "text/html": [
       "version: "
      ],
      "text/plain": [
       "<IPython.core.display.HTML object>"
      ]
     },
     "metadata": {},
     "output_type": "display_data"
    },
    {
     "data": {
      "text/html": [
       "data_source: https://www.ncei.noaa.gov/pub/data/paleo/icecore/antarctica/law/law2006.txt"
      ],
      "text/plain": [
       "<IPython.core.display.HTML object>"
      ]
     },
     "metadata": {},
     "output_type": "display_data"
    },
    {
     "data": {
      "text/html": [
       "related_publications: ['https://www.ncei.noaa.gov/pub/data/paleo/icecore/antarctica/law/']"
      ],
      "text/plain": [
       "<IPython.core.display.HTML object>"
      ]
     },
     "metadata": {},
     "output_type": "display_data"
    },
    {
     "data": {
      "text/html": [
       "time_interval: ['1 AD', '2004 AD']"
      ],
      "text/plain": [
       "<IPython.core.display.HTML object>"
      ]
     },
     "metadata": {},
     "output_type": "display_data"
    },
    {
     "data": {
      "text/html": [
       "<div>\n",
       "<style scoped>\n",
       "    .dataframe tbody tr th:only-of-type {\n",
       "        vertical-align: middle;\n",
       "    }\n",
       "\n",
       "    .dataframe tbody tr th {\n",
       "        vertical-align: top;\n",
       "    }\n",
       "\n",
       "    .dataframe thead th {\n",
       "        text-align: right;\n",
       "    }\n",
       "</style>\n",
       "<table border=\"1\" class=\"dataframe\">\n",
       "  <thead>\n",
       "    <tr style=\"text-align: right;\">\n",
       "      <th></th>\n",
       "      <th>SampleType</th>\n",
       "      <th>N2OgasAge</th>\n",
       "      <th>N2O(ppb)</th>\n",
       "    </tr>\n",
       "  </thead>\n",
       "  <tbody>\n",
       "    <tr>\n",
       "      <th>0</th>\n",
       "      <td>CAPEGRIM</td>\n",
       "      <td>1993</td>\n",
       "      <td>310.0</td>\n",
       "    </tr>\n",
       "    <tr>\n",
       "      <th>1</th>\n",
       "      <td>CAPEGRIM</td>\n",
       "      <td>1994</td>\n",
       "      <td>310.5</td>\n",
       "    </tr>\n",
       "    <tr>\n",
       "      <th>2</th>\n",
       "      <td>CAPEGRIM</td>\n",
       "      <td>1995</td>\n",
       "      <td>311.1</td>\n",
       "    </tr>\n",
       "    <tr>\n",
       "      <th>3</th>\n",
       "      <td>CAPEGRIM</td>\n",
       "      <td>1996</td>\n",
       "      <td>311.8</td>\n",
       "    </tr>\n",
       "    <tr>\n",
       "      <th>4</th>\n",
       "      <td>CAPEGRIM</td>\n",
       "      <td>1997</td>\n",
       "      <td>312.9</td>\n",
       "    </tr>\n",
       "    <tr>\n",
       "      <th>5</th>\n",
       "      <td>CAPEGRIM</td>\n",
       "      <td>1998</td>\n",
       "      <td>313.7</td>\n",
       "    </tr>\n",
       "    <tr>\n",
       "      <th>6</th>\n",
       "      <td>CAPEGRIM</td>\n",
       "      <td>1999</td>\n",
       "      <td>314.7</td>\n",
       "    </tr>\n",
       "    <tr>\n",
       "      <th>7</th>\n",
       "      <td>CAPEGRIM</td>\n",
       "      <td>2000</td>\n",
       "      <td>315.6</td>\n",
       "    </tr>\n",
       "    <tr>\n",
       "      <th>8</th>\n",
       "      <td>CAPEGRIM</td>\n",
       "      <td>2001</td>\n",
       "      <td>316.2</td>\n",
       "    </tr>\n",
       "    <tr>\n",
       "      <th>9</th>\n",
       "      <td>CAPEGRIM</td>\n",
       "      <td>2002</td>\n",
       "      <td>317.0</td>\n",
       "    </tr>\n",
       "    <tr>\n",
       "      <th>10</th>\n",
       "      <td>CAPEGRIM</td>\n",
       "      <td>2003</td>\n",
       "      <td>317.5</td>\n",
       "    </tr>\n",
       "    <tr>\n",
       "      <th>11</th>\n",
       "      <td>CAPEGRIM</td>\n",
       "      <td>2004</td>\n",
       "      <td>318.7</td>\n",
       "    </tr>\n",
       "  </tbody>\n",
       "</table>\n",
       "</div>"
      ],
      "text/plain": [
       "   SampleType  N2OgasAge  N2O(ppb)\n",
       "0    CAPEGRIM       1993     310.0\n",
       "1    CAPEGRIM       1994     310.5\n",
       "2    CAPEGRIM       1995     311.1\n",
       "3    CAPEGRIM       1996     311.8\n",
       "4    CAPEGRIM       1997     312.9\n",
       "5    CAPEGRIM       1998     313.7\n",
       "6    CAPEGRIM       1999     314.7\n",
       "7    CAPEGRIM       2000     315.6\n",
       "8    CAPEGRIM       2001     316.2\n",
       "9    CAPEGRIM       2002     317.0\n",
       "10   CAPEGRIM       2003     317.5\n",
       "11   CAPEGRIM       2004     318.7"
      ]
     },
     "metadata": {},
     "output_type": "display_data"
    },
    {
     "name": "stdout",
     "output_type": "stream",
     "text": [
      "\n",
      "---------------------------------------------------------------------------------\n",
      "Dataset LawDome2006_N20_All ['co2', 'ch4', 'n20', 'icecore', 'antarctica']\n",
      "\n"
     ]
    },
    {
     "data": {
      "text/html": [
       "description: New measurements of atmospheric greenhouse gas concentrations in ice from Law Dome, Antarctica reproduce published Law Dome CO2 and CH4 records, extend them back to 2000 years BP, and include N2O. They have very high air age resolution, data density and measurement precision. Firn air measurements span the past 65 years and overlap with the ice core and direct atmospheric observations. Major increases in CO2, CH4 and N2O concentrations during the past 200 years followed a period of relative stability beforehand. Decadal variations during the industrial period include the stabilization of CO2 and slowing of CH4 and N2O growth in the 1940s and 1950s. Variations of up to 10 ppm CO2, 40 ppb CH4 and 10 ppb N2O occurred throughout the preindustrial period.  Methane concentrations grew by 100 ppb from AD 0 to 1800, possibly due to early anthropogenic emissions."
      ],
      "text/plain": [
       "<IPython.core.display.HTML object>"
      ]
     },
     "metadata": {},
     "output_type": "display_data"
    },
    {
     "data": {
      "text/html": [
       "authors: ['A.M. Smith', 'C.E. Allison', 'C.M. MacFarling Meure', 'C.M. Trudinger', 'D.A. Spencer', 'D.C. Lowe', 'D.F. Ferretti', 'D.M. Etheridge', 'G.A. Sturrock', 'I.G. Enting', 'J. Elkins', 'J.-M. Barnola', 'J.B. Miller', 'J.W.C. White', 'K.R. Lassey', 'L.N. Cooper', 'L.P. Steele', 'L.W. Porter', 'M.F. Dreier', 'M.V. Van der Schoot', 'P.B. Krummel', 'P.J. Fraser', 'P.J. Rayner', 'R.J. Francey', 'R.L. Langenfelds ', 'T.D. van Ommen', 'V.I. Morgan']"
      ],
      "text/plain": [
       "<IPython.core.display.HTML object>"
      ]
     },
     "metadata": {},
     "output_type": "display_data"
    },
    {
     "data": {
      "text/html": [
       "publication_date: 2010"
      ],
      "text/plain": [
       "<IPython.core.display.HTML object>"
      ]
     },
     "metadata": {},
     "output_type": "display_data"
    },
    {
     "data": {
      "text/html": [
       "last_update: 2010-07"
      ],
      "text/plain": [
       "<IPython.core.display.HTML object>"
      ]
     },
     "metadata": {},
     "output_type": "display_data"
    },
    {
     "data": {
      "text/html": [
       "publisher: World Data Center for Paleoclimatology, Boulder and NOAA Paleoclimatology Program"
      ],
      "text/plain": [
       "<IPython.core.display.HTML object>"
      ]
     },
     "metadata": {},
     "output_type": "display_data"
    },
    {
     "data": {
      "text/html": [
       "id: IGBP PAGES/World Data Center for Paleoclimatology Data Contribution Series # 2010-070"
      ],
      "text/plain": [
       "<IPython.core.display.HTML object>"
      ]
     },
     "metadata": {},
     "output_type": "display_data"
    },
    {
     "data": {
      "text/html": [
       "version: "
      ],
      "text/plain": [
       "<IPython.core.display.HTML object>"
      ]
     },
     "metadata": {},
     "output_type": "display_data"
    },
    {
     "data": {
      "text/html": [
       "data_source: https://www.ncei.noaa.gov/pub/data/paleo/icecore/antarctica/law/law2006.txt"
      ],
      "text/plain": [
       "<IPython.core.display.HTML object>"
      ]
     },
     "metadata": {},
     "output_type": "display_data"
    },
    {
     "data": {
      "text/html": [
       "related_publications: ['https://www.ncei.noaa.gov/pub/data/paleo/icecore/antarctica/law/']"
      ],
      "text/plain": [
       "<IPython.core.display.HTML object>"
      ]
     },
     "metadata": {},
     "output_type": "display_data"
    },
    {
     "data": {
      "text/html": [
       "time_interval: ['1 AD', '2004 AD']"
      ],
      "text/plain": [
       "<IPython.core.display.HTML object>"
      ]
     },
     "metadata": {},
     "output_type": "display_data"
    },
    {
     "data": {
      "text/html": [
       "<div>\n",
       "<style scoped>\n",
       "    .dataframe tbody tr th:only-of-type {\n",
       "        vertical-align: middle;\n",
       "    }\n",
       "\n",
       "    .dataframe tbody tr th {\n",
       "        vertical-align: top;\n",
       "    }\n",
       "\n",
       "    .dataframe thead th {\n",
       "        text-align: right;\n",
       "    }\n",
       "</style>\n",
       "<table border=\"1\" class=\"dataframe\">\n",
       "  <thead>\n",
       "    <tr style=\"text-align: right;\">\n",
       "      <th></th>\n",
       "      <th>SampleType</th>\n",
       "      <th>N2OgasAge</th>\n",
       "      <th>N2O(ppb)</th>\n",
       "      <th>Publication</th>\n",
       "    </tr>\n",
       "  </thead>\n",
       "  <tbody>\n",
       "    <tr>\n",
       "      <th>0</th>\n",
       "      <td>CAPEGRIM</td>\n",
       "      <td>2004.0</td>\n",
       "      <td>318.7</td>\n",
       "      <td>None</td>\n",
       "    </tr>\n",
       "    <tr>\n",
       "      <th>1</th>\n",
       "      <td>CAPEGRIM</td>\n",
       "      <td>2003.0</td>\n",
       "      <td>317.5</td>\n",
       "      <td>None</td>\n",
       "    </tr>\n",
       "    <tr>\n",
       "      <th>2</th>\n",
       "      <td>CAPEGRIM</td>\n",
       "      <td>2002.0</td>\n",
       "      <td>317.0</td>\n",
       "      <td>None</td>\n",
       "    </tr>\n",
       "    <tr>\n",
       "      <th>3</th>\n",
       "      <td>CAPEGRIM</td>\n",
       "      <td>2001.0</td>\n",
       "      <td>316.2</td>\n",
       "      <td>None</td>\n",
       "    </tr>\n",
       "    <tr>\n",
       "      <th>4</th>\n",
       "      <td>CAPEGRIM</td>\n",
       "      <td>2000.0</td>\n",
       "      <td>315.6</td>\n",
       "      <td>None</td>\n",
       "    </tr>\n",
       "    <tr>\n",
       "      <th>...</th>\n",
       "      <td>...</td>\n",
       "      <td>...</td>\n",
       "      <td>...</td>\n",
       "      <td>...</td>\n",
       "    </tr>\n",
       "    <tr>\n",
       "      <th>118</th>\n",
       "      <td>DSS</td>\n",
       "      <td>168.3</td>\n",
       "      <td>265.1</td>\n",
       "      <td>MacFM20042006</td>\n",
       "    </tr>\n",
       "    <tr>\n",
       "      <th>119</th>\n",
       "      <td>DSS</td>\n",
       "      <td>136.0</td>\n",
       "      <td>266.1</td>\n",
       "      <td>MacFM20042006</td>\n",
       "    </tr>\n",
       "    <tr>\n",
       "      <th>120</th>\n",
       "      <td>DSS</td>\n",
       "      <td>56.0</td>\n",
       "      <td>264.2</td>\n",
       "      <td>MacFM20042006</td>\n",
       "    </tr>\n",
       "    <tr>\n",
       "      <th>121</th>\n",
       "      <td>DSS</td>\n",
       "      <td>29.5</td>\n",
       "      <td>263.1</td>\n",
       "      <td>MacFM20042006</td>\n",
       "    </tr>\n",
       "    <tr>\n",
       "      <th>122</th>\n",
       "      <td>DSS</td>\n",
       "      <td>13.3</td>\n",
       "      <td>264.2</td>\n",
       "      <td>MacFM20042006</td>\n",
       "    </tr>\n",
       "  </tbody>\n",
       "</table>\n",
       "<p>123 rows × 4 columns</p>\n",
       "</div>"
      ],
      "text/plain": [
       "    SampleType  N2OgasAge  N2O(ppb)    Publication\n",
       "0     CAPEGRIM     2004.0     318.7           None\n",
       "1     CAPEGRIM     2003.0     317.5           None\n",
       "2     CAPEGRIM     2002.0     317.0           None\n",
       "3     CAPEGRIM     2001.0     316.2           None\n",
       "4     CAPEGRIM     2000.0     315.6           None\n",
       "..         ...        ...       ...            ...\n",
       "118        DSS      168.3     265.1  MacFM20042006\n",
       "119        DSS      136.0     266.1  MacFM20042006\n",
       "120        DSS       56.0     264.2  MacFM20042006\n",
       "121        DSS       29.5     263.1  MacFM20042006\n",
       "122        DSS       13.3     264.2  MacFM20042006\n",
       "\n",
       "[123 rows x 4 columns]"
      ]
     },
     "metadata": {},
     "output_type": "display_data"
    },
    {
     "name": "stdout",
     "output_type": "stream",
     "text": [
      "\n",
      "---------------------------------------------------------------------------------\n",
      "Dataset MaunaLoaWeeklyHistoricalCO2 ['co2', 'mauna_loa', 'direct_measurement']\n",
      "\n"
     ]
    },
    {
     "data": {
      "text/html": [
       "description: NOTE: DATA FOR THE LAST SEVERAL MONTHS ARE PRELIMINARY, ARE STILL SUBJECT TO QUALITY CONTROL PROCEDURES. NOTE: The week '1 yr ago' is exactly 365 days ago, and thus does not run from Sunday through Saturday. 365 also ignores the possibility of a leap year. The week '10 yr ago' is exactly 10*365 days +3 days (for leap years) ago."
      ],
      "text/plain": [
       "<IPython.core.display.HTML object>"
      ]
     },
     "metadata": {},
     "output_type": "display_data"
    },
    {
     "data": {
      "text/html": [
       "authors: ['Dr. Pieter Tans', 'Dr. Ralph Keeling']"
      ],
      "text/plain": [
       "<IPython.core.display.HTML object>"
      ]
     },
     "metadata": {},
     "output_type": "display_data"
    },
    {
     "data": {
      "text/html": [
       "publication_date: 2022-07"
      ],
      "text/plain": [
       "<IPython.core.display.HTML object>"
      ]
     },
     "metadata": {},
     "output_type": "display_data"
    },
    {
     "data": {
      "text/html": [
       "last_update: 2022-07"
      ],
      "text/plain": [
       "<IPython.core.display.HTML object>"
      ]
     },
     "metadata": {},
     "output_type": "display_data"
    },
    {
     "data": {
      "text/html": [
       "publisher: Dr. Pieter Tans, NOAA/GML (gml.noaa.gov/ccgg/trends/) and Dr. Ralph Keeling, Scripps Institution of Oceanography (scrippsco2.ucsd.edu/)."
      ],
      "text/plain": [
       "<IPython.core.display.HTML object>"
      ]
     },
     "metadata": {},
     "output_type": "display_data"
    },
    {
     "data": {
      "text/html": [
       "id: "
      ],
      "text/plain": [
       "<IPython.core.display.HTML object>"
      ]
     },
     "metadata": {},
     "output_type": "display_data"
    },
    {
     "data": {
      "text/html": [
       "version: "
      ],
      "text/plain": [
       "<IPython.core.display.HTML object>"
      ]
     },
     "metadata": {},
     "output_type": "display_data"
    },
    {
     "data": {
      "text/html": [
       "data_source: https://gml.noaa.gov/webdata/ccgg/trends/co2/co2_weekly_mlo.csv"
      ],
      "text/plain": [
       "<IPython.core.display.HTML object>"
      ]
     },
     "metadata": {},
     "output_type": "display_data"
    },
    {
     "data": {
      "text/html": [
       "related_publications: ['https://gml.noaa.gov/ccgg/trends/data.html']"
      ],
      "text/plain": [
       "<IPython.core.display.HTML object>"
      ]
     },
     "metadata": {},
     "output_type": "display_data"
    },
    {
     "data": {
      "text/html": [
       "<div>\n",
       "<style scoped>\n",
       "    .dataframe tbody tr th:only-of-type {\n",
       "        vertical-align: middle;\n",
       "    }\n",
       "\n",
       "    .dataframe tbody tr th {\n",
       "        vertical-align: top;\n",
       "    }\n",
       "\n",
       "    .dataframe thead th {\n",
       "        text-align: right;\n",
       "    }\n",
       "</style>\n",
       "<table border=\"1\" class=\"dataframe\">\n",
       "  <thead>\n",
       "    <tr style=\"text-align: right;\">\n",
       "      <th></th>\n",
       "      <th>year</th>\n",
       "      <th>month</th>\n",
       "      <th>day</th>\n",
       "      <th>decimal</th>\n",
       "      <th>average</th>\n",
       "      <th>ndays</th>\n",
       "      <th>1 year ago</th>\n",
       "      <th>10 years ago</th>\n",
       "      <th>increase since 1800</th>\n",
       "    </tr>\n",
       "  </thead>\n",
       "  <tbody>\n",
       "    <tr>\n",
       "      <th>0</th>\n",
       "      <td>1974</td>\n",
       "      <td>5</td>\n",
       "      <td>19</td>\n",
       "      <td>1974.3795</td>\n",
       "      <td>333.37</td>\n",
       "      <td>5</td>\n",
       "      <td>NaN</td>\n",
       "      <td>NaN</td>\n",
       "      <td>50.40</td>\n",
       "    </tr>\n",
       "    <tr>\n",
       "      <th>1</th>\n",
       "      <td>1974</td>\n",
       "      <td>5</td>\n",
       "      <td>26</td>\n",
       "      <td>1974.3986</td>\n",
       "      <td>332.95</td>\n",
       "      <td>6</td>\n",
       "      <td>NaN</td>\n",
       "      <td>NaN</td>\n",
       "      <td>50.06</td>\n",
       "    </tr>\n",
       "    <tr>\n",
       "      <th>2</th>\n",
       "      <td>1974</td>\n",
       "      <td>6</td>\n",
       "      <td>2</td>\n",
       "      <td>1974.4178</td>\n",
       "      <td>332.35</td>\n",
       "      <td>5</td>\n",
       "      <td>NaN</td>\n",
       "      <td>NaN</td>\n",
       "      <td>49.60</td>\n",
       "    </tr>\n",
       "    <tr>\n",
       "      <th>3</th>\n",
       "      <td>1974</td>\n",
       "      <td>6</td>\n",
       "      <td>9</td>\n",
       "      <td>1974.4370</td>\n",
       "      <td>332.20</td>\n",
       "      <td>7</td>\n",
       "      <td>NaN</td>\n",
       "      <td>NaN</td>\n",
       "      <td>49.65</td>\n",
       "    </tr>\n",
       "    <tr>\n",
       "      <th>4</th>\n",
       "      <td>1974</td>\n",
       "      <td>6</td>\n",
       "      <td>16</td>\n",
       "      <td>1974.4562</td>\n",
       "      <td>332.37</td>\n",
       "      <td>7</td>\n",
       "      <td>NaN</td>\n",
       "      <td>NaN</td>\n",
       "      <td>50.06</td>\n",
       "    </tr>\n",
       "    <tr>\n",
       "      <th>...</th>\n",
       "      <td>...</td>\n",
       "      <td>...</td>\n",
       "      <td>...</td>\n",
       "      <td>...</td>\n",
       "      <td>...</td>\n",
       "      <td>...</td>\n",
       "      <td>...</td>\n",
       "      <td>...</td>\n",
       "      <td>...</td>\n",
       "    </tr>\n",
       "    <tr>\n",
       "      <th>2507</th>\n",
       "      <td>2022</td>\n",
       "      <td>6</td>\n",
       "      <td>5</td>\n",
       "      <td>2022.4260</td>\n",
       "      <td>421.30</td>\n",
       "      <td>6</td>\n",
       "      <td>419.61</td>\n",
       "      <td>395.92</td>\n",
       "      <td>138.40</td>\n",
       "    </tr>\n",
       "    <tr>\n",
       "      <th>2508</th>\n",
       "      <td>2022</td>\n",
       "      <td>6</td>\n",
       "      <td>12</td>\n",
       "      <td>2022.4452</td>\n",
       "      <td>421.03</td>\n",
       "      <td>6</td>\n",
       "      <td>419.00</td>\n",
       "      <td>396.07</td>\n",
       "      <td>138.50</td>\n",
       "    </tr>\n",
       "    <tr>\n",
       "      <th>2509</th>\n",
       "      <td>2022</td>\n",
       "      <td>6</td>\n",
       "      <td>19</td>\n",
       "      <td>2022.4644</td>\n",
       "      <td>420.87</td>\n",
       "      <td>7</td>\n",
       "      <td>418.62</td>\n",
       "      <td>395.92</td>\n",
       "      <td>138.77</td>\n",
       "    </tr>\n",
       "    <tr>\n",
       "      <th>2510</th>\n",
       "      <td>2022</td>\n",
       "      <td>6</td>\n",
       "      <td>26</td>\n",
       "      <td>2022.4836</td>\n",
       "      <td>420.31</td>\n",
       "      <td>7</td>\n",
       "      <td>418.14</td>\n",
       "      <td>395.36</td>\n",
       "      <td>138.69</td>\n",
       "    </tr>\n",
       "    <tr>\n",
       "      <th>2511</th>\n",
       "      <td>2022</td>\n",
       "      <td>7</td>\n",
       "      <td>3</td>\n",
       "      <td>2022.5027</td>\n",
       "      <td>419.73</td>\n",
       "      <td>6</td>\n",
       "      <td>417.49</td>\n",
       "      <td>395.15</td>\n",
       "      <td>138.61</td>\n",
       "    </tr>\n",
       "  </tbody>\n",
       "</table>\n",
       "<p>2512 rows × 9 columns</p>\n",
       "</div>"
      ],
      "text/plain": [
       "      year  month  day    decimal  average  ndays  1 year ago  10 years ago  \\\n",
       "0     1974      5   19  1974.3795   333.37      5         NaN           NaN   \n",
       "1     1974      5   26  1974.3986   332.95      6         NaN           NaN   \n",
       "2     1974      6    2  1974.4178   332.35      5         NaN           NaN   \n",
       "3     1974      6    9  1974.4370   332.20      7         NaN           NaN   \n",
       "4     1974      6   16  1974.4562   332.37      7         NaN           NaN   \n",
       "...    ...    ...  ...        ...      ...    ...         ...           ...   \n",
       "2507  2022      6    5  2022.4260   421.30      6      419.61        395.92   \n",
       "2508  2022      6   12  2022.4452   421.03      6      419.00        396.07   \n",
       "2509  2022      6   19  2022.4644   420.87      7      418.62        395.92   \n",
       "2510  2022      6   26  2022.4836   420.31      7      418.14        395.36   \n",
       "2511  2022      7    3  2022.5027   419.73      6      417.49        395.15   \n",
       "\n",
       "      increase since 1800  \n",
       "0                   50.40  \n",
       "1                   50.06  \n",
       "2                   49.60  \n",
       "3                   49.65  \n",
       "4                   50.06  \n",
       "...                   ...  \n",
       "2507               138.40  \n",
       "2508               138.50  \n",
       "2509               138.77  \n",
       "2510               138.69  \n",
       "2511               138.61  \n",
       "\n",
       "[2512 rows x 9 columns]"
      ]
     },
     "metadata": {},
     "output_type": "display_data"
    },
    {
     "name": "stdout",
     "output_type": "stream",
     "text": [
      "\n",
      "---------------------------------------------------------------------------------\n",
      "Dataset geologictimescale ['time_interval_names']\n",
      "\n"
     ]
    },
    {
     "data": {
      "text/html": [
       "description: The geologic time scale, or geological time scale, (GTS) is a representation of time based on the rock record of Earth. It is a system of chronological dating that uses chronostratigraphy (the process of relating strata to time) and geochronology (scientific branch of geology that aims to determine the age of rocks)."
      ],
      "text/plain": [
       "<IPython.core.display.HTML object>"
      ]
     },
     "metadata": {},
     "output_type": "display_data"
    },
    {
     "data": {
      "text/html": [
       "authors: ['Wikipedia']"
      ],
      "text/plain": [
       "<IPython.core.display.HTML object>"
      ]
     },
     "metadata": {},
     "output_type": "display_data"
    },
    {
     "data": {
      "text/html": [
       "publication_date: 2022"
      ],
      "text/plain": [
       "<IPython.core.display.HTML object>"
      ]
     },
     "metadata": {},
     "output_type": "display_data"
    },
    {
     "data": {
      "text/html": [
       "last_update: 2022"
      ],
      "text/plain": [
       "<IPython.core.display.HTML object>"
      ]
     },
     "metadata": {},
     "output_type": "display_data"
    },
    {
     "data": {
      "text/html": [
       "publisher: Wikipedia"
      ],
      "text/plain": [
       "<IPython.core.display.HTML object>"
      ]
     },
     "metadata": {},
     "output_type": "display_data"
    },
    {
     "data": {
      "text/html": [
       "id: "
      ],
      "text/plain": [
       "<IPython.core.display.HTML object>"
      ]
     },
     "metadata": {},
     "output_type": "display_data"
    },
    {
     "data": {
      "text/html": [
       "version: "
      ],
      "text/plain": [
       "<IPython.core.display.HTML object>"
      ]
     },
     "metadata": {},
     "output_type": "display_data"
    },
    {
     "data": {
      "text/html": [
       "data_source: https://en.wikipedia.org/wiki/Geologic_time_scale"
      ],
      "text/plain": [
       "<IPython.core.display.HTML object>"
      ]
     },
     "metadata": {},
     "output_type": "display_data"
    },
    {
     "data": {
      "text/html": [
       "related_publications: ['https://en.wikipedia.org/wiki/Geologic_time_scale']"
      ],
      "text/plain": [
       "<IPython.core.display.HTML object>"
      ]
     },
     "metadata": {},
     "output_type": "display_data"
    },
    {
     "data": {
      "text/html": [
       "<div>\n",
       "<style scoped>\n",
       "    .dataframe tbody tr th:only-of-type {\n",
       "        vertical-align: middle;\n",
       "    }\n",
       "\n",
       "    .dataframe tbody tr th {\n",
       "        vertical-align: top;\n",
       "    }\n",
       "\n",
       "    .dataframe thead th {\n",
       "        text-align: right;\n",
       "    }\n",
       "</style>\n",
       "<table border=\"1\" class=\"dataframe\">\n",
       "  <thead>\n",
       "    <tr style=\"text-align: right;\">\n",
       "      <th></th>\n",
       "      <th>Eonothem/Eon</th>\n",
       "      <th>Erathem/Era</th>\n",
       "      <th>System/Period</th>\n",
       "      <th>Series/Epoch</th>\n",
       "      <th>Stage/Age</th>\n",
       "      <th>Major events</th>\n",
       "      <th>Start, million years ago[note 7]</th>\n",
       "    </tr>\n",
       "  </thead>\n",
       "  <tbody>\n",
       "    <tr>\n",
       "      <th>0</th>\n",
       "      <td>Phanerozoic</td>\n",
       "      <td>Cenozoic[note 4]</td>\n",
       "      <td>Quaternary</td>\n",
       "      <td>Holocene</td>\n",
       "      <td>Meghalayan</td>\n",
       "      <td>4.2-kiloyear event, Austronesian expansion, in...</td>\n",
       "      <td>0.0042 *</td>\n",
       "    </tr>\n",
       "    <tr>\n",
       "      <th>1</th>\n",
       "      <td>Phanerozoic</td>\n",
       "      <td>Cenozoic[note 4]</td>\n",
       "      <td>Quaternary</td>\n",
       "      <td>Holocene</td>\n",
       "      <td>Northgrippian</td>\n",
       "      <td>8.2-kiloyear event, Holocene climatic optimum....</td>\n",
       "      <td>0.0082 *</td>\n",
       "    </tr>\n",
       "    <tr>\n",
       "      <th>2</th>\n",
       "      <td>Phanerozoic</td>\n",
       "      <td>Cenozoic[note 4]</td>\n",
       "      <td>Quaternary</td>\n",
       "      <td>Holocene</td>\n",
       "      <td>Greenlandian</td>\n",
       "      <td>Climate stabilizes. Current interglacial and H...</td>\n",
       "      <td>0.0117 ± 0.000099 *</td>\n",
       "    </tr>\n",
       "    <tr>\n",
       "      <th>3</th>\n",
       "      <td>Phanerozoic</td>\n",
       "      <td>Cenozoic[note 4]</td>\n",
       "      <td>Quaternary</td>\n",
       "      <td>Pleistocene</td>\n",
       "      <td>Upper/Late ('Tarantian')</td>\n",
       "      <td>Eemian interglacial, last glacial period, endi...</td>\n",
       "      <td>0.129</td>\n",
       "    </tr>\n",
       "    <tr>\n",
       "      <th>4</th>\n",
       "      <td>Phanerozoic</td>\n",
       "      <td>Cenozoic[note 4]</td>\n",
       "      <td>Quaternary</td>\n",
       "      <td>Pleistocene</td>\n",
       "      <td>Chibanian</td>\n",
       "      <td>Mid-Pleistocene Transition occurs, high amplit...</td>\n",
       "      <td>0.774 *</td>\n",
       "    </tr>\n",
       "    <tr>\n",
       "      <th>...</th>\n",
       "      <td>...</td>\n",
       "      <td>...</td>\n",
       "      <td>...</td>\n",
       "      <td>...</td>\n",
       "      <td>...</td>\n",
       "      <td>...</td>\n",
       "      <td>...</td>\n",
       "    </tr>\n",
       "    <tr>\n",
       "      <th>112</th>\n",
       "      <td>Archean</td>\n",
       "      <td>Neoarchean</td>\n",
       "      <td>Stabilization of most modern cratons; possible...</td>\n",
       "      <td>Stabilization of most modern cratons; possible...</td>\n",
       "      <td>Stabilization of most modern cratons; possible...</td>\n",
       "      <td>Stabilization of most modern cratons; possible...</td>\n",
       "      <td>2800 [note 11]</td>\n",
       "    </tr>\n",
       "    <tr>\n",
       "      <th>113</th>\n",
       "      <td>Archean</td>\n",
       "      <td>Mesoarchean</td>\n",
       "      <td>First stromatolites (probably colonial phototr...</td>\n",
       "      <td>First stromatolites (probably colonial phototr...</td>\n",
       "      <td>First stromatolites (probably colonial phototr...</td>\n",
       "      <td>First stromatolites (probably colonial phototr...</td>\n",
       "      <td>3200 [note 11]</td>\n",
       "    </tr>\n",
       "    <tr>\n",
       "      <th>114</th>\n",
       "      <td>Archean</td>\n",
       "      <td>Paleoarchean</td>\n",
       "      <td>Prokaryotic archaea (e.g. methanogens) and bac...</td>\n",
       "      <td>Prokaryotic archaea (e.g. methanogens) and bac...</td>\n",
       "      <td>Prokaryotic archaea (e.g. methanogens) and bac...</td>\n",
       "      <td>Prokaryotic archaea (e.g. methanogens) and bac...</td>\n",
       "      <td>3600 [note 11]</td>\n",
       "    </tr>\n",
       "    <tr>\n",
       "      <th>115</th>\n",
       "      <td>Archean</td>\n",
       "      <td>Eoarchean</td>\n",
       "      <td>First uncontroversial living organisms: at fir...</td>\n",
       "      <td>First uncontroversial living organisms: at fir...</td>\n",
       "      <td>First uncontroversial living organisms: at fir...</td>\n",
       "      <td>First uncontroversial living organisms: at fir...</td>\n",
       "      <td>4000 [note 11]</td>\n",
       "    </tr>\n",
       "    <tr>\n",
       "      <th>116</th>\n",
       "      <td>Hadean[note 13]</td>\n",
       "      <td>Formation of protolith of the oldest known roc...</td>\n",
       "      <td>Formation of protolith of the oldest known roc...</td>\n",
       "      <td>Formation of protolith of the oldest known roc...</td>\n",
       "      <td>Formation of protolith of the oldest known roc...</td>\n",
       "      <td>Formation of protolith of the oldest known roc...</td>\n",
       "      <td>~4600 [note 11]</td>\n",
       "    </tr>\n",
       "  </tbody>\n",
       "</table>\n",
       "<p>117 rows × 7 columns</p>\n",
       "</div>"
      ],
      "text/plain": [
       "        Eonothem/Eon                                        Erathem/Era  \\\n",
       "0        Phanerozoic                                   Cenozoic[note 4]   \n",
       "1        Phanerozoic                                   Cenozoic[note 4]   \n",
       "2        Phanerozoic                                   Cenozoic[note 4]   \n",
       "3        Phanerozoic                                   Cenozoic[note 4]   \n",
       "4        Phanerozoic                                   Cenozoic[note 4]   \n",
       "..               ...                                                ...   \n",
       "112          Archean                                         Neoarchean   \n",
       "113          Archean                                        Mesoarchean   \n",
       "114          Archean                                       Paleoarchean   \n",
       "115          Archean                                          Eoarchean   \n",
       "116  Hadean[note 13]  Formation of protolith of the oldest known roc...   \n",
       "\n",
       "                                         System/Period  \\\n",
       "0                                           Quaternary   \n",
       "1                                           Quaternary   \n",
       "2                                           Quaternary   \n",
       "3                                           Quaternary   \n",
       "4                                           Quaternary   \n",
       "..                                                 ...   \n",
       "112  Stabilization of most modern cratons; possible...   \n",
       "113  First stromatolites (probably colonial phototr...   \n",
       "114  Prokaryotic archaea (e.g. methanogens) and bac...   \n",
       "115  First uncontroversial living organisms: at fir...   \n",
       "116  Formation of protolith of the oldest known roc...   \n",
       "\n",
       "                                          Series/Epoch  \\\n",
       "0                                             Holocene   \n",
       "1                                             Holocene   \n",
       "2                                             Holocene   \n",
       "3                                          Pleistocene   \n",
       "4                                          Pleistocene   \n",
       "..                                                 ...   \n",
       "112  Stabilization of most modern cratons; possible...   \n",
       "113  First stromatolites (probably colonial phototr...   \n",
       "114  Prokaryotic archaea (e.g. methanogens) and bac...   \n",
       "115  First uncontroversial living organisms: at fir...   \n",
       "116  Formation of protolith of the oldest known roc...   \n",
       "\n",
       "                                             Stage/Age  \\\n",
       "0                                           Meghalayan   \n",
       "1                                        Northgrippian   \n",
       "2                                         Greenlandian   \n",
       "3                             Upper/Late ('Tarantian')   \n",
       "4                                            Chibanian   \n",
       "..                                                 ...   \n",
       "112  Stabilization of most modern cratons; possible...   \n",
       "113  First stromatolites (probably colonial phototr...   \n",
       "114  Prokaryotic archaea (e.g. methanogens) and bac...   \n",
       "115  First uncontroversial living organisms: at fir...   \n",
       "116  Formation of protolith of the oldest known roc...   \n",
       "\n",
       "                                          Major events  \\\n",
       "0    4.2-kiloyear event, Austronesian expansion, in...   \n",
       "1    8.2-kiloyear event, Holocene climatic optimum....   \n",
       "2    Climate stabilizes. Current interglacial and H...   \n",
       "3    Eemian interglacial, last glacial period, endi...   \n",
       "4    Mid-Pleistocene Transition occurs, high amplit...   \n",
       "..                                                 ...   \n",
       "112  Stabilization of most modern cratons; possible...   \n",
       "113  First stromatolites (probably colonial phototr...   \n",
       "114  Prokaryotic archaea (e.g. methanogens) and bac...   \n",
       "115  First uncontroversial living organisms: at fir...   \n",
       "116  Formation of protolith of the oldest known roc...   \n",
       "\n",
       "    Start, million years ago[note 7]  \n",
       "0                           0.0042 *  \n",
       "1                           0.0082 *  \n",
       "2                0.0117 ± 0.000099 *  \n",
       "3                              0.129  \n",
       "4                            0.774 *  \n",
       "..                               ...  \n",
       "112                   2800 [note 11]  \n",
       "113                   3200 [note 11]  \n",
       "114                   3600 [note 11]  \n",
       "115                   4000 [note 11]  \n",
       "116                  ~4600 [note 11]  \n",
       "\n",
       "[117 rows x 7 columns]"
      ]
     },
     "metadata": {},
     "output_type": "display_data"
    },
    {
     "name": "stdout",
     "output_type": "stream",
     "text": [
      "\n",
      "---------------------------------------------------------------------------------\n",
      "Dataset germany_june_meantemp ['temperature', 'germany', 'direct_measurement', 'summer']\n",
      "\n"
     ]
    },
    {
     "data": {
      "text/html": [
       "description: "
      ],
      "text/plain": [
       "<IPython.core.display.HTML object>"
      ]
     },
     "metadata": {},
     "output_type": "display_data"
    },
    {
     "data": {
      "text/html": [
       "authors: ['DWD OpenData']"
      ],
      "text/plain": [
       "<IPython.core.display.HTML object>"
      ]
     },
     "metadata": {},
     "output_type": "display_data"
    },
    {
     "data": {
      "text/html": [
       "publication_date: 2022-07-02"
      ],
      "text/plain": [
       "<IPython.core.display.HTML object>"
      ]
     },
     "metadata": {},
     "output_type": "display_data"
    },
    {
     "data": {
      "text/html": [
       "publisher: DWD OpenData"
      ],
      "text/plain": [
       "<IPython.core.display.HTML object>"
      ]
     },
     "metadata": {},
     "output_type": "display_data"
    },
    {
     "data": {
      "text/html": [
       "id: "
      ],
      "text/plain": [
       "<IPython.core.display.HTML object>"
      ]
     },
     "metadata": {},
     "output_type": "display_data"
    },
    {
     "data": {
      "text/html": [
       "version: "
      ],
      "text/plain": [
       "<IPython.core.display.HTML object>"
      ]
     },
     "metadata": {},
     "output_type": "display_data"
    },
    {
     "data": {
      "text/html": [
       "data_source: https://opendata.dwd.de/climate_environment/CDC/regional_averages_DE/monthly/air_temperature_mean/regional_averages_tm_06.txt"
      ],
      "text/plain": [
       "<IPython.core.display.HTML object>"
      ]
     },
     "metadata": {},
     "output_type": "display_data"
    },
    {
     "data": {
      "text/html": [
       "related_publications: ['https://opendata.dwd.de/climate_environment/CDC/']"
      ],
      "text/plain": [
       "<IPython.core.display.HTML object>"
      ]
     },
     "metadata": {},
     "output_type": "display_data"
    },
    {
     "data": {
      "text/html": [
       "<div>\n",
       "<style scoped>\n",
       "    .dataframe tbody tr th:only-of-type {\n",
       "        vertical-align: middle;\n",
       "    }\n",
       "\n",
       "    .dataframe tbody tr th {\n",
       "        vertical-align: top;\n",
       "    }\n",
       "\n",
       "    .dataframe thead th {\n",
       "        text-align: right;\n",
       "    }\n",
       "</style>\n",
       "<table border=\"1\" class=\"dataframe\">\n",
       "  <thead>\n",
       "    <tr style=\"text-align: right;\">\n",
       "      <th></th>\n",
       "      <th>Jahr</th>\n",
       "      <th>Monat</th>\n",
       "      <th>Brandenburg/Berlin</th>\n",
       "      <th>Brandenburg</th>\n",
       "      <th>Baden-Wuerttemberg</th>\n",
       "      <th>Bayern</th>\n",
       "      <th>Hessen</th>\n",
       "      <th>Mecklenburg-Vorpommern</th>\n",
       "      <th>Niedersachsen</th>\n",
       "      <th>Niedersachsen/Hamburg/Bremen</th>\n",
       "      <th>Nordrhein-Westfalen</th>\n",
       "      <th>Rheinland-Pfalz</th>\n",
       "      <th>Schleswig-Holstein</th>\n",
       "      <th>Saarland</th>\n",
       "      <th>Sachsen</th>\n",
       "      <th>Sachsen-Anhalt</th>\n",
       "      <th>Thueringen/Sachsen-Anhalt</th>\n",
       "      <th>Thueringen</th>\n",
       "      <th>Deutschland</th>\n",
       "      <th>Unnamed: 19</th>\n",
       "    </tr>\n",
       "  </thead>\n",
       "  <tbody>\n",
       "    <tr>\n",
       "      <th>0</th>\n",
       "      <td>1881</td>\n",
       "      <td>6</td>\n",
       "      <td>15.73</td>\n",
       "      <td>15.71</td>\n",
       "      <td>15.30</td>\n",
       "      <td>14.65</td>\n",
       "      <td>15.30</td>\n",
       "      <td>15.08</td>\n",
       "      <td>14.90</td>\n",
       "      <td>14.90</td>\n",
       "      <td>15.37</td>\n",
       "      <td>15.56</td>\n",
       "      <td>14.80</td>\n",
       "      <td>15.83</td>\n",
       "      <td>14.52</td>\n",
       "      <td>15.46</td>\n",
       "      <td>15.07</td>\n",
       "      <td>14.59</td>\n",
       "      <td>15.08</td>\n",
       "      <td>NaN</td>\n",
       "    </tr>\n",
       "    <tr>\n",
       "      <th>1</th>\n",
       "      <td>1882</td>\n",
       "      <td>6</td>\n",
       "      <td>15.05</td>\n",
       "      <td>15.04</td>\n",
       "      <td>14.06</td>\n",
       "      <td>13.59</td>\n",
       "      <td>14.12</td>\n",
       "      <td>14.92</td>\n",
       "      <td>14.74</td>\n",
       "      <td>14.75</td>\n",
       "      <td>14.53</td>\n",
       "      <td>14.33</td>\n",
       "      <td>15.05</td>\n",
       "      <td>14.51</td>\n",
       "      <td>13.77</td>\n",
       "      <td>14.94</td>\n",
       "      <td>14.44</td>\n",
       "      <td>13.80</td>\n",
       "      <td>14.34</td>\n",
       "      <td>NaN</td>\n",
       "    </tr>\n",
       "    <tr>\n",
       "      <th>2</th>\n",
       "      <td>1883</td>\n",
       "      <td>6</td>\n",
       "      <td>17.38</td>\n",
       "      <td>17.36</td>\n",
       "      <td>15.72</td>\n",
       "      <td>15.47</td>\n",
       "      <td>16.33</td>\n",
       "      <td>16.32</td>\n",
       "      <td>16.26</td>\n",
       "      <td>16.26</td>\n",
       "      <td>16.52</td>\n",
       "      <td>16.40</td>\n",
       "      <td>15.92</td>\n",
       "      <td>16.58</td>\n",
       "      <td>16.52</td>\n",
       "      <td>17.23</td>\n",
       "      <td>16.72</td>\n",
       "      <td>16.07</td>\n",
       "      <td>16.23</td>\n",
       "      <td>NaN</td>\n",
       "    </tr>\n",
       "    <tr>\n",
       "      <th>3</th>\n",
       "      <td>1884</td>\n",
       "      <td>6</td>\n",
       "      <td>14.26</td>\n",
       "      <td>14.25</td>\n",
       "      <td>12.72</td>\n",
       "      <td>12.10</td>\n",
       "      <td>12.88</td>\n",
       "      <td>13.82</td>\n",
       "      <td>13.28</td>\n",
       "      <td>13.29</td>\n",
       "      <td>13.35</td>\n",
       "      <td>13.35</td>\n",
       "      <td>13.69</td>\n",
       "      <td>13.70</td>\n",
       "      <td>12.91</td>\n",
       "      <td>13.77</td>\n",
       "      <td>13.21</td>\n",
       "      <td>12.51</td>\n",
       "      <td>13.09</td>\n",
       "      <td>NaN</td>\n",
       "    </tr>\n",
       "    <tr>\n",
       "      <th>4</th>\n",
       "      <td>1885</td>\n",
       "      <td>6</td>\n",
       "      <td>17.87</td>\n",
       "      <td>17.84</td>\n",
       "      <td>17.16</td>\n",
       "      <td>16.65</td>\n",
       "      <td>16.42</td>\n",
       "      <td>16.16</td>\n",
       "      <td>16.08</td>\n",
       "      <td>16.07</td>\n",
       "      <td>16.57</td>\n",
       "      <td>16.90</td>\n",
       "      <td>15.26</td>\n",
       "      <td>17.27</td>\n",
       "      <td>17.10</td>\n",
       "      <td>17.21</td>\n",
       "      <td>16.75</td>\n",
       "      <td>16.18</td>\n",
       "      <td>16.67</td>\n",
       "      <td>NaN</td>\n",
       "    </tr>\n",
       "    <tr>\n",
       "      <th>...</th>\n",
       "      <td>...</td>\n",
       "      <td>...</td>\n",
       "      <td>...</td>\n",
       "      <td>...</td>\n",
       "      <td>...</td>\n",
       "      <td>...</td>\n",
       "      <td>...</td>\n",
       "      <td>...</td>\n",
       "      <td>...</td>\n",
       "      <td>...</td>\n",
       "      <td>...</td>\n",
       "      <td>...</td>\n",
       "      <td>...</td>\n",
       "      <td>...</td>\n",
       "      <td>...</td>\n",
       "      <td>...</td>\n",
       "      <td>...</td>\n",
       "      <td>...</td>\n",
       "      <td>...</td>\n",
       "      <td>...</td>\n",
       "    </tr>\n",
       "    <tr>\n",
       "      <th>137</th>\n",
       "      <td>2018</td>\n",
       "      <td>6</td>\n",
       "      <td>18.80</td>\n",
       "      <td>18.79</td>\n",
       "      <td>17.70</td>\n",
       "      <td>17.44</td>\n",
       "      <td>17.84</td>\n",
       "      <td>17.63</td>\n",
       "      <td>17.54</td>\n",
       "      <td>17.54</td>\n",
       "      <td>17.51</td>\n",
       "      <td>17.92</td>\n",
       "      <td>16.94</td>\n",
       "      <td>18.16</td>\n",
       "      <td>17.76</td>\n",
       "      <td>18.57</td>\n",
       "      <td>18.06</td>\n",
       "      <td>17.39</td>\n",
       "      <td>17.73</td>\n",
       "      <td>NaN</td>\n",
       "    </tr>\n",
       "    <tr>\n",
       "      <th>138</th>\n",
       "      <td>2019</td>\n",
       "      <td>6</td>\n",
       "      <td>21.91</td>\n",
       "      <td>21.89</td>\n",
       "      <td>19.04</td>\n",
       "      <td>19.60</td>\n",
       "      <td>19.43</td>\n",
       "      <td>19.84</td>\n",
       "      <td>19.32</td>\n",
       "      <td>19.32</td>\n",
       "      <td>19.49</td>\n",
       "      <td>19.47</td>\n",
       "      <td>17.95</td>\n",
       "      <td>19.66</td>\n",
       "      <td>20.94</td>\n",
       "      <td>21.08</td>\n",
       "      <td>20.47</td>\n",
       "      <td>19.66</td>\n",
       "      <td>19.78</td>\n",
       "      <td>NaN</td>\n",
       "    </tr>\n",
       "    <tr>\n",
       "      <th>139</th>\n",
       "      <td>2020</td>\n",
       "      <td>6</td>\n",
       "      <td>18.48</td>\n",
       "      <td>18.45</td>\n",
       "      <td>15.98</td>\n",
       "      <td>15.79</td>\n",
       "      <td>16.64</td>\n",
       "      <td>17.13</td>\n",
       "      <td>17.47</td>\n",
       "      <td>17.48</td>\n",
       "      <td>17.33</td>\n",
       "      <td>16.77</td>\n",
       "      <td>16.87</td>\n",
       "      <td>16.81</td>\n",
       "      <td>17.18</td>\n",
       "      <td>18.10</td>\n",
       "      <td>17.32</td>\n",
       "      <td>16.31</td>\n",
       "      <td>16.89</td>\n",
       "      <td>NaN</td>\n",
       "    </tr>\n",
       "    <tr>\n",
       "      <th>140</th>\n",
       "      <td>2021</td>\n",
       "      <td>6</td>\n",
       "      <td>20.37</td>\n",
       "      <td>20.35</td>\n",
       "      <td>18.56</td>\n",
       "      <td>18.56</td>\n",
       "      <td>19.00</td>\n",
       "      <td>19.04</td>\n",
       "      <td>18.80</td>\n",
       "      <td>18.80</td>\n",
       "      <td>19.03</td>\n",
       "      <td>19.00</td>\n",
       "      <td>17.89</td>\n",
       "      <td>19.34</td>\n",
       "      <td>19.32</td>\n",
       "      <td>19.98</td>\n",
       "      <td>19.40</td>\n",
       "      <td>18.64</td>\n",
       "      <td>18.98</td>\n",
       "      <td>NaN</td>\n",
       "    </tr>\n",
       "    <tr>\n",
       "      <th>141</th>\n",
       "      <td>2022</td>\n",
       "      <td>6</td>\n",
       "      <td>19.46</td>\n",
       "      <td>19.44</td>\n",
       "      <td>18.77</td>\n",
       "      <td>18.65</td>\n",
       "      <td>18.38</td>\n",
       "      <td>17.55</td>\n",
       "      <td>17.52</td>\n",
       "      <td>17.51</td>\n",
       "      <td>17.77</td>\n",
       "      <td>18.55</td>\n",
       "      <td>16.20</td>\n",
       "      <td>18.89</td>\n",
       "      <td>18.94</td>\n",
       "      <td>19.21</td>\n",
       "      <td>18.84</td>\n",
       "      <td>18.35</td>\n",
       "      <td>18.33</td>\n",
       "      <td>NaN</td>\n",
       "    </tr>\n",
       "  </tbody>\n",
       "</table>\n",
       "<p>142 rows × 20 columns</p>\n",
       "</div>"
      ],
      "text/plain": [
       "     Jahr  Monat  Brandenburg/Berlin  Brandenburg  Baden-Wuerttemberg  Bayern  \\\n",
       "0    1881      6               15.73        15.71               15.30   14.65   \n",
       "1    1882      6               15.05        15.04               14.06   13.59   \n",
       "2    1883      6               17.38        17.36               15.72   15.47   \n",
       "3    1884      6               14.26        14.25               12.72   12.10   \n",
       "4    1885      6               17.87        17.84               17.16   16.65   \n",
       "..    ...    ...                 ...          ...                 ...     ...   \n",
       "137  2018      6               18.80        18.79               17.70   17.44   \n",
       "138  2019      6               21.91        21.89               19.04   19.60   \n",
       "139  2020      6               18.48        18.45               15.98   15.79   \n",
       "140  2021      6               20.37        20.35               18.56   18.56   \n",
       "141  2022      6               19.46        19.44               18.77   18.65   \n",
       "\n",
       "     Hessen  Mecklenburg-Vorpommern  Niedersachsen  \\\n",
       "0     15.30                   15.08          14.90   \n",
       "1     14.12                   14.92          14.74   \n",
       "2     16.33                   16.32          16.26   \n",
       "3     12.88                   13.82          13.28   \n",
       "4     16.42                   16.16          16.08   \n",
       "..      ...                     ...            ...   \n",
       "137   17.84                   17.63          17.54   \n",
       "138   19.43                   19.84          19.32   \n",
       "139   16.64                   17.13          17.47   \n",
       "140   19.00                   19.04          18.80   \n",
       "141   18.38                   17.55          17.52   \n",
       "\n",
       "     Niedersachsen/Hamburg/Bremen  Nordrhein-Westfalen  Rheinland-Pfalz  \\\n",
       "0                           14.90                15.37            15.56   \n",
       "1                           14.75                14.53            14.33   \n",
       "2                           16.26                16.52            16.40   \n",
       "3                           13.29                13.35            13.35   \n",
       "4                           16.07                16.57            16.90   \n",
       "..                            ...                  ...              ...   \n",
       "137                         17.54                17.51            17.92   \n",
       "138                         19.32                19.49            19.47   \n",
       "139                         17.48                17.33            16.77   \n",
       "140                         18.80                19.03            19.00   \n",
       "141                         17.51                17.77            18.55   \n",
       "\n",
       "     Schleswig-Holstein  Saarland  Sachsen  Sachsen-Anhalt  \\\n",
       "0                 14.80     15.83    14.52           15.46   \n",
       "1                 15.05     14.51    13.77           14.94   \n",
       "2                 15.92     16.58    16.52           17.23   \n",
       "3                 13.69     13.70    12.91           13.77   \n",
       "4                 15.26     17.27    17.10           17.21   \n",
       "..                  ...       ...      ...             ...   \n",
       "137               16.94     18.16    17.76           18.57   \n",
       "138               17.95     19.66    20.94           21.08   \n",
       "139               16.87     16.81    17.18           18.10   \n",
       "140               17.89     19.34    19.32           19.98   \n",
       "141               16.20     18.89    18.94           19.21   \n",
       "\n",
       "     Thueringen/Sachsen-Anhalt  Thueringen  Deutschland  Unnamed: 19  \n",
       "0                        15.07       14.59        15.08          NaN  \n",
       "1                        14.44       13.80        14.34          NaN  \n",
       "2                        16.72       16.07        16.23          NaN  \n",
       "3                        13.21       12.51        13.09          NaN  \n",
       "4                        16.75       16.18        16.67          NaN  \n",
       "..                         ...         ...          ...          ...  \n",
       "137                      18.06       17.39        17.73          NaN  \n",
       "138                      20.47       19.66        19.78          NaN  \n",
       "139                      17.32       16.31        16.89          NaN  \n",
       "140                      19.40       18.64        18.98          NaN  \n",
       "141                      18.84       18.35        18.33          NaN  \n",
       "\n",
       "[142 rows x 20 columns]"
      ]
     },
     "metadata": {},
     "output_type": "display_data"
    },
    {
     "name": "stdout",
     "output_type": "stream",
     "text": [
      "\n",
      "---------------------------------------------------------------------------------\n",
      "Dataset sunspots11000yrs ['sunspots']\n",
      "\n"
     ]
    },
    {
     "data": {
      "text/html": [
       "description: Records of changes in solar irradiance, volcanic aerosols, atmospheric trace gases, and other properties thought to influence climate in the past. Parameter keywords describe what was measured in this data set. Additional summary information can be found in the abstracts of papers listed in the data set citations."
      ],
      "text/plain": [
       "<IPython.core.display.HTML object>"
      ]
     },
     "metadata": {},
     "output_type": "display_data"
    },
    {
     "data": {
      "text/html": [
       "authors: ['Solanki, S.K.', 'Usoskin, I.G.', 'Kromer, B.', 'Schuessler, M.', 'Beer, J.']"
      ],
      "text/plain": [
       "<IPython.core.display.HTML object>"
      ]
     },
     "metadata": {},
     "output_type": "display_data"
    },
    {
     "data": {
      "text/html": [
       "publication_date: 2004-10-28"
      ],
      "text/plain": [
       "<IPython.core.display.HTML object>"
      ]
     },
     "metadata": {},
     "output_type": "display_data"
    },
    {
     "data": {
      "text/html": [
       "last_update: 2005-02"
      ],
      "text/plain": [
       "<IPython.core.display.HTML object>"
      ]
     },
     "metadata": {},
     "output_type": "display_data"
    },
    {
     "data": {
      "text/html": [
       "publisher: Environmental Research Letters, 11, 2, 024001"
      ],
      "text/plain": [
       "<IPython.core.display.HTML object>"
      ]
     },
     "metadata": {},
     "output_type": "display_data"
    },
    {
     "data": {
      "text/html": [
       "id: https://doi.org/10.25921/y6td-ne29"
      ],
      "text/plain": [
       "<IPython.core.display.HTML object>"
      ]
     },
     "metadata": {},
     "output_type": "display_data"
    },
    {
     "data": {
      "text/html": [
       "version: "
      ],
      "text/plain": [
       "<IPython.core.display.HTML object>"
      ]
     },
     "metadata": {},
     "output_type": "display_data"
    },
    {
     "data": {
      "text/html": [
       "data_source: https://www.ncei.noaa.gov/pub/data/paleo/climate_forcing/solar_variability/solanki2004-ssn.txt"
      ],
      "text/plain": [
       "<IPython.core.display.HTML object>"
      ]
     },
     "metadata": {},
     "output_type": "display_data"
    },
    {
     "data": {
      "text/html": [
       "related_publications: ['https://www.ncei.noaa.gov/access/paleo-search/study/5780']"
      ],
      "text/plain": [
       "<IPython.core.display.HTML object>"
      ]
     },
     "metadata": {},
     "output_type": "display_data"
    },
    {
     "data": {
      "text/html": [
       "<div>\n",
       "<style scoped>\n",
       "    .dataframe tbody tr th:only-of-type {\n",
       "        vertical-align: middle;\n",
       "    }\n",
       "\n",
       "    .dataframe tbody tr th {\n",
       "        vertical-align: top;\n",
       "    }\n",
       "\n",
       "    .dataframe thead th {\n",
       "        text-align: right;\n",
       "    }\n",
       "</style>\n",
       "<table border=\"1\" class=\"dataframe\">\n",
       "  <thead>\n",
       "    <tr style=\"text-align: right;\">\n",
       "      <th></th>\n",
       "      <th>YearBP</th>\n",
       "      <th>SN</th>\n",
       "      <th>sigma</th>\n",
       "    </tr>\n",
       "  </thead>\n",
       "  <tbody>\n",
       "    <tr>\n",
       "      <th>0</th>\n",
       "      <td>11405</td>\n",
       "      <td>37.4</td>\n",
       "      <td>20.7</td>\n",
       "    </tr>\n",
       "    <tr>\n",
       "      <th>1</th>\n",
       "      <td>11395</td>\n",
       "      <td>57.1</td>\n",
       "      <td>20.1</td>\n",
       "    </tr>\n",
       "    <tr>\n",
       "      <th>2</th>\n",
       "      <td>11385</td>\n",
       "      <td>89.0</td>\n",
       "      <td>32.1</td>\n",
       "    </tr>\n",
       "    <tr>\n",
       "      <th>3</th>\n",
       "      <td>11375</td>\n",
       "      <td>92.5</td>\n",
       "      <td>34.5</td>\n",
       "    </tr>\n",
       "    <tr>\n",
       "      <th>4</th>\n",
       "      <td>11365</td>\n",
       "      <td>75.2</td>\n",
       "      <td>29.9</td>\n",
       "    </tr>\n",
       "    <tr>\n",
       "      <th>...</th>\n",
       "      <td>...</td>\n",
       "      <td>...</td>\n",
       "      <td>...</td>\n",
       "    </tr>\n",
       "    <tr>\n",
       "      <th>1131</th>\n",
       "      <td>95</td>\n",
       "      <td>48.7</td>\n",
       "      <td>8.5</td>\n",
       "    </tr>\n",
       "    <tr>\n",
       "      <th>1132</th>\n",
       "      <td>85</td>\n",
       "      <td>55.0</td>\n",
       "      <td>12.7</td>\n",
       "    </tr>\n",
       "    <tr>\n",
       "      <th>1133</th>\n",
       "      <td>75</td>\n",
       "      <td>40.0</td>\n",
       "      <td>13.3</td>\n",
       "    </tr>\n",
       "    <tr>\n",
       "      <th>1134</th>\n",
       "      <td>65</td>\n",
       "      <td>27.0</td>\n",
       "      <td>9.4</td>\n",
       "    </tr>\n",
       "    <tr>\n",
       "      <th>1135</th>\n",
       "      <td>55</td>\n",
       "      <td>28.7</td>\n",
       "      <td>9.9</td>\n",
       "    </tr>\n",
       "  </tbody>\n",
       "</table>\n",
       "<p>1136 rows × 3 columns</p>\n",
       "</div>"
      ],
      "text/plain": [
       "      YearBP    SN  sigma\n",
       "0      11405  37.4   20.7\n",
       "1      11395  57.1   20.1\n",
       "2      11385  89.0   32.1\n",
       "3      11375  92.5   34.5\n",
       "4      11365  75.2   29.9\n",
       "...      ...   ...    ...\n",
       "1131      95  48.7    8.5\n",
       "1132      85  55.0   12.7\n",
       "1133      75  40.0   13.3\n",
       "1134      65  27.0    9.4\n",
       "1135      55  28.7    9.9\n",
       "\n",
       "[1136 rows x 3 columns]"
      ]
     },
     "metadata": {},
     "output_type": "display_data"
    },
    {
     "name": "stdout",
     "output_type": "stream",
     "text": [
      "\n",
      "---------------------------------------------------------------------------------\n",
      "Dataset germany_august_meantemp ['temperature', 'germany', 'direct_measurement', 'summer']\n",
      "\n"
     ]
    },
    {
     "data": {
      "text/html": [
       "description: "
      ],
      "text/plain": [
       "<IPython.core.display.HTML object>"
      ]
     },
     "metadata": {},
     "output_type": "display_data"
    },
    {
     "data": {
      "text/html": [
       "authors: ['DWD OpenData']"
      ],
      "text/plain": [
       "<IPython.core.display.HTML object>"
      ]
     },
     "metadata": {},
     "output_type": "display_data"
    },
    {
     "data": {
      "text/html": [
       "publication_date: 2022-07-02"
      ],
      "text/plain": [
       "<IPython.core.display.HTML object>"
      ]
     },
     "metadata": {},
     "output_type": "display_data"
    },
    {
     "data": {
      "text/html": [
       "publisher: DWD OpenData"
      ],
      "text/plain": [
       "<IPython.core.display.HTML object>"
      ]
     },
     "metadata": {},
     "output_type": "display_data"
    },
    {
     "data": {
      "text/html": [
       "id: "
      ],
      "text/plain": [
       "<IPython.core.display.HTML object>"
      ]
     },
     "metadata": {},
     "output_type": "display_data"
    },
    {
     "data": {
      "text/html": [
       "version: "
      ],
      "text/plain": [
       "<IPython.core.display.HTML object>"
      ]
     },
     "metadata": {},
     "output_type": "display_data"
    },
    {
     "data": {
      "text/html": [
       "data_source: https://opendata.dwd.de/climate_environment/CDC/regional_averages_DE/monthly/air_temperature_mean/regional_averages_tm_08.txt"
      ],
      "text/plain": [
       "<IPython.core.display.HTML object>"
      ]
     },
     "metadata": {},
     "output_type": "display_data"
    },
    {
     "data": {
      "text/html": [
       "related_publications: ['https://opendata.dwd.de/climate_environment/CDC/']"
      ],
      "text/plain": [
       "<IPython.core.display.HTML object>"
      ]
     },
     "metadata": {},
     "output_type": "display_data"
    },
    {
     "data": {
      "text/html": [
       "<div>\n",
       "<style scoped>\n",
       "    .dataframe tbody tr th:only-of-type {\n",
       "        vertical-align: middle;\n",
       "    }\n",
       "\n",
       "    .dataframe tbody tr th {\n",
       "        vertical-align: top;\n",
       "    }\n",
       "\n",
       "    .dataframe thead th {\n",
       "        text-align: right;\n",
       "    }\n",
       "</style>\n",
       "<table border=\"1\" class=\"dataframe\">\n",
       "  <thead>\n",
       "    <tr style=\"text-align: right;\">\n",
       "      <th></th>\n",
       "      <th>Jahr</th>\n",
       "      <th>Monat</th>\n",
       "      <th>Brandenburg/Berlin</th>\n",
       "      <th>Brandenburg</th>\n",
       "      <th>Baden-Wuerttemberg</th>\n",
       "      <th>Bayern</th>\n",
       "      <th>Hessen</th>\n",
       "      <th>Mecklenburg-Vorpommern</th>\n",
       "      <th>Niedersachsen</th>\n",
       "      <th>Niedersachsen/Hamburg/Bremen</th>\n",
       "      <th>Nordrhein-Westfalen</th>\n",
       "      <th>Rheinland-Pfalz</th>\n",
       "      <th>Schleswig-Holstein</th>\n",
       "      <th>Saarland</th>\n",
       "      <th>Sachsen</th>\n",
       "      <th>Sachsen-Anhalt</th>\n",
       "      <th>Thueringen/Sachsen-Anhalt</th>\n",
       "      <th>Thueringen</th>\n",
       "      <th>Deutschland</th>\n",
       "      <th>Unnamed: 19</th>\n",
       "    </tr>\n",
       "  </thead>\n",
       "  <tbody>\n",
       "    <tr>\n",
       "      <th>0</th>\n",
       "      <td>1881</td>\n",
       "      <td>8</td>\n",
       "      <td>16.48</td>\n",
       "      <td>16.47</td>\n",
       "      <td>16.70</td>\n",
       "      <td>16.11</td>\n",
       "      <td>15.80</td>\n",
       "      <td>15.37</td>\n",
       "      <td>15.42</td>\n",
       "      <td>15.42</td>\n",
       "      <td>15.58</td>\n",
       "      <td>16.14</td>\n",
       "      <td>15.16</td>\n",
       "      <td>16.46</td>\n",
       "      <td>15.83</td>\n",
       "      <td>16.08</td>\n",
       "      <td>15.70</td>\n",
       "      <td>15.21</td>\n",
       "      <td>15.90</td>\n",
       "      <td>NaN</td>\n",
       "    </tr>\n",
       "    <tr>\n",
       "      <th>1</th>\n",
       "      <td>1882</td>\n",
       "      <td>8</td>\n",
       "      <td>15.89</td>\n",
       "      <td>15.88</td>\n",
       "      <td>14.84</td>\n",
       "      <td>14.03</td>\n",
       "      <td>14.63</td>\n",
       "      <td>15.73</td>\n",
       "      <td>15.14</td>\n",
       "      <td>15.15</td>\n",
       "      <td>15.05</td>\n",
       "      <td>15.05</td>\n",
       "      <td>15.68</td>\n",
       "      <td>15.34</td>\n",
       "      <td>14.36</td>\n",
       "      <td>15.26</td>\n",
       "      <td>14.67</td>\n",
       "      <td>13.92</td>\n",
       "      <td>14.89</td>\n",
       "      <td>NaN</td>\n",
       "    </tr>\n",
       "    <tr>\n",
       "      <th>2</th>\n",
       "      <td>1883</td>\n",
       "      <td>8</td>\n",
       "      <td>16.90</td>\n",
       "      <td>16.89</td>\n",
       "      <td>15.89</td>\n",
       "      <td>15.16</td>\n",
       "      <td>15.90</td>\n",
       "      <td>15.98</td>\n",
       "      <td>15.97</td>\n",
       "      <td>15.97</td>\n",
       "      <td>16.15</td>\n",
       "      <td>16.13</td>\n",
       "      <td>15.83</td>\n",
       "      <td>16.44</td>\n",
       "      <td>15.87</td>\n",
       "      <td>16.59</td>\n",
       "      <td>16.04</td>\n",
       "      <td>15.36</td>\n",
       "      <td>15.90</td>\n",
       "      <td>NaN</td>\n",
       "    </tr>\n",
       "    <tr>\n",
       "      <th>3</th>\n",
       "      <td>1884</td>\n",
       "      <td>8</td>\n",
       "      <td>17.54</td>\n",
       "      <td>17.52</td>\n",
       "      <td>17.27</td>\n",
       "      <td>16.24</td>\n",
       "      <td>16.97</td>\n",
       "      <td>17.05</td>\n",
       "      <td>17.23</td>\n",
       "      <td>17.23</td>\n",
       "      <td>17.66</td>\n",
       "      <td>17.57</td>\n",
       "      <td>17.06</td>\n",
       "      <td>17.99</td>\n",
       "      <td>16.53</td>\n",
       "      <td>17.25</td>\n",
       "      <td>16.71</td>\n",
       "      <td>16.02</td>\n",
       "      <td>17.01</td>\n",
       "      <td>NaN</td>\n",
       "    </tr>\n",
       "    <tr>\n",
       "      <th>4</th>\n",
       "      <td>1885</td>\n",
       "      <td>8</td>\n",
       "      <td>15.18</td>\n",
       "      <td>15.18</td>\n",
       "      <td>15.32</td>\n",
       "      <td>14.56</td>\n",
       "      <td>14.27</td>\n",
       "      <td>14.36</td>\n",
       "      <td>14.12</td>\n",
       "      <td>14.12</td>\n",
       "      <td>14.43</td>\n",
       "      <td>14.73</td>\n",
       "      <td>14.12</td>\n",
       "      <td>15.15</td>\n",
       "      <td>14.51</td>\n",
       "      <td>14.81</td>\n",
       "      <td>14.34</td>\n",
       "      <td>13.75</td>\n",
       "      <td>14.56</td>\n",
       "      <td>NaN</td>\n",
       "    </tr>\n",
       "    <tr>\n",
       "      <th>...</th>\n",
       "      <td>...</td>\n",
       "      <td>...</td>\n",
       "      <td>...</td>\n",
       "      <td>...</td>\n",
       "      <td>...</td>\n",
       "      <td>...</td>\n",
       "      <td>...</td>\n",
       "      <td>...</td>\n",
       "      <td>...</td>\n",
       "      <td>...</td>\n",
       "      <td>...</td>\n",
       "      <td>...</td>\n",
       "      <td>...</td>\n",
       "      <td>...</td>\n",
       "      <td>...</td>\n",
       "      <td>...</td>\n",
       "      <td>...</td>\n",
       "      <td>...</td>\n",
       "      <td>...</td>\n",
       "      <td>...</td>\n",
       "    </tr>\n",
       "    <tr>\n",
       "      <th>136</th>\n",
       "      <td>2017</td>\n",
       "      <td>8</td>\n",
       "      <td>18.55</td>\n",
       "      <td>18.53</td>\n",
       "      <td>18.40</td>\n",
       "      <td>18.22</td>\n",
       "      <td>17.57</td>\n",
       "      <td>17.62</td>\n",
       "      <td>17.15</td>\n",
       "      <td>17.15</td>\n",
       "      <td>17.44</td>\n",
       "      <td>17.90</td>\n",
       "      <td>16.67</td>\n",
       "      <td>18.15</td>\n",
       "      <td>18.34</td>\n",
       "      <td>18.28</td>\n",
       "      <td>17.98</td>\n",
       "      <td>17.60</td>\n",
       "      <td>17.87</td>\n",
       "      <td>NaN</td>\n",
       "    </tr>\n",
       "    <tr>\n",
       "      <th>137</th>\n",
       "      <td>2018</td>\n",
       "      <td>8</td>\n",
       "      <td>20.94</td>\n",
       "      <td>20.92</td>\n",
       "      <td>20.00</td>\n",
       "      <td>19.91</td>\n",
       "      <td>19.95</td>\n",
       "      <td>19.73</td>\n",
       "      <td>19.36</td>\n",
       "      <td>19.36</td>\n",
       "      <td>19.57</td>\n",
       "      <td>19.83</td>\n",
       "      <td>18.59</td>\n",
       "      <td>19.84</td>\n",
       "      <td>20.68</td>\n",
       "      <td>20.67</td>\n",
       "      <td>20.27</td>\n",
       "      <td>19.75</td>\n",
       "      <td>19.91</td>\n",
       "      <td>NaN</td>\n",
       "    </tr>\n",
       "    <tr>\n",
       "      <th>138</th>\n",
       "      <td>2019</td>\n",
       "      <td>8</td>\n",
       "      <td>20.43</td>\n",
       "      <td>20.41</td>\n",
       "      <td>18.54</td>\n",
       "      <td>18.42</td>\n",
       "      <td>18.93</td>\n",
       "      <td>19.32</td>\n",
       "      <td>19.08</td>\n",
       "      <td>19.08</td>\n",
       "      <td>19.03</td>\n",
       "      <td>19.14</td>\n",
       "      <td>18.31</td>\n",
       "      <td>19.43</td>\n",
       "      <td>19.64</td>\n",
       "      <td>20.15</td>\n",
       "      <td>19.57</td>\n",
       "      <td>18.80</td>\n",
       "      <td>19.06</td>\n",
       "      <td>NaN</td>\n",
       "    </tr>\n",
       "    <tr>\n",
       "      <th>139</th>\n",
       "      <td>2020</td>\n",
       "      <td>8</td>\n",
       "      <td>21.10</td>\n",
       "      <td>21.08</td>\n",
       "      <td>19.43</td>\n",
       "      <td>18.93</td>\n",
       "      <td>20.01</td>\n",
       "      <td>19.92</td>\n",
       "      <td>20.16</td>\n",
       "      <td>20.16</td>\n",
       "      <td>20.38</td>\n",
       "      <td>20.56</td>\n",
       "      <td>19.55</td>\n",
       "      <td>20.94</td>\n",
       "      <td>20.22</td>\n",
       "      <td>20.97</td>\n",
       "      <td>20.38</td>\n",
       "      <td>19.63</td>\n",
       "      <td>19.95</td>\n",
       "      <td>NaN</td>\n",
       "    </tr>\n",
       "    <tr>\n",
       "      <th>140</th>\n",
       "      <td>2021</td>\n",
       "      <td>8</td>\n",
       "      <td>17.26</td>\n",
       "      <td>17.24</td>\n",
       "      <td>16.24</td>\n",
       "      <td>15.93</td>\n",
       "      <td>16.13</td>\n",
       "      <td>16.65</td>\n",
       "      <td>16.62</td>\n",
       "      <td>16.62</td>\n",
       "      <td>16.42</td>\n",
       "      <td>16.43</td>\n",
       "      <td>16.36</td>\n",
       "      <td>16.72</td>\n",
       "      <td>16.28</td>\n",
       "      <td>17.03</td>\n",
       "      <td>16.45</td>\n",
       "      <td>15.69</td>\n",
       "      <td>16.40</td>\n",
       "      <td>NaN</td>\n",
       "    </tr>\n",
       "  </tbody>\n",
       "</table>\n",
       "<p>141 rows × 20 columns</p>\n",
       "</div>"
      ],
      "text/plain": [
       "     Jahr  Monat  Brandenburg/Berlin  Brandenburg  Baden-Wuerttemberg  Bayern  \\\n",
       "0    1881      8               16.48        16.47               16.70   16.11   \n",
       "1    1882      8               15.89        15.88               14.84   14.03   \n",
       "2    1883      8               16.90        16.89               15.89   15.16   \n",
       "3    1884      8               17.54        17.52               17.27   16.24   \n",
       "4    1885      8               15.18        15.18               15.32   14.56   \n",
       "..    ...    ...                 ...          ...                 ...     ...   \n",
       "136  2017      8               18.55        18.53               18.40   18.22   \n",
       "137  2018      8               20.94        20.92               20.00   19.91   \n",
       "138  2019      8               20.43        20.41               18.54   18.42   \n",
       "139  2020      8               21.10        21.08               19.43   18.93   \n",
       "140  2021      8               17.26        17.24               16.24   15.93   \n",
       "\n",
       "     Hessen  Mecklenburg-Vorpommern  Niedersachsen  \\\n",
       "0     15.80                   15.37          15.42   \n",
       "1     14.63                   15.73          15.14   \n",
       "2     15.90                   15.98          15.97   \n",
       "3     16.97                   17.05          17.23   \n",
       "4     14.27                   14.36          14.12   \n",
       "..      ...                     ...            ...   \n",
       "136   17.57                   17.62          17.15   \n",
       "137   19.95                   19.73          19.36   \n",
       "138   18.93                   19.32          19.08   \n",
       "139   20.01                   19.92          20.16   \n",
       "140   16.13                   16.65          16.62   \n",
       "\n",
       "     Niedersachsen/Hamburg/Bremen  Nordrhein-Westfalen  Rheinland-Pfalz  \\\n",
       "0                           15.42                15.58            16.14   \n",
       "1                           15.15                15.05            15.05   \n",
       "2                           15.97                16.15            16.13   \n",
       "3                           17.23                17.66            17.57   \n",
       "4                           14.12                14.43            14.73   \n",
       "..                            ...                  ...              ...   \n",
       "136                         17.15                17.44            17.90   \n",
       "137                         19.36                19.57            19.83   \n",
       "138                         19.08                19.03            19.14   \n",
       "139                         20.16                20.38            20.56   \n",
       "140                         16.62                16.42            16.43   \n",
       "\n",
       "     Schleswig-Holstein  Saarland  Sachsen  Sachsen-Anhalt  \\\n",
       "0                 15.16     16.46    15.83           16.08   \n",
       "1                 15.68     15.34    14.36           15.26   \n",
       "2                 15.83     16.44    15.87           16.59   \n",
       "3                 17.06     17.99    16.53           17.25   \n",
       "4                 14.12     15.15    14.51           14.81   \n",
       "..                  ...       ...      ...             ...   \n",
       "136               16.67     18.15    18.34           18.28   \n",
       "137               18.59     19.84    20.68           20.67   \n",
       "138               18.31     19.43    19.64           20.15   \n",
       "139               19.55     20.94    20.22           20.97   \n",
       "140               16.36     16.72    16.28           17.03   \n",
       "\n",
       "     Thueringen/Sachsen-Anhalt  Thueringen  Deutschland  Unnamed: 19  \n",
       "0                        15.70       15.21        15.90          NaN  \n",
       "1                        14.67       13.92        14.89          NaN  \n",
       "2                        16.04       15.36        15.90          NaN  \n",
       "3                        16.71       16.02        17.01          NaN  \n",
       "4                        14.34       13.75        14.56          NaN  \n",
       "..                         ...         ...          ...          ...  \n",
       "136                      17.98       17.60        17.87          NaN  \n",
       "137                      20.27       19.75        19.91          NaN  \n",
       "138                      19.57       18.80        19.06          NaN  \n",
       "139                      20.38       19.63        19.95          NaN  \n",
       "140                      16.45       15.69        16.40          NaN  \n",
       "\n",
       "[141 rows x 20 columns]"
      ]
     },
     "metadata": {},
     "output_type": "display_data"
    },
    {
     "name": "stdout",
     "output_type": "stream",
     "text": [
      "\n",
      "---------------------------------------------------------------------------------\n",
      "Dataset germany_july_meantemp ['temperature', 'germany', 'direct_measurement', 'summer']\n",
      "\n"
     ]
    },
    {
     "data": {
      "text/html": [
       "description: "
      ],
      "text/plain": [
       "<IPython.core.display.HTML object>"
      ]
     },
     "metadata": {},
     "output_type": "display_data"
    },
    {
     "data": {
      "text/html": [
       "authors: ['DWD OpenData']"
      ],
      "text/plain": [
       "<IPython.core.display.HTML object>"
      ]
     },
     "metadata": {},
     "output_type": "display_data"
    },
    {
     "data": {
      "text/html": [
       "publication_date: 2022-07-02"
      ],
      "text/plain": [
       "<IPython.core.display.HTML object>"
      ]
     },
     "metadata": {},
     "output_type": "display_data"
    },
    {
     "data": {
      "text/html": [
       "publisher: DWD OpenData"
      ],
      "text/plain": [
       "<IPython.core.display.HTML object>"
      ]
     },
     "metadata": {},
     "output_type": "display_data"
    },
    {
     "data": {
      "text/html": [
       "id: "
      ],
      "text/plain": [
       "<IPython.core.display.HTML object>"
      ]
     },
     "metadata": {},
     "output_type": "display_data"
    },
    {
     "data": {
      "text/html": [
       "version: "
      ],
      "text/plain": [
       "<IPython.core.display.HTML object>"
      ]
     },
     "metadata": {},
     "output_type": "display_data"
    },
    {
     "data": {
      "text/html": [
       "data_source: https://opendata.dwd.de/climate_environment/CDC/regional_averages_DE/monthly/air_temperature_mean/regional_averages_tm_07.txt"
      ],
      "text/plain": [
       "<IPython.core.display.HTML object>"
      ]
     },
     "metadata": {},
     "output_type": "display_data"
    },
    {
     "data": {
      "text/html": [
       "related_publications: ['https://opendata.dwd.de/climate_environment/CDC/']"
      ],
      "text/plain": [
       "<IPython.core.display.HTML object>"
      ]
     },
     "metadata": {},
     "output_type": "display_data"
    },
    {
     "data": {
      "text/html": [
       "<div>\n",
       "<style scoped>\n",
       "    .dataframe tbody tr th:only-of-type {\n",
       "        vertical-align: middle;\n",
       "    }\n",
       "\n",
       "    .dataframe tbody tr th {\n",
       "        vertical-align: top;\n",
       "    }\n",
       "\n",
       "    .dataframe thead th {\n",
       "        text-align: right;\n",
       "    }\n",
       "</style>\n",
       "<table border=\"1\" class=\"dataframe\">\n",
       "  <thead>\n",
       "    <tr style=\"text-align: right;\">\n",
       "      <th></th>\n",
       "      <th>Jahr</th>\n",
       "      <th>Monat</th>\n",
       "      <th>Brandenburg/Berlin</th>\n",
       "      <th>Brandenburg</th>\n",
       "      <th>Baden-Wuerttemberg</th>\n",
       "      <th>Bayern</th>\n",
       "      <th>Hessen</th>\n",
       "      <th>Mecklenburg-Vorpommern</th>\n",
       "      <th>Niedersachsen</th>\n",
       "      <th>Niedersachsen/Hamburg/Bremen</th>\n",
       "      <th>Nordrhein-Westfalen</th>\n",
       "      <th>Rheinland-Pfalz</th>\n",
       "      <th>Schleswig-Holstein</th>\n",
       "      <th>Saarland</th>\n",
       "      <th>Sachsen</th>\n",
       "      <th>Sachsen-Anhalt</th>\n",
       "      <th>Thueringen/Sachsen-Anhalt</th>\n",
       "      <th>Thueringen</th>\n",
       "      <th>Deutschland</th>\n",
       "      <th>Unnamed: 19</th>\n",
       "    </tr>\n",
       "  </thead>\n",
       "  <tbody>\n",
       "    <tr>\n",
       "      <th>0</th>\n",
       "      <td>1881</td>\n",
       "      <td>7</td>\n",
       "      <td>19.19</td>\n",
       "      <td>19.16</td>\n",
       "      <td>19.08</td>\n",
       "      <td>18.40</td>\n",
       "      <td>18.77</td>\n",
       "      <td>17.92</td>\n",
       "      <td>18.40</td>\n",
       "      <td>18.40</td>\n",
       "      <td>19.04</td>\n",
       "      <td>19.01</td>\n",
       "      <td>17.45</td>\n",
       "      <td>19.29</td>\n",
       "      <td>18.25</td>\n",
       "      <td>19.09</td>\n",
       "      <td>18.62</td>\n",
       "      <td>18.04</td>\n",
       "      <td>18.60</td>\n",
       "      <td>NaN</td>\n",
       "    </tr>\n",
       "    <tr>\n",
       "      <th>1</th>\n",
       "      <td>1882</td>\n",
       "      <td>7</td>\n",
       "      <td>18.41</td>\n",
       "      <td>18.39</td>\n",
       "      <td>15.65</td>\n",
       "      <td>15.77</td>\n",
       "      <td>16.32</td>\n",
       "      <td>17.91</td>\n",
       "      <td>17.25</td>\n",
       "      <td>17.26</td>\n",
       "      <td>16.87</td>\n",
       "      <td>16.10</td>\n",
       "      <td>17.56</td>\n",
       "      <td>16.15</td>\n",
       "      <td>17.02</td>\n",
       "      <td>17.85</td>\n",
       "      <td>17.13</td>\n",
       "      <td>16.21</td>\n",
       "      <td>16.76</td>\n",
       "      <td>NaN</td>\n",
       "    </tr>\n",
       "    <tr>\n",
       "      <th>2</th>\n",
       "      <td>1883</td>\n",
       "      <td>7</td>\n",
       "      <td>18.29</td>\n",
       "      <td>18.27</td>\n",
       "      <td>15.99</td>\n",
       "      <td>15.86</td>\n",
       "      <td>16.22</td>\n",
       "      <td>17.69</td>\n",
       "      <td>16.83</td>\n",
       "      <td>16.84</td>\n",
       "      <td>16.44</td>\n",
       "      <td>16.16</td>\n",
       "      <td>17.17</td>\n",
       "      <td>16.24</td>\n",
       "      <td>17.08</td>\n",
       "      <td>17.61</td>\n",
       "      <td>16.94</td>\n",
       "      <td>16.10</td>\n",
       "      <td>16.66</td>\n",
       "      <td>NaN</td>\n",
       "    </tr>\n",
       "    <tr>\n",
       "      <th>3</th>\n",
       "      <td>1884</td>\n",
       "      <td>7</td>\n",
       "      <td>19.19</td>\n",
       "      <td>19.17</td>\n",
       "      <td>18.26</td>\n",
       "      <td>17.70</td>\n",
       "      <td>18.18</td>\n",
       "      <td>18.08</td>\n",
       "      <td>18.10</td>\n",
       "      <td>18.11</td>\n",
       "      <td>18.35</td>\n",
       "      <td>18.63</td>\n",
       "      <td>17.83</td>\n",
       "      <td>18.81</td>\n",
       "      <td>18.32</td>\n",
       "      <td>18.69</td>\n",
       "      <td>18.15</td>\n",
       "      <td>17.47</td>\n",
       "      <td>18.20</td>\n",
       "      <td>NaN</td>\n",
       "    </tr>\n",
       "    <tr>\n",
       "      <th>4</th>\n",
       "      <td>1885</td>\n",
       "      <td>7</td>\n",
       "      <td>18.50</td>\n",
       "      <td>18.49</td>\n",
       "      <td>17.42</td>\n",
       "      <td>16.94</td>\n",
       "      <td>16.83</td>\n",
       "      <td>17.67</td>\n",
       "      <td>17.14</td>\n",
       "      <td>17.15</td>\n",
       "      <td>17.32</td>\n",
       "      <td>17.22</td>\n",
       "      <td>17.20</td>\n",
       "      <td>17.53</td>\n",
       "      <td>17.27</td>\n",
       "      <td>17.87</td>\n",
       "      <td>17.20</td>\n",
       "      <td>16.35</td>\n",
       "      <td>17.30</td>\n",
       "      <td>NaN</td>\n",
       "    </tr>\n",
       "    <tr>\n",
       "      <th>...</th>\n",
       "      <td>...</td>\n",
       "      <td>...</td>\n",
       "      <td>...</td>\n",
       "      <td>...</td>\n",
       "      <td>...</td>\n",
       "      <td>...</td>\n",
       "      <td>...</td>\n",
       "      <td>...</td>\n",
       "      <td>...</td>\n",
       "      <td>...</td>\n",
       "      <td>...</td>\n",
       "      <td>...</td>\n",
       "      <td>...</td>\n",
       "      <td>...</td>\n",
       "      <td>...</td>\n",
       "      <td>...</td>\n",
       "      <td>...</td>\n",
       "      <td>...</td>\n",
       "      <td>...</td>\n",
       "      <td>...</td>\n",
       "    </tr>\n",
       "    <tr>\n",
       "      <th>136</th>\n",
       "      <td>2017</td>\n",
       "      <td>7</td>\n",
       "      <td>18.42</td>\n",
       "      <td>18.41</td>\n",
       "      <td>18.59</td>\n",
       "      <td>18.19</td>\n",
       "      <td>18.19</td>\n",
       "      <td>16.93</td>\n",
       "      <td>17.50</td>\n",
       "      <td>17.49</td>\n",
       "      <td>18.19</td>\n",
       "      <td>18.79</td>\n",
       "      <td>16.47</td>\n",
       "      <td>19.15</td>\n",
       "      <td>18.41</td>\n",
       "      <td>18.49</td>\n",
       "      <td>18.23</td>\n",
       "      <td>17.89</td>\n",
       "      <td>18.06</td>\n",
       "      <td>NaN</td>\n",
       "    </tr>\n",
       "    <tr>\n",
       "      <th>137</th>\n",
       "      <td>2018</td>\n",
       "      <td>7</td>\n",
       "      <td>20.94</td>\n",
       "      <td>20.93</td>\n",
       "      <td>20.11</td>\n",
       "      <td>19.45</td>\n",
       "      <td>20.79</td>\n",
       "      <td>20.23</td>\n",
       "      <td>20.25</td>\n",
       "      <td>20.25</td>\n",
       "      <td>20.91</td>\n",
       "      <td>21.02</td>\n",
       "      <td>19.63</td>\n",
       "      <td>21.39</td>\n",
       "      <td>20.16</td>\n",
       "      <td>21.15</td>\n",
       "      <td>20.66</td>\n",
       "      <td>20.03</td>\n",
       "      <td>20.29</td>\n",
       "      <td>NaN</td>\n",
       "    </tr>\n",
       "    <tr>\n",
       "      <th>138</th>\n",
       "      <td>2019</td>\n",
       "      <td>7</td>\n",
       "      <td>19.39</td>\n",
       "      <td>19.37</td>\n",
       "      <td>19.41</td>\n",
       "      <td>19.04</td>\n",
       "      <td>18.87</td>\n",
       "      <td>18.19</td>\n",
       "      <td>18.48</td>\n",
       "      <td>18.47</td>\n",
       "      <td>18.86</td>\n",
       "      <td>19.56</td>\n",
       "      <td>17.40</td>\n",
       "      <td>20.16</td>\n",
       "      <td>18.97</td>\n",
       "      <td>19.30</td>\n",
       "      <td>18.93</td>\n",
       "      <td>18.45</td>\n",
       "      <td>18.90</td>\n",
       "      <td>NaN</td>\n",
       "    </tr>\n",
       "    <tr>\n",
       "      <th>139</th>\n",
       "      <td>2020</td>\n",
       "      <td>7</td>\n",
       "      <td>18.21</td>\n",
       "      <td>18.20</td>\n",
       "      <td>18.76</td>\n",
       "      <td>18.08</td>\n",
       "      <td>17.90</td>\n",
       "      <td>16.69</td>\n",
       "      <td>16.62</td>\n",
       "      <td>16.62</td>\n",
       "      <td>17.20</td>\n",
       "      <td>18.55</td>\n",
       "      <td>15.77</td>\n",
       "      <td>19.04</td>\n",
       "      <td>18.20</td>\n",
       "      <td>18.08</td>\n",
       "      <td>17.83</td>\n",
       "      <td>17.50</td>\n",
       "      <td>17.69</td>\n",
       "      <td>NaN</td>\n",
       "    </tr>\n",
       "    <tr>\n",
       "      <th>140</th>\n",
       "      <td>2021</td>\n",
       "      <td>7</td>\n",
       "      <td>20.22</td>\n",
       "      <td>20.20</td>\n",
       "      <td>17.55</td>\n",
       "      <td>17.57</td>\n",
       "      <td>17.66</td>\n",
       "      <td>19.64</td>\n",
       "      <td>18.69</td>\n",
       "      <td>18.70</td>\n",
       "      <td>17.96</td>\n",
       "      <td>17.67</td>\n",
       "      <td>18.89</td>\n",
       "      <td>17.76</td>\n",
       "      <td>18.78</td>\n",
       "      <td>19.52</td>\n",
       "      <td>18.74</td>\n",
       "      <td>17.71</td>\n",
       "      <td>18.37</td>\n",
       "      <td>NaN</td>\n",
       "    </tr>\n",
       "  </tbody>\n",
       "</table>\n",
       "<p>141 rows × 20 columns</p>\n",
       "</div>"
      ],
      "text/plain": [
       "     Jahr  Monat  Brandenburg/Berlin  Brandenburg  Baden-Wuerttemberg  Bayern  \\\n",
       "0    1881      7               19.19        19.16               19.08   18.40   \n",
       "1    1882      7               18.41        18.39               15.65   15.77   \n",
       "2    1883      7               18.29        18.27               15.99   15.86   \n",
       "3    1884      7               19.19        19.17               18.26   17.70   \n",
       "4    1885      7               18.50        18.49               17.42   16.94   \n",
       "..    ...    ...                 ...          ...                 ...     ...   \n",
       "136  2017      7               18.42        18.41               18.59   18.19   \n",
       "137  2018      7               20.94        20.93               20.11   19.45   \n",
       "138  2019      7               19.39        19.37               19.41   19.04   \n",
       "139  2020      7               18.21        18.20               18.76   18.08   \n",
       "140  2021      7               20.22        20.20               17.55   17.57   \n",
       "\n",
       "     Hessen  Mecklenburg-Vorpommern  Niedersachsen  \\\n",
       "0     18.77                   17.92          18.40   \n",
       "1     16.32                   17.91          17.25   \n",
       "2     16.22                   17.69          16.83   \n",
       "3     18.18                   18.08          18.10   \n",
       "4     16.83                   17.67          17.14   \n",
       "..      ...                     ...            ...   \n",
       "136   18.19                   16.93          17.50   \n",
       "137   20.79                   20.23          20.25   \n",
       "138   18.87                   18.19          18.48   \n",
       "139   17.90                   16.69          16.62   \n",
       "140   17.66                   19.64          18.69   \n",
       "\n",
       "     Niedersachsen/Hamburg/Bremen  Nordrhein-Westfalen  Rheinland-Pfalz  \\\n",
       "0                           18.40                19.04            19.01   \n",
       "1                           17.26                16.87            16.10   \n",
       "2                           16.84                16.44            16.16   \n",
       "3                           18.11                18.35            18.63   \n",
       "4                           17.15                17.32            17.22   \n",
       "..                            ...                  ...              ...   \n",
       "136                         17.49                18.19            18.79   \n",
       "137                         20.25                20.91            21.02   \n",
       "138                         18.47                18.86            19.56   \n",
       "139                         16.62                17.20            18.55   \n",
       "140                         18.70                17.96            17.67   \n",
       "\n",
       "     Schleswig-Holstein  Saarland  Sachsen  Sachsen-Anhalt  \\\n",
       "0                 17.45     19.29    18.25           19.09   \n",
       "1                 17.56     16.15    17.02           17.85   \n",
       "2                 17.17     16.24    17.08           17.61   \n",
       "3                 17.83     18.81    18.32           18.69   \n",
       "4                 17.20     17.53    17.27           17.87   \n",
       "..                  ...       ...      ...             ...   \n",
       "136               16.47     19.15    18.41           18.49   \n",
       "137               19.63     21.39    20.16           21.15   \n",
       "138               17.40     20.16    18.97           19.30   \n",
       "139               15.77     19.04    18.20           18.08   \n",
       "140               18.89     17.76    18.78           19.52   \n",
       "\n",
       "     Thueringen/Sachsen-Anhalt  Thueringen  Deutschland  Unnamed: 19  \n",
       "0                        18.62       18.04        18.60          NaN  \n",
       "1                        17.13       16.21        16.76          NaN  \n",
       "2                        16.94       16.10        16.66          NaN  \n",
       "3                        18.15       17.47        18.20          NaN  \n",
       "4                        17.20       16.35        17.30          NaN  \n",
       "..                         ...         ...          ...          ...  \n",
       "136                      18.23       17.89        18.06          NaN  \n",
       "137                      20.66       20.03        20.29          NaN  \n",
       "138                      18.93       18.45        18.90          NaN  \n",
       "139                      17.83       17.50        17.69          NaN  \n",
       "140                      18.74       17.71        18.37          NaN  \n",
       "\n",
       "[141 rows x 20 columns]"
      ]
     },
     "metadata": {},
     "output_type": "display_data"
    },
    {
     "name": "stdout",
     "output_type": "stream",
     "text": [
      "\n",
      "---------------------------------------------------------------------------------\n",
      "Dataset sunspotsmonthlymean1749 ['sunspots', 'direct_measurement']\n",
      "\n"
     ]
    },
    {
     "data": {
      "text/html": [
       "description: Monthly mean total sunspot number obtained by taking a simple arithmetic mean of the daily total sunspot number over all days of each calendar month. Monthly means are available only since 1749 because the original observations compiled by Rudolph Wolf were too sparse before that year. (Only yearly means are available back to 1700) A value of -1 indicates that no number is available (missing value)."
      ],
      "text/plain": [
       "<IPython.core.display.HTML object>"
      ]
     },
     "metadata": {},
     "output_type": "display_data"
    },
    {
     "data": {
      "text/html": [
       "authors: ['Rudolph Wolf', 'Royal Observatory of Belgium']"
      ],
      "text/plain": [
       "<IPython.core.display.HTML object>"
      ]
     },
     "metadata": {},
     "output_type": "display_data"
    },
    {
     "data": {
      "text/html": [
       "publication_date: 2022-06"
      ],
      "text/plain": [
       "<IPython.core.display.HTML object>"
      ]
     },
     "metadata": {},
     "output_type": "display_data"
    },
    {
     "data": {
      "text/html": [
       "last_update: 2022-06"
      ],
      "text/plain": [
       "<IPython.core.display.HTML object>"
      ]
     },
     "metadata": {},
     "output_type": "display_data"
    },
    {
     "data": {
      "text/html": [
       "publisher: WDC-SILSO, Royal Observatory of Belgium, Brussels"
      ],
      "text/plain": [
       "<IPython.core.display.HTML object>"
      ]
     },
     "metadata": {},
     "output_type": "display_data"
    },
    {
     "data": {
      "text/html": [
       "id: "
      ],
      "text/plain": [
       "<IPython.core.display.HTML object>"
      ]
     },
     "metadata": {},
     "output_type": "display_data"
    },
    {
     "data": {
      "text/html": [
       "version: "
      ],
      "text/plain": [
       "<IPython.core.display.HTML object>"
      ]
     },
     "metadata": {},
     "output_type": "display_data"
    },
    {
     "data": {
      "text/html": [
       "data_source: https://www.sidc.be/silso/DATA/SN_m_tot_V2.0.txt"
      ],
      "text/plain": [
       "<IPython.core.display.HTML object>"
      ]
     },
     "metadata": {},
     "output_type": "display_data"
    },
    {
     "data": {
      "text/html": [
       "related_publications: ['https://www.sidc.be/silso/infosnmtot']"
      ],
      "text/plain": [
       "<IPython.core.display.HTML object>"
      ]
     },
     "metadata": {},
     "output_type": "display_data"
    },
    {
     "data": {
      "text/html": [
       "<div>\n",
       "<style scoped>\n",
       "    .dataframe tbody tr th:only-of-type {\n",
       "        vertical-align: middle;\n",
       "    }\n",
       "\n",
       "    .dataframe tbody tr th {\n",
       "        vertical-align: top;\n",
       "    }\n",
       "\n",
       "    .dataframe thead th {\n",
       "        text-align: right;\n",
       "    }\n",
       "</style>\n",
       "<table border=\"1\" class=\"dataframe\">\n",
       "  <thead>\n",
       "    <tr style=\"text-align: right;\">\n",
       "      <th></th>\n",
       "      <th>Year</th>\n",
       "      <th>Month</th>\n",
       "      <th>FracYear</th>\n",
       "      <th>MonthlyMean</th>\n",
       "      <th>StdDev</th>\n",
       "      <th>ObsCount</th>\n",
       "    </tr>\n",
       "  </thead>\n",
       "  <tbody>\n",
       "    <tr>\n",
       "      <th>0</th>\n",
       "      <td>1749</td>\n",
       "      <td>1</td>\n",
       "      <td>1749.042</td>\n",
       "      <td>96.7</td>\n",
       "      <td>NaN</td>\n",
       "      <td>NaN</td>\n",
       "    </tr>\n",
       "    <tr>\n",
       "      <th>1</th>\n",
       "      <td>1749</td>\n",
       "      <td>2</td>\n",
       "      <td>1749.123</td>\n",
       "      <td>104.3</td>\n",
       "      <td>NaN</td>\n",
       "      <td>NaN</td>\n",
       "    </tr>\n",
       "    <tr>\n",
       "      <th>2</th>\n",
       "      <td>1749</td>\n",
       "      <td>3</td>\n",
       "      <td>1749.204</td>\n",
       "      <td>116.7</td>\n",
       "      <td>NaN</td>\n",
       "      <td>NaN</td>\n",
       "    </tr>\n",
       "    <tr>\n",
       "      <th>3</th>\n",
       "      <td>1749</td>\n",
       "      <td>4</td>\n",
       "      <td>1749.288</td>\n",
       "      <td>92.8</td>\n",
       "      <td>NaN</td>\n",
       "      <td>NaN</td>\n",
       "    </tr>\n",
       "    <tr>\n",
       "      <th>4</th>\n",
       "      <td>1749</td>\n",
       "      <td>5</td>\n",
       "      <td>1749.371</td>\n",
       "      <td>141.7</td>\n",
       "      <td>NaN</td>\n",
       "      <td>NaN</td>\n",
       "    </tr>\n",
       "    <tr>\n",
       "      <th>...</th>\n",
       "      <td>...</td>\n",
       "      <td>...</td>\n",
       "      <td>...</td>\n",
       "      <td>...</td>\n",
       "      <td>...</td>\n",
       "      <td>...</td>\n",
       "    </tr>\n",
       "    <tr>\n",
       "      <th>3277</th>\n",
       "      <td>2022</td>\n",
       "      <td>2</td>\n",
       "      <td>2022.122</td>\n",
       "      <td>59.7</td>\n",
       "      <td>13.1</td>\n",
       "      <td>1044.0</td>\n",
       "    </tr>\n",
       "    <tr>\n",
       "      <th>3278</th>\n",
       "      <td>2022</td>\n",
       "      <td>3</td>\n",
       "      <td>2022.204</td>\n",
       "      <td>78.5</td>\n",
       "      <td>13.9</td>\n",
       "      <td>1277.0</td>\n",
       "    </tr>\n",
       "    <tr>\n",
       "      <th>3279</th>\n",
       "      <td>2022</td>\n",
       "      <td>4</td>\n",
       "      <td>2022.286</td>\n",
       "      <td>84.1</td>\n",
       "      <td>15.2</td>\n",
       "      <td>1237.0</td>\n",
       "    </tr>\n",
       "    <tr>\n",
       "      <th>3280</th>\n",
       "      <td>2022</td>\n",
       "      <td>5</td>\n",
       "      <td>2022.371</td>\n",
       "      <td>96.5</td>\n",
       "      <td>16.0</td>\n",
       "      <td>1250.0</td>\n",
       "    </tr>\n",
       "    <tr>\n",
       "      <th>3281</th>\n",
       "      <td>2022</td>\n",
       "      <td>6</td>\n",
       "      <td>2022.453</td>\n",
       "      <td>70.5</td>\n",
       "      <td>12.9</td>\n",
       "      <td>1219.0</td>\n",
       "    </tr>\n",
       "  </tbody>\n",
       "</table>\n",
       "<p>3282 rows × 6 columns</p>\n",
       "</div>"
      ],
      "text/plain": [
       "      Year  Month  FracYear  MonthlyMean  StdDev  ObsCount\n",
       "0     1749      1  1749.042         96.7     NaN       NaN\n",
       "1     1749      2  1749.123        104.3     NaN       NaN\n",
       "2     1749      3  1749.204        116.7     NaN       NaN\n",
       "3     1749      4  1749.288         92.8     NaN       NaN\n",
       "4     1749      5  1749.371        141.7     NaN       NaN\n",
       "...    ...    ...       ...          ...     ...       ...\n",
       "3277  2022      2  2022.122         59.7    13.1    1044.0\n",
       "3278  2022      3  2022.204         78.5    13.9    1277.0\n",
       "3279  2022      4  2022.286         84.1    15.2    1237.0\n",
       "3280  2022      5  2022.371         96.5    16.0    1250.0\n",
       "3281  2022      6  2022.453         70.5    12.9    1219.0\n",
       "\n",
       "[3282 rows x 6 columns]"
      ]
     },
     "metadata": {},
     "output_type": "display_data"
    },
    {
     "name": "stdout",
     "output_type": "stream",
     "text": [
      "\n",
      "---------------------------------------------------------------------------------\n",
      "Dataset LawDome2018CO2 ['co2', 'icecore', 'antarctica']\n",
      "\n"
     ]
    },
    {
     "data": {
      "text/html": [
       "description: Law Dome, Antarctica, 66°44' S, 112°50' E, 1390m above mean annual sea level (M.A.S.L.). The CO2 and CH4 records presented here are derived from three ice cores obtained at Law Dome, East Antarctica from 1987 to 1993. The Law Dome site satisfies many of the desirable characteristics of an ideal ice core site for atmospheric CO2 reconstructions including negligible melting of the ice sheet surface, low concentrations of impurities, regular stratigraphic layering undisturbed at the surface by wind or at depth by ice flow, and high snow accumulation rate."
      ],
      "text/plain": [
       "<IPython.core.display.HTML object>"
      ]
     },
     "metadata": {},
     "output_type": "display_data"
    },
    {
     "data": {
      "text/html": [
       "authors: ['Mauro Rubino', 'David Etheridge', 'David Thornton', 'Russell Howden', 'Colin Allison', 'Roger Francey', 'Ray Langenfelds', 'Paul Steele', 'Cathy Trudinger', 'Darren Spencer', 'Mark Curran', 'Tas Van Ommen', 'Andrew Smith']"
      ],
      "text/plain": [
       "<IPython.core.display.HTML object>"
      ]
     },
     "metadata": {},
     "output_type": "display_data"
    },
    {
     "data": {
      "text/html": [
       "publication_date: 2018-12-14"
      ],
      "text/plain": [
       "<IPython.core.display.HTML object>"
      ]
     },
     "metadata": {},
     "output_type": "display_data"
    },
    {
     "data": {
      "text/html": [
       "last_update: "
      ],
      "text/plain": [
       "<IPython.core.display.HTML object>"
      ]
     },
     "metadata": {},
     "output_type": "display_data"
    },
    {
     "data": {
      "text/html": [
       "publisher: Earth System Science Data Discussions"
      ],
      "text/plain": [
       "<IPython.core.display.HTML object>"
      ]
     },
     "metadata": {},
     "output_type": "display_data"
    },
    {
     "data": {
      "text/html": [
       "id: DOI: 10.5194/essd-2018-146"
      ],
      "text/plain": [
       "<IPython.core.display.HTML object>"
      ]
     },
     "metadata": {},
     "output_type": "display_data"
    },
    {
     "data": {
      "text/html": [
       "version: "
      ],
      "text/plain": [
       "<IPython.core.display.HTML object>"
      ]
     },
     "metadata": {},
     "output_type": "display_data"
    },
    {
     "data": {
      "text/html": [
       "data_source: https://www.ncei.noaa.gov/pub/data/paleo/icecore/antarctica/law/law2018co2.txt"
      ],
      "text/plain": [
       "<IPython.core.display.HTML object>"
      ]
     },
     "metadata": {},
     "output_type": "display_data"
    },
    {
     "data": {
      "text/html": [
       "related_publications: ['https://www.earth-syst-sci-data-discuss.net/essd-2018-146/']"
      ],
      "text/plain": [
       "<IPython.core.display.HTML object>"
      ]
     },
     "metadata": {},
     "output_type": "display_data"
    },
    {
     "data": {
      "text/html": [
       "time_interval: ['154', '1996']"
      ],
      "text/plain": [
       "<IPython.core.display.HTML object>"
      ]
     },
     "metadata": {},
     "output_type": "display_data"
    },
    {
     "data": {
      "text/html": [
       "note: Some identical dates have multiple values"
      ],
      "text/plain": [
       "<IPython.core.display.HTML object>"
      ]
     },
     "metadata": {},
     "output_type": "display_data"
    },
    {
     "data": {
      "text/html": [
       "<div>\n",
       "<style scoped>\n",
       "    .dataframe tbody tr th:only-of-type {\n",
       "        vertical-align: middle;\n",
       "    }\n",
       "\n",
       "    .dataframe tbody tr th {\n",
       "        vertical-align: top;\n",
       "    }\n",
       "\n",
       "    .dataframe thead th {\n",
       "        text-align: right;\n",
       "    }\n",
       "</style>\n",
       "<table border=\"1\" class=\"dataframe\">\n",
       "  <thead>\n",
       "    <tr style=\"text-align: right;\">\n",
       "      <th></th>\n",
       "      <th>SampleID</th>\n",
       "      <th>age_ice</th>\n",
       "      <th>age_CO2</th>\n",
       "      <th>CO2ppm</th>\n",
       "      <th>CO2err</th>\n",
       "    </tr>\n",
       "  </thead>\n",
       "  <tbody>\n",
       "    <tr>\n",
       "      <th>0</th>\n",
       "      <td>DSSW20K 15.8</td>\n",
       "      <td>firn</td>\n",
       "      <td>1996</td>\n",
       "      <td>359.87</td>\n",
       "      <td>0.02</td>\n",
       "    </tr>\n",
       "    <tr>\n",
       "      <th>1</th>\n",
       "      <td>DSSW20K 29</td>\n",
       "      <td>firn</td>\n",
       "      <td>1994</td>\n",
       "      <td>357.24</td>\n",
       "      <td>0.04</td>\n",
       "    </tr>\n",
       "    <tr>\n",
       "      <th>2</th>\n",
       "      <td>DE08-2 0</td>\n",
       "      <td>firn</td>\n",
       "      <td>1993</td>\n",
       "      <td>354.60</td>\n",
       "      <td>0.02</td>\n",
       "    </tr>\n",
       "    <tr>\n",
       "      <th>3</th>\n",
       "      <td>DSSW20K 37.8</td>\n",
       "      <td>firn</td>\n",
       "      <td>1992</td>\n",
       "      <td>353.89</td>\n",
       "      <td>0.04</td>\n",
       "    </tr>\n",
       "    <tr>\n",
       "      <th>4</th>\n",
       "      <td>DE08-2 10</td>\n",
       "      <td>firn</td>\n",
       "      <td>1991</td>\n",
       "      <td>352.60</td>\n",
       "      <td>0.18</td>\n",
       "    </tr>\n",
       "    <tr>\n",
       "      <th>...</th>\n",
       "      <td>...</td>\n",
       "      <td>...</td>\n",
       "      <td>...</td>\n",
       "      <td>...</td>\n",
       "      <td>...</td>\n",
       "    </tr>\n",
       "    <tr>\n",
       "      <th>316</th>\n",
       "      <td>DSS 082</td>\n",
       "      <td>214</td>\n",
       "      <td>274</td>\n",
       "      <td>280.20</td>\n",
       "      <td>2.50</td>\n",
       "    </tr>\n",
       "    <tr>\n",
       "      <th>317</th>\n",
       "      <td>DSS 131</td>\n",
       "      <td>206</td>\n",
       "      <td>266</td>\n",
       "      <td>278.40</td>\n",
       "      <td>0.60</td>\n",
       "    </tr>\n",
       "    <tr>\n",
       "      <th>318</th>\n",
       "      <td>DSS 132</td>\n",
       "      <td>181</td>\n",
       "      <td>241</td>\n",
       "      <td>280.40</td>\n",
       "      <td>0.60</td>\n",
       "    </tr>\n",
       "    <tr>\n",
       "      <th>319</th>\n",
       "      <td>DSS 134</td>\n",
       "      <td>115</td>\n",
       "      <td>175</td>\n",
       "      <td>277.70</td>\n",
       "      <td>0.40</td>\n",
       "    </tr>\n",
       "    <tr>\n",
       "      <th>320</th>\n",
       "      <td>DSS 135</td>\n",
       "      <td>94</td>\n",
       "      <td>154</td>\n",
       "      <td>278.20</td>\n",
       "      <td>0.40</td>\n",
       "    </tr>\n",
       "  </tbody>\n",
       "</table>\n",
       "<p>321 rows × 5 columns</p>\n",
       "</div>"
      ],
      "text/plain": [
       "         SampleID age_ice  age_CO2  CO2ppm  CO2err\n",
       "0    DSSW20K 15.8    firn     1996  359.87    0.02\n",
       "1      DSSW20K 29    firn     1994  357.24    0.04\n",
       "2        DE08-2 0    firn     1993  354.60    0.02\n",
       "3    DSSW20K 37.8    firn     1992  353.89    0.04\n",
       "4       DE08-2 10    firn     1991  352.60    0.18\n",
       "..            ...     ...      ...     ...     ...\n",
       "316       DSS 082     214      274  280.20    2.50\n",
       "317       DSS 131     206      266  278.40    0.60\n",
       "318       DSS 132     181      241  280.40    0.60\n",
       "319       DSS 134     115      175  277.70    0.40\n",
       "320       DSS 135      94      154  278.20    0.40\n",
       "\n",
       "[321 rows x 5 columns]"
      ]
     },
     "metadata": {},
     "output_type": "display_data"
    },
    {
     "name": "stdout",
     "output_type": "stream",
     "text": [
      "\n",
      "---------------------------------------------------------------------------------\n",
      "Dataset DomeC2016CO2 ['co2', 'icecore', 'antarctica']\n",
      "\n"
     ]
    },
    {
     "data": {
      "text/html": [
       "description: EDC (EPICA Dome C) * Latitude: -75.100000 * Longitude: 123.350000 * Date/Time Start: 1993-01-01T00:00:00 * Date/Time End: 2004-12-31T00:00:00 * Elevation: 3233.0 m * Recovery: 3300 m * Location: Dome C, Antarctica * Campaign: Dome C * Method/Device: Ice drill (ICEDRILL) * Comment: Drill site is 56 km from the site of a previous Dome C core that provided records extending into the last glacial period, and 560 km from the site of the Vostok cores. The completion of the Dome C core was delayed when the first drilling became stuck at 788 m in 1999 (EDC96)."
      ],
      "text/plain": [
       "<IPython.core.display.HTML object>"
      ]
     },
     "metadata": {},
     "output_type": "display_data"
    },
    {
     "data": {
      "text/html": [
       "authors: ['Eric Monnin']"
      ],
      "text/plain": [
       "<IPython.core.display.HTML object>"
      ]
     },
     "metadata": {},
     "output_type": "display_data"
    },
    {
     "data": {
      "text/html": [
       "publication_date: 2006"
      ],
      "text/plain": [
       "<IPython.core.display.HTML object>"
      ]
     },
     "metadata": {},
     "output_type": "display_data"
    },
    {
     "data": {
      "text/html": [
       "last_update: "
      ],
      "text/plain": [
       "<IPython.core.display.HTML object>"
      ]
     },
     "metadata": {},
     "output_type": "display_data"
    },
    {
     "data": {
      "text/html": [
       "publisher: European Project for Ice Coring in Antarctica (EPICA)"
      ],
      "text/plain": [
       "<IPython.core.display.HTML object>"
      ]
     },
     "metadata": {},
     "output_type": "display_data"
    },
    {
     "data": {
      "text/html": [
       "id: https://doi.pangaea.de/10.1594/PANGAEA.472488"
      ],
      "text/plain": [
       "<IPython.core.display.HTML object>"
      ]
     },
     "metadata": {},
     "output_type": "display_data"
    },
    {
     "data": {
      "text/html": [
       "version: "
      ],
      "text/plain": [
       "<IPython.core.display.HTML object>"
      ]
     },
     "metadata": {},
     "output_type": "display_data"
    },
    {
     "data": {
      "text/html": [
       "redirect: True"
      ],
      "text/plain": [
       "<IPython.core.display.HTML object>"
      ]
     },
     "metadata": {},
     "output_type": "display_data"
    },
    {
     "data": {
      "text/html": [
       "data_source: https://doi.pangaea.de/10.1594/PANGAEA.472488?format=textfile"
      ],
      "text/plain": [
       "<IPython.core.display.HTML object>"
      ]
     },
     "metadata": {},
     "output_type": "display_data"
    },
    {
     "data": {
      "text/html": [
       "related_publications: ['https://doi.pangaea.de/10.1594/PANGAEA.472488', 'https://en.wikipedia.org/wiki/European_Project_for_Ice_Coring_in_Antarctica']"
      ],
      "text/plain": [
       "<IPython.core.display.HTML object>"
      ]
     },
     "metadata": {},
     "output_type": "display_data"
    },
    {
     "data": {
      "text/html": [
       "time_interval: ['0.173 ka BP', '21.676 ka BP']"
      ],
      "text/plain": [
       "<IPython.core.display.HTML object>"
      ]
     },
     "metadata": {},
     "output_type": "display_data"
    },
    {
     "data": {
      "text/html": [
       "<div>\n",
       "<style scoped>\n",
       "    .dataframe tbody tr th:only-of-type {\n",
       "        vertical-align: middle;\n",
       "    }\n",
       "\n",
       "    .dataframe tbody tr th {\n",
       "        vertical-align: top;\n",
       "    }\n",
       "\n",
       "    .dataframe thead th {\n",
       "        text-align: right;\n",
       "    }\n",
       "</style>\n",
       "<table border=\"1\" class=\"dataframe\">\n",
       "  <thead>\n",
       "    <tr style=\"text-align: right;\">\n",
       "      <th></th>\n",
       "      <th>Depth ice/snow [m]</th>\n",
       "      <th>Gas age [ka BP]</th>\n",
       "      <th>CO2 [ppmv]</th>\n",
       "      <th>CO2 std dev [±]</th>\n",
       "    </tr>\n",
       "  </thead>\n",
       "  <tbody>\n",
       "    <tr>\n",
       "      <th>0</th>\n",
       "      <td>102.830</td>\n",
       "      <td>0.173</td>\n",
       "      <td>280.4</td>\n",
       "      <td>1.8</td>\n",
       "    </tr>\n",
       "    <tr>\n",
       "      <th>1</th>\n",
       "      <td>106.885</td>\n",
       "      <td>0.311</td>\n",
       "      <td>274.9</td>\n",
       "      <td>0.7</td>\n",
       "    </tr>\n",
       "    <tr>\n",
       "      <th>2</th>\n",
       "      <td>107.195</td>\n",
       "      <td>0.322</td>\n",
       "      <td>277.9</td>\n",
       "      <td>0.7</td>\n",
       "    </tr>\n",
       "    <tr>\n",
       "      <th>3</th>\n",
       "      <td>110.245</td>\n",
       "      <td>0.427</td>\n",
       "      <td>279.1</td>\n",
       "      <td>1.3</td>\n",
       "    </tr>\n",
       "    <tr>\n",
       "      <th>4</th>\n",
       "      <td>110.500</td>\n",
       "      <td>0.435</td>\n",
       "      <td>281.9</td>\n",
       "      <td>1.1</td>\n",
       "    </tr>\n",
       "    <tr>\n",
       "      <th>...</th>\n",
       "      <td>...</td>\n",
       "      <td>...</td>\n",
       "      <td>...</td>\n",
       "      <td>...</td>\n",
       "    </tr>\n",
       "    <tr>\n",
       "      <th>178</th>\n",
       "      <td>567.030</td>\n",
       "      <td>20.646</td>\n",
       "      <td>186.5</td>\n",
       "      <td>0.3</td>\n",
       "    </tr>\n",
       "    <tr>\n",
       "      <th>179</th>\n",
       "      <td>569.745</td>\n",
       "      <td>20.897</td>\n",
       "      <td>184.7</td>\n",
       "      <td>1.2</td>\n",
       "    </tr>\n",
       "    <tr>\n",
       "      <th>180</th>\n",
       "      <td>572.530</td>\n",
       "      <td>21.156</td>\n",
       "      <td>186.1</td>\n",
       "      <td>0.4</td>\n",
       "    </tr>\n",
       "    <tr>\n",
       "      <th>181</th>\n",
       "      <td>576.325</td>\n",
       "      <td>21.511</td>\n",
       "      <td>185.7</td>\n",
       "      <td>1.3</td>\n",
       "    </tr>\n",
       "    <tr>\n",
       "      <th>182</th>\n",
       "      <td>578.105</td>\n",
       "      <td>21.676</td>\n",
       "      <td>184.4</td>\n",
       "      <td>0.8</td>\n",
       "    </tr>\n",
       "  </tbody>\n",
       "</table>\n",
       "<p>183 rows × 4 columns</p>\n",
       "</div>"
      ],
      "text/plain": [
       "     Depth ice/snow [m]  Gas age [ka BP]  CO2 [ppmv]  CO2 std dev [±]\n",
       "0               102.830            0.173       280.4              1.8\n",
       "1               106.885            0.311       274.9              0.7\n",
       "2               107.195            0.322       277.9              0.7\n",
       "3               110.245            0.427       279.1              1.3\n",
       "4               110.500            0.435       281.9              1.1\n",
       "..                  ...              ...         ...              ...\n",
       "178             567.030           20.646       186.5              0.3\n",
       "179             569.745           20.897       184.7              1.2\n",
       "180             572.530           21.156       186.1              0.4\n",
       "181             576.325           21.511       185.7              1.3\n",
       "182             578.105           21.676       184.4              0.8\n",
       "\n",
       "[183 rows x 4 columns]"
      ]
     },
     "metadata": {},
     "output_type": "display_data"
    },
    {
     "name": "stdout",
     "output_type": "stream",
     "text": [
      "\n",
      "---------------------------------------------------------------------------------\n",
      "Dataset gisp2icecoretemp ['temperature', 'icecore', 'greenland']\n",
      "\n"
     ]
    },
    {
     "data": {
      "text/html": [
       "description: Greenland icecore temperature 49KYrBP - present. Temperature interpretation based on stable isotope analysis, and ice accumulation data, from the GISP2 ice core, central Greenland. Data are smoothed from original measurements published by Cuffey and Clow (1997), as presented in Figure 1 of Alley (2000)."
      ],
      "text/plain": [
       "<IPython.core.display.HTML object>"
      ]
     },
     "metadata": {},
     "output_type": "display_data"
    },
    {
     "data": {
      "text/html": [
       "authors: ['Alley, R.B.']"
      ],
      "text/plain": [
       "<IPython.core.display.HTML object>"
      ]
     },
     "metadata": {},
     "output_type": "display_data"
    },
    {
     "data": {
      "text/html": [
       "publication_date: 2000"
      ],
      "text/plain": [
       "<IPython.core.display.HTML object>"
      ]
     },
     "metadata": {},
     "output_type": "display_data"
    },
    {
     "data": {
      "text/html": [
       "last_update: 2004-03"
      ],
      "text/plain": [
       "<IPython.core.display.HTML object>"
      ]
     },
     "metadata": {},
     "output_type": "display_data"
    },
    {
     "data": {
      "text/html": [
       "publisher: IGBP PAGES/World Data Center for Paleoclimatology"
      ],
      "text/plain": [
       "<IPython.core.display.HTML object>"
      ]
     },
     "metadata": {},
     "output_type": "display_data"
    },
    {
     "data": {
      "text/html": [
       "id: Quaternary Science Reviews 19:213-226."
      ],
      "text/plain": [
       "<IPython.core.display.HTML object>"
      ]
     },
     "metadata": {},
     "output_type": "display_data"
    },
    {
     "data": {
      "text/html": [
       "version: "
      ],
      "text/plain": [
       "<IPython.core.display.HTML object>"
      ]
     },
     "metadata": {},
     "output_type": "display_data"
    },
    {
     "data": {
      "text/html": [
       "data_source: ftp://ftp.ncdc.noaa.gov/pub/data/paleo/icecore/greenland/summit/gisp2/isotopes/gisp2_temp_accum_alley2000.txt"
      ],
      "text/plain": [
       "<IPython.core.display.HTML object>"
      ]
     },
     "metadata": {},
     "output_type": "display_data"
    },
    {
     "data": {
      "text/html": [
       "related_publications: ['https://www.pnas.org/doi/10.1073/pnas.97.4.1331']"
      ],
      "text/plain": [
       "<IPython.core.display.HTML object>"
      ]
     },
     "metadata": {},
     "output_type": "display_data"
    },
    {
     "data": {
      "text/html": [
       "<div>\n",
       "<style scoped>\n",
       "    .dataframe tbody tr th:only-of-type {\n",
       "        vertical-align: middle;\n",
       "    }\n",
       "\n",
       "    .dataframe tbody tr th {\n",
       "        vertical-align: top;\n",
       "    }\n",
       "\n",
       "    .dataframe thead th {\n",
       "        text-align: right;\n",
       "    }\n",
       "</style>\n",
       "<table border=\"1\" class=\"dataframe\">\n",
       "  <thead>\n",
       "    <tr style=\"text-align: right;\">\n",
       "      <th></th>\n",
       "      <th>Age</th>\n",
       "      <th>Temperature</th>\n",
       "      <th>(C)</th>\n",
       "    </tr>\n",
       "  </thead>\n",
       "  <tbody>\n",
       "    <tr>\n",
       "      <th>0</th>\n",
       "      <td>0.095141</td>\n",
       "      <td>-31.5913</td>\n",
       "      <td>NaN</td>\n",
       "    </tr>\n",
       "    <tr>\n",
       "      <th>1</th>\n",
       "      <td>0.107130</td>\n",
       "      <td>-31.6220</td>\n",
       "      <td>NaN</td>\n",
       "    </tr>\n",
       "    <tr>\n",
       "      <th>2</th>\n",
       "      <td>0.113149</td>\n",
       "      <td>-31.6026</td>\n",
       "      <td>NaN</td>\n",
       "    </tr>\n",
       "    <tr>\n",
       "      <th>3</th>\n",
       "      <td>0.119205</td>\n",
       "      <td>-31.6002</td>\n",
       "      <td>NaN</td>\n",
       "    </tr>\n",
       "    <tr>\n",
       "      <th>4</th>\n",
       "      <td>0.119205</td>\n",
       "      <td>-31.5980</td>\n",
       "      <td>NaN</td>\n",
       "    </tr>\n",
       "    <tr>\n",
       "      <th>...</th>\n",
       "      <td>...</td>\n",
       "      <td>...</td>\n",
       "      <td>...</td>\n",
       "    </tr>\n",
       "    <tr>\n",
       "      <th>1627</th>\n",
       "      <td>49.746000</td>\n",
       "      <td>-40.5505</td>\n",
       "      <td>NaN</td>\n",
       "    </tr>\n",
       "    <tr>\n",
       "      <th>1628</th>\n",
       "      <td>49.806000</td>\n",
       "      <td>-40.2651</td>\n",
       "      <td>NaN</td>\n",
       "    </tr>\n",
       "    <tr>\n",
       "      <th>1629</th>\n",
       "      <td>49.868000</td>\n",
       "      <td>-40.1018</td>\n",
       "      <td>NaN</td>\n",
       "    </tr>\n",
       "    <tr>\n",
       "      <th>1630</th>\n",
       "      <td>49.922000</td>\n",
       "      <td>-39.8165</td>\n",
       "      <td>NaN</td>\n",
       "    </tr>\n",
       "    <tr>\n",
       "      <th>1631</th>\n",
       "      <td>49.981000</td>\n",
       "      <td>-39.9694</td>\n",
       "      <td>NaN</td>\n",
       "    </tr>\n",
       "  </tbody>\n",
       "</table>\n",
       "<p>1632 rows × 3 columns</p>\n",
       "</div>"
      ],
      "text/plain": [
       "            Age  Temperature  (C)\n",
       "0      0.095141     -31.5913  NaN\n",
       "1      0.107130     -31.6220  NaN\n",
       "2      0.113149     -31.6026  NaN\n",
       "3      0.119205     -31.6002  NaN\n",
       "4      0.119205     -31.5980  NaN\n",
       "...         ...          ...  ...\n",
       "1627  49.746000     -40.5505  NaN\n",
       "1628  49.806000     -40.2651  NaN\n",
       "1629  49.868000     -40.1018  NaN\n",
       "1630  49.922000     -39.8165  NaN\n",
       "1631  49.981000     -39.9694  NaN\n",
       "\n",
       "[1632 rows x 3 columns]"
      ]
     },
     "metadata": {},
     "output_type": "display_data"
    },
    {
     "name": "stdout",
     "output_type": "stream",
     "text": [
      "\n",
      "---------------------------------------------------------------------------------\n",
      "Dataset gisp2icecoreaccum ['temperature', 'icecore', 'greenland']\n",
      "\n"
     ]
    },
    {
     "data": {
      "text/html": [
       "description: Greenland icecore temperature 49KYrBP - present. Temperature interpretation based on stable isotope analysis, and ice accumulation data, from the GISP2 ice core, central Greenland. Data are smoothed from original measurements published by Cuffey and Clow (1997), as presented in Figure 1 of Alley (2000)."
      ],
      "text/plain": [
       "<IPython.core.display.HTML object>"
      ]
     },
     "metadata": {},
     "output_type": "display_data"
    },
    {
     "data": {
      "text/html": [
       "authors: ['Alley, R.B.']"
      ],
      "text/plain": [
       "<IPython.core.display.HTML object>"
      ]
     },
     "metadata": {},
     "output_type": "display_data"
    },
    {
     "data": {
      "text/html": [
       "publication_date: 2000"
      ],
      "text/plain": [
       "<IPython.core.display.HTML object>"
      ]
     },
     "metadata": {},
     "output_type": "display_data"
    },
    {
     "data": {
      "text/html": [
       "last_update: 2004-03"
      ],
      "text/plain": [
       "<IPython.core.display.HTML object>"
      ]
     },
     "metadata": {},
     "output_type": "display_data"
    },
    {
     "data": {
      "text/html": [
       "publisher: IGBP PAGES/World Data Center for Paleoclimatology"
      ],
      "text/plain": [
       "<IPython.core.display.HTML object>"
      ]
     },
     "metadata": {},
     "output_type": "display_data"
    },
    {
     "data": {
      "text/html": [
       "id: Quaternary Science Reviews 19:213-226."
      ],
      "text/plain": [
       "<IPython.core.display.HTML object>"
      ]
     },
     "metadata": {},
     "output_type": "display_data"
    },
    {
     "data": {
      "text/html": [
       "version: "
      ],
      "text/plain": [
       "<IPython.core.display.HTML object>"
      ]
     },
     "metadata": {},
     "output_type": "display_data"
    },
    {
     "data": {
      "text/html": [
       "data_source: ftp://ftp.ncdc.noaa.gov/pub/data/paleo/icecore/greenland/summit/gisp2/isotopes/gisp2_temp_accum_alley2000.txt"
      ],
      "text/plain": [
       "<IPython.core.display.HTML object>"
      ]
     },
     "metadata": {},
     "output_type": "display_data"
    },
    {
     "data": {
      "text/html": [
       "related_publications: ['https://www.pnas.org/doi/10.1073/pnas.97.4.1331']"
      ],
      "text/plain": [
       "<IPython.core.display.HTML object>"
      ]
     },
     "metadata": {},
     "output_type": "display_data"
    },
    {
     "data": {
      "text/html": [
       "<div>\n",
       "<style scoped>\n",
       "    .dataframe tbody tr th:only-of-type {\n",
       "        vertical-align: middle;\n",
       "    }\n",
       "\n",
       "    .dataframe tbody tr th {\n",
       "        vertical-align: top;\n",
       "    }\n",
       "\n",
       "    .dataframe thead th {\n",
       "        text-align: right;\n",
       "    }\n",
       "</style>\n",
       "<table border=\"1\" class=\"dataframe\">\n",
       "  <thead>\n",
       "    <tr style=\"text-align: right;\">\n",
       "      <th></th>\n",
       "      <th>Age</th>\n",
       "      <th>Accumulation</th>\n",
       "    </tr>\n",
       "  </thead>\n",
       "  <tbody>\n",
       "    <tr>\n",
       "      <th>0</th>\n",
       "      <td>0.144043</td>\n",
       "      <td>0.244106</td>\n",
       "    </tr>\n",
       "    <tr>\n",
       "      <th>1</th>\n",
       "      <td>0.172852</td>\n",
       "      <td>0.246155</td>\n",
       "    </tr>\n",
       "    <tr>\n",
       "      <th>2</th>\n",
       "      <td>0.201660</td>\n",
       "      <td>0.248822</td>\n",
       "    </tr>\n",
       "    <tr>\n",
       "      <th>3</th>\n",
       "      <td>0.230469</td>\n",
       "      <td>0.249856</td>\n",
       "    </tr>\n",
       "    <tr>\n",
       "      <th>4</th>\n",
       "      <td>0.259277</td>\n",
       "      <td>0.249943</td>\n",
       "    </tr>\n",
       "    <tr>\n",
       "      <th>...</th>\n",
       "      <td>...</td>\n",
       "      <td>...</td>\n",
       "    </tr>\n",
       "    <tr>\n",
       "      <th>1692</th>\n",
       "      <td>48.888200</td>\n",
       "      <td>0.092122</td>\n",
       "    </tr>\n",
       "    <tr>\n",
       "      <th>1693</th>\n",
       "      <td>48.917000</td>\n",
       "      <td>0.091968</td>\n",
       "    </tr>\n",
       "    <tr>\n",
       "      <th>1694</th>\n",
       "      <td>48.945800</td>\n",
       "      <td>0.091857</td>\n",
       "    </tr>\n",
       "    <tr>\n",
       "      <th>1695</th>\n",
       "      <td>48.974600</td>\n",
       "      <td>0.091739</td>\n",
       "    </tr>\n",
       "    <tr>\n",
       "      <th>1696</th>\n",
       "      <td>49.003400</td>\n",
       "      <td>0.091599</td>\n",
       "    </tr>\n",
       "  </tbody>\n",
       "</table>\n",
       "<p>1697 rows × 2 columns</p>\n",
       "</div>"
      ],
      "text/plain": [
       "            Age  Accumulation\n",
       "0      0.144043      0.244106\n",
       "1      0.172852      0.246155\n",
       "2      0.201660      0.248822\n",
       "3      0.230469      0.249856\n",
       "4      0.259277      0.249943\n",
       "...         ...           ...\n",
       "1692  48.888200      0.092122\n",
       "1693  48.917000      0.091968\n",
       "1694  48.945800      0.091857\n",
       "1695  48.974600      0.091739\n",
       "1696  49.003400      0.091599\n",
       "\n",
       "[1697 rows x 2 columns]"
      ]
     },
     "metadata": {},
     "output_type": "display_data"
    },
    {
     "name": "stdout",
     "output_type": "stream",
     "text": [
      "\n",
      "---------------------------------------------------------------------------------\n",
      "Dataset CenozoicCO2 ['co2']\n",
      "\n"
     ]
    },
    {
     "data": {
      "text/html": [
       "description: We present high-resolution records of Mesozoic and early Cenozoic atmospheric CO2 concentrations from a combination of carbon-isotope analyses of non-vascular plant (bryophyte) fossils and theoretical modelling. These records indicate that atmospheric CO2 rose from ~420 p.p.m.v. in the Triassic period (about 200 million years ago) to a peak of ~1,130 p.p.m.v. in the Middle Cretaceous (about 100 million years ago). Atmospheric CO2 levels then declined to ~680 p.p.m.v. by 60 million years ago."
      ],
      "text/plain": [
       "<IPython.core.display.HTML object>"
      ]
     },
     "metadata": {},
     "output_type": "display_data"
    },
    {
     "data": {
      "text/html": [
       "authors: ['D.L. Royer', 'M. Pagani', 'D.J. Beerling']"
      ],
      "text/plain": [
       "<IPython.core.display.HTML object>"
      ]
     },
     "metadata": {},
     "output_type": "display_data"
    },
    {
     "data": {
      "text/html": [
       "publication_date: 2008"
      ],
      "text/plain": [
       "<IPython.core.display.HTML object>"
      ]
     },
     "metadata": {},
     "output_type": "display_data"
    },
    {
     "data": {
      "text/html": [
       "last_update: 2012"
      ],
      "text/plain": [
       "<IPython.core.display.HTML object>"
      ]
     },
     "metadata": {},
     "output_type": "display_data"
    },
    {
     "data": {
      "text/html": [
       "publisher: Geobiology, 10(4), 298-310"
      ],
      "text/plain": [
       "<IPython.core.display.HTML object>"
      ]
     },
     "metadata": {},
     "output_type": "display_data"
    },
    {
     "data": {
      "text/html": [
       "id: doi: 10.1111/j.1472-4669.2012.00320.x"
      ],
      "text/plain": [
       "<IPython.core.display.HTML object>"
      ]
     },
     "metadata": {},
     "output_type": "display_data"
    },
    {
     "data": {
      "text/html": [
       "version: "
      ],
      "text/plain": [
       "<IPython.core.display.HTML object>"
      ]
     },
     "metadata": {},
     "output_type": "display_data"
    },
    {
     "data": {
      "text/html": [
       "data_source: https://www.ncei.noaa.gov/pub/data/paleo/climate_forcing/trace_gases/Paleo-pCO2/liverwort_fletcher_2008.xlsx"
      ],
      "text/plain": [
       "<IPython.core.display.HTML object>"
      ]
     },
     "metadata": {},
     "output_type": "display_data"
    },
    {
     "data": {
      "text/html": [
       "related_publications: ['https://www.ncei.noaa.gov/access/paleo-search/study/23250']"
      ],
      "text/plain": [
       "<IPython.core.display.HTML object>"
      ]
     },
     "metadata": {},
     "output_type": "display_data"
    },
    {
     "data": {
      "text/html": [
       "Note: There is TXT version, but it is corrupted by random line-breakes, hence XLS"
      ],
      "text/plain": [
       "<IPython.core.display.HTML object>"
      ]
     },
     "metadata": {},
     "output_type": "display_data"
    },
    {
     "data": {
      "text/html": [
       "<div>\n",
       "<style scoped>\n",
       "    .dataframe tbody tr th:only-of-type {\n",
       "        vertical-align: middle;\n",
       "    }\n",
       "\n",
       "    .dataframe tbody tr th {\n",
       "        vertical-align: top;\n",
       "    }\n",
       "\n",
       "    .dataframe thead th {\n",
       "        text-align: right;\n",
       "    }\n",
       "</style>\n",
       "<table border=\"1\" class=\"dataframe\">\n",
       "  <thead>\n",
       "    <tr style=\"text-align: right;\">\n",
       "      <th></th>\n",
       "      <th>proxy</th>\n",
       "      <th>first_author_last_name</th>\n",
       "      <th>publication_year</th>\n",
       "      <th>doi</th>\n",
       "      <th>age_ka</th>\n",
       "      <th>Age_uncertainty_pos_ka</th>\n",
       "      <th>Age_uncertainty_neg_ka</th>\n",
       "      <th>CO2_ppm</th>\n",
       "      <th>CO2_uncertainty_pos_ppm</th>\n",
       "      <th>CO2_uncertainty_neg_ppm</th>\n",
       "      <th>...</th>\n",
       "      <th>cloud</th>\n",
       "      <th>cloud_err</th>\n",
       "      <th>N_cloud_err</th>\n",
       "      <th>LAI</th>\n",
       "      <th>LAI_err</th>\n",
       "      <th>N_LAI_err</th>\n",
       "      <th>attenuation</th>\n",
       "      <th>atten_err</th>\n",
       "      <th>N_atten_err</th>\n",
       "      <th>general notes</th>\n",
       "    </tr>\n",
       "  </thead>\n",
       "  <tbody>\n",
       "    <tr>\n",
       "      <th>0</th>\n",
       "      <td>liverworts</td>\n",
       "      <td>Fletcher</td>\n",
       "      <td>2008</td>\n",
       "      <td>10.1038/ngeo.2007.29 and 10.1111/j.1472-4669.2...</td>\n",
       "      <td>52200</td>\n",
       "      <td>3600.0</td>\n",
       "      <td>3600.0</td>\n",
       "      <td>1967</td>\n",
       "      <td>1534</td>\n",
       "      <td>875</td>\n",
       "      <td>...</td>\n",
       "      <td>0.55</td>\n",
       "      <td>NaN</td>\n",
       "      <td>taken from Fletcher et al. (2008); no error is...</td>\n",
       "      <td>NaN</td>\n",
       "      <td>NaN</td>\n",
       "      <td>taken from Fletcher et al. (2008); the combine...</td>\n",
       "      <td>0.5</td>\n",
       "      <td>NaN</td>\n",
       "      <td>taken from Fletcher et al. (2008); no error is...</td>\n",
       "      <td>Inputs measured but CO2 not reported in Fletch...</td>\n",
       "    </tr>\n",
       "    <tr>\n",
       "      <th>1</th>\n",
       "      <td>liverworts</td>\n",
       "      <td>Fletcher</td>\n",
       "      <td>2008</td>\n",
       "      <td>10.1038/ngeo.2007.29</td>\n",
       "      <td>60400</td>\n",
       "      <td>4600.0</td>\n",
       "      <td>4600.0</td>\n",
       "      <td>683</td>\n",
       "      <td>199</td>\n",
       "      <td>201</td>\n",
       "      <td>...</td>\n",
       "      <td>0.55</td>\n",
       "      <td>NaN</td>\n",
       "      <td>taken from Fletcher et al. (2008); no error is...</td>\n",
       "      <td>NaN</td>\n",
       "      <td>NaN</td>\n",
       "      <td>taken from Fletcher et al. (2008); the combine...</td>\n",
       "      <td>0.5</td>\n",
       "      <td>NaN</td>\n",
       "      <td>taken from Fletcher et al. (2008); no error is...</td>\n",
       "      <td>data doi: and 10.1111/j.1472-4669.2012.00320.x</td>\n",
       "    </tr>\n",
       "  </tbody>\n",
       "</table>\n",
       "<p>2 rows × 80 columns</p>\n",
       "</div>"
      ],
      "text/plain": [
       "        proxy first_author_last_name  publication_year  \\\n",
       "0  liverworts               Fletcher              2008   \n",
       "1  liverworts               Fletcher              2008   \n",
       "\n",
       "                                                 doi  age_ka  \\\n",
       "0  10.1038/ngeo.2007.29 and 10.1111/j.1472-4669.2...   52200   \n",
       "1                               10.1038/ngeo.2007.29   60400   \n",
       "\n",
       "   Age_uncertainty_pos_ka  Age_uncertainty_neg_ka  CO2_ppm  \\\n",
       "0                  3600.0                  3600.0     1967   \n",
       "1                  4600.0                  4600.0      683   \n",
       "\n",
       "   CO2_uncertainty_pos_ppm  CO2_uncertainty_neg_ppm  ... cloud cloud_err  \\\n",
       "0                     1534                      875  ...  0.55       NaN   \n",
       "1                      199                      201  ...  0.55       NaN   \n",
       "\n",
       "                                         N_cloud_err LAI LAI_err  \\\n",
       "0  taken from Fletcher et al. (2008); no error is... NaN     NaN   \n",
       "1  taken from Fletcher et al. (2008); no error is... NaN     NaN   \n",
       "\n",
       "                                           N_LAI_err attenuation  atten_err  \\\n",
       "0  taken from Fletcher et al. (2008); the combine...         0.5        NaN   \n",
       "1  taken from Fletcher et al. (2008); the combine...         0.5        NaN   \n",
       "\n",
       "                                         N_atten_err  \\\n",
       "0  taken from Fletcher et al. (2008); no error is...   \n",
       "1  taken from Fletcher et al. (2008); no error is...   \n",
       "\n",
       "                                       general notes  \n",
       "0  Inputs measured but CO2 not reported in Fletch...  \n",
       "1     data doi: and 10.1111/j.1472-4669.2012.00320.x  \n",
       "\n",
       "[2 rows x 80 columns]"
      ]
     },
     "metadata": {},
     "output_type": "display_data"
    },
    {
     "name": "stdout",
     "output_type": "stream",
     "text": [
      "\n",
      "---------------------------------------------------------------------------------\n",
      "Dataset CenozoicCO2Filtered ['co2']\n",
      "\n"
     ]
    },
    {
     "data": {
      "text/html": [
       "description: We present high-resolution records of Mesozoic and early Cenozoic atmospheric CO2 concentrations from a combination of carbon-isotope analyses of non-vascular plant (bryophyte) fossils and theoretical modelling. These records indicate that atmospheric CO2 rose from ~420 p.p.m.v. in the Triassic period (about 200 million years ago) to a peak of ~1,130 p.p.m.v. in the Middle Cretaceous (about 100 million years ago). Atmospheric CO2 levels then declined to ~680 p.p.m.v. by 60 million years ago."
      ],
      "text/plain": [
       "<IPython.core.display.HTML object>"
      ]
     },
     "metadata": {},
     "output_type": "display_data"
    },
    {
     "data": {
      "text/html": [
       "authors: ['D.L. Royer', 'M. Pagani', 'D.J. Beerling']"
      ],
      "text/plain": [
       "<IPython.core.display.HTML object>"
      ]
     },
     "metadata": {},
     "output_type": "display_data"
    },
    {
     "data": {
      "text/html": [
       "publication_date: 2008"
      ],
      "text/plain": [
       "<IPython.core.display.HTML object>"
      ]
     },
     "metadata": {},
     "output_type": "display_data"
    },
    {
     "data": {
      "text/html": [
       "last_update: 2012"
      ],
      "text/plain": [
       "<IPython.core.display.HTML object>"
      ]
     },
     "metadata": {},
     "output_type": "display_data"
    },
    {
     "data": {
      "text/html": [
       "publisher: Geobiology, 10(4), 298-310"
      ],
      "text/plain": [
       "<IPython.core.display.HTML object>"
      ]
     },
     "metadata": {},
     "output_type": "display_data"
    },
    {
     "data": {
      "text/html": [
       "id: doi: 10.1111/j.1472-4669.2012.00320.x"
      ],
      "text/plain": [
       "<IPython.core.display.HTML object>"
      ]
     },
     "metadata": {},
     "output_type": "display_data"
    },
    {
     "data": {
      "text/html": [
       "version: "
      ],
      "text/plain": [
       "<IPython.core.display.HTML object>"
      ]
     },
     "metadata": {},
     "output_type": "display_data"
    },
    {
     "data": {
      "text/html": [
       "data_source: https://www.ncei.noaa.gov/pub/data/paleo/climate_forcing/trace_gases/Paleo-pCO2/liverwort_fletcher_2008.xlsx"
      ],
      "text/plain": [
       "<IPython.core.display.HTML object>"
      ]
     },
     "metadata": {},
     "output_type": "display_data"
    },
    {
     "data": {
      "text/html": [
       "related_publications: ['https://www.ncei.noaa.gov/access/paleo-search/study/23250']"
      ],
      "text/plain": [
       "<IPython.core.display.HTML object>"
      ]
     },
     "metadata": {},
     "output_type": "display_data"
    },
    {
     "data": {
      "text/html": [
       "Note: There is TXT version, but it is corrupted by random line-breakes, hence XLS"
      ],
      "text/plain": [
       "<IPython.core.display.HTML object>"
      ]
     },
     "metadata": {},
     "output_type": "display_data"
    },
    {
     "data": {
      "text/html": [
       "<div>\n",
       "<style scoped>\n",
       "    .dataframe tbody tr th:only-of-type {\n",
       "        vertical-align: middle;\n",
       "    }\n",
       "\n",
       "    .dataframe tbody tr th {\n",
       "        vertical-align: top;\n",
       "    }\n",
       "\n",
       "    .dataframe thead th {\n",
       "        text-align: right;\n",
       "    }\n",
       "</style>\n",
       "<table border=\"1\" class=\"dataframe\">\n",
       "  <thead>\n",
       "    <tr style=\"text-align: right;\">\n",
       "      <th></th>\n",
       "      <th>age_ka</th>\n",
       "      <th>Age_uncertainty_pos_ka</th>\n",
       "      <th>Age_uncertainty_neg_ka</th>\n",
       "      <th>CO2_ppm</th>\n",
       "      <th>CO2_uncertainty_pos_ppm</th>\n",
       "      <th>CO2_uncertainty_neg_ppm</th>\n",
       "    </tr>\n",
       "  </thead>\n",
       "  <tbody>\n",
       "    <tr>\n",
       "      <th>0</th>\n",
       "      <td>52200</td>\n",
       "      <td>3600.0</td>\n",
       "      <td>3600.0</td>\n",
       "      <td>1967</td>\n",
       "      <td>1534</td>\n",
       "      <td>875</td>\n",
       "    </tr>\n",
       "    <tr>\n",
       "      <th>1</th>\n",
       "      <td>60400</td>\n",
       "      <td>4600.0</td>\n",
       "      <td>4600.0</td>\n",
       "      <td>683</td>\n",
       "      <td>199</td>\n",
       "      <td>201</td>\n",
       "    </tr>\n",
       "  </tbody>\n",
       "</table>\n",
       "</div>"
      ],
      "text/plain": [
       "   age_ka  Age_uncertainty_pos_ka  Age_uncertainty_neg_ka  CO2_ppm  \\\n",
       "0   52200                  3600.0                  3600.0     1967   \n",
       "1   60400                  4600.0                  4600.0      683   \n",
       "\n",
       "   CO2_uncertainty_pos_ppm  CO2_uncertainty_neg_ppm  \n",
       "0                     1534                      875  \n",
       "1                      199                      201  "
      ]
     },
     "metadata": {},
     "output_type": "display_data"
    }
   ],
   "source": [
    "for dataset_name in dfs.keys():\n",
    "    print()\n",
    "    print(\"---------------------------------------------------------------------------------\")\n",
    "    print(f\"Dataset {dataset_name} {dfs[dataset_name]['metadata']['tags']}\")\n",
    "    print()\n",
    "    for entry in dfs[dataset_name]['metadata']:\n",
    "        if entry in ['title', 'tags']:\n",
    "            continue\n",
    "        display(HTML(f\"{entry}: {dfs[dataset_name]['metadata'][entry]}\"))\n",
    "    display(dfs[dataset_name]['data'])"
   ]
  },
  {
   "cell_type": "code",
   "execution_count": null,
   "id": "5fc4bec9-f38d-45d3-8cfb-c4b0268a5db1",
   "metadata": {},
   "outputs": [],
   "source": [
    "em2k=dfs['euromed2k']['data'].to_numpy()\n",
    "gjmt6=dfs['germany_june_meantemp']['data'].to_numpy()\n",
    "gjmt7=dfs['germany_july_meantemp']['data'].to_numpy()\n",
    "gjmt8=dfs['germany_august_meantemp']['data'].to_numpy()\n",
    "sunsp=dfs['sunspots11000yrs']['data'].to_numpy()\n",
    "sunsp1749=dfs['sunspotsmonthlymean1749']['data'].to_numpy()"
   ]
  },
  {
   "cell_type": "code",
   "execution_count": null,
   "id": "fa8c7a92-3a0e-457a-9270-5707fcba3d95",
   "metadata": {},
   "outputs": [],
   "source": [
    "sunsp[:,0]=1950-sunsp[:,0]"
   ]
  },
  {
   "cell_type": "code",
   "execution_count": null,
   "id": "f1d07e30-3faf-44f2-af97-4882865ced25",
   "metadata": {},
   "outputs": [],
   "source": [
    "gjmt=(gjmt6[:-1,:]+gjmt7+gjmt8)/3.0"
   ]
  },
  {
   "cell_type": "code",
   "execution_count": null,
   "id": "87570714-a46b-4a7a-bfb0-32df3b8b1c79",
   "metadata": {},
   "outputs": [],
   "source": [
    "np.mean(gjmt[:,2])"
   ]
  },
  {
   "cell_type": "code",
   "execution_count": null,
   "id": "e31a53e5-85da-423d-b33e-c9d5ea129852",
   "metadata": {},
   "outputs": [],
   "source": [
    "def moving_average(a, n=3) :\n",
    "    ret = np.cumsum(a, dtype=float)\n",
    "    ret[n:] = ret[n:] - ret[:-n]\n",
    "    return ret[n - 1:] / n"
   ]
  },
  {
   "cell_type": "code",
   "execution_count": null,
   "id": "2bb28d24-631e-482b-802b-b06cfa1fcadf",
   "metadata": {},
   "outputs": [],
   "source": [
    "gjmean=np.mean(gjmt[:,2])"
   ]
  },
  {
   "cell_type": "code",
   "execution_count": null,
   "id": "0bbb81bb-2d24-4047-92c3-20a74de40fe0",
   "metadata": {},
   "outputs": [],
   "source": [
    "win=10\n",
    "em2kmat=moving_average(em2k[:,1],2*win+1)\n",
    "gjmtmat=moving_average(gjmt[:,2]-gjmean,2*win+1)"
   ]
  },
  {
   "cell_type": "code",
   "execution_count": null,
   "id": "bbd9d515-4886-4163-8362-1fcc16510045",
   "metadata": {},
   "outputs": [],
   "source": []
  },
  {
   "cell_type": "code",
   "execution_count": null,
   "id": "55f45fd0-9695-4d3b-bc39-4c9eecf91d9f",
   "metadata": {},
   "outputs": [],
   "source": [
    "sunma=moving_average(sunsp[:,1],2*win+1)\n",
    "sunman=moving_average(sunsp1749[:,3],20*win+1)"
   ]
  },
  {
   "cell_type": "code",
   "execution_count": null,
   "id": "105c73a6-9126-4168-ba98-3f00a799808d",
   "metadata": {},
   "outputs": [],
   "source": [
    "sunman"
   ]
  },
  {
   "cell_type": "code",
   "execution_count": null,
   "id": "6b37388c-3068-423e-8f24-3924ccbf2a38",
   "metadata": {},
   "outputs": [],
   "source": [
    "sunman.shape, sunsp1749.shape"
   ]
  },
  {
   "cell_type": "code",
   "execution_count": null,
   "id": "a5121968-0c17-4992-a32c-1def16c1eab9",
   "metadata": {},
   "outputs": [],
   "source": [
    "import matplotlib.pyplot as plt\n",
    "plt.rcParams['figure.figsize'] = [14,8]  # inch! :-/"
   ]
  },
  {
   "cell_type": "code",
   "execution_count": null,
   "id": "ed2109e7-df55-47e8-afee-b70515132808",
   "metadata": {},
   "outputs": [],
   "source": [
    "plt.plot(gjmt[:,0],gjmt[:,2]-gjmean)\n",
    "plt.plot(em2k[:,0],em2k[:,1])\n",
    "plt.plot(sunsp[-200:,0],sunsp[-200:,1]/60-0.4)\n",
    "plt.plot(sunsp1749[10*win:-10*win,2],sunman/200)"
   ]
  },
  {
   "cell_type": "code",
   "execution_count": null,
   "id": "c453a710-93d4-47e5-9dc1-a390a9960976",
   "metadata": {},
   "outputs": [],
   "source": [
    "# plt.plot(dfnp[:,0],dfnp[:,1])\n",
    "plt.plot(gjmt[win:-win,0],gjmtmat)\n",
    "plt.plot(em2k[win:-win,0],em2kmat)\n",
    "plt.plot(sunsp[-200:,0],sunsp[-200:,1]/80-0.5) # sunma[-200:]/50-0.5)\n",
    "plt.plot(sunsp1749[10*win:-10*win,2],sunman/200-0.5)"
   ]
  },
  {
   "cell_type": "code",
   "execution_count": null,
   "id": "5431309b-1066-4ddf-be63-ca17b1ad5817",
   "metadata": {},
   "outputs": [],
   "source": [
    "plt.plot(em2k[-120+win:-win,0],em2kmat[-120+win:-win])\n",
    "plt.plot(gjmt[win:-win,0],gjmtmat)\n",
    "plt.plot(sunsp[-20:,0],sunsp[-20:,1]/80-0.5) # sunma[-20:]/50-0.5)\n",
    "plt.plot(sunsp1749[10*win:-10*win,2],sunman/200-0.5)"
   ]
  },
  {
   "cell_type": "code",
   "execution_count": null,
   "id": "de494b63-7266-48e7-9c12-646d3b486197",
   "metadata": {},
   "outputs": [],
   "source": [
    "a=-1500\n",
    "b=-1400\n",
    "plt.plot(em2k[a:b,0],em2k[a:b,1])\n",
    "plt.plot(gjmt[a:b,0],gjmtmat[a-win:b-win])\n"
   ]
  },
  {
   "cell_type": "code",
   "execution_count": null,
   "id": "7752c815-b02d-48cd-8be8-ff486a0cf090",
   "metadata": {},
   "outputs": [],
   "source": []
  },
  {
   "cell_type": "code",
   "execution_count": null,
   "id": "dc004f7c-f60c-4827-ae02-95b76ce4d1bd",
   "metadata": {},
   "outputs": [],
   "source": []
  }
 ],
 "metadata": {
  "kernelspec": {
   "display_name": "Python 3 (ipykernel)",
   "language": "python",
   "name": "python3"
  },
  "language_info": {
   "codemirror_mode": {
    "name": "ipython",
    "version": 3
   },
   "file_extension": ".py",
   "mimetype": "text/x-python",
   "name": "python",
   "nbconvert_exporter": "python",
   "pygments_lexer": "ipython3",
   "version": "3.10.5"
  }
 },
 "nbformat": 4,
 "nbformat_minor": 5
}
