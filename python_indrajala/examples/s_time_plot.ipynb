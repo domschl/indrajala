{
 "cells": [
  {
   "cell_type": "code",
   "execution_count": 53,
   "metadata": {},
   "outputs": [],
   "source": [
    "import drawsvg as draw"
   ]
  },
  {
   "cell_type": "code",
   "execution_count": 126,
   "metadata": {},
   "outputs": [],
   "source": [
    "class SPlotter:\n",
    "    def __init__(self, size, border=None, rect=None, pixel_scale=1):\n",
    "        \"\"\"\n",
    "        size: (width, height) of the plot in device coordinates\n",
    "        border: (left, top, right, bottom) of the plot in device coordinates\n",
    "        rect: (x_min, y_min, x_max, y_max) of the plot in data coordinates, gets mapped to canvas' device coordinates\n",
    "        pixel_scale: scale of the plot in pixels per device coordinate\n",
    "        \"\"\"\n",
    "        self.axis_x1_border = 60\n",
    "        self.axis_x2_border = 50\n",
    "        self.axis_y_border = 40\n",
    "        self.title_border = 30\n",
    "        self.size = size\n",
    "        self.border = border\n",
    "\n",
    "        if self.border is None:\n",
    "            self.border = (0, 0, 0, 0)\n",
    "        self.canvas = (self.border[0]+self.axis_x1_border, \n",
    "                       self.size[1] - (self.border[1] + self.axis_y_border), \n",
    "                       self.size[0] - (self.axis_x2_border + self.axis_x1_border), \n",
    "                       self.size[1] - (self.size[1] - (self.border[3] + self.title_border)))\n",
    "        print(self.canvas, self.size)\n",
    "        self.rect = rect\n",
    "\n",
    "        self.arrow_height = 8\n",
    "        self.arrow_width = 3\n",
    "\n",
    "\n",
    "        self.d = draw.Drawing(size[0], size[1], origin=(0,0))\n",
    "        self.pixel_scale = pixel_scale\n",
    "        self.d.set_pixel_scale(pixel_scale)\n",
    "\n",
    "        self.d.append(draw.Rectangle(0, 0, size[0], size[1], fill='white', stroke='black'))\n",
    "        self.d.append(draw.Rectangle(self.canvas[0], self.canvas[3], self.canvas[2] - self.canvas[0], self.canvas[1] - self.canvas[3], fill='white', stroke='gray'))\n",
    "\n",
    "    def scale_x(self, x):\n",
    "        return (x - self.rect[0]) / (self.rect[2] - self.rect[0]) * (self.canvas[2] - self.canvas[0]) + self.canvas[0]\n",
    "    \n",
    "    def scale_y(self, y):\n",
    "        return self.size[1] - ((y - self.rect[1]) / (self.rect[3] - self.rect[1]) * (self.canvas[3] - self.canvas[1]) + self.canvas[1])\n",
    "    \n",
    "    def scale_xc(self, xc):\n",
    "        return (xc - self.canvas[0]) / (self.canvas[2] - self.canvas[0]) * (self.rect[2] - self.rect[0]) + self.rect[0]\n",
    "    \n",
    "    def scale_yc(self, yc):\n",
    "        return ((self.size[1] - yc) - self.canvas[1]) / (self.canvas[3] - self.canvas[1]) * (self.rect[3] - self.rect[1]) + self.rect[1]\n",
    "    \n",
    "    def scale_point(self, x, y):\n",
    "        return (self.scale_x(x), self.scale_y(y))\n",
    "\n",
    "    def scale_pointc(self, x, y):\n",
    "        return (self.scale_xc(x), self.scale_yc(y))\n",
    "    \n",
    "    def add_line(self, x1, y1, x2, y2):\n",
    "        xc1, yc1 = self.scale_point(x1, y1)\n",
    "        xc2, yc2 = self.scale_point(x2, y2)\n",
    "        self.d.append(draw.Line(xc1, yc1, xc2, yc2, stroke='gray'))\n",
    "\n",
    "    def add_linec(self, xc1, yc1, xc2, yc2):\n",
    "        self.d.append(draw.Line(xc1, yc1, xc2, yc2, stroke='gray'))\n",
    "\n",
    "    def add_axis(self, arrows=True):\n",
    "        self.add_line(self.rect[0], 0, self.rect[2], 0)\n",
    "        self.add_line(0, self.rect[1], 0, self.rect[3])\n",
    "        if arrows is True:\n",
    "            x_arrow_tip = (self.rect[2], 0)\n",
    "            y_arrow_tip = (0, self.rect[3])\n",
    "            x_arrow_tipc = self.scale_point(*x_arrow_tip)\n",
    "            y_arrow_tipc = self.scale_point(*y_arrow_tip)\n",
    "            for d in range(-self.arrow_width, self.arrow_width+1):\n",
    "                self.add_linec(*x_arrow_tipc, x_arrow_tipc[0] - self.arrow_height, x_arrow_tipc[1] - d)\n",
    "                self.add_linec(*y_arrow_tipc, y_arrow_tipc[0] - d, y_arrow_tipc[1] + self.arrow_height)"
   ]
  },
  {
   "cell_type": "code",
   "execution_count": 127,
   "metadata": {},
   "outputs": [
    {
     "name": "stdout",
     "output_type": "stream",
     "text": [
      "(65, 255, 690, 35) (800, 300)\n"
     ]
    }
   ],
   "source": [
    "pl = SPlotter(size=(800, 300), border=(5,5,5,5), rect=(-10, -10, 10, 10), pixel_scale=1)\n"
   ]
  },
  {
   "cell_type": "code",
   "execution_count": 128,
   "metadata": {},
   "outputs": [
    {
     "data": {
      "image/svg+xml": [
       "<?xml version=\"1.0\" encoding=\"UTF-8\"?>\n",
       "<svg xmlns=\"http://www.w3.org/2000/svg\" xmlns:xlink=\"http://www.w3.org/1999/xlink\"\n",
       "     width=\"800\" height=\"300\" viewBox=\"0 0 800 300\">\n",
       "<defs>\n",
       "</defs>\n",
       "<rect x=\"0\" y=\"0\" width=\"800\" height=\"300\" fill=\"white\" stroke=\"black\" />\n",
       "<rect x=\"65\" y=\"35\" width=\"625\" height=\"220\" fill=\"white\" stroke=\"gray\" />\n",
       "<path d=\"M65.0,155.0 L690.0,155.0\" stroke=\"gray\" />\n",
       "<path d=\"M377.5,45.0 L377.5,265.0\" stroke=\"gray\" />\n",
       "<path d=\"M690.0,155.0 L682.0,158.0\" stroke=\"gray\" />\n",
       "<path d=\"M377.5,265.0 L380.5,273.0\" stroke=\"gray\" />\n",
       "<path d=\"M690.0,155.0 L682.0,157.0\" stroke=\"gray\" />\n",
       "<path d=\"M377.5,265.0 L379.5,273.0\" stroke=\"gray\" />\n",
       "<path d=\"M690.0,155.0 L682.0,156.0\" stroke=\"gray\" />\n",
       "<path d=\"M377.5,265.0 L378.5,273.0\" stroke=\"gray\" />\n",
       "<path d=\"M690.0,155.0 L682.0,155.0\" stroke=\"gray\" />\n",
       "<path d=\"M377.5,265.0 L377.5,273.0\" stroke=\"gray\" />\n",
       "<path d=\"M690.0,155.0 L682.0,154.0\" stroke=\"gray\" />\n",
       "<path d=\"M377.5,265.0 L376.5,273.0\" stroke=\"gray\" />\n",
       "<path d=\"M690.0,155.0 L682.0,153.0\" stroke=\"gray\" />\n",
       "<path d=\"M377.5,265.0 L375.5,273.0\" stroke=\"gray\" />\n",
       "<path d=\"M690.0,155.0 L682.0,152.0\" stroke=\"gray\" />\n",
       "<path d=\"M377.5,265.0 L374.5,273.0\" stroke=\"gray\" />\n",
       "</svg>"
      ],
      "text/plain": [
       "<drawsvg.drawing.Drawing at 0x7f61e7133a90>"
      ]
     },
     "execution_count": 128,
     "metadata": {},
     "output_type": "execute_result"
    }
   ],
   "source": [
    "pl.add_axis(arrows=True)\n",
    "pl.d"
   ]
  },
  {
   "cell_type": "code",
   "execution_count": null,
   "metadata": {},
   "outputs": [],
   "source": []
  },
  {
   "cell_type": "code",
   "execution_count": null,
   "metadata": {},
   "outputs": [],
   "source": []
  },
  {
   "cell_type": "code",
   "execution_count": null,
   "metadata": {},
   "outputs": [],
   "source": []
  }
 ],
 "metadata": {
  "kernelspec": {
   "display_name": "Python 3",
   "language": "python",
   "name": "python3"
  },
  "language_info": {
   "codemirror_mode": {
    "name": "ipython",
    "version": 3
   },
   "file_extension": ".py",
   "mimetype": "text/x-python",
   "name": "python",
   "nbconvert_exporter": "python",
   "pygments_lexer": "ipython3",
   "version": "3.11.3"
  },
  "orig_nbformat": 4
 },
 "nbformat": 4,
 "nbformat_minor": 2
}
