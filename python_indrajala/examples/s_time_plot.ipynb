{
 "cells": [
  {
   "cell_type": "code",
   "execution_count": 2,
   "metadata": {},
   "outputs": [],
   "source": [
    "import drawsvg as draw\n",
    "import operator"
   ]
  },
  {
   "cell_type": "code",
   "execution_count": 16,
   "metadata": {},
   "outputs": [
    {
     "name": "stdout",
     "output_type": "stream",
     "text": [
      "(0.0, 200.0, 400.0, 0.0) (10.0, 190.0, 390.0, 10.0)\n",
      "10.0 190.0\n",
      "48.0 136.0\n",
      "86.0 172.0\n",
      "124.0 154.0\n",
      "162.0 118.0\n",
      "200.0 136.0\n",
      "238.0 100.0\n",
      "276.0 118.0\n",
      "314.0 82.0\n",
      "352.0 28.0\n",
      "390.0 10.0\n"
     ]
    },
    {
     "data": {
      "image/svg+xml": [
       "<?xml version=\"1.0\" encoding=\"UTF-8\"?>\n",
       "<svg xmlns=\"http://www.w3.org/2000/svg\" xmlns:xlink=\"http://www.w3.org/1999/xlink\"\n",
       "     width=\"400.0\" height=\"200.0\" viewBox=\"0 0 400 200\">\n",
       "<defs>\n",
       "</defs>\n",
       "<rect x=\"0.0\" y=\"0.0\" width=\"400.0\" height=\"200.0\" fill=\"white\" stroke=\"black\" />\n",
       "<rect x=\"10.0\" y=\"10.0\" width=\"380.0\" height=\"180.0\" fill=\"white\" stroke=\"red\" />\n",
       "<circle cx=\"10.0\" cy=\"190.0\" r=\"1\" fill=\"none\" stroke=\"blue\" stroke-width=\"1\" />\n",
       "<circle cx=\"48.0\" cy=\"136.0\" r=\"1\" fill=\"none\" stroke=\"blue\" stroke-width=\"1\" />\n",
       "<circle cx=\"86.0\" cy=\"172.0\" r=\"1\" fill=\"none\" stroke=\"blue\" stroke-width=\"1\" />\n",
       "<circle cx=\"124.0\" cy=\"154.0\" r=\"1\" fill=\"none\" stroke=\"blue\" stroke-width=\"1\" />\n",
       "<circle cx=\"162.0\" cy=\"118.0\" r=\"1\" fill=\"none\" stroke=\"blue\" stroke-width=\"1\" />\n",
       "<circle cx=\"200.0\" cy=\"136.0\" r=\"1\" fill=\"none\" stroke=\"blue\" stroke-width=\"1\" />\n",
       "<circle cx=\"238.0\" cy=\"100.0\" r=\"1\" fill=\"none\" stroke=\"blue\" stroke-width=\"1\" />\n",
       "<circle cx=\"276.0\" cy=\"118.0\" r=\"1\" fill=\"none\" stroke=\"blue\" stroke-width=\"1\" />\n",
       "<circle cx=\"314.0\" cy=\"82.0\" r=\"1\" fill=\"none\" stroke=\"blue\" stroke-width=\"1\" />\n",
       "<circle cx=\"352.0\" cy=\"28.0\" r=\"1\" fill=\"none\" stroke=\"blue\" stroke-width=\"1\" />\n",
       "<circle cx=\"390.0\" cy=\"10.0\" r=\"1\" fill=\"none\" stroke=\"blue\" stroke-width=\"1\" />\n",
       "</svg>"
      ],
      "text/plain": [
       "<drawsvg.drawing.Drawing at 0x7f465823a0d0>"
      ]
     },
     "execution_count": 16,
     "metadata": {},
     "output_type": "execute_result"
    }
   ],
   "source": [
    "class TRF:\n",
    "    def __init__(self, x0, x1, xn0, xn1):\n",
    "        self.x0 = x0\n",
    "        self.x1 = x1\n",
    "        self.xn0 = xn0\n",
    "        self.xn1 = xn1\n",
    "\n",
    "    def o2n(self, x):\n",
    "        return self.xn0 + (x - self.x0) / (self.x1 - self.x0) * (self.xn1 - self.xn0)\n",
    "    \n",
    "    def n2o(self, xn):\n",
    "        return self.x0 + (xn - self.xn0) / (self.xn1 - self.xn0) * (self.x1 - self.x0)\n",
    "    \n",
    "    # define add for TRF:\n",
    "    def __add__(self, other):\n",
    "        return TRF(self.x0, self.x1, self.xn0 + other.xn0, self.xn1 + other.xn1)\n",
    "    \n",
    "class SPlotter:\n",
    "    def __init__(self, size, border=None, rect=None, pixel_scale=1.0):\n",
    "        self.size = size\n",
    "        self.trf_xph = TRF(0, size[0], 0, size[0])\n",
    "        self.trf_yph = TRF(0, size[1], size[1], 0)\n",
    "\n",
    "        self.canvas = draw.Drawing(size[0], size[1], origin=(0,0))\n",
    "        self.pixel_scale = pixel_scale\n",
    "        self.canvas.set_pixel_scale(pixel_scale)\n",
    "\n",
    "        self.canvas_area = (self.trf_xph.o2n(0), self.trf_yph.o2n(0), self.trf_xph.o2n(size[0]), self.trf_yph.o2n(size[1]))\n",
    "        self.border = border\n",
    "                            \n",
    "        self.plot_area = (self.canvas_area[0] + self.border[0], self.canvas_area[1] - self.border[1], self.canvas_area[2] - self.border[2], self.canvas_area[3] + self.border[3])\n",
    "\n",
    "        self.trf_xplt = TRF(rect[0], rect[2], self.plot_area[0], self.plot_area[2])\n",
    "        self.trf_yplt = TRF(rect[1], rect[3], self.plot_area[1], self.plot_area[3])\n",
    "\n",
    "        self.tx = self.trf_xplt + self.trf_xph\n",
    "        self.ty = self.trf_yplt + self.trf_yph\n",
    "\n",
    "    def plot(self, x, y, stroke='black', fill='none', stroke_width=1):\n",
    "        if len(x) != len(y):\n",
    "            raise ValueError(\"x and y must have same length\")\n",
    "        if len(x) < 2:\n",
    "            raise ValueError(\"x and y must have at least 2 points\")\n",
    "        for xi, yi in zip(x, y):\n",
    "            nx= self.trf_xplt.o2n(xi)\n",
    "            ny= self.trf_yplt.o2n(yi)\n",
    "            print(nx, ny)\n",
    "            self.canvas.append(draw.Circle(nx, ny, 1, fill=fill, stroke=stroke, stroke_width=stroke_width))\n",
    "\n",
    "\n",
    "\n",
    "sp = SPlotter(size=(400,200), border=(10,10,10,10), rect=(0,0,10,10))\n",
    "print(sp.canvas_area, sp.plot_area)\n",
    "sp.canvas.append(draw.Rectangle(sp.canvas_area[0], sp.canvas_area[3], sp.canvas_area[2]-sp.canvas_area[0], -sp.canvas_area[3]+sp.canvas_area[1], fill='white', stroke='black'))\n",
    "sp.canvas.append(draw.Rectangle(sp.plot_area[0], sp.plot_area[3], sp.plot_area[2]-sp.plot_area[0], -sp.plot_area[3]+sp.plot_area[1], fill='white', stroke='red'))\n",
    "sp.plot([0,1,2,3,4,5,6,7,8,9,10], [0,3,1,2,4,3,5,4,6,9,10], stroke='blue')\n",
    "sp.canvas"
   ]
  },
  {
   "cell_type": "code",
   "execution_count": null,
   "metadata": {},
   "outputs": [],
   "source": []
  },
  {
   "cell_type": "code",
   "execution_count": null,
   "metadata": {},
   "outputs": [],
   "source": []
  },
  {
   "cell_type": "code",
   "execution_count": null,
   "metadata": {},
   "outputs": [],
   "source": []
  }
 ],
 "metadata": {
  "kernelspec": {
   "display_name": "Python 3",
   "language": "python",
   "name": "python3"
  },
  "language_info": {
   "codemirror_mode": {
    "name": "ipython",
    "version": 3
   },
   "file_extension": ".py",
   "mimetype": "text/x-python",
   "name": "python",
   "nbconvert_exporter": "python",
   "pygments_lexer": "ipython3",
   "version": "3.11.3"
  },
  "orig_nbformat": 4
 },
 "nbformat": 4,
 "nbformat_minor": 2
}
