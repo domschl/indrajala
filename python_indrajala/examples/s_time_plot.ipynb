{
 "cells": [
  {
   "cell_type": "code",
   "execution_count": 6,
   "metadata": {},
   "outputs": [],
   "source": [
    "import drawsvg as draw\n",
    "import operator"
   ]
  },
  {
   "cell_type": "code",
   "execution_count": 23,
   "metadata": {},
   "outputs": [
    {
     "name": "stdout",
     "output_type": "stream",
     "text": [
      "(0.0, 200.0, 400.0, 0.0) (20.0, 190.0, 370.0, 50.0)\n"
     ]
    },
    {
     "data": {
      "image/svg+xml": [
       "<?xml version=\"1.0\" encoding=\"UTF-8\"?>\n",
       "<svg xmlns=\"http://www.w3.org/2000/svg\" xmlns:xlink=\"http://www.w3.org/1999/xlink\"\n",
       "     width=\"400.0\" height=\"200.0\" viewBox=\"0 0 400 200\">\n",
       "<defs>\n",
       "</defs>\n",
       "<rect x=\"0.0\" y=\"0.0\" width=\"400.0\" height=\"200.0\" fill=\"white\" stroke=\"black\" />\n",
       "<rect x=\"20.0\" y=\"50.0\" width=\"350.0\" height=\"140.0\" fill=\"blue\" stroke=\"red\" />\n",
       "</svg>"
      ],
      "text/plain": [
       "<drawsvg.drawing.Drawing at 0x7f13f1c84d50>"
      ]
     },
     "execution_count": 23,
     "metadata": {},
     "output_type": "execute_result"
    }
   ],
   "source": [
    "class TRF:\n",
    "    def __init__(self, x0, x1, xn0, xn1):\n",
    "        self.x0 = x0\n",
    "        self.x1 = x1\n",
    "        self.xn0 = xn0\n",
    "        self.xn1 = xn1\n",
    "\n",
    "    def o2n(self, x):\n",
    "        return self.xn0 + (x - self.x0) / (self.x1 - self.x0) * (self.xn1 - self.xn0)\n",
    "    \n",
    "    def n2o(self, xn):\n",
    "        return self.x0 + (xn - self.xn0) / (self.xn1 - self.xn0) * (self.x1 - self.x0)\n",
    "    \n",
    "    # define add for TRF:\n",
    "    def __add__(self, other):\n",
    "        return TRF(self.x0, self.x1, self.xn0 + other.xn0, self.xn1 + other.xn1)\n",
    "    \n",
    "class SPlotter:\n",
    "    def __init__(self, size, border=None, rect=None, pixel_scale=1.0):\n",
    "        self.size = size\n",
    "        self.trf_xph = TRF(0, size[0], 0, size[0])\n",
    "        self.trf_yph = TRF(0, size[1], size[1], 0)\n",
    "\n",
    "        self.canvas = draw.Drawing(size[0], size[1], origin=(0,0))\n",
    "        self.pixel_scale = pixel_scale\n",
    "        self.canvas.set_pixel_scale(pixel_scale)\n",
    "\n",
    "        self.canvas_area = (self.trf_xph.o2n(0), self.trf_yph.o2n(0), self.trf_xph.o2n(size[0]), self.trf_yph.o2n(size[1]))\n",
    "        self.border = border\n",
    "                            \n",
    "        self.plot_area = (self.canvas_area[0] + self.border[0], self.canvas_area[1] - self.border[1], self.canvas_area[2] - self.border[2], self.canvas_area[3] + self.border[3])\n",
    "\n",
    "sp = SPlotter(size=(400,200), border=(20,10,30,50))\n",
    "print(sp.canvas_area, sp.plot_area)\n",
    "sp.canvas.append(draw.Rectangle(sp.canvas_area[0], sp.canvas_area[3], sp.canvas_area[2]-sp.canvas_area[0], -sp.canvas_area[3]+sp.canvas_area[1], fill='white', stroke='black'))\n",
    "sp.canvas.append(draw.Rectangle(sp.plot_area[0], sp.plot_area[3], sp.plot_area[2]-sp.plot_area[0], -sp.plot_area[3]+sp.plot_area[1], fill='blue', stroke='red'))\n",
    "sp.canvas"
   ]
  },
  {
   "cell_type": "code",
   "execution_count": null,
   "metadata": {},
   "outputs": [],
   "source": [
    "\n",
    "\n",
    "class SPlotterOld:\n",
    "    def __init__(self, size, border=None, rect=None, pixel_scale=1.0):\n",
    "        \"\"\"\n",
    "        size: (width, height) of the plot in device coordinates\n",
    "        border: (left, top, right, bottom) of the plot in device coordinates\n",
    "        rect: (x_min, y_min, x_max, y_max) of the plot in data coordinates, gets mapped to canvas' device coordinates\n",
    "        pixel_scale: scale of the plot in pixels per device coordinate\n",
    "        \"\"\"\n",
    "        self.axis_x1_border = 60\n",
    "        self.axis_x2_border = 50\n",
    "        self.axis_y_border = 40\n",
    "        self.title_border = 30\n",
    "        self.size = size\n",
    "        self.border = border\n",
    "\n",
    "        if self.border is None:\n",
    "            self.border = (0, 0, 0, 0)\n",
    "        self.canvas = (self.border[0]+self.axis_x1_border, \n",
    "                       self.size[1] - (self.border[1] + self.axis_y_border), \n",
    "                       self.size[0] - (self.border[2]+ self.axis_x2_border + self.axis_x1_border), \n",
    "                       self.size[1] - (self.size[1] - (self.border[3] + self.title_border)))\n",
    "        print(self.canvas, self.size)\n",
    "        self.rect = rect\n",
    "\n",
    "        self.arrow_height = 8\n",
    "        self.arrow_width = 3\n",
    "\n",
    "\n",
    "        self.d = draw.Drawing(size[0], size[1], origin=(0,0))\n",
    "        self.pixel_scale = pixel_scale\n",
    "        self.d.set_pixel_scale(pixel_scale)\n",
    "\n",
    "        self.d.append(draw.Rectangle(0, 0, size[0], size[1], fill='white', stroke='black'))\n",
    "        self.d.append(draw.Rectangle(self.canvas[0], self.size[1]-self.canvas[1], self.canvas[2] - self.canvas[0], (self.canvas[1] - self.canvas[3]), fill='white', stroke='gray'))\n",
    "\n",
    "    def scale_x(self, x):\n",
    "        return (x - self.rect[0]) / (self.rect[2] - self.rect[0]) * (self.canvas[2] - self.canvas[0]) + self.canvas[0]\n",
    "    \n",
    "    def scale_y(self, y):\n",
    "        return self.size[1] - ((y - self.rect[1]) / (self.rect[3] - self.rect[1]) * (self.canvas[3] - self.canvas[1]) + self.canvas[1])\n",
    "    \n",
    "    def scale_xc(self, xc):\n",
    "        return (xc - self.canvas[0]) / (self.canvas[2] - self.canvas[0]) * (self.rect[2] - self.rect[0]) + self.rect[0]\n",
    "    \n",
    "    def scale_yc(self, yc):\n",
    "        return ((self.size[1] - yc) - self.canvas[1]) / (self.canvas[3] - self.canvas[1]) * (self.rect[3] - self.rect[1]) + self.rect[1]\n",
    "    \n",
    "    def scale_point(self, x, y):\n",
    "        return (self.scale_x(x), self.scale_y(y))\n",
    "\n",
    "    def scale_pointc(self, x, y):\n",
    "        return (self.scale_xc(x), self.scale_yc(y))\n",
    "    \n",
    "    def add_text(self, x, y, text, font_size=12, font_family='Verdana'):\n",
    "        xc, yc = self.scale_point(x, y)\n",
    "        self.d.append(draw.Text(text, font_size, xc, yc, center=True, font_family=font_family))\n",
    "    \n",
    "    def add_line(self, x1, y1, x2, y2):\n",
    "        xc1, yc1 = self.scale_point(x1, y1)\n",
    "        xc2, yc2 = self.scale_point(x2, y2)\n",
    "        self.d.append(draw.Line(xc1, yc1, xc2, yc2, stroke='gray'))\n",
    "\n",
    "    def add_linec(self, xc1, yc1, xc2, yc2):\n",
    "        self.d.append(draw.Line(xc1, yc1, xc2, yc2, stroke='gray'))\n",
    "\n",
    "    def add_axis(self, arrows=True):\n",
    "        self.add_line(self.rect[0], 0, self.rect[2], 0)\n",
    "        self.add_line(0, self.rect[1], 0, self.rect[3])\n",
    "        if arrows is True:\n",
    "            x_arrow_tip = (self.rect[2], 0)\n",
    "            y_arrow_tip = (0, self.rect[1])\n",
    "            x_arrow_tipc = self.scale_point(*x_arrow_tip)\n",
    "            y_arrow_tipc = self.scale_point(*y_arrow_tip)\n",
    "            for d in range(-self.arrow_width, self.arrow_width+1):\n",
    "                self.add_linec(*x_arrow_tipc, x_arrow_tipc[0] - self.arrow_height, x_arrow_tipc[1] - d)\n",
    "                self.add_linec(*y_arrow_tipc, y_arrow_tipc[0] - d, y_arrow_tipc[1] + self.arrow_height)"
   ]
  },
  {
   "cell_type": "code",
   "execution_count": 39,
   "metadata": {},
   "outputs": [
    {
     "name": "stdout",
     "output_type": "stream",
     "text": [
      "(65, 255, 685, 35) (800, 300)\n"
     ]
    }
   ],
   "source": [
    "pl = SPlotter(size=(800, 300), border=(5,5,5,5), rect=(-10, -10, 10, 10), pixel_scale=1)\n"
   ]
  },
  {
   "cell_type": "code",
   "execution_count": 42,
   "metadata": {},
   "outputs": [
    {
     "data": {
      "image/svg+xml": [
       "<?xml version=\"1.0\" encoding=\"UTF-8\"?>\n",
       "<svg xmlns=\"http://www.w3.org/2000/svg\" xmlns:xlink=\"http://www.w3.org/1999/xlink\"\n",
       "     width=\"800\" height=\"300\" viewBox=\"0 0 800 300\">\n",
       "<defs>\n",
       "</defs>\n",
       "<rect x=\"0\" y=\"0\" width=\"800\" height=\"300\" fill=\"white\" stroke=\"black\" />\n",
       "<rect x=\"65\" y=\"45\" width=\"620\" height=\"220\" fill=\"white\" stroke=\"gray\" />\n",
       "<path d=\"M65.0,155.0 L685.0,155.0\" stroke=\"gray\" />\n",
       "<path d=\"M375.0,45.0 L375.0,265.0\" stroke=\"gray\" />\n",
       "<path d=\"M685.0,155.0 L677.0,158.0\" stroke=\"gray\" />\n",
       "<path d=\"M375.0,45.0 L378.0,53.0\" stroke=\"gray\" />\n",
       "<path d=\"M685.0,155.0 L677.0,157.0\" stroke=\"gray\" />\n",
       "<path d=\"M375.0,45.0 L377.0,53.0\" stroke=\"gray\" />\n",
       "<path d=\"M685.0,155.0 L677.0,156.0\" stroke=\"gray\" />\n",
       "<path d=\"M375.0,45.0 L376.0,53.0\" stroke=\"gray\" />\n",
       "<path d=\"M685.0,155.0 L677.0,155.0\" stroke=\"gray\" />\n",
       "<path d=\"M375.0,45.0 L375.0,53.0\" stroke=\"gray\" />\n",
       "<path d=\"M685.0,155.0 L677.0,154.0\" stroke=\"gray\" />\n",
       "<path d=\"M375.0,45.0 L374.0,53.0\" stroke=\"gray\" />\n",
       "<path d=\"M685.0,155.0 L677.0,153.0\" stroke=\"gray\" />\n",
       "<path d=\"M375.0,45.0 L373.0,53.0\" stroke=\"gray\" />\n",
       "<path d=\"M685.0,155.0 L677.0,152.0\" stroke=\"gray\" />\n",
       "<path d=\"M375.0,45.0 L372.0,53.0\" stroke=\"gray\" />\n",
       "<text x=\"375.0\" y=\"265.0\" font-size=\"12\" font-family=\"Verdana\" text-anchor=\"middle\" dominant-baseline=\"central\">x</text>\n",
       "<path d=\"M65.0,155.0 L685.0,155.0\" stroke=\"gray\" />\n",
       "<path d=\"M375.0,45.0 L375.0,265.0\" stroke=\"gray\" />\n",
       "<path d=\"M685.0,155.0 L677.0,158.0\" stroke=\"gray\" />\n",
       "<path d=\"M375.0,45.0 L378.0,53.0\" stroke=\"gray\" />\n",
       "<path d=\"M685.0,155.0 L677.0,157.0\" stroke=\"gray\" />\n",
       "<path d=\"M375.0,45.0 L377.0,53.0\" stroke=\"gray\" />\n",
       "<path d=\"M685.0,155.0 L677.0,156.0\" stroke=\"gray\" />\n",
       "<path d=\"M375.0,45.0 L376.0,53.0\" stroke=\"gray\" />\n",
       "<path d=\"M685.0,155.0 L677.0,155.0\" stroke=\"gray\" />\n",
       "<path d=\"M375.0,45.0 L375.0,53.0\" stroke=\"gray\" />\n",
       "<path d=\"M685.0,155.0 L677.0,154.0\" stroke=\"gray\" />\n",
       "<path d=\"M375.0,45.0 L374.0,53.0\" stroke=\"gray\" />\n",
       "<path d=\"M685.0,155.0 L677.0,153.0\" stroke=\"gray\" />\n",
       "<path d=\"M375.0,45.0 L373.0,53.0\" stroke=\"gray\" />\n",
       "<path d=\"M685.0,155.0 L677.0,152.0\" stroke=\"gray\" />\n",
       "<path d=\"M375.0,45.0 L372.0,53.0\" stroke=\"gray\" />\n",
       "<text x=\"375.0\" y=\"265.0\" font-size=\"12\" font-family=\"Verdana\" text-anchor=\"middle\" dominant-baseline=\"central\">0,10</text>\n",
       "<path d=\"M65.0,155.0 L685.0,155.0\" stroke=\"gray\" />\n",
       "<path d=\"M375.0,45.0 L375.0,265.0\" stroke=\"gray\" />\n",
       "<path d=\"M685.0,155.0 L677.0,158.0\" stroke=\"gray\" />\n",
       "<path d=\"M375.0,45.0 L378.0,53.0\" stroke=\"gray\" />\n",
       "<path d=\"M685.0,155.0 L677.0,157.0\" stroke=\"gray\" />\n",
       "<path d=\"M375.0,45.0 L377.0,53.0\" stroke=\"gray\" />\n",
       "<path d=\"M685.0,155.0 L677.0,156.0\" stroke=\"gray\" />\n",
       "<path d=\"M375.0,45.0 L376.0,53.0\" stroke=\"gray\" />\n",
       "<path d=\"M685.0,155.0 L677.0,155.0\" stroke=\"gray\" />\n",
       "<path d=\"M375.0,45.0 L375.0,53.0\" stroke=\"gray\" />\n",
       "<path d=\"M685.0,155.0 L677.0,154.0\" stroke=\"gray\" />\n",
       "<path d=\"M375.0,45.0 L374.0,53.0\" stroke=\"gray\" />\n",
       "<path d=\"M685.0,155.0 L677.0,153.0\" stroke=\"gray\" />\n",
       "<path d=\"M375.0,45.0 L373.0,53.0\" stroke=\"gray\" />\n",
       "<path d=\"M685.0,155.0 L677.0,152.0\" stroke=\"gray\" />\n",
       "<path d=\"M375.0,45.0 L372.0,53.0\" stroke=\"gray\" />\n",
       "<text x=\"375.0\" y=\"265.0\" font-size=\"12\" font-family=\"Verdana\" text-anchor=\"middle\" dominant-baseline=\"central\">0,10</text>\n",
       "<text x=\"685.0\" y=\"155.0\" font-size=\"12\" font-family=\"Verdana\" text-anchor=\"middle\" dominant-baseline=\"central\">10,0</text>\n",
       "<text x=\"65.0\" y=\"155.0\" font-size=\"12\" font-family=\"Verdana\" text-anchor=\"middle\" dominant-baseline=\"central\">-10,0</text>\n",
       "<text x=\"375.0\" y=\"45.0\" font-size=\"12\" font-family=\"Verdana\" text-anchor=\"middle\" dominant-baseline=\"central\">0,-10</text>\n",
       "</svg>"
      ],
      "text/plain": [
       "<drawsvg.drawing.Drawing at 0x7ffad0373f50>"
      ]
     },
     "execution_count": 42,
     "metadata": {},
     "output_type": "execute_result"
    }
   ],
   "source": [
    "pl.add_axis(arrows=True)\n",
    "pl.add_text(0, 10, '0,10', font_size=12, font_family='Verdana')\n",
    "pl.add_text(10, 0, '10,0', font_size=12, font_family='Verdana')\n",
    "pl.add_text(-10, 0, '-10,0', font_size=12, font_family='Verdana')\n",
    "pl.add_text(0, -10, '0,-10', font_size=12, font_family='Verdana')\n",
    "pl.d"
   ]
  },
  {
   "cell_type": "code",
   "execution_count": null,
   "metadata": {},
   "outputs": [],
   "source": []
  },
  {
   "cell_type": "code",
   "execution_count": null,
   "metadata": {},
   "outputs": [],
   "source": []
  },
  {
   "cell_type": "code",
   "execution_count": null,
   "metadata": {},
   "outputs": [],
   "source": []
  }
 ],
 "metadata": {
  "kernelspec": {
   "display_name": "Python 3",
   "language": "python",
   "name": "python3"
  },
  "language_info": {
   "codemirror_mode": {
    "name": "ipython",
    "version": 3
   },
   "file_extension": ".py",
   "mimetype": "text/x-python",
   "name": "python",
   "nbconvert_exporter": "python",
   "pygments_lexer": "ipython3",
   "version": "3.11.3"
  },
  "orig_nbformat": 4
 },
 "nbformat": 4,
 "nbformat_minor": 2
}
