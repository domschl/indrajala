{
 "cells": [
  {
   "cell_type": "code",
   "execution_count": 2,
   "metadata": {},
   "outputs": [],
   "source": [
    "import drawsvg as draw"
   ]
  },
  {
   "cell_type": "code",
   "execution_count": 50,
   "metadata": {},
   "outputs": [],
   "source": [
    "class SPlotter:\n",
    "    def __init__(self, size, border=None, rect=None, pixel_scale=1):\n",
    "        \"\"\"\n",
    "        size: (width, height) of the plot in device coordinates\n",
    "        border: (left, top, right, bottom) of the plot in device coordinates\n",
    "        rect: (x_min, y_min, x_max, y_max) of the plot in data coordinates, gets mapped to canvas' device coordinates\n",
    "        pixel_scale: scale of the plot in pixels per device coordinate\n",
    "        \"\"\"\n",
    "        self.axis_x1_border = 10\n",
    "        self.axis_x2_border = 10\n",
    "        self.axis_y_border = 20\n",
    "        self.size = size\n",
    "\n",
    "        if border is None:\n",
    "            border = (0, 0, 0, 0)\n",
    "        self.canvas = (border[0]+self.axis_x1_border, border[1], size[0] - border[2] - self.axis_x2_border, size[1] - border[3])\n",
    "\n",
    "        self.rect = rect\n",
    "\n",
    "        self.arrow_height = 8\n",
    "        self.arrow_width = 3\n",
    "\n",
    "\n",
    "        self.d = draw.Drawing(size[0], size[1], origin=(0,0))\n",
    "        self.pixel_scale = pixel_scale\n",
    "        self.d.set_pixel_scale(pixel_scale)\n",
    "\n",
    "        self.d.append(draw.Rectangle(0, 0, size[0], size[1], fill='yellow'))\n",
    "        self.d.append(draw.Rectangle(self.canvas[0], self.canvas[1], self.canvas[2], self.canvas[3], fill='white'))\n",
    "\n",
    "    def scale_x(self, x):\n",
    "        return (x - self.rect[0]) / (self.rect[2] - self.rect[0]) * (self.canvas[2] - self.canvas[0]) + self.canvas[0]\n",
    "    \n",
    "    def scale_y(self, y):\n",
    "        return self.size[1] - ((y - self.rect[1]) / (self.rect[3] - self.rect[1]) * (self.canvas[3] - self.canvas[1]) + self.canvas[1])\n",
    "    \n",
    "    def scale_xc(self, x):\n",
    "        return (x - self.canvas[0]) / (self.canvas[2] - self.canvas[0]) * (self.rect[2] - self.rect[0]) + self.rect[0]\n",
    "    \n",
    "    def scale_yc(self, y):\n",
    "        return ((self.size[1] -y) - self.canvas[1]) / (self.canvas[3] - self.canvas[1]) * (self.rect[3] - self.rect[1]) + self.rect[1]\n",
    "    \n",
    "    def scale_point(self, x, y):\n",
    "        return (self.scale_x(x), self.scale_y(y))\n",
    "\n",
    "    def scale_pointc(self, x, y):\n",
    "        return (self.scale_xc(x), self.scale_yc(y))\n",
    "    \n",
    "    def add_line(self, x1, y1, x2, y2):\n",
    "        xc1, yc1 = self.scale_point(x1, y1)\n",
    "        xc2, yc2 = self.scale_point(x2, y2)\n",
    "        self.d.append(draw.Line(xc1, yc1, xc2, yc2, stroke='gray'))\n",
    "\n",
    "    def add_linec(self, xc1, yc1, xc2, yc2):\n",
    "        self.d.append(draw.Line(xc1, yc1, xc2, yc2, stroke='gray'))\n",
    "\n",
    "    def add_axis(self, arrows=True):\n",
    "        self.add_line(self.rect[0], 0, self.rect[2], 0)\n",
    "        self.add_line(0, self.rect[1], 0, self.rect[3])\n",
    "        if arrows is True:\n",
    "            x_arrow_tip = (self.rect[2], 0)\n",
    "            y_arrow_tip = (0, self.rect[3])\n",
    "            x_arrow_tipc = self.scale_point(*x_arrow_tip)\n",
    "            y_arrow_tipc = self.scale_point(*y_arrow_tip)\n",
    "            for d in range(-self.arrow_width, self.arrow_width+1):\n",
    "                self.add_linec(*x_arrow_tipc, x_arrow_tipc[0] - self.arrow_height, x_arrow_tipc[1] - d)\n",
    "                self.add_linec(*y_arrow_tipc, y_arrow_tipc[0] - d, y_arrow_tipc[1] + self.arrow_height)\n",
    "            # self.add_linec(*x_arrow_tipc, x_arrow_tipc[0] - 10, x_arrow_tipc[1] + 5)\n",
    "            # self.add_linec(*y_arrow_tipc, y_arrow_tipc[0] + 5, y_arrow_tipc[1] + 10)\n",
    "            \n"
   ]
  },
  {
   "cell_type": "code",
   "execution_count": 51,
   "metadata": {},
   "outputs": [],
   "source": [
    "pl = SPlotter(size=(800, 300), border=(5,5,5,5), rect=(-10, -10, 10, 10), pixel_scale=1)\n"
   ]
  },
  {
   "cell_type": "code",
   "execution_count": 52,
   "metadata": {},
   "outputs": [
    {
     "data": {
      "image/svg+xml": [
       "<?xml version=\"1.0\" encoding=\"UTF-8\"?>\n",
       "<svg xmlns=\"http://www.w3.org/2000/svg\" xmlns:xlink=\"http://www.w3.org/1999/xlink\"\n",
       "     width=\"800\" height=\"300\" viewBox=\"0 0 800 300\">\n",
       "<defs>\n",
       "</defs>\n",
       "<rect x=\"0\" y=\"0\" width=\"800\" height=\"300\" fill=\"yellow\" />\n",
       "<rect x=\"15\" y=\"5\" width=\"785\" height=\"295\" fill=\"white\" />\n",
       "<path d=\"M15.0,150.0 L785.0,150.0\" stroke=\"gray\" />\n",
       "<path d=\"M400.0,295.0 L400.0,5.0\" stroke=\"gray\" />\n",
       "<path d=\"M785.0,150.0 L777.0,153.0\" stroke=\"gray\" />\n",
       "<path d=\"M400.0,5.0 L403.0,13.0\" stroke=\"gray\" />\n",
       "<path d=\"M785.0,150.0 L777.0,152.0\" stroke=\"gray\" />\n",
       "<path d=\"M400.0,5.0 L402.0,13.0\" stroke=\"gray\" />\n",
       "<path d=\"M785.0,150.0 L777.0,151.0\" stroke=\"gray\" />\n",
       "<path d=\"M400.0,5.0 L401.0,13.0\" stroke=\"gray\" />\n",
       "<path d=\"M785.0,150.0 L777.0,150.0\" stroke=\"gray\" />\n",
       "<path d=\"M400.0,5.0 L400.0,13.0\" stroke=\"gray\" />\n",
       "<path d=\"M785.0,150.0 L777.0,149.0\" stroke=\"gray\" />\n",
       "<path d=\"M400.0,5.0 L399.0,13.0\" stroke=\"gray\" />\n",
       "<path d=\"M785.0,150.0 L777.0,148.0\" stroke=\"gray\" />\n",
       "<path d=\"M400.0,5.0 L398.0,13.0\" stroke=\"gray\" />\n",
       "<path d=\"M785.0,150.0 L777.0,147.0\" stroke=\"gray\" />\n",
       "<path d=\"M400.0,5.0 L397.0,13.0\" stroke=\"gray\" />\n",
       "</svg>"
      ],
      "text/plain": [
       "<drawsvg.drawing.Drawing at 0x7f61e723be90>"
      ]
     },
     "execution_count": 52,
     "metadata": {},
     "output_type": "execute_result"
    }
   ],
   "source": [
    "pl.add_axis(arrows=True)\n",
    "pl.d"
   ]
  },
  {
   "cell_type": "code",
   "execution_count": null,
   "metadata": {},
   "outputs": [],
   "source": []
  },
  {
   "cell_type": "code",
   "execution_count": null,
   "metadata": {},
   "outputs": [],
   "source": []
  }
 ],
 "metadata": {
  "kernelspec": {
   "display_name": "Python 3",
   "language": "python",
   "name": "python3"
  },
  "language_info": {
   "codemirror_mode": {
    "name": "ipython",
    "version": 3
   },
   "file_extension": ".py",
   "mimetype": "text/x-python",
   "name": "python",
   "nbconvert_exporter": "python",
   "pygments_lexer": "ipython3",
   "version": "3.11.3"
  },
  "orig_nbformat": 4
 },
 "nbformat": 4,
 "nbformat_minor": 2
}
