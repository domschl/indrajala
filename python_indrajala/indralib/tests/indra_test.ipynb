{
 "cells": [
  {
   "cell_type": "code",
   "execution_count": 1,
   "metadata": {},
   "outputs": [],
   "source": [
    "import datetime\n",
    "from indra_event import IndraEvent"
   ]
  },
  {
   "cell_type": "code",
   "execution_count": 3,
   "metadata": {},
   "outputs": [
    {
     "name": "stdout",
     "output_type": "stream",
     "text": [
      "2023-06-08 08:00:56.224719\n",
      "2023-02-06 12:35:59.999997\n",
      "2023.1\n"
     ]
    }
   ],
   "source": [
    "dt = datetime.datetime.utcnow()\n",
    "print(dt)\n",
    "\n",
    "fy = 2023.1\n",
    "dt = IndraEvent.fracyear2datetime(fy)\n",
    "print(dt)\n",
    "fy = IndraEvent.datetime2fracyear(dt)\n",
    "print(fy)"
   ]
  },
  {
   "attachments": {},
   "cell_type": "markdown",
   "metadata": {},
   "source": [
    "## Conversion between decimal years and date (in a common year)\n",
    "\n",
    "_from: <https://en.wikipedia.org/wiki/Decimal_time>_\n",
    "\n",
    "| Decimal years | 0.0   | 0.1     | 0.2     | 0.3     | 0.4     | 0.5\t  | 0.6     | 0.7     | 0.8     | 0.9     | 1.0     |\n",
    "| ------------- | ----- | ------- | ------- | ------- | ------- | ------- | ------- | ------- | ------- | ------- | ------- | \n",
    "| Days          | 0     | 36.525  | 73.050  | 109.575 | 146.100 | 182.625 | 219.150 | 255.675 | 292.200 | 328.725 | 365.250 |\n",
    "| Date          | 1 Jan |6 Feb    | 15 Mar  |  20 Apr | 27 May  | 1 Jul   | 8 Aug   | 13 Sep  | 20 Oct  | 25 Nov  | 1 Jan   |\n",
    "| Time          | 00:00 | 12:36   | 01:12   | 13:48   | 02:24   | 15:00   | 03:36   | 16:12   | 04:48   | 17:24   | 06:00   |"
   ]
  },
  {
   "attachments": {},
   "cell_type": "markdown",
   "metadata": {},
   "source": []
  }
 ],
 "metadata": {
  "kernelspec": {
   "display_name": "lead",
   "language": "python",
   "name": "python3"
  },
  "language_info": {
   "codemirror_mode": {
    "name": "ipython",
    "version": 3
   },
   "file_extension": ".py",
   "mimetype": "text/x-python",
   "name": "python",
   "nbconvert_exporter": "python",
   "pygments_lexer": "ipython3",
   "version": "3.11.3"
  },
  "orig_nbformat": 4
 },
 "nbformat": 4,
 "nbformat_minor": 2
}
